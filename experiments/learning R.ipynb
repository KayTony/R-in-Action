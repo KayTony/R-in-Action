{
 "cells": [
  {
   "cell_type": "markdown",
   "metadata": {},
   "source": [
    "# Some tips in learning R\n",
    "Using “Learning R\" to know more about R language"
   ]
  },
  {
   "cell_type": "markdown",
   "metadata": {},
   "source": [
    "## Chaper 3: Variable"
   ]
  },
  {
   "cell_type": "markdown",
   "metadata": {},
   "source": [
    "Q1: 数字的三个内置类的名称是什么?  \n",
    "A1: numeric, integer, complex  \n",
    "  \n",
    "Q2: 如何把字符串“6.283185”转换为数字?  \n",
    "A2: "
   ]
  },
  {
   "cell_type": "code",
   "execution_count": 3,
   "metadata": {},
   "outputs": [
    {
     "data": {
      "text/html": [
       "6.283185"
      ],
      "text/latex": [
       "6.283185"
      ],
      "text/markdown": [
       "6.283185"
      ],
      "text/plain": [
       "[1] 6.283185"
      ]
     },
     "metadata": {},
     "output_type": "display_data"
    }
   ],
   "source": [
    "num = '6.283185'\n",
    "as(num, 'numeric')"
   ]
  },
  {
   "cell_type": "markdown",
   "metadata": {},
   "source": [
    "Q3: 查找以下值 Inf、NA、NaN 和 \"\" 的类、类型、模式及存储模式  \n",
    "A3: "
   ]
  },
  {
   "cell_type": "code",
   "execution_count": 4,
   "metadata": {},
   "outputs": [
    {
     "name": "stdout",
     "output_type": "stream",
     "text": [
      "[1] \"numeric\"\n",
      "[1] \"logical\"\n",
      "[1] \"numeric\"\n",
      "[1] \"character\"\n"
     ]
    }
   ],
   "source": [
    "print(class(Inf))\n",
    "print(class(NA))\n",
    "print(class(NaN))\n",
    "print(class(\"\"))"
   ]
  },
  {
   "cell_type": "code",
   "execution_count": 5,
   "metadata": {},
   "outputs": [
    {
     "name": "stdout",
     "output_type": "stream",
     "text": [
      "[1] \"double\"\n",
      "[1] \"logical\"\n",
      "[1] \"double\"\n",
      "[1] \"character\"\n"
     ]
    }
   ],
   "source": [
    "print(typeof(Inf))\n",
    "print(typeof(NA))\n",
    "print(typeof(NaN))\n",
    "print(typeof(\"\"))"
   ]
  },
  {
   "cell_type": "code",
   "execution_count": 6,
   "metadata": {},
   "outputs": [
    {
     "name": "stdout",
     "output_type": "stream",
     "text": [
      "[1] \"numeric\"\n",
      "[1] \"logical\"\n",
      "[1] \"numeric\"\n",
      "[1] \"character\"\n"
     ]
    }
   ],
   "source": [
    "print(mode(Inf))\n",
    "print(mode(NA))\n",
    "print(mode(NaN))\n",
    "print(mode(\"\"))"
   ]
  },
  {
   "cell_type": "code",
   "execution_count": 7,
   "metadata": {},
   "outputs": [
    {
     "name": "stdout",
     "output_type": "stream",
     "text": [
      "[1] \"double\"\n",
      "[1] \"logical\"\n",
      "[1] \"double\"\n",
      "[1] \"character\"\n"
     ]
    }
   ],
   "source": [
    "print(storage.mode(Inf))\n",
    "print(storage.mode(NA))\n",
    "print(storage.mode(NaN))\n",
    "print(storage.mode(\"\"))"
   ]
  },
  {
   "cell_type": "markdown",
   "metadata": {},
   "source": [
    "Q4: 随机从“dog”、“cat”、“hamster”和“goldfish”中以相等的概率生成 1000 个宠物名。 显示所得变量的前几个值，并计算每种宠物的数量。  \n",
    "A4:"
   ]
  },
  {
   "cell_type": "code",
   "execution_count": 22,
   "metadata": {},
   "outputs": [
    {
     "name": "stdout",
     "output_type": "stream",
     "text": [
      "[1] cat     dog     cat     dog     hamster cat    \n",
      "Levels: cat dog goldfish hamster\n",
      "     cat      dog goldfish  hamster \n",
      "     269      237      245      249 \n"
     ]
    }
   ],
   "source": [
    "animal = factor(c(\"dog\", \"cat\", \"hamster\", \"goldfish\"))\n",
    "# animals = as(sample(animal, 1000, replace = TRUE), 'factor')\n",
    "animals = sample(animal, 1000, replace = TRUE)\n",
    "print(head(animals))\n",
    "print(summary(animals))"
   ]
  },
  {
   "cell_type": "markdown",
   "metadata": {},
   "source": [
    "## Chaper 4: Vector, Array, Matrix"
   ]
  },
  {
   "cell_type": "code",
   "execution_count": 26,
   "metadata": {},
   "outputs": [
    {
     "data": {
      "text/html": [
       "<ol class=list-inline>\n",
       "\t<li>8.5</li>\n",
       "\t<li>7.5</li>\n",
       "\t<li>6.5</li>\n",
       "\t<li>5.5</li>\n",
       "\t<li>4.5</li>\n",
       "</ol>\n"
      ],
      "text/latex": [
       "\\begin{enumerate*}\n",
       "\\item 8.5\n",
       "\\item 7.5\n",
       "\\item 6.5\n",
       "\\item 5.5\n",
       "\\item 4.5\n",
       "\\end{enumerate*}\n"
      ],
      "text/markdown": [
       "1. 8.5\n",
       "2. 7.5\n",
       "3. 6.5\n",
       "4. 5.5\n",
       "5. 4.5\n",
       "\n",
       "\n"
      ],
      "text/plain": [
       "[1] 8.5 7.5 6.5 5.5 4.5"
      ]
     },
     "metadata": {},
     "output_type": "display_data"
    }
   ],
   "source": [
    "8.5:4.5"
   ]
  },
  {
   "cell_type": "code",
   "execution_count": 27,
   "metadata": {},
   "outputs": [
    {
     "data": {
      "text/html": [
       "<ol class=list-inline>\n",
       "\t<li>0</li>\n",
       "\t<li>0</li>\n",
       "\t<li>0</li>\n",
       "\t<li>0</li>\n",
       "\t<li>0</li>\n",
       "</ol>\n"
      ],
      "text/latex": [
       "\\begin{enumerate*}\n",
       "\\item 0\n",
       "\\item 0\n",
       "\\item 0\n",
       "\\item 0\n",
       "\\item 0\n",
       "\\end{enumerate*}\n"
      ],
      "text/markdown": [
       "1. 0\n",
       "2. 0\n",
       "3. 0\n",
       "4. 0\n",
       "5. 0\n",
       "\n",
       "\n"
      ],
      "text/plain": [
       "[1] 0 0 0 0 0"
      ]
     },
     "metadata": {},
     "output_type": "display_data"
    }
   ],
   "source": [
    "vector(\"numeric\", 5)"
   ]
  },
  {
   "cell_type": "code",
   "execution_count": 28,
   "metadata": {},
   "outputs": [
    {
     "data": {
      "text/html": [
       "<ol class=list-inline>\n",
       "\t<li>3</li>\n",
       "\t<li>5</li>\n",
       "\t<li>7</li>\n",
       "\t<li>9</li>\n",
       "\t<li>11</li>\n",
       "</ol>\n"
      ],
      "text/latex": [
       "\\begin{enumerate*}\n",
       "\\item 3\n",
       "\\item 5\n",
       "\\item 7\n",
       "\\item 9\n",
       "\\item 11\n",
       "\\end{enumerate*}\n"
      ],
      "text/markdown": [
       "1. 3\n",
       "2. 5\n",
       "3. 7\n",
       "4. 9\n",
       "5. 11\n",
       "\n",
       "\n"
      ],
      "text/plain": [
       "[1]  3  5  7  9 11"
      ]
     },
     "metadata": {},
     "output_type": "display_data"
    }
   ],
   "source": [
    "seq.int(3, 12, 2)"
   ]
  },
  {
   "cell_type": "code",
   "execution_count": 29,
   "metadata": {},
   "outputs": [
    {
     "data": {
      "text/html": [
       "<ol class=list-inline>\n",
       "\t<li>0.1</li>\n",
       "\t<li>0.09</li>\n",
       "\t<li>0.08</li>\n",
       "\t<li>0.07</li>\n",
       "\t<li>0.06</li>\n",
       "\t<li>0.05</li>\n",
       "\t<li>0.04</li>\n",
       "\t<li>0.03</li>\n",
       "\t<li>0.02</li>\n",
       "\t<li>0.01</li>\n",
       "</ol>\n"
      ],
      "text/latex": [
       "\\begin{enumerate*}\n",
       "\\item 0.1\n",
       "\\item 0.09\n",
       "\\item 0.08\n",
       "\\item 0.07\n",
       "\\item 0.06\n",
       "\\item 0.05\n",
       "\\item 0.04\n",
       "\\item 0.03\n",
       "\\item 0.02\n",
       "\\item 0.01\n",
       "\\end{enumerate*}\n"
      ],
      "text/markdown": [
       "1. 0.1\n",
       "2. 0.09\n",
       "3. 0.08\n",
       "4. 0.07\n",
       "5. 0.06\n",
       "6. 0.05\n",
       "7. 0.04\n",
       "8. 0.03\n",
       "9. 0.02\n",
       "10. 0.01\n",
       "\n",
       "\n"
      ],
      "text/plain": [
       " [1] 0.10 0.09 0.08 0.07 0.06 0.05 0.04 0.03 0.02 0.01"
      ]
     },
     "metadata": {},
     "output_type": "display_data"
    }
   ],
   "source": [
    "seq.int(0.1, 0.01, -0.01)"
   ]
  },
  {
   "cell_type": "code",
   "execution_count": 32,
   "metadata": {},
   "outputs": [
    {
     "data": {
      "text/html": [
       "<ol class=list-inline>\n",
       "\t<li>1</li>\n",
       "\t<li>2</li>\n",
       "\t<li>3</li>\n",
       "\t<li>4</li>\n",
       "\t<li>5</li>\n",
       "\t<li>6</li>\n",
       "\t<li>7</li>\n",
       "\t<li>8</li>\n",
       "\t<li>9</li>\n",
       "\t<li>10</li>\n",
       "</ol>\n"
      ],
      "text/latex": [
       "\\begin{enumerate*}\n",
       "\\item 1\n",
       "\\item 2\n",
       "\\item 3\n",
       "\\item 4\n",
       "\\item 5\n",
       "\\item 6\n",
       "\\item 7\n",
       "\\item 8\n",
       "\\item 9\n",
       "\\item 10\n",
       "\\end{enumerate*}\n"
      ],
      "text/markdown": [
       "1. 1\n",
       "2. 2\n",
       "3. 3\n",
       "4. 4\n",
       "5. 5\n",
       "6. 6\n",
       "7. 7\n",
       "8. 8\n",
       "9. 9\n",
       "10. 10\n",
       "\n",
       "\n"
      ],
      "text/plain": [
       " [1]  1  2  3  4  5  6  7  8  9 10"
      ]
     },
     "metadata": {},
     "output_type": "display_data"
    }
   ],
   "source": [
    "n = 10\n",
    "seq_len(n)"
   ]
  },
  {
   "cell_type": "code",
   "execution_count": 33,
   "metadata": {},
   "outputs": [
    {
     "name": "stdout",
     "output_type": "stream",
     "text": [
      "[1] \"Peter\"\n",
      "[1] \"Piper\"\n",
      "[1] \"picked\"\n",
      "[1] \"a\"\n",
      "[1] \"peck\"\n",
      "[1] \"of\"\n",
      "[1] \"pickled\"\n",
      "[1] \"peppers\"\n"
     ]
    }
   ],
   "source": [
    "pp = c(\"Peter\", \"Piper\", \"picked\", \"a\", \"peck\", \"of\", \"pickled\", \"peppers\")\n",
    "for(i in seq_along(pp)) print(pp[i])"
   ]
  },
  {
   "cell_type": "markdown",
   "metadata": {},
   "source": [
    "### length"
   ]
  },
  {
   "cell_type": "code",
   "execution_count": 34,
   "metadata": {},
   "outputs": [
    {
     "name": "stdout",
     "output_type": "stream",
     "text": [
      "[1] 4\n",
      "[1] 6 5 6 5\n"
     ]
    }
   ],
   "source": [
    "sn <- c(\"Sheena\", \"leads\", \"Sheila\", \"needs\")\n",
    "print(length(sn))\n",
    "print(nchar(sn))"
   ]
  },
  {
   "cell_type": "code",
   "execution_count": 35,
   "metadata": {},
   "outputs": [
    {
     "data": {
      "text/html": [
       "<ol class=list-inline>\n",
       "\t<li>1</li>\n",
       "\t<li>0</li>\n",
       "\t<li>0</li>\n",
       "\t<li>0</li>\n",
       "</ol>\n"
      ],
      "text/latex": [
       "\\begin{enumerate*}\n",
       "\\item 1\n",
       "\\item 0\n",
       "\\item 0\n",
       "\\item 0\n",
       "\\end{enumerate*}\n"
      ],
      "text/markdown": [
       "1. 1\n",
       "2. 0\n",
       "3. 0\n",
       "4. 0\n",
       "\n",
       "\n"
      ],
      "text/plain": [
       "[1] 1 0 0 0"
      ]
     },
     "metadata": {},
     "output_type": "display_data"
    }
   ],
   "source": [
    "poincare <- c(1, 0, 0, 0, 2, 0, 2, 0)\n",
    "length(poincare) = 4\n",
    "poincare"
   ]
  },
  {
   "cell_type": "code",
   "execution_count": 36,
   "metadata": {},
   "outputs": [
    {
     "data": {
      "text/html": [
       "<ol class=list-inline>\n",
       "\t<li>1</li>\n",
       "\t<li>0</li>\n",
       "\t<li>0</li>\n",
       "\t<li>0</li>\n",
       "\t<li>&lt;NA&gt;</li>\n",
       "\t<li>&lt;NA&gt;</li>\n",
       "\t<li>&lt;NA&gt;</li>\n",
       "\t<li>&lt;NA&gt;</li>\n",
       "</ol>\n"
      ],
      "text/latex": [
       "\\begin{enumerate*}\n",
       "\\item 1\n",
       "\\item 0\n",
       "\\item 0\n",
       "\\item 0\n",
       "\\item <NA>\n",
       "\\item <NA>\n",
       "\\item <NA>\n",
       "\\item <NA>\n",
       "\\end{enumerate*}\n"
      ],
      "text/markdown": [
       "1. 1\n",
       "2. 0\n",
       "3. 0\n",
       "4. 0\n",
       "5. &lt;NA&gt;\n",
       "6. &lt;NA&gt;\n",
       "7. &lt;NA&gt;\n",
       "8. &lt;NA&gt;\n",
       "\n",
       "\n"
      ],
      "text/plain": [
       "[1]  1  0  0  0 NA NA NA NA"
      ]
     },
     "metadata": {},
     "output_type": "display_data"
    }
   ],
   "source": [
    "length(poincare) = 8\n",
    "poincare"
   ]
  },
  {
   "cell_type": "markdown",
   "metadata": {},
   "source": [
    "### names"
   ]
  },
  {
   "cell_type": "code",
   "execution_count": 38,
   "metadata": {},
   "outputs": [
    {
     "data": {
      "text/html": [
       "<dl class=dl-horizontal>\n",
       "\t<dt>apple</dt>\n",
       "\t\t<dd>1</dd>\n",
       "\t<dt>banana</dt>\n",
       "\t\t<dd>2</dd>\n",
       "\t<dt>kiwi fruit</dt>\n",
       "\t\t<dd>3</dd>\n",
       "\t<dt>4</dt>\n",
       "\t\t<dd>4</dd>\n",
       "</dl>\n"
      ],
      "text/latex": [
       "\\begin{description*}\n",
       "\\item[apple] 1\n",
       "\\item[banana] 2\n",
       "\\item[kiwi fruit] 3\n",
       "\\item[4] 4\n",
       "\\end{description*}\n"
      ],
      "text/markdown": [
       "apple\n",
       ":   1banana\n",
       ":   2kiwi fruit\n",
       ":   34\n",
       ":   4\n",
       "\n"
      ],
      "text/plain": [
       "     apple     banana kiwi fruit            \n",
       "         1          2          3          4 "
      ]
     },
     "metadata": {},
     "output_type": "display_data"
    }
   ],
   "source": [
    "c(apple = 1, banana = 2, \"kiwi fruit\" = 3, 4)"
   ]
  },
  {
   "cell_type": "code",
   "execution_count": 40,
   "metadata": {},
   "outputs": [
    {
     "data": {
      "text/html": [
       "<dl class=dl-horizontal>\n",
       "\t<dt>apple</dt>\n",
       "\t\t<dd>1</dd>\n",
       "\t<dt>bananas</dt>\n",
       "\t\t<dd>2</dd>\n",
       "\t<dt>kiwi fruit</dt>\n",
       "\t\t<dd>3</dd>\n",
       "\t<dt>4</dt>\n",
       "\t\t<dd>4</dd>\n",
       "</dl>\n"
      ],
      "text/latex": [
       "\\begin{description*}\n",
       "\\item[apple] 1\n",
       "\\item[bananas] 2\n",
       "\\item[kiwi fruit] 3\n",
       "\\item[4] 4\n",
       "\\end{description*}\n"
      ],
      "text/markdown": [
       "apple\n",
       ":   1bananas\n",
       ":   2kiwi fruit\n",
       ":   34\n",
       ":   4\n",
       "\n"
      ],
      "text/plain": [
       "     apple    bananas kiwi fruit            \n",
       "         1          2          3          4 "
      ]
     },
     "metadata": {},
     "output_type": "display_data"
    }
   ],
   "source": [
    "x <- 1:4\n",
    "names(x) <- c(\"apple\", \"bananas\", \"kiwi fruit\", \"\")\n",
    "x"
   ]
  },
  {
   "cell_type": "markdown",
   "metadata": {},
   "source": [
    "### index"
   ]
  },
  {
   "cell_type": "code",
   "execution_count": 50,
   "metadata": {},
   "outputs": [
    {
     "data": {
      "text/html": [
       "<ol class=list-inline>\n",
       "\t<li>36</li>\n",
       "\t<li>16</li>\n",
       "\t<li>4</li>\n",
       "</ol>\n"
      ],
      "text/latex": [
       "\\begin{enumerate*}\n",
       "\\item 36\n",
       "\\item 16\n",
       "\\item 4\n",
       "\\end{enumerate*}\n"
      ],
      "text/markdown": [
       "1. 36\n",
       "2. 16\n",
       "3. 4\n",
       "\n",
       "\n"
      ],
      "text/plain": [
       "[1] 36 16  4"
      ]
     },
     "metadata": {},
     "output_type": "display_data"
    }
   ],
   "source": [
    "x <- (-6:5) ^ 2\n",
    "x[c(1, 3, 5)]"
   ]
  },
  {
   "cell_type": "code",
   "execution_count": 51,
   "metadata": {},
   "outputs": [
    {
     "data": {
      "text/html": [
       "<ol class=list-inline>\n",
       "\t<li>1</li>\n",
       "\t<li>2</li>\n",
       "\t<li>3</li>\n",
       "\t<li>11</li>\n",
       "\t<li>12</li>\n",
       "</ol>\n"
      ],
      "text/latex": [
       "\\begin{enumerate*}\n",
       "\\item 1\n",
       "\\item 2\n",
       "\\item 3\n",
       "\\item 11\n",
       "\\item 12\n",
       "\\end{enumerate*}\n"
      ],
      "text/markdown": [
       "1. 1\n",
       "2. 2\n",
       "3. 3\n",
       "4. 11\n",
       "5. 12\n",
       "\n",
       "\n"
      ],
      "text/plain": [
       "[1]  1  2  3 11 12"
      ]
     },
     "metadata": {},
     "output_type": "display_data"
    }
   ],
   "source": [
    "which(x > 10)"
   ]
  },
  {
   "cell_type": "code",
   "execution_count": 53,
   "metadata": {},
   "outputs": [
    {
     "data": {
      "text/html": [
       "1"
      ],
      "text/latex": [
       "1"
      ],
      "text/markdown": [
       "1"
      ],
      "text/plain": [
       "[1] 1"
      ]
     },
     "metadata": {},
     "output_type": "display_data"
    }
   ],
   "source": [
    "which.max(x)  ## return argmax index"
   ]
  },
  {
   "cell_type": "markdown",
   "metadata": {},
   "source": [
    "### loop and rep in vector"
   ]
  },
  {
   "cell_type": "code",
   "execution_count": 54,
   "metadata": {},
   "outputs": [
    {
     "data": {
      "text/html": [
       "<ol class=list-inline>\n",
       "\t<li>1</li>\n",
       "\t<li>2</li>\n",
       "\t<li>3</li>\n",
       "\t<li>4</li>\n",
       "\t<li>5</li>\n",
       "\t<li>1</li>\n",
       "\t<li>2</li>\n",
       "\t<li>3</li>\n",
       "\t<li>4</li>\n",
       "\t<li>5</li>\n",
       "\t<li>1</li>\n",
       "\t<li>2</li>\n",
       "\t<li>3</li>\n",
       "\t<li>4</li>\n",
       "\t<li>5</li>\n",
       "</ol>\n"
      ],
      "text/latex": [
       "\\begin{enumerate*}\n",
       "\\item 1\n",
       "\\item 2\n",
       "\\item 3\n",
       "\\item 4\n",
       "\\item 5\n",
       "\\item 1\n",
       "\\item 2\n",
       "\\item 3\n",
       "\\item 4\n",
       "\\item 5\n",
       "\\item 1\n",
       "\\item 2\n",
       "\\item 3\n",
       "\\item 4\n",
       "\\item 5\n",
       "\\end{enumerate*}\n"
      ],
      "text/markdown": [
       "1. 1\n",
       "2. 2\n",
       "3. 3\n",
       "4. 4\n",
       "5. 5\n",
       "6. 1\n",
       "7. 2\n",
       "8. 3\n",
       "9. 4\n",
       "10. 5\n",
       "11. 1\n",
       "12. 2\n",
       "13. 3\n",
       "14. 4\n",
       "15. 5\n",
       "\n",
       "\n"
      ],
      "text/plain": [
       " [1] 1 2 3 4 5 1 2 3 4 5 1 2 3 4 5"
      ]
     },
     "metadata": {},
     "output_type": "display_data"
    }
   ],
   "source": [
    "rep(1:5, 3)"
   ]
  },
  {
   "cell_type": "code",
   "execution_count": 55,
   "metadata": {},
   "outputs": [
    {
     "data": {
      "text/html": [
       "<ol class=list-inline>\n",
       "\t<li>1</li>\n",
       "\t<li>1</li>\n",
       "\t<li>1</li>\n",
       "\t<li>2</li>\n",
       "\t<li>2</li>\n",
       "\t<li>2</li>\n",
       "\t<li>3</li>\n",
       "\t<li>3</li>\n",
       "\t<li>3</li>\n",
       "\t<li>4</li>\n",
       "\t<li>4</li>\n",
       "\t<li>4</li>\n",
       "\t<li>5</li>\n",
       "\t<li>5</li>\n",
       "\t<li>5</li>\n",
       "</ol>\n"
      ],
      "text/latex": [
       "\\begin{enumerate*}\n",
       "\\item 1\n",
       "\\item 1\n",
       "\\item 1\n",
       "\\item 2\n",
       "\\item 2\n",
       "\\item 2\n",
       "\\item 3\n",
       "\\item 3\n",
       "\\item 3\n",
       "\\item 4\n",
       "\\item 4\n",
       "\\item 4\n",
       "\\item 5\n",
       "\\item 5\n",
       "\\item 5\n",
       "\\end{enumerate*}\n"
      ],
      "text/markdown": [
       "1. 1\n",
       "2. 1\n",
       "3. 1\n",
       "4. 2\n",
       "5. 2\n",
       "6. 2\n",
       "7. 3\n",
       "8. 3\n",
       "9. 3\n",
       "10. 4\n",
       "11. 4\n",
       "12. 4\n",
       "13. 5\n",
       "14. 5\n",
       "15. 5\n",
       "\n",
       "\n"
      ],
      "text/plain": [
       " [1] 1 1 1 2 2 2 3 3 3 4 4 4 5 5 5"
      ]
     },
     "metadata": {},
     "output_type": "display_data"
    }
   ],
   "source": [
    "rep(1:5, each = 3)"
   ]
  },
  {
   "cell_type": "code",
   "execution_count": 56,
   "metadata": {},
   "outputs": [
    {
     "data": {
      "text/html": [
       "<ol class=list-inline>\n",
       "\t<li>1</li>\n",
       "\t<li>2</li>\n",
       "\t<li>2</li>\n",
       "\t<li>3</li>\n",
       "\t<li>3</li>\n",
       "\t<li>3</li>\n",
       "\t<li>4</li>\n",
       "\t<li>4</li>\n",
       "\t<li>4</li>\n",
       "\t<li>4</li>\n",
       "\t<li>5</li>\n",
       "\t<li>5</li>\n",
       "\t<li>5</li>\n",
       "\t<li>5</li>\n",
       "\t<li>5</li>\n",
       "</ol>\n"
      ],
      "text/latex": [
       "\\begin{enumerate*}\n",
       "\\item 1\n",
       "\\item 2\n",
       "\\item 2\n",
       "\\item 3\n",
       "\\item 3\n",
       "\\item 3\n",
       "\\item 4\n",
       "\\item 4\n",
       "\\item 4\n",
       "\\item 4\n",
       "\\item 5\n",
       "\\item 5\n",
       "\\item 5\n",
       "\\item 5\n",
       "\\item 5\n",
       "\\end{enumerate*}\n"
      ],
      "text/markdown": [
       "1. 1\n",
       "2. 2\n",
       "3. 2\n",
       "4. 3\n",
       "5. 3\n",
       "6. 3\n",
       "7. 4\n",
       "8. 4\n",
       "9. 4\n",
       "10. 4\n",
       "11. 5\n",
       "12. 5\n",
       "13. 5\n",
       "14. 5\n",
       "15. 5\n",
       "\n",
       "\n"
      ],
      "text/plain": [
       " [1] 1 2 2 3 3 3 4 4 4 4 5 5 5 5 5"
      ]
     },
     "metadata": {},
     "output_type": "display_data"
    }
   ],
   "source": [
    "rep(1:5, times = 1:5)"
   ]
  },
  {
   "cell_type": "code",
   "execution_count": 57,
   "metadata": {},
   "outputs": [
    {
     "data": {
      "text/html": [
       "<ol class=list-inline>\n",
       "\t<li>1</li>\n",
       "\t<li>2</li>\n",
       "\t<li>3</li>\n",
       "\t<li>4</li>\n",
       "\t<li>5</li>\n",
       "\t<li>1</li>\n",
       "\t<li>2</li>\n",
       "</ol>\n"
      ],
      "text/latex": [
       "\\begin{enumerate*}\n",
       "\\item 1\n",
       "\\item 2\n",
       "\\item 3\n",
       "\\item 4\n",
       "\\item 5\n",
       "\\item 1\n",
       "\\item 2\n",
       "\\end{enumerate*}\n"
      ],
      "text/markdown": [
       "1. 1\n",
       "2. 2\n",
       "3. 3\n",
       "4. 4\n",
       "5. 5\n",
       "6. 1\n",
       "7. 2\n",
       "\n",
       "\n"
      ],
      "text/plain": [
       "[1] 1 2 3 4 5 1 2"
      ]
     },
     "metadata": {},
     "output_type": "display_data"
    }
   ],
   "source": [
    "rep(1:5, length.out = 7)"
   ]
  },
  {
   "cell_type": "code",
   "execution_count": 58,
   "metadata": {},
   "outputs": [
    {
     "data": {
      "text/html": [
       "<ol class=list-inline>\n",
       "\t<li>1</li>\n",
       "\t<li>2</li>\n",
       "\t<li>3</li>\n",
       "\t<li>4</li>\n",
       "\t<li>5</li>\n",
       "\t<li>1</li>\n",
       "\t<li>2</li>\n",
       "\t<li>3</li>\n",
       "\t<li>4</li>\n",
       "\t<li>5</li>\n",
       "\t<li>1</li>\n",
       "\t<li>2</li>\n",
       "\t<li>3</li>\n",
       "\t<li>4</li>\n",
       "\t<li>5</li>\n",
       "</ol>\n"
      ],
      "text/latex": [
       "\\begin{enumerate*}\n",
       "\\item 1\n",
       "\\item 2\n",
       "\\item 3\n",
       "\\item 4\n",
       "\\item 5\n",
       "\\item 1\n",
       "\\item 2\n",
       "\\item 3\n",
       "\\item 4\n",
       "\\item 5\n",
       "\\item 1\n",
       "\\item 2\n",
       "\\item 3\n",
       "\\item 4\n",
       "\\item 5\n",
       "\\end{enumerate*}\n"
      ],
      "text/markdown": [
       "1. 1\n",
       "2. 2\n",
       "3. 3\n",
       "4. 4\n",
       "5. 5\n",
       "6. 1\n",
       "7. 2\n",
       "8. 3\n",
       "9. 4\n",
       "10. 5\n",
       "11. 1\n",
       "12. 2\n",
       "13. 3\n",
       "14. 4\n",
       "15. 5\n",
       "\n",
       "\n"
      ],
      "text/plain": [
       " [1] 1 2 3 4 5 1 2 3 4 5 1 2 3 4 5"
      ]
     },
     "metadata": {},
     "output_type": "display_data"
    }
   ],
   "source": [
    "rep.int(1:5, 3)"
   ]
  },
  {
   "cell_type": "code",
   "execution_count": 59,
   "metadata": {},
   "outputs": [
    {
     "data": {
      "text/html": [
       "<ol class=list-inline>\n",
       "\t<li>1</li>\n",
       "\t<li>2</li>\n",
       "\t<li>3</li>\n",
       "\t<li>4</li>\n",
       "\t<li>5</li>\n",
       "\t<li>1</li>\n",
       "\t<li>2</li>\n",
       "\t<li>3</li>\n",
       "\t<li>4</li>\n",
       "\t<li>5</li>\n",
       "\t<li>1</li>\n",
       "\t<li>2</li>\n",
       "\t<li>3</li>\n",
       "</ol>\n"
      ],
      "text/latex": [
       "\\begin{enumerate*}\n",
       "\\item 1\n",
       "\\item 2\n",
       "\\item 3\n",
       "\\item 4\n",
       "\\item 5\n",
       "\\item 1\n",
       "\\item 2\n",
       "\\item 3\n",
       "\\item 4\n",
       "\\item 5\n",
       "\\item 1\n",
       "\\item 2\n",
       "\\item 3\n",
       "\\end{enumerate*}\n"
      ],
      "text/markdown": [
       "1. 1\n",
       "2. 2\n",
       "3. 3\n",
       "4. 4\n",
       "5. 5\n",
       "6. 1\n",
       "7. 2\n",
       "8. 3\n",
       "9. 4\n",
       "10. 5\n",
       "11. 1\n",
       "12. 2\n",
       "13. 3\n",
       "\n",
       "\n"
      ],
      "text/plain": [
       " [1] 1 2 3 4 5 1 2 3 4 5 1 2 3"
      ]
     },
     "metadata": {},
     "output_type": "display_data"
    }
   ],
   "source": [
    "rep_len(1:5, 13)"
   ]
  },
  {
   "cell_type": "markdown",
   "metadata": {},
   "source": [
    "### Array and Matrix"
   ]
  },
  {
   "cell_type": "markdown",
   "metadata": {},
   "source": [
    "创建数组"
   ]
  },
  {
   "cell_type": "code",
   "execution_count": 64,
   "metadata": {},
   "outputs": [
    {
     "data": {
      "text/html": [
       "<ol class=list-inline>\n",
       "\t<li>1</li>\n",
       "\t<li>2</li>\n",
       "\t<li>3</li>\n",
       "\t<li>4</li>\n",
       "\t<li>5</li>\n",
       "\t<li>6</li>\n",
       "\t<li>7</li>\n",
       "\t<li>8</li>\n",
       "\t<li>9</li>\n",
       "\t<li>10</li>\n",
       "\t<li>11</li>\n",
       "\t<li>12</li>\n",
       "\t<li>13</li>\n",
       "\t<li>14</li>\n",
       "\t<li>15</li>\n",
       "\t<li>16</li>\n",
       "\t<li>17</li>\n",
       "\t<li>18</li>\n",
       "\t<li>19</li>\n",
       "\t<li>20</li>\n",
       "\t<li>21</li>\n",
       "\t<li>22</li>\n",
       "\t<li>23</li>\n",
       "\t<li>24</li>\n",
       "</ol>\n"
      ],
      "text/latex": [
       "\\begin{enumerate*}\n",
       "\\item 1\n",
       "\\item 2\n",
       "\\item 3\n",
       "\\item 4\n",
       "\\item 5\n",
       "\\item 6\n",
       "\\item 7\n",
       "\\item 8\n",
       "\\item 9\n",
       "\\item 10\n",
       "\\item 11\n",
       "\\item 12\n",
       "\\item 13\n",
       "\\item 14\n",
       "\\item 15\n",
       "\\item 16\n",
       "\\item 17\n",
       "\\item 18\n",
       "\\item 19\n",
       "\\item 20\n",
       "\\item 21\n",
       "\\item 22\n",
       "\\item 23\n",
       "\\item 24\n",
       "\\end{enumerate*}\n"
      ],
      "text/markdown": [
       "1. 1\n",
       "2. 2\n",
       "3. 3\n",
       "4. 4\n",
       "5. 5\n",
       "6. 6\n",
       "7. 7\n",
       "8. 8\n",
       "9. 9\n",
       "10. 10\n",
       "11. 11\n",
       "12. 12\n",
       "13. 13\n",
       "14. 14\n",
       "15. 15\n",
       "16. 16\n",
       "17. 17\n",
       "18. 18\n",
       "19. 19\n",
       "20. 20\n",
       "21. 21\n",
       "22. 22\n",
       "23. 23\n",
       "24. 24\n",
       "\n",
       "\n"
      ],
      "text/plain": [
       ", , un\n",
       "\n",
       "      ein zwei drei\n",
       "one     1    5    9\n",
       "two     2    6   10\n",
       "three   3    7   11\n",
       "four    4    8   12\n",
       "\n",
       ", , deux\n",
       "\n",
       "      ein zwei drei\n",
       "one    13   17   21\n",
       "two    14   18   22\n",
       "three  15   19   23\n",
       "four   16   20   24\n"
      ]
     },
     "metadata": {},
     "output_type": "display_data"
    }
   ],
   "source": [
    "three_d_array = array(\n",
    "    1:24, \n",
    "    dim = c(4,3,2),\n",
    "    dimnames = list(\n",
    "        c(\"one\", \"two\", \"three\", \"four\"),\n",
    "        c(\"ein\", \"zwei\", \"drei\"),\n",
    "        c(\"un\", \"deux\")\n",
    "    )\n",
    ")\n",
    "three_d_array"
   ]
  },
  {
   "cell_type": "code",
   "execution_count": 69,
   "metadata": {},
   "outputs": [
    {
     "data": {
      "text/html": [
       "<table>\n",
       "<thead><tr><th></th><th scope=col>ein</th><th scope=col>zwei</th><th scope=col>drei</th></tr></thead>\n",
       "<tbody>\n",
       "\t<tr><th scope=row>one</th><td>1 </td><td>5 </td><td> 9</td></tr>\n",
       "\t<tr><th scope=row>two</th><td>2 </td><td>6 </td><td>10</td></tr>\n",
       "\t<tr><th scope=row>three</th><td>3 </td><td>7 </td><td>11</td></tr>\n",
       "\t<tr><th scope=row>four</th><td>4 </td><td>8 </td><td>12</td></tr>\n",
       "</tbody>\n",
       "</table>\n"
      ],
      "text/latex": [
       "\\begin{tabular}{r|lll}\n",
       "  & ein & zwei & drei\\\\\n",
       "\\hline\n",
       "\tone & 1  & 5  &  9\\\\\n",
       "\ttwo & 2  & 6  & 10\\\\\n",
       "\tthree & 3  & 7  & 11\\\\\n",
       "\tfour & 4  & 8  & 12\\\\\n",
       "\\end{tabular}\n"
      ],
      "text/markdown": [
       "\n",
       "| <!--/--> | ein | zwei | drei |\n",
       "|---|---|---|---|\n",
       "| one | 1  | 5  |  9 |\n",
       "| two | 2  | 6  | 10 |\n",
       "| three | 3  | 7  | 11 |\n",
       "| four | 4  | 8  | 12 |\n",
       "\n"
      ],
      "text/plain": [
       "      ein zwei drei\n",
       "one   1   5     9  \n",
       "two   2   6    10  \n",
       "three 3   7    11  \n",
       "four  4   8    12  "
      ]
     },
     "metadata": {},
     "output_type": "display_data"
    }
   ],
   "source": [
    "a_matrix = matrix(\n",
    "    1:12,\n",
    "    nrow = 4, \n",
    "    dimnames = list(\n",
    "        c(\"one\", \"two\", \"three\", \"four\"),\n",
    "        c(\"ein\", \"zwei\", \"drei\")\n",
    "    )\n",
    ")\n",
    "a_matrix"
   ]
  },
  {
   "cell_type": "code",
   "execution_count": 70,
   "metadata": {},
   "outputs": [
    {
     "name": "stdout",
     "output_type": "stream",
     "text": [
      "[1] 4 3 2\n",
      "[1] 4 3\n"
     ]
    }
   ],
   "source": [
    "print(dim(three_d_array))\n",
    "print(dim(a_matrix))"
   ]
  },
  {
   "cell_type": "code",
   "execution_count": 72,
   "metadata": {},
   "outputs": [
    {
     "name": "stdout",
     "output_type": "stream",
     "text": [
      "[1] 4\n",
      "[1] 3\n"
     ]
    }
   ],
   "source": [
    "print(nrow(three_d_array))\n",
    "print(ncol(three_d_array))"
   ]
  },
  {
   "cell_type": "code",
   "execution_count": 73,
   "metadata": {},
   "outputs": [
    {
     "data": {
      "text/html": [
       "<table>\n",
       "<tbody>\n",
       "\t<tr><td>1 </td><td> 5</td><td>2 </td></tr>\n",
       "\t<tr><td>0 </td><td>-3</td><td>4 </td></tr>\n",
       "\t<tr><td>1 </td><td> 1</td><td>7 </td></tr>\n",
       "</tbody>\n",
       "</table>\n"
      ],
      "text/latex": [
       "\\begin{tabular}{lll}\n",
       "\t 1  &  5 & 2 \\\\\n",
       "\t 0  & -3 & 4 \\\\\n",
       "\t 1  &  1 & 7 \\\\\n",
       "\\end{tabular}\n"
      ],
      "text/markdown": [
       "\n",
       "| 1  |  5 | 2  |\n",
       "| 0  | -3 | 4  |\n",
       "| 1  |  1 | 7  |\n",
       "\n"
      ],
      "text/plain": [
       "     [,1] [,2] [,3]\n",
       "[1,] 1     5   2   \n",
       "[2,] 0    -3   4   \n",
       "[3,] 1     1   7   "
      ]
     },
     "metadata": {},
     "output_type": "display_data"
    }
   ],
   "source": [
    "m <- matrix(c(1, 0, 1, 5, -3, 1, 2, 4, 7), nrow = 3)\n",
    "m"
   ]
  },
  {
   "cell_type": "code",
   "execution_count": 74,
   "metadata": {},
   "outputs": [
    {
     "data": {
      "text/html": [
       "<table>\n",
       "<tbody>\n",
       "\t<tr><td>  1       </td><td> 0.2000000</td><td>0.5000000 </td></tr>\n",
       "\t<tr><td>Inf       </td><td>-0.3333333</td><td>0.2500000 </td></tr>\n",
       "\t<tr><td>  1       </td><td> 1.0000000</td><td>0.1428571 </td></tr>\n",
       "</tbody>\n",
       "</table>\n"
      ],
      "text/latex": [
       "\\begin{tabular}{lll}\n",
       "\t   1        &  0.2000000 & 0.5000000 \\\\\n",
       "\t Inf        & -0.3333333 & 0.2500000 \\\\\n",
       "\t   1        &  1.0000000 & 0.1428571 \\\\\n",
       "\\end{tabular}\n"
      ],
      "text/markdown": [
       "\n",
       "|   1        |  0.2000000 | 0.5000000  |\n",
       "| Inf        | -0.3333333 | 0.2500000  |\n",
       "|   1        |  1.0000000 | 0.1428571  |\n",
       "\n"
      ],
      "text/plain": [
       "     [,1] [,2]       [,3]     \n",
       "[1,]   1   0.2000000 0.5000000\n",
       "[2,] Inf  -0.3333333 0.2500000\n",
       "[3,]   1   1.0000000 0.1428571"
      ]
     },
     "metadata": {},
     "output_type": "display_data"
    }
   ],
   "source": [
    "m ^ -1"
   ]
  },
  {
   "cell_type": "code",
   "execution_count": 75,
   "metadata": {},
   "outputs": [
    {
     "data": {
      "text/html": [
       "<table>\n",
       "<tbody>\n",
       "\t<tr><td>-25</td><td>-33</td><td>26 </td></tr>\n",
       "\t<tr><td>  4</td><td>  5</td><td>-4 </td></tr>\n",
       "\t<tr><td>  3</td><td>  4</td><td>-3 </td></tr>\n",
       "</tbody>\n",
       "</table>\n"
      ],
      "text/latex": [
       "\\begin{tabular}{lll}\n",
       "\t -25 & -33 & 26 \\\\\n",
       "\t   4 &   5 & -4 \\\\\n",
       "\t   3 &   4 & -3 \\\\\n",
       "\\end{tabular}\n"
      ],
      "text/markdown": [
       "\n",
       "| -25 | -33 | 26  |\n",
       "|   4 |   5 | -4  |\n",
       "|   3 |   4 | -3  |\n",
       "\n"
      ],
      "text/plain": [
       "     [,1] [,2] [,3]\n",
       "[1,] -25  -33  26  \n",
       "[2,]   4    5  -4  \n",
       "[3,]   3    4  -3  "
      ]
     },
     "metadata": {},
     "output_type": "display_data"
    }
   ],
   "source": [
    "inverse_of_m = solve(m)\n",
    "inverse_of_m"
   ]
  },
  {
   "cell_type": "code",
   "execution_count": 77,
   "metadata": {},
   "outputs": [
    {
     "data": {
      "text/html": [
       "<table>\n",
       "<tbody>\n",
       "\t<tr><td>1</td><td>0</td><td>0</td></tr>\n",
       "\t<tr><td>0</td><td>1</td><td>0</td></tr>\n",
       "\t<tr><td>0</td><td>0</td><td>1</td></tr>\n",
       "</tbody>\n",
       "</table>\n"
      ],
      "text/latex": [
       "\\begin{tabular}{lll}\n",
       "\t 1 & 0 & 0\\\\\n",
       "\t 0 & 1 & 0\\\\\n",
       "\t 0 & 0 & 1\\\\\n",
       "\\end{tabular}\n"
      ],
      "text/markdown": [
       "\n",
       "| 1 | 0 | 0 |\n",
       "| 0 | 1 | 0 |\n",
       "| 0 | 0 | 1 |\n",
       "\n"
      ],
      "text/plain": [
       "     [,1] [,2] [,3]\n",
       "[1,] 1    0    0   \n",
       "[2,] 0    1    0   \n",
       "[3,] 0    0    1   "
      ]
     },
     "metadata": {},
     "output_type": "display_data"
    }
   ],
   "source": [
    "m %*% solve(m)"
   ]
  },
  {
   "cell_type": "markdown",
   "metadata": {},
   "source": [
    "### QA\n",
    "Q1: 四种向量索引方式  \n",
    "A1:  \n",
    " - 给向量传入正数\n",
    " - 给向量传入负数\n",
    " - 给向量传入逻辑向量\n",
    " - 对于已命名的向量，给向量传入命名的字符向量\n",
    " \n",
    "Q2: 第 n 个三角形数表示为 n * (n + 1) / 2。创建一个包含前 20 个三角形数的序列。R 有 一个内置常数 letters，它包含小写的罗马字母。使用前 20 个英文字母来给你刚刚创 建的向量命名。选择命名为元音的三角数。  \n",
    "A2:  "
   ]
  },
  {
   "cell_type": "code",
   "execution_count": 86,
   "metadata": {},
   "outputs": [
    {
     "data": {
      "text/html": [
       "<dl class=dl-horizontal>\n",
       "\t<dt>a</dt>\n",
       "\t\t<dd>1</dd>\n",
       "\t<dt>b</dt>\n",
       "\t\t<dd>3</dd>\n",
       "\t<dt>c</dt>\n",
       "\t\t<dd>6</dd>\n",
       "\t<dt>d</dt>\n",
       "\t\t<dd>10</dd>\n",
       "\t<dt>e</dt>\n",
       "\t\t<dd>15</dd>\n",
       "\t<dt>f</dt>\n",
       "\t\t<dd>21</dd>\n",
       "\t<dt>g</dt>\n",
       "\t\t<dd>28</dd>\n",
       "\t<dt>h</dt>\n",
       "\t\t<dd>36</dd>\n",
       "\t<dt>i</dt>\n",
       "\t\t<dd>45</dd>\n",
       "\t<dt>j</dt>\n",
       "\t\t<dd>55</dd>\n",
       "\t<dt>k</dt>\n",
       "\t\t<dd>66</dd>\n",
       "\t<dt>l</dt>\n",
       "\t\t<dd>78</dd>\n",
       "\t<dt>m</dt>\n",
       "\t\t<dd>91</dd>\n",
       "\t<dt>n</dt>\n",
       "\t\t<dd>105</dd>\n",
       "\t<dt>o</dt>\n",
       "\t\t<dd>120</dd>\n",
       "\t<dt>p</dt>\n",
       "\t\t<dd>136</dd>\n",
       "\t<dt>q</dt>\n",
       "\t\t<dd>153</dd>\n",
       "\t<dt>r</dt>\n",
       "\t\t<dd>171</dd>\n",
       "\t<dt>s</dt>\n",
       "\t\t<dd>190</dd>\n",
       "\t<dt>t</dt>\n",
       "\t\t<dd>210</dd>\n",
       "</dl>\n"
      ],
      "text/latex": [
       "\\begin{description*}\n",
       "\\item[a] 1\n",
       "\\item[b] 3\n",
       "\\item[c] 6\n",
       "\\item[d] 10\n",
       "\\item[e] 15\n",
       "\\item[f] 21\n",
       "\\item[g] 28\n",
       "\\item[h] 36\n",
       "\\item[i] 45\n",
       "\\item[j] 55\n",
       "\\item[k] 66\n",
       "\\item[l] 78\n",
       "\\item[m] 91\n",
       "\\item[n] 105\n",
       "\\item[o] 120\n",
       "\\item[p] 136\n",
       "\\item[q] 153\n",
       "\\item[r] 171\n",
       "\\item[s] 190\n",
       "\\item[t] 210\n",
       "\\end{description*}\n"
      ],
      "text/markdown": [
       "a\n",
       ":   1b\n",
       ":   3c\n",
       ":   6d\n",
       ":   10e\n",
       ":   15f\n",
       ":   21g\n",
       ":   28h\n",
       ":   36i\n",
       ":   45j\n",
       ":   55k\n",
       ":   66l\n",
       ":   78m\n",
       ":   91n\n",
       ":   105o\n",
       ":   120p\n",
       ":   136q\n",
       ":   153r\n",
       ":   171s\n",
       ":   190t\n",
       ":   210\n",
       "\n"
      ],
      "text/plain": [
       "  a   b   c   d   e   f   g   h   i   j   k   l   m   n   o   p   q   r   s   t \n",
       "  1   3   6  10  15  21  28  36  45  55  66  78  91 105 120 136 153 171 190 210 "
      ]
     },
     "metadata": {},
     "output_type": "display_data"
    }
   ],
   "source": [
    "idx = 1:20\n",
    "tri_numbers = idx * (idx + 1) / 2\n",
    "names(tri_numbers) = letters[1:20]\n",
    "tri_numbers"
   ]
  },
  {
   "cell_type": "markdown",
   "metadata": {},
   "source": [
    "Q3: diag 函数有几种用途，其中之一是以输入向量作为对角线来创建一个方阵。使用序列 10 到 0 到 11(即 11,10,...,1,0,1,...,11)创建一个 21×21 的矩阵。  \n",
    "A3: "
   ]
  },
  {
   "cell_type": "code",
   "execution_count": 112,
   "metadata": {},
   "outputs": [
    {
     "data": {
      "text/html": [
       "<table>\n",
       "<tbody>\n",
       "\t<tr><td>10 </td><td>0  </td><td>0  </td><td>0  </td><td>0  </td><td>0  </td><td>0  </td><td>0  </td><td>0  </td><td>0  </td><td>...</td><td>0  </td><td>0  </td><td>0  </td><td>0  </td><td>0  </td><td>0  </td><td>0  </td><td>0  </td><td>0  </td><td> 0 </td></tr>\n",
       "\t<tr><td> 0 </td><td>9  </td><td>0  </td><td>0  </td><td>0  </td><td>0  </td><td>0  </td><td>0  </td><td>0  </td><td>0  </td><td>...</td><td>0  </td><td>0  </td><td>0  </td><td>0  </td><td>0  </td><td>0  </td><td>0  </td><td>0  </td><td>0  </td><td> 0 </td></tr>\n",
       "\t<tr><td> 0 </td><td>0  </td><td>8  </td><td>0  </td><td>0  </td><td>0  </td><td>0  </td><td>0  </td><td>0  </td><td>0  </td><td>...</td><td>0  </td><td>0  </td><td>0  </td><td>0  </td><td>0  </td><td>0  </td><td>0  </td><td>0  </td><td>0  </td><td> 0 </td></tr>\n",
       "\t<tr><td> 0 </td><td>0  </td><td>0  </td><td>7  </td><td>0  </td><td>0  </td><td>0  </td><td>0  </td><td>0  </td><td>0  </td><td>...</td><td>0  </td><td>0  </td><td>0  </td><td>0  </td><td>0  </td><td>0  </td><td>0  </td><td>0  </td><td>0  </td><td> 0 </td></tr>\n",
       "\t<tr><td> 0 </td><td>0  </td><td>0  </td><td>0  </td><td>6  </td><td>0  </td><td>0  </td><td>0  </td><td>0  </td><td>0  </td><td>...</td><td>0  </td><td>0  </td><td>0  </td><td>0  </td><td>0  </td><td>0  </td><td>0  </td><td>0  </td><td>0  </td><td> 0 </td></tr>\n",
       "\t<tr><td> 0 </td><td>0  </td><td>0  </td><td>0  </td><td>0  </td><td>5  </td><td>0  </td><td>0  </td><td>0  </td><td>0  </td><td>...</td><td>0  </td><td>0  </td><td>0  </td><td>0  </td><td>0  </td><td>0  </td><td>0  </td><td>0  </td><td>0  </td><td> 0 </td></tr>\n",
       "\t<tr><td> 0 </td><td>0  </td><td>0  </td><td>0  </td><td>0  </td><td>0  </td><td>4  </td><td>0  </td><td>0  </td><td>0  </td><td>...</td><td>0  </td><td>0  </td><td>0  </td><td>0  </td><td>0  </td><td>0  </td><td>0  </td><td>0  </td><td>0  </td><td> 0 </td></tr>\n",
       "\t<tr><td> 0 </td><td>0  </td><td>0  </td><td>0  </td><td>0  </td><td>0  </td><td>0  </td><td>3  </td><td>0  </td><td>0  </td><td>...</td><td>0  </td><td>0  </td><td>0  </td><td>0  </td><td>0  </td><td>0  </td><td>0  </td><td>0  </td><td>0  </td><td> 0 </td></tr>\n",
       "\t<tr><td> 0 </td><td>0  </td><td>0  </td><td>0  </td><td>0  </td><td>0  </td><td>0  </td><td>0  </td><td>2  </td><td>0  </td><td>...</td><td>0  </td><td>0  </td><td>0  </td><td>0  </td><td>0  </td><td>0  </td><td>0  </td><td>0  </td><td>0  </td><td> 0 </td></tr>\n",
       "\t<tr><td> 0 </td><td>0  </td><td>0  </td><td>0  </td><td>0  </td><td>0  </td><td>0  </td><td>0  </td><td>0  </td><td>1  </td><td>...</td><td>0  </td><td>0  </td><td>0  </td><td>0  </td><td>0  </td><td>0  </td><td>0  </td><td>0  </td><td>0  </td><td> 0 </td></tr>\n",
       "\t<tr><td> 0 </td><td>0  </td><td>0  </td><td>0  </td><td>0  </td><td>0  </td><td>0  </td><td>0  </td><td>0  </td><td>0  </td><td>...</td><td>0  </td><td>0  </td><td>0  </td><td>0  </td><td>0  </td><td>0  </td><td>0  </td><td>0  </td><td>0  </td><td> 0 </td></tr>\n",
       "\t<tr><td> 0 </td><td>0  </td><td>0  </td><td>0  </td><td>0  </td><td>0  </td><td>0  </td><td>0  </td><td>0  </td><td>0  </td><td>...</td><td>1  </td><td>0  </td><td>0  </td><td>0  </td><td>0  </td><td>0  </td><td>0  </td><td>0  </td><td>0  </td><td> 0 </td></tr>\n",
       "\t<tr><td> 0 </td><td>0  </td><td>0  </td><td>0  </td><td>0  </td><td>0  </td><td>0  </td><td>0  </td><td>0  </td><td>0  </td><td>...</td><td>0  </td><td>2  </td><td>0  </td><td>0  </td><td>0  </td><td>0  </td><td>0  </td><td>0  </td><td>0  </td><td> 0 </td></tr>\n",
       "\t<tr><td> 0 </td><td>0  </td><td>0  </td><td>0  </td><td>0  </td><td>0  </td><td>0  </td><td>0  </td><td>0  </td><td>0  </td><td>...</td><td>0  </td><td>0  </td><td>3  </td><td>0  </td><td>0  </td><td>0  </td><td>0  </td><td>0  </td><td>0  </td><td> 0 </td></tr>\n",
       "\t<tr><td> 0 </td><td>0  </td><td>0  </td><td>0  </td><td>0  </td><td>0  </td><td>0  </td><td>0  </td><td>0  </td><td>0  </td><td>...</td><td>0  </td><td>0  </td><td>0  </td><td>4  </td><td>0  </td><td>0  </td><td>0  </td><td>0  </td><td>0  </td><td> 0 </td></tr>\n",
       "\t<tr><td> 0 </td><td>0  </td><td>0  </td><td>0  </td><td>0  </td><td>0  </td><td>0  </td><td>0  </td><td>0  </td><td>0  </td><td>...</td><td>0  </td><td>0  </td><td>0  </td><td>0  </td><td>5  </td><td>0  </td><td>0  </td><td>0  </td><td>0  </td><td> 0 </td></tr>\n",
       "\t<tr><td> 0 </td><td>0  </td><td>0  </td><td>0  </td><td>0  </td><td>0  </td><td>0  </td><td>0  </td><td>0  </td><td>0  </td><td>...</td><td>0  </td><td>0  </td><td>0  </td><td>0  </td><td>0  </td><td>6  </td><td>0  </td><td>0  </td><td>0  </td><td> 0 </td></tr>\n",
       "\t<tr><td> 0 </td><td>0  </td><td>0  </td><td>0  </td><td>0  </td><td>0  </td><td>0  </td><td>0  </td><td>0  </td><td>0  </td><td>...</td><td>0  </td><td>0  </td><td>0  </td><td>0  </td><td>0  </td><td>0  </td><td>7  </td><td>0  </td><td>0  </td><td> 0 </td></tr>\n",
       "\t<tr><td> 0 </td><td>0  </td><td>0  </td><td>0  </td><td>0  </td><td>0  </td><td>0  </td><td>0  </td><td>0  </td><td>0  </td><td>...</td><td>0  </td><td>0  </td><td>0  </td><td>0  </td><td>0  </td><td>0  </td><td>0  </td><td>8  </td><td>0  </td><td> 0 </td></tr>\n",
       "\t<tr><td> 0 </td><td>0  </td><td>0  </td><td>0  </td><td>0  </td><td>0  </td><td>0  </td><td>0  </td><td>0  </td><td>0  </td><td>...</td><td>0  </td><td>0  </td><td>0  </td><td>0  </td><td>0  </td><td>0  </td><td>0  </td><td>0  </td><td>9  </td><td> 0 </td></tr>\n",
       "\t<tr><td> 0 </td><td>0  </td><td>0  </td><td>0  </td><td>0  </td><td>0  </td><td>0  </td><td>0  </td><td>0  </td><td>0  </td><td>...</td><td>0  </td><td>0  </td><td>0  </td><td>0  </td><td>0  </td><td>0  </td><td>0  </td><td>0  </td><td>0  </td><td>10 </td></tr>\n",
       "</tbody>\n",
       "</table>\n"
      ],
      "text/latex": [
       "\\begin{tabular}{lllllllllllllllllllll}\n",
       "\t 10  & 0   & 0   & 0   & 0   & 0   & 0   & 0   & 0   & 0   & ... & 0   & 0   & 0   & 0   & 0   & 0   & 0   & 0   & 0   &  0 \\\\\n",
       "\t  0  & 9   & 0   & 0   & 0   & 0   & 0   & 0   & 0   & 0   & ... & 0   & 0   & 0   & 0   & 0   & 0   & 0   & 0   & 0   &  0 \\\\\n",
       "\t  0  & 0   & 8   & 0   & 0   & 0   & 0   & 0   & 0   & 0   & ... & 0   & 0   & 0   & 0   & 0   & 0   & 0   & 0   & 0   &  0 \\\\\n",
       "\t  0  & 0   & 0   & 7   & 0   & 0   & 0   & 0   & 0   & 0   & ... & 0   & 0   & 0   & 0   & 0   & 0   & 0   & 0   & 0   &  0 \\\\\n",
       "\t  0  & 0   & 0   & 0   & 6   & 0   & 0   & 0   & 0   & 0   & ... & 0   & 0   & 0   & 0   & 0   & 0   & 0   & 0   & 0   &  0 \\\\\n",
       "\t  0  & 0   & 0   & 0   & 0   & 5   & 0   & 0   & 0   & 0   & ... & 0   & 0   & 0   & 0   & 0   & 0   & 0   & 0   & 0   &  0 \\\\\n",
       "\t  0  & 0   & 0   & 0   & 0   & 0   & 4   & 0   & 0   & 0   & ... & 0   & 0   & 0   & 0   & 0   & 0   & 0   & 0   & 0   &  0 \\\\\n",
       "\t  0  & 0   & 0   & 0   & 0   & 0   & 0   & 3   & 0   & 0   & ... & 0   & 0   & 0   & 0   & 0   & 0   & 0   & 0   & 0   &  0 \\\\\n",
       "\t  0  & 0   & 0   & 0   & 0   & 0   & 0   & 0   & 2   & 0   & ... & 0   & 0   & 0   & 0   & 0   & 0   & 0   & 0   & 0   &  0 \\\\\n",
       "\t  0  & 0   & 0   & 0   & 0   & 0   & 0   & 0   & 0   & 1   & ... & 0   & 0   & 0   & 0   & 0   & 0   & 0   & 0   & 0   &  0 \\\\\n",
       "\t  0  & 0   & 0   & 0   & 0   & 0   & 0   & 0   & 0   & 0   & ... & 0   & 0   & 0   & 0   & 0   & 0   & 0   & 0   & 0   &  0 \\\\\n",
       "\t  0  & 0   & 0   & 0   & 0   & 0   & 0   & 0   & 0   & 0   & ... & 1   & 0   & 0   & 0   & 0   & 0   & 0   & 0   & 0   &  0 \\\\\n",
       "\t  0  & 0   & 0   & 0   & 0   & 0   & 0   & 0   & 0   & 0   & ... & 0   & 2   & 0   & 0   & 0   & 0   & 0   & 0   & 0   &  0 \\\\\n",
       "\t  0  & 0   & 0   & 0   & 0   & 0   & 0   & 0   & 0   & 0   & ... & 0   & 0   & 3   & 0   & 0   & 0   & 0   & 0   & 0   &  0 \\\\\n",
       "\t  0  & 0   & 0   & 0   & 0   & 0   & 0   & 0   & 0   & 0   & ... & 0   & 0   & 0   & 4   & 0   & 0   & 0   & 0   & 0   &  0 \\\\\n",
       "\t  0  & 0   & 0   & 0   & 0   & 0   & 0   & 0   & 0   & 0   & ... & 0   & 0   & 0   & 0   & 5   & 0   & 0   & 0   & 0   &  0 \\\\\n",
       "\t  0  & 0   & 0   & 0   & 0   & 0   & 0   & 0   & 0   & 0   & ... & 0   & 0   & 0   & 0   & 0   & 6   & 0   & 0   & 0   &  0 \\\\\n",
       "\t  0  & 0   & 0   & 0   & 0   & 0   & 0   & 0   & 0   & 0   & ... & 0   & 0   & 0   & 0   & 0   & 0   & 7   & 0   & 0   &  0 \\\\\n",
       "\t  0  & 0   & 0   & 0   & 0   & 0   & 0   & 0   & 0   & 0   & ... & 0   & 0   & 0   & 0   & 0   & 0   & 0   & 8   & 0   &  0 \\\\\n",
       "\t  0  & 0   & 0   & 0   & 0   & 0   & 0   & 0   & 0   & 0   & ... & 0   & 0   & 0   & 0   & 0   & 0   & 0   & 0   & 9   &  0 \\\\\n",
       "\t  0  & 0   & 0   & 0   & 0   & 0   & 0   & 0   & 0   & 0   & ... & 0   & 0   & 0   & 0   & 0   & 0   & 0   & 0   & 0   & 10 \\\\\n",
       "\\end{tabular}\n"
      ],
      "text/markdown": [
       "\n",
       "| 10  | 0   | 0   | 0   | 0   | 0   | 0   | 0   | 0   | 0   | ... | 0   | 0   | 0   | 0   | 0   | 0   | 0   | 0   | 0   |  0  |\n",
       "|  0  | 9   | 0   | 0   | 0   | 0   | 0   | 0   | 0   | 0   | ... | 0   | 0   | 0   | 0   | 0   | 0   | 0   | 0   | 0   |  0  |\n",
       "|  0  | 0   | 8   | 0   | 0   | 0   | 0   | 0   | 0   | 0   | ... | 0   | 0   | 0   | 0   | 0   | 0   | 0   | 0   | 0   |  0  |\n",
       "|  0  | 0   | 0   | 7   | 0   | 0   | 0   | 0   | 0   | 0   | ... | 0   | 0   | 0   | 0   | 0   | 0   | 0   | 0   | 0   |  0  |\n",
       "|  0  | 0   | 0   | 0   | 6   | 0   | 0   | 0   | 0   | 0   | ... | 0   | 0   | 0   | 0   | 0   | 0   | 0   | 0   | 0   |  0  |\n",
       "|  0  | 0   | 0   | 0   | 0   | 5   | 0   | 0   | 0   | 0   | ... | 0   | 0   | 0   | 0   | 0   | 0   | 0   | 0   | 0   |  0  |\n",
       "|  0  | 0   | 0   | 0   | 0   | 0   | 4   | 0   | 0   | 0   | ... | 0   | 0   | 0   | 0   | 0   | 0   | 0   | 0   | 0   |  0  |\n",
       "|  0  | 0   | 0   | 0   | 0   | 0   | 0   | 3   | 0   | 0   | ... | 0   | 0   | 0   | 0   | 0   | 0   | 0   | 0   | 0   |  0  |\n",
       "|  0  | 0   | 0   | 0   | 0   | 0   | 0   | 0   | 2   | 0   | ... | 0   | 0   | 0   | 0   | 0   | 0   | 0   | 0   | 0   |  0  |\n",
       "|  0  | 0   | 0   | 0   | 0   | 0   | 0   | 0   | 0   | 1   | ... | 0   | 0   | 0   | 0   | 0   | 0   | 0   | 0   | 0   |  0  |\n",
       "|  0  | 0   | 0   | 0   | 0   | 0   | 0   | 0   | 0   | 0   | ... | 0   | 0   | 0   | 0   | 0   | 0   | 0   | 0   | 0   |  0  |\n",
       "|  0  | 0   | 0   | 0   | 0   | 0   | 0   | 0   | 0   | 0   | ... | 1   | 0   | 0   | 0   | 0   | 0   | 0   | 0   | 0   |  0  |\n",
       "|  0  | 0   | 0   | 0   | 0   | 0   | 0   | 0   | 0   | 0   | ... | 0   | 2   | 0   | 0   | 0   | 0   | 0   | 0   | 0   |  0  |\n",
       "|  0  | 0   | 0   | 0   | 0   | 0   | 0   | 0   | 0   | 0   | ... | 0   | 0   | 3   | 0   | 0   | 0   | 0   | 0   | 0   |  0  |\n",
       "|  0  | 0   | 0   | 0   | 0   | 0   | 0   | 0   | 0   | 0   | ... | 0   | 0   | 0   | 4   | 0   | 0   | 0   | 0   | 0   |  0  |\n",
       "|  0  | 0   | 0   | 0   | 0   | 0   | 0   | 0   | 0   | 0   | ... | 0   | 0   | 0   | 0   | 5   | 0   | 0   | 0   | 0   |  0  |\n",
       "|  0  | 0   | 0   | 0   | 0   | 0   | 0   | 0   | 0   | 0   | ... | 0   | 0   | 0   | 0   | 0   | 6   | 0   | 0   | 0   |  0  |\n",
       "|  0  | 0   | 0   | 0   | 0   | 0   | 0   | 0   | 0   | 0   | ... | 0   | 0   | 0   | 0   | 0   | 0   | 7   | 0   | 0   |  0  |\n",
       "|  0  | 0   | 0   | 0   | 0   | 0   | 0   | 0   | 0   | 0   | ... | 0   | 0   | 0   | 0   | 0   | 0   | 0   | 8   | 0   |  0  |\n",
       "|  0  | 0   | 0   | 0   | 0   | 0   | 0   | 0   | 0   | 0   | ... | 0   | 0   | 0   | 0   | 0   | 0   | 0   | 0   | 9   |  0  |\n",
       "|  0  | 0   | 0   | 0   | 0   | 0   | 0   | 0   | 0   | 0   | ... | 0   | 0   | 0   | 0   | 0   | 0   | 0   | 0   | 0   | 10  |\n",
       "\n"
      ],
      "text/plain": [
       "      [,1] [,2] [,3] [,4] [,5] [,6] [,7] [,8] [,9] [,10] [,11] [,12] [,13]\n",
       " [1,] 10   0    0    0    0    0    0    0    0    0     ...   0     0    \n",
       " [2,]  0   9    0    0    0    0    0    0    0    0     ...   0     0    \n",
       " [3,]  0   0    8    0    0    0    0    0    0    0     ...   0     0    \n",
       " [4,]  0   0    0    7    0    0    0    0    0    0     ...   0     0    \n",
       " [5,]  0   0    0    0    6    0    0    0    0    0     ...   0     0    \n",
       " [6,]  0   0    0    0    0    5    0    0    0    0     ...   0     0    \n",
       " [7,]  0   0    0    0    0    0    4    0    0    0     ...   0     0    \n",
       " [8,]  0   0    0    0    0    0    0    3    0    0     ...   0     0    \n",
       " [9,]  0   0    0    0    0    0    0    0    2    0     ...   0     0    \n",
       "[10,]  0   0    0    0    0    0    0    0    0    1     ...   0     0    \n",
       "[11,]  0   0    0    0    0    0    0    0    0    0     ...   0     0    \n",
       "[12,]  0   0    0    0    0    0    0    0    0    0     ...   1     0    \n",
       "[13,]  0   0    0    0    0    0    0    0    0    0     ...   0     2    \n",
       "[14,]  0   0    0    0    0    0    0    0    0    0     ...   0     0    \n",
       "[15,]  0   0    0    0    0    0    0    0    0    0     ...   0     0    \n",
       "[16,]  0   0    0    0    0    0    0    0    0    0     ...   0     0    \n",
       "[17,]  0   0    0    0    0    0    0    0    0    0     ...   0     0    \n",
       "[18,]  0   0    0    0    0    0    0    0    0    0     ...   0     0    \n",
       "[19,]  0   0    0    0    0    0    0    0    0    0     ...   0     0    \n",
       "[20,]  0   0    0    0    0    0    0    0    0    0     ...   0     0    \n",
       "[21,]  0   0    0    0    0    0    0    0    0    0     ...   0     0    \n",
       "      [,14] [,15] [,16] [,17] [,18] [,19] [,20] [,21]\n",
       " [1,] 0     0     0     0     0     0     0      0   \n",
       " [2,] 0     0     0     0     0     0     0      0   \n",
       " [3,] 0     0     0     0     0     0     0      0   \n",
       " [4,] 0     0     0     0     0     0     0      0   \n",
       " [5,] 0     0     0     0     0     0     0      0   \n",
       " [6,] 0     0     0     0     0     0     0      0   \n",
       " [7,] 0     0     0     0     0     0     0      0   \n",
       " [8,] 0     0     0     0     0     0     0      0   \n",
       " [9,] 0     0     0     0     0     0     0      0   \n",
       "[10,] 0     0     0     0     0     0     0      0   \n",
       "[11,] 0     0     0     0     0     0     0      0   \n",
       "[12,] 0     0     0     0     0     0     0      0   \n",
       "[13,] 0     0     0     0     0     0     0      0   \n",
       "[14,] 3     0     0     0     0     0     0      0   \n",
       "[15,] 0     4     0     0     0     0     0      0   \n",
       "[16,] 0     0     5     0     0     0     0      0   \n",
       "[17,] 0     0     0     6     0     0     0      0   \n",
       "[18,] 0     0     0     0     7     0     0      0   \n",
       "[19,] 0     0     0     0     0     8     0      0   \n",
       "[20,] 0     0     0     0     0     0     9      0   \n",
       "[21,] 0     0     0     0     0     0     0     10   "
      ]
     },
     "metadata": {},
     "output_type": "display_data"
    }
   ],
   "source": [
    "center = diag(c(10:1, 0:10))\n",
    "center"
   ]
  },
  {
   "cell_type": "markdown",
   "metadata": {},
   "source": [
    "Q4: 你可通过给 diag 函数传递两个额外的参数来指定输出的维度。创建一个主对角线元素 都为 1 的 20×21 的矩阵。现在，在此矩阵之上加一行全零元素来创建一个 21×21 的方 阵，原来主对角线上的全 1 元素现在全体向下偏移一行。  \n",
    "A4:  "
   ]
  },
  {
   "cell_type": "code",
   "execution_count": 113,
   "metadata": {},
   "outputs": [],
   "source": [
    "num_row = 21"
   ]
  },
  {
   "cell_type": "code",
   "execution_count": 116,
   "metadata": {
    "scrolled": true
   },
   "outputs": [],
   "source": [
    "t = diag(1, num_row-1, num_row)"
   ]
  },
  {
   "cell_type": "code",
   "execution_count": 117,
   "metadata": {},
   "outputs": [],
   "source": [
    "low = rbind(rep(0, num_row), t)\n"
   ]
  },
  {
   "cell_type": "code",
   "execution_count": 118,
   "metadata": {},
   "outputs": [],
   "source": [
    "high = cbind(rep(0, num_row), diag(1, num_row, num_row-1))"
   ]
  },
  {
   "cell_type": "code",
   "execution_count": 119,
   "metadata": {},
   "outputs": [
    {
     "data": {
      "text/html": [
       "<table>\n",
       "<tbody>\n",
       "\t<tr><td>10 </td><td>1  </td><td>0  </td><td>0  </td><td>0  </td><td>0  </td><td>0  </td><td>0  </td><td>0  </td><td>0  </td><td>...</td><td>0  </td><td>0  </td><td>0  </td><td>0  </td><td>0  </td><td>0  </td><td>0  </td><td>0  </td><td>0  </td><td> 0 </td></tr>\n",
       "\t<tr><td> 1 </td><td>9  </td><td>1  </td><td>0  </td><td>0  </td><td>0  </td><td>0  </td><td>0  </td><td>0  </td><td>0  </td><td>...</td><td>0  </td><td>0  </td><td>0  </td><td>0  </td><td>0  </td><td>0  </td><td>0  </td><td>0  </td><td>0  </td><td> 0 </td></tr>\n",
       "\t<tr><td> 0 </td><td>1  </td><td>8  </td><td>1  </td><td>0  </td><td>0  </td><td>0  </td><td>0  </td><td>0  </td><td>0  </td><td>...</td><td>0  </td><td>0  </td><td>0  </td><td>0  </td><td>0  </td><td>0  </td><td>0  </td><td>0  </td><td>0  </td><td> 0 </td></tr>\n",
       "\t<tr><td> 0 </td><td>0  </td><td>1  </td><td>7  </td><td>1  </td><td>0  </td><td>0  </td><td>0  </td><td>0  </td><td>0  </td><td>...</td><td>0  </td><td>0  </td><td>0  </td><td>0  </td><td>0  </td><td>0  </td><td>0  </td><td>0  </td><td>0  </td><td> 0 </td></tr>\n",
       "\t<tr><td> 0 </td><td>0  </td><td>0  </td><td>1  </td><td>6  </td><td>1  </td><td>0  </td><td>0  </td><td>0  </td><td>0  </td><td>...</td><td>0  </td><td>0  </td><td>0  </td><td>0  </td><td>0  </td><td>0  </td><td>0  </td><td>0  </td><td>0  </td><td> 0 </td></tr>\n",
       "\t<tr><td> 0 </td><td>0  </td><td>0  </td><td>0  </td><td>1  </td><td>5  </td><td>1  </td><td>0  </td><td>0  </td><td>0  </td><td>...</td><td>0  </td><td>0  </td><td>0  </td><td>0  </td><td>0  </td><td>0  </td><td>0  </td><td>0  </td><td>0  </td><td> 0 </td></tr>\n",
       "\t<tr><td> 0 </td><td>0  </td><td>0  </td><td>0  </td><td>0  </td><td>1  </td><td>4  </td><td>1  </td><td>0  </td><td>0  </td><td>...</td><td>0  </td><td>0  </td><td>0  </td><td>0  </td><td>0  </td><td>0  </td><td>0  </td><td>0  </td><td>0  </td><td> 0 </td></tr>\n",
       "\t<tr><td> 0 </td><td>0  </td><td>0  </td><td>0  </td><td>0  </td><td>0  </td><td>1  </td><td>3  </td><td>1  </td><td>0  </td><td>...</td><td>0  </td><td>0  </td><td>0  </td><td>0  </td><td>0  </td><td>0  </td><td>0  </td><td>0  </td><td>0  </td><td> 0 </td></tr>\n",
       "\t<tr><td> 0 </td><td>0  </td><td>0  </td><td>0  </td><td>0  </td><td>0  </td><td>0  </td><td>1  </td><td>2  </td><td>1  </td><td>...</td><td>0  </td><td>0  </td><td>0  </td><td>0  </td><td>0  </td><td>0  </td><td>0  </td><td>0  </td><td>0  </td><td> 0 </td></tr>\n",
       "\t<tr><td> 0 </td><td>0  </td><td>0  </td><td>0  </td><td>0  </td><td>0  </td><td>0  </td><td>0  </td><td>1  </td><td>1  </td><td>...</td><td>0  </td><td>0  </td><td>0  </td><td>0  </td><td>0  </td><td>0  </td><td>0  </td><td>0  </td><td>0  </td><td> 0 </td></tr>\n",
       "\t<tr><td> 0 </td><td>0  </td><td>0  </td><td>0  </td><td>0  </td><td>0  </td><td>0  </td><td>0  </td><td>0  </td><td>1  </td><td>...</td><td>1  </td><td>0  </td><td>0  </td><td>0  </td><td>0  </td><td>0  </td><td>0  </td><td>0  </td><td>0  </td><td> 0 </td></tr>\n",
       "\t<tr><td> 0 </td><td>0  </td><td>0  </td><td>0  </td><td>0  </td><td>0  </td><td>0  </td><td>0  </td><td>0  </td><td>0  </td><td>...</td><td>1  </td><td>1  </td><td>0  </td><td>0  </td><td>0  </td><td>0  </td><td>0  </td><td>0  </td><td>0  </td><td> 0 </td></tr>\n",
       "\t<tr><td> 0 </td><td>0  </td><td>0  </td><td>0  </td><td>0  </td><td>0  </td><td>0  </td><td>0  </td><td>0  </td><td>0  </td><td>...</td><td>1  </td><td>2  </td><td>1  </td><td>0  </td><td>0  </td><td>0  </td><td>0  </td><td>0  </td><td>0  </td><td> 0 </td></tr>\n",
       "\t<tr><td> 0 </td><td>0  </td><td>0  </td><td>0  </td><td>0  </td><td>0  </td><td>0  </td><td>0  </td><td>0  </td><td>0  </td><td>...</td><td>0  </td><td>1  </td><td>3  </td><td>1  </td><td>0  </td><td>0  </td><td>0  </td><td>0  </td><td>0  </td><td> 0 </td></tr>\n",
       "\t<tr><td> 0 </td><td>0  </td><td>0  </td><td>0  </td><td>0  </td><td>0  </td><td>0  </td><td>0  </td><td>0  </td><td>0  </td><td>...</td><td>0  </td><td>0  </td><td>1  </td><td>4  </td><td>1  </td><td>0  </td><td>0  </td><td>0  </td><td>0  </td><td> 0 </td></tr>\n",
       "\t<tr><td> 0 </td><td>0  </td><td>0  </td><td>0  </td><td>0  </td><td>0  </td><td>0  </td><td>0  </td><td>0  </td><td>0  </td><td>...</td><td>0  </td><td>0  </td><td>0  </td><td>1  </td><td>5  </td><td>1  </td><td>0  </td><td>0  </td><td>0  </td><td> 0 </td></tr>\n",
       "\t<tr><td> 0 </td><td>0  </td><td>0  </td><td>0  </td><td>0  </td><td>0  </td><td>0  </td><td>0  </td><td>0  </td><td>0  </td><td>...</td><td>0  </td><td>0  </td><td>0  </td><td>0  </td><td>1  </td><td>6  </td><td>1  </td><td>0  </td><td>0  </td><td> 0 </td></tr>\n",
       "\t<tr><td> 0 </td><td>0  </td><td>0  </td><td>0  </td><td>0  </td><td>0  </td><td>0  </td><td>0  </td><td>0  </td><td>0  </td><td>...</td><td>0  </td><td>0  </td><td>0  </td><td>0  </td><td>0  </td><td>1  </td><td>7  </td><td>1  </td><td>0  </td><td> 0 </td></tr>\n",
       "\t<tr><td> 0 </td><td>0  </td><td>0  </td><td>0  </td><td>0  </td><td>0  </td><td>0  </td><td>0  </td><td>0  </td><td>0  </td><td>...</td><td>0  </td><td>0  </td><td>0  </td><td>0  </td><td>0  </td><td>0  </td><td>1  </td><td>8  </td><td>1  </td><td> 0 </td></tr>\n",
       "\t<tr><td> 0 </td><td>0  </td><td>0  </td><td>0  </td><td>0  </td><td>0  </td><td>0  </td><td>0  </td><td>0  </td><td>0  </td><td>...</td><td>0  </td><td>0  </td><td>0  </td><td>0  </td><td>0  </td><td>0  </td><td>0  </td><td>1  </td><td>9  </td><td> 1 </td></tr>\n",
       "\t<tr><td> 0 </td><td>0  </td><td>0  </td><td>0  </td><td>0  </td><td>0  </td><td>0  </td><td>0  </td><td>0  </td><td>0  </td><td>...</td><td>0  </td><td>0  </td><td>0  </td><td>0  </td><td>0  </td><td>0  </td><td>0  </td><td>0  </td><td>1  </td><td>10 </td></tr>\n",
       "</tbody>\n",
       "</table>\n"
      ],
      "text/latex": [
       "\\begin{tabular}{lllllllllllllllllllll}\n",
       "\t 10  & 1   & 0   & 0   & 0   & 0   & 0   & 0   & 0   & 0   & ... & 0   & 0   & 0   & 0   & 0   & 0   & 0   & 0   & 0   &  0 \\\\\n",
       "\t  1  & 9   & 1   & 0   & 0   & 0   & 0   & 0   & 0   & 0   & ... & 0   & 0   & 0   & 0   & 0   & 0   & 0   & 0   & 0   &  0 \\\\\n",
       "\t  0  & 1   & 8   & 1   & 0   & 0   & 0   & 0   & 0   & 0   & ... & 0   & 0   & 0   & 0   & 0   & 0   & 0   & 0   & 0   &  0 \\\\\n",
       "\t  0  & 0   & 1   & 7   & 1   & 0   & 0   & 0   & 0   & 0   & ... & 0   & 0   & 0   & 0   & 0   & 0   & 0   & 0   & 0   &  0 \\\\\n",
       "\t  0  & 0   & 0   & 1   & 6   & 1   & 0   & 0   & 0   & 0   & ... & 0   & 0   & 0   & 0   & 0   & 0   & 0   & 0   & 0   &  0 \\\\\n",
       "\t  0  & 0   & 0   & 0   & 1   & 5   & 1   & 0   & 0   & 0   & ... & 0   & 0   & 0   & 0   & 0   & 0   & 0   & 0   & 0   &  0 \\\\\n",
       "\t  0  & 0   & 0   & 0   & 0   & 1   & 4   & 1   & 0   & 0   & ... & 0   & 0   & 0   & 0   & 0   & 0   & 0   & 0   & 0   &  0 \\\\\n",
       "\t  0  & 0   & 0   & 0   & 0   & 0   & 1   & 3   & 1   & 0   & ... & 0   & 0   & 0   & 0   & 0   & 0   & 0   & 0   & 0   &  0 \\\\\n",
       "\t  0  & 0   & 0   & 0   & 0   & 0   & 0   & 1   & 2   & 1   & ... & 0   & 0   & 0   & 0   & 0   & 0   & 0   & 0   & 0   &  0 \\\\\n",
       "\t  0  & 0   & 0   & 0   & 0   & 0   & 0   & 0   & 1   & 1   & ... & 0   & 0   & 0   & 0   & 0   & 0   & 0   & 0   & 0   &  0 \\\\\n",
       "\t  0  & 0   & 0   & 0   & 0   & 0   & 0   & 0   & 0   & 1   & ... & 1   & 0   & 0   & 0   & 0   & 0   & 0   & 0   & 0   &  0 \\\\\n",
       "\t  0  & 0   & 0   & 0   & 0   & 0   & 0   & 0   & 0   & 0   & ... & 1   & 1   & 0   & 0   & 0   & 0   & 0   & 0   & 0   &  0 \\\\\n",
       "\t  0  & 0   & 0   & 0   & 0   & 0   & 0   & 0   & 0   & 0   & ... & 1   & 2   & 1   & 0   & 0   & 0   & 0   & 0   & 0   &  0 \\\\\n",
       "\t  0  & 0   & 0   & 0   & 0   & 0   & 0   & 0   & 0   & 0   & ... & 0   & 1   & 3   & 1   & 0   & 0   & 0   & 0   & 0   &  0 \\\\\n",
       "\t  0  & 0   & 0   & 0   & 0   & 0   & 0   & 0   & 0   & 0   & ... & 0   & 0   & 1   & 4   & 1   & 0   & 0   & 0   & 0   &  0 \\\\\n",
       "\t  0  & 0   & 0   & 0   & 0   & 0   & 0   & 0   & 0   & 0   & ... & 0   & 0   & 0   & 1   & 5   & 1   & 0   & 0   & 0   &  0 \\\\\n",
       "\t  0  & 0   & 0   & 0   & 0   & 0   & 0   & 0   & 0   & 0   & ... & 0   & 0   & 0   & 0   & 1   & 6   & 1   & 0   & 0   &  0 \\\\\n",
       "\t  0  & 0   & 0   & 0   & 0   & 0   & 0   & 0   & 0   & 0   & ... & 0   & 0   & 0   & 0   & 0   & 1   & 7   & 1   & 0   &  0 \\\\\n",
       "\t  0  & 0   & 0   & 0   & 0   & 0   & 0   & 0   & 0   & 0   & ... & 0   & 0   & 0   & 0   & 0   & 0   & 1   & 8   & 1   &  0 \\\\\n",
       "\t  0  & 0   & 0   & 0   & 0   & 0   & 0   & 0   & 0   & 0   & ... & 0   & 0   & 0   & 0   & 0   & 0   & 0   & 1   & 9   &  1 \\\\\n",
       "\t  0  & 0   & 0   & 0   & 0   & 0   & 0   & 0   & 0   & 0   & ... & 0   & 0   & 0   & 0   & 0   & 0   & 0   & 0   & 1   & 10 \\\\\n",
       "\\end{tabular}\n"
      ],
      "text/markdown": [
       "\n",
       "| 10  | 1   | 0   | 0   | 0   | 0   | 0   | 0   | 0   | 0   | ... | 0   | 0   | 0   | 0   | 0   | 0   | 0   | 0   | 0   |  0  |\n",
       "|  1  | 9   | 1   | 0   | 0   | 0   | 0   | 0   | 0   | 0   | ... | 0   | 0   | 0   | 0   | 0   | 0   | 0   | 0   | 0   |  0  |\n",
       "|  0  | 1   | 8   | 1   | 0   | 0   | 0   | 0   | 0   | 0   | ... | 0   | 0   | 0   | 0   | 0   | 0   | 0   | 0   | 0   |  0  |\n",
       "|  0  | 0   | 1   | 7   | 1   | 0   | 0   | 0   | 0   | 0   | ... | 0   | 0   | 0   | 0   | 0   | 0   | 0   | 0   | 0   |  0  |\n",
       "|  0  | 0   | 0   | 1   | 6   | 1   | 0   | 0   | 0   | 0   | ... | 0   | 0   | 0   | 0   | 0   | 0   | 0   | 0   | 0   |  0  |\n",
       "|  0  | 0   | 0   | 0   | 1   | 5   | 1   | 0   | 0   | 0   | ... | 0   | 0   | 0   | 0   | 0   | 0   | 0   | 0   | 0   |  0  |\n",
       "|  0  | 0   | 0   | 0   | 0   | 1   | 4   | 1   | 0   | 0   | ... | 0   | 0   | 0   | 0   | 0   | 0   | 0   | 0   | 0   |  0  |\n",
       "|  0  | 0   | 0   | 0   | 0   | 0   | 1   | 3   | 1   | 0   | ... | 0   | 0   | 0   | 0   | 0   | 0   | 0   | 0   | 0   |  0  |\n",
       "|  0  | 0   | 0   | 0   | 0   | 0   | 0   | 1   | 2   | 1   | ... | 0   | 0   | 0   | 0   | 0   | 0   | 0   | 0   | 0   |  0  |\n",
       "|  0  | 0   | 0   | 0   | 0   | 0   | 0   | 0   | 1   | 1   | ... | 0   | 0   | 0   | 0   | 0   | 0   | 0   | 0   | 0   |  0  |\n",
       "|  0  | 0   | 0   | 0   | 0   | 0   | 0   | 0   | 0   | 1   | ... | 1   | 0   | 0   | 0   | 0   | 0   | 0   | 0   | 0   |  0  |\n",
       "|  0  | 0   | 0   | 0   | 0   | 0   | 0   | 0   | 0   | 0   | ... | 1   | 1   | 0   | 0   | 0   | 0   | 0   | 0   | 0   |  0  |\n",
       "|  0  | 0   | 0   | 0   | 0   | 0   | 0   | 0   | 0   | 0   | ... | 1   | 2   | 1   | 0   | 0   | 0   | 0   | 0   | 0   |  0  |\n",
       "|  0  | 0   | 0   | 0   | 0   | 0   | 0   | 0   | 0   | 0   | ... | 0   | 1   | 3   | 1   | 0   | 0   | 0   | 0   | 0   |  0  |\n",
       "|  0  | 0   | 0   | 0   | 0   | 0   | 0   | 0   | 0   | 0   | ... | 0   | 0   | 1   | 4   | 1   | 0   | 0   | 0   | 0   |  0  |\n",
       "|  0  | 0   | 0   | 0   | 0   | 0   | 0   | 0   | 0   | 0   | ... | 0   | 0   | 0   | 1   | 5   | 1   | 0   | 0   | 0   |  0  |\n",
       "|  0  | 0   | 0   | 0   | 0   | 0   | 0   | 0   | 0   | 0   | ... | 0   | 0   | 0   | 0   | 1   | 6   | 1   | 0   | 0   |  0  |\n",
       "|  0  | 0   | 0   | 0   | 0   | 0   | 0   | 0   | 0   | 0   | ... | 0   | 0   | 0   | 0   | 0   | 1   | 7   | 1   | 0   |  0  |\n",
       "|  0  | 0   | 0   | 0   | 0   | 0   | 0   | 0   | 0   | 0   | ... | 0   | 0   | 0   | 0   | 0   | 0   | 1   | 8   | 1   |  0  |\n",
       "|  0  | 0   | 0   | 0   | 0   | 0   | 0   | 0   | 0   | 0   | ... | 0   | 0   | 0   | 0   | 0   | 0   | 0   | 1   | 9   |  1  |\n",
       "|  0  | 0   | 0   | 0   | 0   | 0   | 0   | 0   | 0   | 0   | ... | 0   | 0   | 0   | 0   | 0   | 0   | 0   | 0   | 1   | 10  |\n",
       "\n"
      ],
      "text/plain": [
       "      [,1] [,2] [,3] [,4] [,5] [,6] [,7] [,8] [,9] [,10] [,11] [,12] [,13]\n",
       " [1,] 10   1    0    0    0    0    0    0    0    0     ...   0     0    \n",
       " [2,]  1   9    1    0    0    0    0    0    0    0     ...   0     0    \n",
       " [3,]  0   1    8    1    0    0    0    0    0    0     ...   0     0    \n",
       " [4,]  0   0    1    7    1    0    0    0    0    0     ...   0     0    \n",
       " [5,]  0   0    0    1    6    1    0    0    0    0     ...   0     0    \n",
       " [6,]  0   0    0    0    1    5    1    0    0    0     ...   0     0    \n",
       " [7,]  0   0    0    0    0    1    4    1    0    0     ...   0     0    \n",
       " [8,]  0   0    0    0    0    0    1    3    1    0     ...   0     0    \n",
       " [9,]  0   0    0    0    0    0    0    1    2    1     ...   0     0    \n",
       "[10,]  0   0    0    0    0    0    0    0    1    1     ...   0     0    \n",
       "[11,]  0   0    0    0    0    0    0    0    0    1     ...   1     0    \n",
       "[12,]  0   0    0    0    0    0    0    0    0    0     ...   1     1    \n",
       "[13,]  0   0    0    0    0    0    0    0    0    0     ...   1     2    \n",
       "[14,]  0   0    0    0    0    0    0    0    0    0     ...   0     1    \n",
       "[15,]  0   0    0    0    0    0    0    0    0    0     ...   0     0    \n",
       "[16,]  0   0    0    0    0    0    0    0    0    0     ...   0     0    \n",
       "[17,]  0   0    0    0    0    0    0    0    0    0     ...   0     0    \n",
       "[18,]  0   0    0    0    0    0    0    0    0    0     ...   0     0    \n",
       "[19,]  0   0    0    0    0    0    0    0    0    0     ...   0     0    \n",
       "[20,]  0   0    0    0    0    0    0    0    0    0     ...   0     0    \n",
       "[21,]  0   0    0    0    0    0    0    0    0    0     ...   0     0    \n",
       "      [,14] [,15] [,16] [,17] [,18] [,19] [,20] [,21]\n",
       " [1,] 0     0     0     0     0     0     0      0   \n",
       " [2,] 0     0     0     0     0     0     0      0   \n",
       " [3,] 0     0     0     0     0     0     0      0   \n",
       " [4,] 0     0     0     0     0     0     0      0   \n",
       " [5,] 0     0     0     0     0     0     0      0   \n",
       " [6,] 0     0     0     0     0     0     0      0   \n",
       " [7,] 0     0     0     0     0     0     0      0   \n",
       " [8,] 0     0     0     0     0     0     0      0   \n",
       " [9,] 0     0     0     0     0     0     0      0   \n",
       "[10,] 0     0     0     0     0     0     0      0   \n",
       "[11,] 0     0     0     0     0     0     0      0   \n",
       "[12,] 0     0     0     0     0     0     0      0   \n",
       "[13,] 1     0     0     0     0     0     0      0   \n",
       "[14,] 3     1     0     0     0     0     0      0   \n",
       "[15,] 1     4     1     0     0     0     0      0   \n",
       "[16,] 0     1     5     1     0     0     0      0   \n",
       "[17,] 0     0     1     6     1     0     0      0   \n",
       "[18,] 0     0     0     1     7     1     0      0   \n",
       "[19,] 0     0     0     0     1     8     1      0   \n",
       "[20,] 0     0     0     0     0     1     9      1   \n",
       "[21,] 0     0     0     0     0     0     1     10   "
      ]
     },
     "metadata": {},
     "output_type": "display_data"
    }
   ],
   "source": [
    "wilkinson = low + center + high\n",
    "wilkinson"
   ]
  },
  {
   "cell_type": "code",
   "execution_count": 120,
   "metadata": {},
   "outputs": [
    {
     "data": {
      "text/plain": [
       "eigen() decomposition\n",
       "$values\n",
       " [1] 10.7461942 10.7461942  9.2106786  9.2106786  8.0389411  8.0389411\n",
       " [7]  7.0039522  7.0039518  6.0002340  6.0002175  5.0002444  4.9997825\n",
       "[13]  4.0043540  3.9960482  3.0430993  2.9610589  2.1302092  1.7893214\n",
       "[19]  0.9475344  0.2538058 -1.1254415\n",
       "\n",
       "$vectors\n",
       "              [,1]          [,2]          [,3]          [,4]          [,5]\n",
       " [1,] 5.495410e-01 -5.493073e-01 -3.824805e-01  3.824543e-01  2.111086e-01\n",
       " [2,] 4.100643e-01 -4.098899e-01  3.019000e-01 -3.018793e-01 -4.139963e-01\n",
       " [3,] 1.665109e-01 -1.664401e-01  4.460844e-01 -4.460538e-01  1.867663e-01\n",
       " [4,] 4.720694e-02 -4.718686e-02  2.381648e-01 -2.381485e-01  4.212692e-01\n",
       " [5,] 1.033548e-02 -1.033109e-02  8.042149e-02 -8.041598e-02  2.509076e-01\n",
       " [6,] 1.847263e-03 -1.846477e-03  2.004275e-02 -2.004137e-02  9.031667e-02\n",
       " [7,] 2.792477e-04 -2.791289e-04  3.972068e-03 -3.971794e-03  2.355942e-02\n",
       " [8,] 3.659637e-05 -3.658067e-05  6.544258e-04 -6.543736e-04  4.838449e-03\n",
       " [9,] 4.234910e-06 -4.232115e-06  9.236027e-05 -9.230979e-05  8.212357e-04\n",
       "[10,] 4.429766e-07 -4.342308e-07  1.155435e-05 -1.124264e-05  1.209451e-04\n",
       "[11,] 8.242625e-08  1.753108e-11  2.508820e-06  8.602875e-11  3.008981e-05\n",
       "[12,] 4.427919e-07  4.344192e-07  1.155358e-05  1.124343e-05  1.209451e-04\n",
       "[13,] 4.233109e-06  4.233916e-06  9.235393e-05  9.231613e-05  8.212356e-04\n",
       "[14,] 3.658080e-05  3.659624e-05  6.543810e-04  6.544185e-04  4.838448e-03\n",
       "[15,] 2.791289e-04  2.792476e-04  3.971796e-03  3.972067e-03  2.355942e-02\n",
       "[16,] 1.846477e-03  1.847263e-03  2.004137e-02  2.004275e-02  9.031667e-02\n",
       "[17,] 1.033109e-02  1.033548e-02  8.041598e-02  8.042149e-02  2.509076e-01\n",
       "[18,] 4.718686e-02  4.720694e-02  2.381485e-01  2.381648e-01  4.212692e-01\n",
       "[19,] 1.664401e-01  1.665109e-01  4.460538e-01  4.460844e-01  1.867663e-01\n",
       "[20,] 4.098899e-01  4.100643e-01  3.018793e-01  3.019000e-01 -4.139963e-01\n",
       "[21,] 5.493073e-01  5.495410e-01 -3.824543e-01 -3.824805e-01  2.111085e-01\n",
       "               [,6]          [,7]          [,8]         [,9]         [,10]\n",
       " [1,] -2.111085e-01 -0.0821426778  8.214270e-02  0.022668112  2.266824e-02\n",
       " [2,]  4.139963e-01  0.2461033884 -2.461035e-01 -0.090667145 -9.066801e-02\n",
       " [3,] -1.867663e-01 -0.4090914468  4.090917e-01  0.249312103  2.493161e-01\n",
       " [4,] -4.212692e-01  0.1613712433 -1.613716e-01 -0.407898714 -4.079099e-01\n",
       " [5,] -2.509076e-01  0.4097292197 -4.097295e-01  0.158491150  1.585051e-01\n",
       " [6,] -9.031665e-02  0.2499773122 -2.499770e-01  0.407935806  4.079444e-01\n",
       " [7,] -2.355938e-02  0.0912133673 -9.121245e-02  0.249540126  2.495280e-01\n",
       " [8,] -4.838291e-03  0.0240232842 -2.402079e-02  0.091202846  9.116593e-02\n",
       " [9,] -8.204840e-04  0.0049747144 -4.965647e-03  0.024089756  2.398961e-02\n",
       "[10,] -1.165635e-04  0.0008699488 -8.270631e-04  0.005161817  4.797713e-03\n",
       "[11,]  9.207297e-13  0.0002484165  2.328896e-12  0.001720539 -2.943361e-13\n",
       "[12,]  1.165636e-04  0.0008699488  8.270631e-04  0.005161817 -4.797713e-03\n",
       "[13,]  8.204840e-04  0.0049747143  4.965647e-03  0.024089756 -2.398961e-02\n",
       "[14,]  4.838291e-03  0.0240232837  2.402079e-02  0.091202846 -9.116593e-02\n",
       "[15,]  2.355938e-02  0.0912133656  9.121246e-02  0.249540126 -2.495280e-01\n",
       "[16,]  9.031666e-02  0.2499773075  2.499770e-01  0.407935806 -4.079444e-01\n",
       "[17,]  2.509076e-01  0.4097292120  4.097295e-01  0.158491150 -1.585051e-01\n",
       "[18,]  4.212692e-01  0.1613712403  1.613716e-01 -0.407898714  4.079099e-01\n",
       "[19,]  1.867663e-01 -0.4090914391 -4.090918e-01  0.249312103 -2.493161e-01\n",
       "[20,] -4.139963e-01  0.2461033838  2.461035e-01 -0.090667145  9.066801e-02\n",
       "[21,]  2.111086e-01 -0.0821426763 -8.214271e-02  0.022668112 -2.266824e-02\n",
       "            [,11]         [,12]         [,13]         [,14]         [,15]\n",
       " [1,] -0.00479793  4.797713e-03  0.0008307046  8.270631e-04  0.0001269708\n",
       " [2,]  0.02398848 -2.398961e-02 -0.0049806108 -4.965647e-03 -0.0008833230\n",
       " [3,] -0.09115012  9.116593e-02  0.0240506637  2.402079e-02  0.0051348968\n",
       " [4,]  0.24943960 -2.495280e-01 -0.0911173269 -9.121246e-02 -0.0245698507\n",
       " [5,] -0.40766810  4.079444e-01  0.2489045901  2.499770e-01  0.0920855629\n",
       " [6,]  0.15812886 -1.585051e-01 -0.4056081169 -4.097295e-01 -0.2477180153\n",
       " [7,]  0.40770675 -4.079099e-01  0.1549374995  1.613716e-01  0.3926739965\n",
       " [8,]  0.24967754 -2.493161e-01  0.4062827184  4.090917e-01 -0.1280320097\n",
       " [9,]  0.09170936 -9.066801e-02  0.2531141834  2.461035e-01 -0.3981920855\n",
       "[10,]  0.02547295 -2.266824e-02  0.1010477134  8.214270e-02 -0.2873218730\n",
       "[11,]  0.01018868  7.819324e-14  0.0504689210 -4.231528e-15 -0.1888350299\n",
       "[12,]  0.02547295  2.266824e-02  0.1010477134 -8.214270e-02 -0.2873218730\n",
       "[13,]  0.09170936  9.066801e-02  0.2531141834 -2.461035e-01 -0.3981920855\n",
       "[14,]  0.24967754  2.493161e-01  0.4062827184 -4.090917e-01 -0.1280320097\n",
       "[15,]  0.40770675  4.079099e-01  0.1549374995 -1.613716e-01  0.3926739965\n",
       "[16,]  0.15812886  1.585051e-01 -0.4056081169  4.097295e-01 -0.2477180153\n",
       "[17,] -0.40766810 -4.079444e-01  0.2489045901 -2.499770e-01  0.0920855629\n",
       "[18,]  0.24943960  2.495280e-01 -0.0911173269  9.121246e-02 -0.0245698507\n",
       "[19,] -0.09115012 -9.116593e-02  0.0240506637 -2.402079e-02  0.0051348968\n",
       "[20,]  0.02398848  2.398961e-02 -0.0049806108  4.965647e-03 -0.0008833230\n",
       "[21,] -0.00479793 -4.797713e-03  0.0008307046 -8.270631e-04  0.0001269708\n",
       "              [,16]         [,17]         [,18]         [,19]         [,20]\n",
       " [1,] -1.165636e-04 -0.0000200531 -1.124304e-05 -1.871813e-06 -4.343250e-07\n",
       " [2,]  8.204840e-04  0.0001578137  9.231296e-05  1.694452e-05  4.233016e-06\n",
       " [3,] -4.838291e-03 -0.0010640938 -6.543961e-04 -1.345734e-04 -3.658846e-05\n",
       " [4,]  2.355938e-02  0.0060881945  3.971931e-03  9.321297e-04  2.791883e-04\n",
       " [5,] -9.031665e-02 -0.0285841398 -2.004206e-02 -5.507109e-03 -1.846870e-03\n",
       " [6,]  2.509076e-01  0.1045264461  8.041874e-02  2.689235e-02  1.033328e-02\n",
       " [7,] -4.212692e-01 -0.2713848915 -2.381567e-01 -1.034732e-01 -4.719690e-02\n",
       " [8,]  1.867663e-01  0.4029065220  4.460691e-01  2.889561e-01  1.664755e-01\n",
       " [9,]  4.139963e-01 -0.0790594868 -3.018897e-01 -4.895992e-01 -4.099771e-01\n",
       "[10,]  2.111086e-01 -0.4132007961 -3.824674e-01  2.263303e-01  5.494241e-01\n",
       "[11,] -6.656323e-15 -0.3879438623 -4.925640e-15  4.777247e-01  5.855840e-15\n",
       "[12,] -2.111086e-01 -0.4132007961  3.824674e-01  2.263303e-01 -5.494241e-01\n",
       "[13,] -4.139963e-01 -0.0790594868  3.018897e-01 -4.895992e-01  4.099771e-01\n",
       "[14,] -1.867663e-01  0.4029065220 -4.460691e-01  2.889561e-01 -1.664755e-01\n",
       "[15,]  4.212692e-01 -0.2713848915  2.381567e-01 -1.034732e-01  4.719690e-02\n",
       "[16,] -2.509076e-01  0.1045264461 -8.041874e-02  2.689235e-02 -1.033328e-02\n",
       "[17,]  9.031665e-02 -0.0285841398  2.004206e-02 -5.507109e-03  1.846870e-03\n",
       "[18,] -2.355938e-02  0.0060881945 -3.971931e-03  9.321297e-04 -2.791883e-04\n",
       "[19,]  4.838291e-03 -0.0010640938  6.543961e-04 -1.345734e-04  3.658846e-05\n",
       "[20,] -8.204840e-04  0.0001578137 -9.231296e-05  1.694452e-05 -4.233016e-06\n",
       "[21,]  1.165636e-04 -0.0000200531  1.124304e-05 -1.871813e-06  4.343250e-07\n",
       "              [,21]\n",
       " [1,]  2.274322e-08\n",
       " [2,] -2.530284e-07\n",
       " [3,]  2.539281e-06\n",
       " [4,] -2.291903e-05\n",
       " [5,]  1.836879e-04\n",
       " [6,] -1.285939e-03\n",
       " [7,]  7.693254e-03\n",
       " [8,] -3.814539e-02\n",
       " [9,]  1.496733e-01\n",
       "[10,] -4.296498e-01\n",
       "[11,]  7.635222e-01\n",
       "[12,] -4.296498e-01\n",
       "[13,]  1.496733e-01\n",
       "[14,] -3.814539e-02\n",
       "[15,]  7.693254e-03\n",
       "[16,] -1.285939e-03\n",
       "[17,]  1.836879e-04\n",
       "[18,] -2.291903e-05\n",
       "[19,]  2.539281e-06\n",
       "[20,] -2.530284e-07\n",
       "[21,]  2.274322e-08\n"
      ]
     },
     "metadata": {},
     "output_type": "display_data"
    }
   ],
   "source": [
    "eigen(wilkinson)"
   ]
  },
  {
   "cell_type": "markdown",
   "metadata": {},
   "source": [
    "## Chapter 5: List and DataFrame\n",
    "### List"
   ]
  },
  {
   "cell_type": "code",
   "execution_count": 5,
   "metadata": {},
   "outputs": [
    {
     "data": {
      "text/html": [
       "<ol>\n",
       "\t<li><ol class=list-inline>\n",
       "\t<li>1</li>\n",
       "\t<li>1</li>\n",
       "\t<li>2</li>\n",
       "\t<li>5</li>\n",
       "\t<li>14</li>\n",
       "\t<li>42</li>\n",
       "</ol>\n",
       "</li>\n",
       "\t<li><ol class=list-inline>\n",
       "\t<li>'Jan'</li>\n",
       "\t<li>'Feb'</li>\n",
       "\t<li>'Mar'</li>\n",
       "\t<li>'Apr'</li>\n",
       "\t<li>'May'</li>\n",
       "\t<li>'Jun'</li>\n",
       "\t<li>'Jul'</li>\n",
       "\t<li>'Aug'</li>\n",
       "\t<li>'Sep'</li>\n",
       "\t<li>'Oct'</li>\n",
       "\t<li>'Nov'</li>\n",
       "\t<li>'Dec'</li>\n",
       "</ol>\n",
       "</li>\n",
       "\t<li><table>\n",
       "<tbody>\n",
       "\t<tr><td> 8</td><td>1 </td></tr>\n",
       "\t<tr><td>-3</td><td>3 </td></tr>\n",
       "</tbody>\n",
       "</table>\n",
       "</li>\n",
       "\t<li><pre class=language-r><code>.Primitive(\"asin\")</code></pre></li>\n",
       "</ol>\n"
      ],
      "text/latex": [
       "\\begin{enumerate}\n",
       "\\item \\begin{enumerate*}\n",
       "\\item 1\n",
       "\\item 1\n",
       "\\item 2\n",
       "\\item 5\n",
       "\\item 14\n",
       "\\item 42\n",
       "\\end{enumerate*}\n",
       "\n",
       "\\item \\begin{enumerate*}\n",
       "\\item 'Jan'\n",
       "\\item 'Feb'\n",
       "\\item 'Mar'\n",
       "\\item 'Apr'\n",
       "\\item 'May'\n",
       "\\item 'Jun'\n",
       "\\item 'Jul'\n",
       "\\item 'Aug'\n",
       "\\item 'Sep'\n",
       "\\item 'Oct'\n",
       "\\item 'Nov'\n",
       "\\item 'Dec'\n",
       "\\end{enumerate*}\n",
       "\n",
       "\\item \\begin{tabular}{ll}\n",
       "\t  8 & 1 \\\\\n",
       "\t -3 & 3 \\\\\n",
       "\\end{tabular}\n",
       "\n",
       "\\item \\begin{minted}{r}\n",
       ".Primitive(\"asin\")\n",
       "\\end{minted}\n",
       "\\end{enumerate}\n"
      ],
      "text/markdown": [
       "1. 1. 1\n",
       "2. 1\n",
       "3. 2\n",
       "4. 5\n",
       "5. 14\n",
       "6. 42\n",
       "\n",
       "\n",
       "\n",
       "2. 1. 'Jan'\n",
       "2. 'Feb'\n",
       "3. 'Mar'\n",
       "4. 'Apr'\n",
       "5. 'May'\n",
       "6. 'Jun'\n",
       "7. 'Jul'\n",
       "8. 'Aug'\n",
       "9. 'Sep'\n",
       "10. 'Oct'\n",
       "11. 'Nov'\n",
       "12. 'Dec'\n",
       "\n",
       "\n",
       "\n",
       "3. \n",
       "|  8 | 1  |\n",
       "| -3 | 3  |\n",
       "\n",
       "\n",
       "4. ```r\n",
       ".Primitive(\"asin\")\n",
       "```\n",
       "\n",
       "\n"
      ],
      "text/plain": [
       "[[1]]\n",
       "[1]  1  1  2  5 14 42\n",
       "\n",
       "[[2]]\n",
       " [1] \"Jan\" \"Feb\" \"Mar\" \"Apr\" \"May\" \"Jun\" \"Jul\" \"Aug\" \"Sep\" \"Oct\" \"Nov\" \"Dec\"\n",
       "\n",
       "[[3]]\n",
       "     [,1] [,2]\n",
       "[1,]    8    1\n",
       "[2,]   -3    3\n",
       "\n",
       "[[4]]\n",
       "function (x)  .Primitive(\"asin\")\n"
      ]
     },
     "metadata": {},
     "output_type": "display_data"
    }
   ],
   "source": [
    "a_list = list(\n",
    "    c(1,1,2,5,14,42),\n",
    "    month.abb,\n",
    "    matrix(c(8, -3, 1, 3), nrow = 2),\n",
    "    asin\n",
    ")\n",
    "a_list"
   ]
  },
  {
   "cell_type": "code",
   "execution_count": 6,
   "metadata": {},
   "outputs": [
    {
     "data": {
      "text/html": [
       "<dl>\n",
       "\t<dt>$catalan</dt>\n",
       "\t\t<dd><ol class=list-inline>\n",
       "\t<li>1</li>\n",
       "\t<li>1</li>\n",
       "\t<li>2</li>\n",
       "\t<li>5</li>\n",
       "\t<li>14</li>\n",
       "\t<li>42</li>\n",
       "</ol>\n",
       "</dd>\n",
       "\t<dt>$months</dt>\n",
       "\t\t<dd><ol class=list-inline>\n",
       "\t<li>'Jan'</li>\n",
       "\t<li>'Feb'</li>\n",
       "\t<li>'Mar'</li>\n",
       "\t<li>'Apr'</li>\n",
       "\t<li>'May'</li>\n",
       "\t<li>'Jun'</li>\n",
       "\t<li>'Jul'</li>\n",
       "\t<li>'Aug'</li>\n",
       "\t<li>'Sep'</li>\n",
       "\t<li>'Oct'</li>\n",
       "\t<li>'Nov'</li>\n",
       "\t<li>'Dec'</li>\n",
       "</ol>\n",
       "</dd>\n",
       "\t<dt>$involutary</dt>\n",
       "\t\t<dd><table>\n",
       "<tbody>\n",
       "\t<tr><td> 8</td><td>1 </td></tr>\n",
       "\t<tr><td>-3</td><td>3 </td></tr>\n",
       "</tbody>\n",
       "</table>\n",
       "</dd>\n",
       "\t<dt>$arcsin</dt>\n",
       "\t\t<dd><pre class=language-r><code>.Primitive(\"asin\")</code></pre></dd>\n",
       "</dl>\n"
      ],
      "text/latex": [
       "\\begin{description}\n",
       "\\item[\\$catalan] \\begin{enumerate*}\n",
       "\\item 1\n",
       "\\item 1\n",
       "\\item 2\n",
       "\\item 5\n",
       "\\item 14\n",
       "\\item 42\n",
       "\\end{enumerate*}\n",
       "\n",
       "\\item[\\$months] \\begin{enumerate*}\n",
       "\\item 'Jan'\n",
       "\\item 'Feb'\n",
       "\\item 'Mar'\n",
       "\\item 'Apr'\n",
       "\\item 'May'\n",
       "\\item 'Jun'\n",
       "\\item 'Jul'\n",
       "\\item 'Aug'\n",
       "\\item 'Sep'\n",
       "\\item 'Oct'\n",
       "\\item 'Nov'\n",
       "\\item 'Dec'\n",
       "\\end{enumerate*}\n",
       "\n",
       "\\item[\\$involutary] \\begin{tabular}{ll}\n",
       "\t  8 & 1 \\\\\n",
       "\t -3 & 3 \\\\\n",
       "\\end{tabular}\n",
       "\n",
       "\\item[\\$arcsin] \\begin{minted}{r}\n",
       ".Primitive(\"asin\")\n",
       "\\end{minted}\n",
       "\\end{description}\n"
      ],
      "text/markdown": [
       "$catalan\n",
       ":   1. 1\n",
       "2. 1\n",
       "3. 2\n",
       "4. 5\n",
       "5. 14\n",
       "6. 42\n",
       "\n",
       "\n",
       "\n",
       "$months\n",
       ":   1. 'Jan'\n",
       "2. 'Feb'\n",
       "3. 'Mar'\n",
       "4. 'Apr'\n",
       "5. 'May'\n",
       "6. 'Jun'\n",
       "7. 'Jul'\n",
       "8. 'Aug'\n",
       "9. 'Sep'\n",
       "10. 'Oct'\n",
       "11. 'Nov'\n",
       "12. 'Dec'\n",
       "\n",
       "\n",
       "\n",
       "$involutary\n",
       ":   \n",
       "|  8 | 1  |\n",
       "| -3 | 3  |\n",
       "\n",
       "\n",
       "$arcsin\n",
       ":   ```r\n",
       ".Primitive(\"asin\")\n",
       "```\n",
       "\n",
       "\n"
      ],
      "text/plain": [
       "$catalan\n",
       "[1]  1  1  2  5 14 42\n",
       "\n",
       "$months\n",
       " [1] \"Jan\" \"Feb\" \"Mar\" \"Apr\" \"May\" \"Jun\" \"Jul\" \"Aug\" \"Sep\" \"Oct\" \"Nov\" \"Dec\"\n",
       "\n",
       "$involutary\n",
       "     [,1] [,2]\n",
       "[1,]    8    1\n",
       "[2,]   -3    3\n",
       "\n",
       "$arcsin\n",
       "function (x)  .Primitive(\"asin\")\n"
      ]
     },
     "metadata": {},
     "output_type": "display_data"
    }
   ],
   "source": [
    "names(a_list) = c(\"catalan\", \"months\", \"involutary\", \"arcsin\")\n",
    "a_list"
   ]
  },
  {
   "cell_type": "markdown",
   "metadata": {},
   "source": [
    "####  Atomic and Recursive\n",
    " Atomic variable is a variable that can't include itself;  \n",
    " On the contrast, recursive variable is a variable that can include itself."
   ]
  },
  {
   "cell_type": "code",
   "execution_count": 7,
   "metadata": {},
   "outputs": [
    {
     "data": {
      "text/html": [
       "FALSE"
      ],
      "text/latex": [
       "FALSE"
      ],
      "text/markdown": [
       "FALSE"
      ],
      "text/plain": [
       "[1] FALSE"
      ]
     },
     "metadata": {},
     "output_type": "display_data"
    }
   ],
   "source": [
    "is.atomic(list())"
   ]
  },
  {
   "cell_type": "code",
   "execution_count": 8,
   "metadata": {},
   "outputs": [
    {
     "data": {
      "text/html": [
       "TRUE"
      ],
      "text/latex": [
       "TRUE"
      ],
      "text/markdown": [
       "TRUE"
      ],
      "text/plain": [
       "[1] TRUE"
      ]
     },
     "metadata": {},
     "output_type": "display_data"
    }
   ],
   "source": [
    "is.recursive(list())"
   ]
  },
  {
   "cell_type": "code",
   "execution_count": 9,
   "metadata": {},
   "outputs": [
    {
     "data": {
      "text/html": [
       "TRUE"
      ],
      "text/latex": [
       "TRUE"
      ],
      "text/markdown": [
       "TRUE"
      ],
      "text/plain": [
       "[1] TRUE"
      ]
     },
     "metadata": {},
     "output_type": "display_data"
    }
   ],
   "source": [
    "is.atomic(numeric())"
   ]
  },
  {
   "cell_type": "code",
   "execution_count": 10,
   "metadata": {},
   "outputs": [
    {
     "data": {
      "text/html": [
       "FALSE"
      ],
      "text/latex": [
       "FALSE"
      ],
      "text/markdown": [
       "FALSE"
      ],
      "text/plain": [
       "[1] FALSE"
      ]
     },
     "metadata": {},
     "output_type": "display_data"
    }
   ],
   "source": [
    "is.recursive(numeric())"
   ]
  },
  {
   "cell_type": "markdown",
   "metadata": {},
   "source": [
    "#### Dimension and calculate"
   ]
  },
  {
   "cell_type": "code",
   "execution_count": 11,
   "metadata": {},
   "outputs": [
    {
     "data": {
      "text/html": [
       "4"
      ],
      "text/latex": [
       "4"
      ],
      "text/markdown": [
       "4"
      ],
      "text/plain": [
       "[1] 4"
      ]
     },
     "metadata": {},
     "output_type": "display_data"
    }
   ],
   "source": [
    "length(a_list)"
   ]
  },
  {
   "cell_type": "code",
   "execution_count": 14,
   "metadata": {},
   "outputs": [
    {
     "data": {
      "text/html": [
       "<ol class=list-inline>\n",
       "\t<li>7</li>\n",
       "\t<li>9</li>\n",
       "\t<li>11</li>\n",
       "\t<li>13</li>\n",
       "\t<li>15</li>\n",
       "</ol>\n"
      ],
      "text/latex": [
       "\\begin{enumerate*}\n",
       "\\item 7\n",
       "\\item 9\n",
       "\\item 11\n",
       "\\item 13\n",
       "\\item 15\n",
       "\\end{enumerate*}\n"
      ],
      "text/markdown": [
       "1. 7\n",
       "2. 9\n",
       "3. 11\n",
       "4. 13\n",
       "5. 15\n",
       "\n",
       "\n"
      ],
      "text/plain": [
       "[1]  7  9 11 13 15"
      ]
     },
     "metadata": {},
     "output_type": "display_data"
    }
   ],
   "source": [
    "l1 = list(1:5)\n",
    "l2 = list(6:10)\n",
    "l1[[1]] + l2[[1]]  ## equal to 1:5 + 6:10"
   ]
  },
  {
   "cell_type": "code",
   "execution_count": 17,
   "metadata": {},
   "outputs": [
    {
     "data": {
      "text/html": [
       "<dl>\n",
       "\t<dt>$first</dt>\n",
       "\t\t<dd>1</dd>\n",
       "\t<dt>$second</dt>\n",
       "\t\t<dd>2</dd>\n",
       "\t<dt>$third</dt>\n",
       "\t\t<dd><dl>\n",
       "\t<dt>$alpha</dt>\n",
       "\t\t<dd>3.1</dd>\n",
       "\t<dt>$beta</dt>\n",
       "\t\t<dd>3</dd>\n",
       "\t<dt>[[3]]</dt>\n",
       "\t\t<dd>2</dd>\n",
       "</dl>\n",
       "</dd>\n",
       "</dl>\n"
      ],
      "text/latex": [
       "\\begin{description}\n",
       "\\item[\\$first] 1\n",
       "\\item[\\$second] 2\n",
       "\\item[\\$third] \\begin{description}\n",
       "\\item[\\$alpha] 3.1\n",
       "\\item[\\$beta] 3\n",
       "\\item[{[[3]]}] 2\n",
       "\\end{description}\n",
       "\n",
       "\\end{description}\n"
      ],
      "text/markdown": [
       "$first\n",
       ":   1\n",
       "$second\n",
       ":   2\n",
       "$third\n",
       ":   $alpha\n",
       ":   3.1\n",
       "$beta\n",
       ":   3\n",
       "[[3]]\n",
       ":   2\n",
       "\n",
       "\n",
       "\n",
       "\n",
       "\n"
      ],
      "text/plain": [
       "$first\n",
       "[1] 1\n",
       "\n",
       "$second\n",
       "[1] 2\n",
       "\n",
       "$third\n",
       "$third$alpha\n",
       "[1] 3.1\n",
       "\n",
       "$third$beta\n",
       "[1] 3\n",
       "\n",
       "$third[[3]]\n",
       "[1] 2\n",
       "\n"
      ]
     },
     "metadata": {},
     "output_type": "display_data"
    }
   ],
   "source": [
    "l = list(\n",
    "    first = 1,\n",
    "    second = 2,\n",
    "    third = list(\n",
    "        alpha = 3.1,\n",
    "        beta = 3,2\n",
    "    )\n",
    ")\n",
    "l"
   ]
  },
  {
   "cell_type": "code",
   "execution_count": 20,
   "metadata": {},
   "outputs": [
    {
     "name": "stdout",
     "output_type": "stream",
     "text": [
      "$first\n",
      "[1] 1\n",
      "\n",
      "$second\n",
      "[1] 2\n",
      "\n",
      "[1] \"----------------------------------------\"\n",
      "$first\n",
      "[1] 1\n",
      "\n",
      "$second\n",
      "[1] 2\n",
      "\n",
      "[1] \"----------------------------------------\"\n",
      "$first\n",
      "[1] 1\n",
      "\n",
      "$second\n",
      "[1] 2\n",
      "\n",
      "[1] \"----------------------------------------\"\n",
      "$first\n",
      "[1] 1\n",
      "\n",
      "$second\n",
      "[1] 2\n",
      "\n"
     ]
    }
   ],
   "source": [
    "print(l[1:2])\n",
    "print('----------------------------------------')\n",
    "print(l[-3])\n",
    "print('----------------------------------------')\n",
    "print(l[c('first', 'second')])\n",
    "print('----------------------------------------')\n",
    "print(l[c(TRUE, TRUE, FALSE)])"
   ]
  },
  {
   "cell_type": "markdown",
   "metadata": {},
   "source": [
    "#### Convert of vector and list"
   ]
  },
  {
   "cell_type": "code",
   "execution_count": 21,
   "metadata": {},
   "outputs": [
    {
     "data": {
      "text/html": [
       "<ol>\n",
       "\t<li>1</li>\n",
       "\t<li>6</li>\n",
       "\t<li>21</li>\n",
       "\t<li>107</li>\n",
       "</ol>\n"
      ],
      "text/latex": [
       "\\begin{enumerate}\n",
       "\\item 1\n",
       "\\item 6\n",
       "\\item 21\n",
       "\\item 107\n",
       "\\end{enumerate}\n"
      ],
      "text/markdown": [
       "1. 1\n",
       "2. 6\n",
       "3. 21\n",
       "4. 107\n",
       "\n",
       "\n"
      ],
      "text/plain": [
       "[[1]]\n",
       "[1] 1\n",
       "\n",
       "[[2]]\n",
       "[1] 6\n",
       "\n",
       "[[3]]\n",
       "[1] 21\n",
       "\n",
       "[[4]]\n",
       "[1] 107\n"
      ]
     },
     "metadata": {},
     "output_type": "display_data"
    }
   ],
   "source": [
    "busy_behaver = c(1, 6, 21, 107)\n",
    "as.list(busy_behaver)"
   ]
  },
  {
   "cell_type": "code",
   "execution_count": 22,
   "metadata": {},
   "outputs": [
    {
     "data": {
      "text/html": [
       "<ol class=list-inline>\n",
       "\t<li>1</li>\n",
       "\t<li>6</li>\n",
       "\t<li>21</li>\n",
       "\t<li>107</li>\n",
       "</ol>\n"
      ],
      "text/latex": [
       "\\begin{enumerate*}\n",
       "\\item 1\n",
       "\\item 6\n",
       "\\item 21\n",
       "\\item 107\n",
       "\\end{enumerate*}\n"
      ],
      "text/markdown": [
       "1. 1\n",
       "2. 6\n",
       "3. 21\n",
       "4. 107\n",
       "\n",
       "\n"
      ],
      "text/plain": [
       "[1]   1   6  21 107"
      ]
     },
     "metadata": {},
     "output_type": "display_data"
    }
   ],
   "source": [
    "as.numeric(list(1, 6, 21, 107))"
   ]
  },
  {
   "cell_type": "markdown",
   "metadata": {},
   "source": [
    "#### Combine list"
   ]
  },
  {
   "cell_type": "code",
   "execution_count": 23,
   "metadata": {},
   "outputs": [
    {
     "data": {
      "text/html": [
       "<dl>\n",
       "\t<dt>$a</dt>\n",
       "\t\t<dd>1</dd>\n",
       "\t<dt>$b</dt>\n",
       "\t\t<dd>2</dd>\n",
       "\t<dt>[[3]]</dt>\n",
       "\t\t<dd>3</dd>\n",
       "</dl>\n"
      ],
      "text/latex": [
       "\\begin{description}\n",
       "\\item[\\$a] 1\n",
       "\\item[\\$b] 2\n",
       "\\item[{[[3]]}] 3\n",
       "\\end{description}\n"
      ],
      "text/markdown": [
       "$a\n",
       ":   1\n",
       "$b\n",
       ":   2\n",
       "[[3]]\n",
       ":   3\n",
       "\n",
       "\n"
      ],
      "text/plain": [
       "$a\n",
       "[1] 1\n",
       "\n",
       "$b\n",
       "[1] 2\n",
       "\n",
       "[[3]]\n",
       "[1] 3\n"
      ]
     },
     "metadata": {},
     "output_type": "display_data"
    }
   ],
   "source": [
    "c(list(a = 1, b = 2), list(3))"
   ]
  },
  {
   "cell_type": "markdown",
   "metadata": {},
   "source": [
    "#### NULL and NA"
   ]
  },
  {
   "cell_type": "code",
   "execution_count": 25,
   "metadata": {},
   "outputs": [
    {
     "name": "stdout",
     "output_type": "stream",
     "text": [
      "[1] 0\n",
      "[1] 1\n"
     ]
    }
   ],
   "source": [
    "print(length(NULL))\n",
    "print(length(NA))"
   ]
  },
  {
   "cell_type": "markdown",
   "metadata": {},
   "source": [
    "#### Pairlists"
   ]
  },
  {
   "cell_type": "code",
   "execution_count": 27,
   "metadata": {},
   "outputs": [
    {
     "data": {
      "text/plain": [
       "$x\n",
       "\n",
       "\n",
       "$na.rm\n",
       "[1] FALSE\n"
      ]
     },
     "metadata": {},
     "output_type": "display_data"
    }
   ],
   "source": [
    "arguments_of_sd = formals(sd)\n",
    "arguments_of_sd"
   ]
  },
  {
   "cell_type": "code",
   "execution_count": 28,
   "metadata": {},
   "outputs": [
    {
     "data": {
      "text/html": [
       "'pairlist'"
      ],
      "text/latex": [
       "'pairlist'"
      ],
      "text/markdown": [
       "'pairlist'"
      ],
      "text/plain": [
       "[1] \"pairlist\""
      ]
     },
     "metadata": {},
     "output_type": "display_data"
    }
   ],
   "source": [
    "class(arguments_of_sd)"
   ]
  },
  {
   "cell_type": "markdown",
   "metadata": {},
   "source": [
    "### DataFrame"
   ]
  },
  {
   "cell_type": "code",
   "execution_count": 29,
   "metadata": {},
   "outputs": [
    {
     "data": {
      "text/html": [
       "<table>\n",
       "<thead><tr><th scope=col>x</th><th scope=col>y</th><th scope=col>z</th></tr></thead>\n",
       "<tbody>\n",
       "\t<tr><td>a         </td><td> 0.3150092</td><td>FALSE     </td></tr>\n",
       "\t<tr><td>b         </td><td>-0.1904853</td><td>FALSE     </td></tr>\n",
       "\t<tr><td>c         </td><td> 1.3861771</td><td> TRUE     </td></tr>\n",
       "\t<tr><td>d         </td><td> 0.9775685</td><td> TRUE     </td></tr>\n",
       "\t<tr><td>e         </td><td> 0.1780399</td><td>FALSE     </td></tr>\n",
       "</tbody>\n",
       "</table>\n"
      ],
      "text/latex": [
       "\\begin{tabular}{r|lll}\n",
       " x & y & z\\\\\n",
       "\\hline\n",
       "\t a          &  0.3150092 & FALSE     \\\\\n",
       "\t b          & -0.1904853 & FALSE     \\\\\n",
       "\t c          &  1.3861771 &  TRUE     \\\\\n",
       "\t d          &  0.9775685 &  TRUE     \\\\\n",
       "\t e          &  0.1780399 & FALSE     \\\\\n",
       "\\end{tabular}\n"
      ],
      "text/markdown": [
       "\n",
       "| x | y | z |\n",
       "|---|---|---|\n",
       "| a          |  0.3150092 | FALSE      |\n",
       "| b          | -0.1904853 | FALSE      |\n",
       "| c          |  1.3861771 |  TRUE      |\n",
       "| d          |  0.9775685 |  TRUE      |\n",
       "| e          |  0.1780399 | FALSE      |\n",
       "\n"
      ],
      "text/plain": [
       "  x y          z    \n",
       "1 a  0.3150092 FALSE\n",
       "2 b -0.1904853 FALSE\n",
       "3 c  1.3861771  TRUE\n",
       "4 d  0.9775685  TRUE\n",
       "5 e  0.1780399 FALSE"
      ]
     },
     "metadata": {},
     "output_type": "display_data"
    }
   ],
   "source": [
    "a_df = data.frame(\n",
    "    x = letters[1:5],\n",
    "    y = rnorm(5),\n",
    "    z = runif(5) > 0.5\n",
    ")\n",
    "a_df"
   ]
  },
  {
   "cell_type": "code",
   "execution_count": 34,
   "metadata": {},
   "outputs": [
    {
     "data": {
      "text/html": [
       "<table>\n",
       "<thead><tr><th></th><th scope=col>x</th><th scope=col>y</th><th scope=col>z</th></tr></thead>\n",
       "<tbody>\n",
       "\t<tr><th scope=row>January</th><td>a         </td><td> 0.3150092</td><td>FALSE     </td></tr>\n",
       "\t<tr><th scope=row>February</th><td>b         </td><td>-0.1904853</td><td>FALSE     </td></tr>\n",
       "\t<tr><th scope=row>March</th><td>c         </td><td> 1.3861771</td><td> TRUE     </td></tr>\n",
       "\t<tr><th scope=row>April</th><td>d         </td><td> 0.9775685</td><td> TRUE     </td></tr>\n",
       "\t<tr><th scope=row>May</th><td>e         </td><td> 0.1780399</td><td>FALSE     </td></tr>\n",
       "</tbody>\n",
       "</table>\n"
      ],
      "text/latex": [
       "\\begin{tabular}{r|lll}\n",
       "  & x & y & z\\\\\n",
       "\\hline\n",
       "\tJanuary & a          &  0.3150092 & FALSE     \\\\\n",
       "\tFebruary & b          & -0.1904853 & FALSE     \\\\\n",
       "\tMarch & c          &  1.3861771 &  TRUE     \\\\\n",
       "\tApril & d          &  0.9775685 &  TRUE     \\\\\n",
       "\tMay & e          &  0.1780399 & FALSE     \\\\\n",
       "\\end{tabular}\n"
      ],
      "text/markdown": [
       "\n",
       "| <!--/--> | x | y | z |\n",
       "|---|---|---|---|\n",
       "| January | a          |  0.3150092 | FALSE      |\n",
       "| February | b          | -0.1904853 | FALSE      |\n",
       "| March | c          |  1.3861771 |  TRUE      |\n",
       "| April | d          |  0.9775685 |  TRUE      |\n",
       "| May | e          |  0.1780399 | FALSE      |\n",
       "\n"
      ],
      "text/plain": [
       "         x y          z    \n",
       "January  a  0.3150092 FALSE\n",
       "February b -0.1904853 FALSE\n",
       "March    c  1.3861771  TRUE\n",
       "April    d  0.9775685  TRUE\n",
       "May      e  0.1780399 FALSE"
      ]
     },
     "metadata": {},
     "output_type": "display_data"
    }
   ],
   "source": [
    "rownames(a_df) = month.name[1:5]\n",
    "a_df"
   ]
  },
  {
   "cell_type": "code",
   "execution_count": 35,
   "metadata": {},
   "outputs": [
    {
     "data": {
      "text/html": [
       "<ol class=list-inline>\n",
       "\t<li>'January'</li>\n",
       "\t<li>'February'</li>\n",
       "\t<li>'March'</li>\n",
       "\t<li>'April'</li>\n",
       "\t<li>'May'</li>\n",
       "</ol>\n"
      ],
      "text/latex": [
       "\\begin{enumerate*}\n",
       "\\item 'January'\n",
       "\\item 'February'\n",
       "\\item 'March'\n",
       "\\item 'April'\n",
       "\\item 'May'\n",
       "\\end{enumerate*}\n"
      ],
      "text/markdown": [
       "1. 'January'\n",
       "2. 'February'\n",
       "3. 'March'\n",
       "4. 'April'\n",
       "5. 'May'\n",
       "\n",
       "\n"
      ],
      "text/plain": [
       "[1] \"January\"  \"February\" \"March\"    \"April\"    \"May\"     "
      ]
     },
     "metadata": {},
     "output_type": "display_data"
    }
   ],
   "source": [
    "row.names(a_df)"
   ]
  },
  {
   "cell_type": "code",
   "execution_count": 36,
   "metadata": {},
   "outputs": [
    {
     "data": {
      "text/html": [
       "<ol class=list-inline>\n",
       "\t<li>'January'</li>\n",
       "\t<li>'February'</li>\n",
       "\t<li>'March'</li>\n",
       "\t<li>'April'</li>\n",
       "\t<li>'May'</li>\n",
       "</ol>\n"
      ],
      "text/latex": [
       "\\begin{enumerate*}\n",
       "\\item 'January'\n",
       "\\item 'February'\n",
       "\\item 'March'\n",
       "\\item 'April'\n",
       "\\item 'May'\n",
       "\\end{enumerate*}\n"
      ],
      "text/markdown": [
       "1. 'January'\n",
       "2. 'February'\n",
       "3. 'March'\n",
       "4. 'April'\n",
       "5. 'May'\n",
       "\n",
       "\n"
      ],
      "text/plain": [
       "[1] \"January\"  \"February\" \"March\"    \"April\"    \"May\"     "
      ]
     },
     "metadata": {},
     "output_type": "display_data"
    }
   ],
   "source": [
    "rownames(a_df)"
   ]
  },
  {
   "cell_type": "code",
   "execution_count": 37,
   "metadata": {},
   "outputs": [
    {
     "data": {
      "text/html": [
       "<ol class=list-inline>\n",
       "\t<li>TRUE</li>\n",
       "\t<li>TRUE</li>\n",
       "\t<li>TRUE</li>\n",
       "\t<li>TRUE</li>\n",
       "\t<li>TRUE</li>\n",
       "</ol>\n"
      ],
      "text/latex": [
       "\\begin{enumerate*}\n",
       "\\item TRUE\n",
       "\\item TRUE\n",
       "\\item TRUE\n",
       "\\item TRUE\n",
       "\\item TRUE\n",
       "\\end{enumerate*}\n"
      ],
      "text/markdown": [
       "1. TRUE\n",
       "2. TRUE\n",
       "3. TRUE\n",
       "4. TRUE\n",
       "5. TRUE\n",
       "\n",
       "\n"
      ],
      "text/plain": [
       "[1] TRUE TRUE TRUE TRUE TRUE"
      ]
     },
     "metadata": {},
     "output_type": "display_data"
    }
   ],
   "source": [
    "row.names(a_df) == rownames(a_df)"
   ]
  },
  {
   "cell_type": "markdown",
   "metadata": {},
   "source": [
    "#### index data.frame"
   ]
  },
  {
   "cell_type": "code",
   "execution_count": 38,
   "metadata": {},
   "outputs": [
    {
     "data": {
      "text/html": [
       "<table>\n",
       "<thead><tr><th></th><th scope=col>x</th><th scope=col>y</th></tr></thead>\n",
       "<tbody>\n",
       "\t<tr><th scope=row>February</th><td>b         </td><td>-0.1904853</td></tr>\n",
       "\t<tr><th scope=row>March</th><td>c         </td><td> 1.3861771</td></tr>\n",
       "</tbody>\n",
       "</table>\n"
      ],
      "text/latex": [
       "\\begin{tabular}{r|ll}\n",
       "  & x & y\\\\\n",
       "\\hline\n",
       "\tFebruary & b          & -0.1904853\\\\\n",
       "\tMarch & c          &  1.3861771\\\\\n",
       "\\end{tabular}\n"
      ],
      "text/markdown": [
       "\n",
       "| <!--/--> | x | y |\n",
       "|---|---|---|\n",
       "| February | b          | -0.1904853 |\n",
       "| March | c          |  1.3861771 |\n",
       "\n"
      ],
      "text/plain": [
       "         x y         \n",
       "February b -0.1904853\n",
       "March    c  1.3861771"
      ]
     },
     "metadata": {},
     "output_type": "display_data"
    }
   ],
   "source": [
    "a_df[2:3, -3]"
   ]
  },
  {
   "cell_type": "code",
   "execution_count": 39,
   "metadata": {},
   "outputs": [
    {
     "data": {
      "text/html": [
       "<table>\n",
       "<thead><tr><th></th><th scope=col>x</th><th scope=col>y</th></tr></thead>\n",
       "<tbody>\n",
       "\t<tr><th scope=row>February</th><td>b         </td><td>-0.1904853</td></tr>\n",
       "\t<tr><th scope=row>March</th><td>c         </td><td> 1.3861771</td></tr>\n",
       "</tbody>\n",
       "</table>\n"
      ],
      "text/latex": [
       "\\begin{tabular}{r|ll}\n",
       "  & x & y\\\\\n",
       "\\hline\n",
       "\tFebruary & b          & -0.1904853\\\\\n",
       "\tMarch & c          &  1.3861771\\\\\n",
       "\\end{tabular}\n"
      ],
      "text/markdown": [
       "\n",
       "| <!--/--> | x | y |\n",
       "|---|---|---|\n",
       "| February | b          | -0.1904853 |\n",
       "| March | c          |  1.3861771 |\n",
       "\n"
      ],
      "text/plain": [
       "         x y         \n",
       "February b -0.1904853\n",
       "March    c  1.3861771"
      ]
     },
     "metadata": {},
     "output_type": "display_data"
    }
   ],
   "source": [
    "a_df[c(FALSE, TRUE, TRUE, FALSE, FALSE), c(\"x\", \"y\")]"
   ]
  },
  {
   "cell_type": "code",
   "execution_count": 41,
   "metadata": {},
   "outputs": [
    {
     "data": {
      "text/html": [
       "<ol class=list-inline>\n",
       "\t<li>a</li>\n",
       "\t<li>c</li>\n",
       "\t<li>d</li>\n",
       "\t<li>e</li>\n",
       "</ol>\n",
       "\n",
       "<details>\n",
       "\t<summary style=display:list-item;cursor:pointer>\n",
       "\t\t<strong>Levels</strong>:\n",
       "\t</summary>\n",
       "\t<ol class=list-inline>\n",
       "\t\t<li>'a'</li>\n",
       "\t\t<li>'b'</li>\n",
       "\t\t<li>'c'</li>\n",
       "\t\t<li>'d'</li>\n",
       "\t\t<li>'e'</li>\n",
       "\t</ol>\n",
       "</details>"
      ],
      "text/latex": [
       "\\begin{enumerate*}\n",
       "\\item a\n",
       "\\item c\n",
       "\\item d\n",
       "\\item e\n",
       "\\end{enumerate*}\n",
       "\n",
       "\\emph{Levels}: \\begin{enumerate*}\n",
       "\\item 'a'\n",
       "\\item 'b'\n",
       "\\item 'c'\n",
       "\\item 'd'\n",
       "\\item 'e'\n",
       "\\end{enumerate*}\n"
      ],
      "text/markdown": [
       "1. a\n",
       "2. c\n",
       "3. d\n",
       "4. e\n",
       "\n",
       "\n",
       "\n",
       "**Levels**: 1. 'a'\n",
       "2. 'b'\n",
       "3. 'c'\n",
       "4. 'd'\n",
       "5. 'e'\n",
       "\n",
       "\n"
      ],
      "text/plain": [
       "[1] a c d e\n",
       "Levels: a b c d e"
      ]
     },
     "metadata": {},
     "output_type": "display_data"
    }
   ],
   "source": [
    "a_df[a_df$y >0 | a_df$z, \"x\"]"
   ]
  },
  {
   "cell_type": "code",
   "execution_count": 42,
   "metadata": {},
   "outputs": [
    {
     "data": {
      "text/html": [
       "<table>\n",
       "<thead><tr><th></th><th scope=col>x</th></tr></thead>\n",
       "<tbody>\n",
       "\t<tr><th scope=row>January</th><td>a</td></tr>\n",
       "\t<tr><th scope=row>March</th><td>c</td></tr>\n",
       "\t<tr><th scope=row>April</th><td>d</td></tr>\n",
       "\t<tr><th scope=row>May</th><td>e</td></tr>\n",
       "</tbody>\n",
       "</table>\n"
      ],
      "text/latex": [
       "\\begin{tabular}{r|l}\n",
       "  & x\\\\\n",
       "\\hline\n",
       "\tJanuary & a\\\\\n",
       "\tMarch & c\\\\\n",
       "\tApril & d\\\\\n",
       "\tMay & e\\\\\n",
       "\\end{tabular}\n"
      ],
      "text/markdown": [
       "\n",
       "| <!--/--> | x |\n",
       "|---|---|\n",
       "| January | a |\n",
       "| March | c |\n",
       "| April | d |\n",
       "| May | e |\n",
       "\n"
      ],
      "text/plain": [
       "        x\n",
       "January a\n",
       "March   c\n",
       "April   d\n",
       "May     e"
      ]
     },
     "metadata": {},
     "output_type": "display_data"
    }
   ],
   "source": [
    "subset(a_df, y>0|z, x)"
   ]
  },
  {
   "cell_type": "markdown",
   "metadata": {},
   "source": [
    "#### Operation of data.frame"
   ]
  },
  {
   "cell_type": "code",
   "execution_count": 43,
   "metadata": {},
   "outputs": [
    {
     "data": {
      "text/html": [
       "<table>\n",
       "<thead><tr><th></th><th scope=col>January</th><th scope=col>February</th><th scope=col>March</th><th scope=col>April</th><th scope=col>May</th></tr></thead>\n",
       "<tbody>\n",
       "\t<tr><th scope=row>x</th><td>a         </td><td>b         </td><td>c         </td><td>d         </td><td>e         </td></tr>\n",
       "\t<tr><th scope=row>y</th><td> 0.3150092</td><td>-0.1904853</td><td> 1.3861771</td><td> 0.9775685</td><td> 0.1780399</td></tr>\n",
       "\t<tr><th scope=row>z</th><td>FALSE     </td><td>FALSE     </td><td>TRUE      </td><td>TRUE      </td><td>FALSE     </td></tr>\n",
       "</tbody>\n",
       "</table>\n"
      ],
      "text/latex": [
       "\\begin{tabular}{r|lllll}\n",
       "  & January & February & March & April & May\\\\\n",
       "\\hline\n",
       "\tx & a          & b          & c          & d          & e         \\\\\n",
       "\ty &  0.3150092 & -0.1904853 &  1.3861771 &  0.9775685 &  0.1780399\\\\\n",
       "\tz & FALSE      & FALSE      & TRUE       & TRUE       & FALSE     \\\\\n",
       "\\end{tabular}\n"
      ],
      "text/markdown": [
       "\n",
       "| <!--/--> | January | February | March | April | May |\n",
       "|---|---|---|---|---|---|\n",
       "| x | a          | b          | c          | d          | e          |\n",
       "| y |  0.3150092 | -0.1904853 |  1.3861771 |  0.9775685 |  0.1780399 |\n",
       "| z | FALSE      | FALSE      | TRUE       | TRUE       | FALSE      |\n",
       "\n"
      ],
      "text/plain": [
       "  January    February   March      April      May       \n",
       "x a          b          c          d          e         \n",
       "y  0.3150092 -0.1904853  1.3861771  0.9775685  0.1780399\n",
       "z FALSE      FALSE      TRUE       TRUE       FALSE     "
      ]
     },
     "metadata": {},
     "output_type": "display_data"
    }
   ],
   "source": [
    "t(a_df)"
   ]
  },
  {
   "cell_type": "code",
   "execution_count": 44,
   "metadata": {},
   "outputs": [
    {
     "data": {
      "text/html": [
       "<dl class=dl-horizontal>\n",
       "\t<dt>y</dt>\n",
       "\t\t<dd>2.66630945528948</dd>\n",
       "\t<dt>z</dt>\n",
       "\t\t<dd>2</dd>\n",
       "</dl>\n"
      ],
      "text/latex": [
       "\\begin{description*}\n",
       "\\item[y] 2.66630945528948\n",
       "\\item[z] 2\n",
       "\\end{description*}\n"
      ],
      "text/markdown": [
       "y\n",
       ":   2.66630945528948z\n",
       ":   2\n",
       "\n"
      ],
      "text/plain": [
       "       y        z \n",
       "2.666309 2.000000 "
      ]
     },
     "metadata": {},
     "output_type": "display_data"
    }
   ],
   "source": [
    "colSums(a_df[, 2:3])"
   ]
  },
  {
   "cell_type": "code",
   "execution_count": 45,
   "metadata": {},
   "outputs": [
    {
     "data": {
      "text/html": [
       "<dl class=dl-horizontal>\n",
       "\t<dt>y</dt>\n",
       "\t\t<dd>0.533261891057896</dd>\n",
       "\t<dt>z</dt>\n",
       "\t\t<dd>0.4</dd>\n",
       "</dl>\n"
      ],
      "text/latex": [
       "\\begin{description*}\n",
       "\\item[y] 0.533261891057896\n",
       "\\item[z] 0.4\n",
       "\\end{description*}\n"
      ],
      "text/markdown": [
       "y\n",
       ":   0.533261891057896z\n",
       ":   0.4\n",
       "\n"
      ],
      "text/plain": [
       "        y         z \n",
       "0.5332619 0.4000000 "
      ]
     },
     "metadata": {},
     "output_type": "display_data"
    }
   ],
   "source": [
    "colMeans(a_df[, 2:3])"
   ]
  },
  {
   "cell_type": "markdown",
   "metadata": {},
   "source": [
    "#### home work"
   ]
  },
  {
   "cell_type": "code",
   "execution_count": 47,
   "metadata": {},
   "outputs": [
    {
     "name": "stdout",
     "output_type": "stream",
     "text": [
      "  Sepal.Length Sepal.Width Petal.Length Petal.Width\n",
      "1          5.1         3.5          1.4         0.2\n",
      "2          4.9         3.0          1.4         0.2\n",
      "3          4.7         3.2          1.3         0.2\n",
      "4          4.6         3.1          1.5         0.2\n",
      "5          5.0         3.6          1.4         0.2\n",
      "6          5.4         3.9          1.7         0.4\n"
     ]
    },
    {
     "data": {
      "text/html": [
       "<dl class=dl-horizontal>\n",
       "\t<dt>Sepal.Length</dt>\n",
       "\t\t<dd>5.84333333333333</dd>\n",
       "\t<dt>Sepal.Width</dt>\n",
       "\t\t<dd>3.05733333333333</dd>\n",
       "\t<dt>Petal.Length</dt>\n",
       "\t\t<dd>3.758</dd>\n",
       "\t<dt>Petal.Width</dt>\n",
       "\t\t<dd>1.19933333333333</dd>\n",
       "</dl>\n"
      ],
      "text/latex": [
       "\\begin{description*}\n",
       "\\item[Sepal.Length] 5.84333333333333\n",
       "\\item[Sepal.Width] 3.05733333333333\n",
       "\\item[Petal.Length] 3.758\n",
       "\\item[Petal.Width] 1.19933333333333\n",
       "\\end{description*}\n"
      ],
      "text/markdown": [
       "Sepal.Length\n",
       ":   5.84333333333333Sepal.Width\n",
       ":   3.05733333333333Petal.Length\n",
       ":   3.758Petal.Width\n",
       ":   1.19933333333333\n",
       "\n"
      ],
      "text/plain": [
       "Sepal.Length  Sepal.Width Petal.Length  Petal.Width \n",
       "    5.843333     3.057333     3.758000     1.199333 "
      ]
     },
     "metadata": {},
     "output_type": "display_data"
    }
   ],
   "source": [
    "iris_numeric = iris[-5]\n",
    "print(head(iris_numeric))\n",
    "colMeans(iris_numeric)"
   ]
  },
  {
   "cell_type": "code",
   "execution_count": 59,
   "metadata": {},
   "outputs": [
    {
     "name": "stdout",
     "output_type": "stream",
     "text": [
      "  day time  temp activ ID\n",
      "1 346  840 36.33     0  1\n",
      "2 346  850 36.34     0  1\n",
      "3 346  900 36.35     0  1\n",
      "4 346  910 36.42     0  1\n",
      "5 346  920 36.55     0  1\n",
      "6 346  930 36.69     0  1\n",
      "    day time  temp activ ID\n",
      "54  346 1730 37.07     1  1\n",
      "68  346 1950 37.10     1  1\n",
      "80  346 2150 37.53     1  1\n",
      "83  346 2230 37.25     1  1\n",
      "86  346 2300 37.24     1  1\n",
      "114 347  340 37.15     1  1\n",
      "153 307 1550 37.98     1  2\n",
      "154 307 1600 38.02     1  2\n",
      "155 307 1610 38.00     1  2\n",
      "156 307 1620 38.24     1  2\n",
      "157 307 1630 38.10     1  2\n",
      "158 307 1640 38.24     1  2\n",
      "159 307 1650 38.11     1  2\n",
      "160 307 1700 38.02     1  2\n",
      "161 307 1710 38.11     1  2\n",
      "162 307 1720 38.01     1  2\n",
      "163 307 1730 37.91     1  2\n",
      "164 307 1740 37.96     1  2\n",
      "165 307 1750 38.03     1  2\n",
      "166 307 1800 38.17     1  2\n",
      "167 307 1810 38.19     1  2\n",
      "168 307 1820 38.18     1  2\n",
      "169 307 1830 38.15     1  2\n",
      "170 307 1840 38.04     1  2\n",
      "171 307 1850 37.96     1  2\n",
      "172 307 1900 37.84     1  2\n",
      "173 307 1910 37.83     1  2\n",
      "174 307 1920 37.84     1  2\n",
      "175 307 1930 37.74     1  2\n",
      "176 307 1940 37.76     1  2\n",
      "177 307 1950 37.76     1  2\n",
      "178 307 2000 37.64     1  2\n",
      "179 307 2010 37.63     1  2\n",
      "180 307 2020 38.06     1  2\n",
      "181 307 2030 38.19     1  2\n",
      "182 307 2040 38.35     1  2\n",
      "183 307 2050 38.25     1  2\n",
      "184 307 2100 37.86     1  2\n",
      "185 307 2110 37.95     1  2\n",
      "186 307 2120 37.95     1  2\n",
      "187 307 2130 37.76     1  2\n",
      "188 307 2140 37.60     1  2\n",
      "189 307 2150 37.89     1  2\n",
      "190 307 2200 37.86     1  2\n",
      "191 307 2210 37.71     1  2\n",
      "192 307 2220 37.78     1  2\n",
      "193 307 2230 37.82     1  2\n",
      "194 307 2240 37.76     1  2\n",
      "195 307 2250 37.81     1  2\n",
      "196 307 2300 37.84     1  2\n",
      "197 307 2310 38.01     1  2\n",
      "198 307 2320 38.10     1  2\n",
      "199 307 2330 38.15     1  2\n",
      "200 307 2340 37.92     1  2\n",
      "201 307 2350 37.64     1  2\n",
      "202 308    0 37.70     1  2\n",
      "203 308   10 37.46     1  2\n",
      "204 308   20 37.41     1  2\n",
      "205 308   30 37.46     1  2\n",
      "206 308   40 37.56     1  2\n",
      "207 308   50 37.55     1  2\n",
      "208 308  100 37.75     1  2\n",
      "209 308  110 37.76     1  2\n",
      "210 308  120 37.73     1  2\n",
      "211 308  130 37.77     1  2\n",
      "212 308  140 38.01     1  2\n",
      "213 308  150 38.04     1  2\n",
      "214 308  200 38.07     1  2\n"
     ]
    }
   ],
   "source": [
    "beaver_1 = cbind(beaver1, rep(1, dim(beaver1)[1]))\n",
    "names(beaver_1) = c(names(beaver1), 'ID')\n",
    "beaver_2 = cbind(beaver2, rep(2, dim(beaver2)[1]))\n",
    "names(beaver_2) = c(names(beaver2), 'ID')\n",
    "beaver = rbind(beaver_1, beaver_2)\n",
    "print(head(beaver))\n",
    "beaver_active = subset(beaver, activ == 1)\n",
    "print(beaver_active)"
   ]
  },
  {
   "cell_type": "markdown",
   "metadata": {},
   "source": [
    "## Chapter 6: environment and function\n",
    "### enviroment"
   ]
  },
  {
   "cell_type": "code",
   "execution_count": 1,
   "metadata": {},
   "outputs": [],
   "source": [
    "an_environment = new.env()\n",
    "an_environment[[\"pythag\"]]<-c(12, 15, 20, 21)\n",
    "an_environment$root<-polyroot(c(6, -5, 1))"
   ]
  },
  {
   "cell_type": "code",
   "execution_count": 5,
   "metadata": {},
   "outputs": [],
   "source": [
    "assign(\n",
    "    'moonday',\n",
    "    weekdays(as.Date(\"1969/07/20\")),\n",
    "    an_environment\n",
    ")"
   ]
  },
  {
   "cell_type": "code",
   "execution_count": 6,
   "metadata": {},
   "outputs": [
    {
     "data": {
      "text/html": [
       "'Sunday'"
      ],
      "text/latex": [
       "'Sunday'"
      ],
      "text/markdown": [
       "'Sunday'"
      ],
      "text/plain": [
       "[1] \"Sunday\""
      ]
     },
     "metadata": {},
     "output_type": "display_data"
    }
   ],
   "source": [
    "an_environment$moonday"
   ]
  },
  {
   "cell_type": "code",
   "execution_count": 7,
   "metadata": {},
   "outputs": [
    {
     "data": {
      "text/html": [
       "<ol class=list-inline>\n",
       "\t<li>2+0i</li>\n",
       "\t<li>3-0i</li>\n",
       "</ol>\n"
      ],
      "text/latex": [
       "\\begin{enumerate*}\n",
       "\\item 2+0i\n",
       "\\item 3-0i\n",
       "\\end{enumerate*}\n"
      ],
      "text/markdown": [
       "1. 2+0i\n",
       "2. 3-0i\n",
       "\n",
       "\n"
      ],
      "text/plain": [
       "[1] 2+0i 3-0i"
      ]
     },
     "metadata": {},
     "output_type": "display_data"
    }
   ],
   "source": [
    "an_environment[['root']]"
   ]
  },
  {
   "cell_type": "markdown",
   "metadata": {},
   "source": [
    "root of poly"
   ]
  },
  {
   "cell_type": "code",
   "execution_count": 12,
   "metadata": {},
   "outputs": [
    {
     "data": {
      "text/html": [
       "<ol class=list-inline>\n",
       "\t<li>-1-0i</li>\n",
       "\t<li>-1+0i</li>\n",
       "</ol>\n"
      ],
      "text/latex": [
       "\\begin{enumerate*}\n",
       "\\item -1-0i\n",
       "\\item -1+0i\n",
       "\\end{enumerate*}\n"
      ],
      "text/markdown": [
       "1. -1-0i\n",
       "2. -1+0i\n",
       "\n",
       "\n"
      ],
      "text/plain": [
       "[1] -1-0i -1+0i"
      ]
     },
     "metadata": {},
     "output_type": "display_data"
    }
   ],
   "source": [
    "polyroot(c(1,2,1))"
   ]
  },
  {
   "cell_type": "code",
   "execution_count": 13,
   "metadata": {},
   "outputs": [
    {
     "data": {
      "text/plain": [
       "moonday :  chr \"Sunday\"\n",
       "pythag :  num [1:4] 12 15 20 21\n",
       "root :  cplx [1:2] 2+0i 3-0i"
      ]
     },
     "metadata": {},
     "output_type": "display_data"
    }
   ],
   "source": [
    "ls.str(envir = an_environment)"
   ]
  },
  {
   "cell_type": "code",
   "execution_count": 14,
   "metadata": {},
   "outputs": [
    {
     "data": {
      "text/html": [
       "<dl>\n",
       "\t<dt>$pythag</dt>\n",
       "\t\t<dd><ol class=list-inline>\n",
       "\t<li>12</li>\n",
       "\t<li>15</li>\n",
       "\t<li>20</li>\n",
       "\t<li>21</li>\n",
       "</ol>\n",
       "</dd>\n",
       "\t<dt>$moonday</dt>\n",
       "\t\t<dd>'Sunday'</dd>\n",
       "\t<dt>$root</dt>\n",
       "\t\t<dd><ol class=list-inline>\n",
       "\t<li>2+0i</li>\n",
       "\t<li>3-0i</li>\n",
       "</ol>\n",
       "</dd>\n",
       "</dl>\n"
      ],
      "text/latex": [
       "\\begin{description}\n",
       "\\item[\\$pythag] \\begin{enumerate*}\n",
       "\\item 12\n",
       "\\item 15\n",
       "\\item 20\n",
       "\\item 21\n",
       "\\end{enumerate*}\n",
       "\n",
       "\\item[\\$moonday] 'Sunday'\n",
       "\\item[\\$root] \\begin{enumerate*}\n",
       "\\item 2+0i\n",
       "\\item 3-0i\n",
       "\\end{enumerate*}\n",
       "\n",
       "\\end{description}\n"
      ],
      "text/markdown": [
       "$pythag\n",
       ":   1. 12\n",
       "2. 15\n",
       "3. 20\n",
       "4. 21\n",
       "\n",
       "\n",
       "\n",
       "$moonday\n",
       ":   'Sunday'\n",
       "$root\n",
       ":   1. 2+0i\n",
       "2. 3-0i\n",
       "\n",
       "\n",
       "\n",
       "\n",
       "\n"
      ],
      "text/plain": [
       "$pythag\n",
       "[1] 12 15 20 21\n",
       "\n",
       "$moonday\n",
       "[1] \"Sunday\"\n",
       "\n",
       "$root\n",
       "[1] 2+0i 3-0i\n"
      ]
     },
     "metadata": {},
     "output_type": "display_data"
    }
   ],
   "source": [
    "as.list(an_environment)"
   ]
  },
  {
   "cell_type": "markdown",
   "metadata": {},
   "source": [
    "### function"
   ]
  },
  {
   "cell_type": "code",
   "execution_count": 15,
   "metadata": {},
   "outputs": [
    {
     "name": "stdout",
     "output_type": "stream",
     "text": [
      "[1] 13\n"
     ]
    }
   ],
   "source": [
    "hypotenuse = function(x = 5, y = 12){\n",
    "    sqrt(x ^ 2 + y ^ 2)\n",
    "}\n",
    "print(hypotenuse())"
   ]
  },
  {
   "cell_type": "code",
   "execution_count": 16,
   "metadata": {},
   "outputs": [
    {
     "data": {
      "text/plain": [
       "$x\n",
       "[1] 5\n",
       "\n",
       "$y\n",
       "[1] 12\n"
      ]
     },
     "metadata": {},
     "output_type": "display_data"
    }
   ],
   "source": [
    "formals(hypotenuse)"
   ]
  },
  {
   "cell_type": "code",
   "execution_count": 18,
   "metadata": {},
   "outputs": [
    {
     "data": {
      "text/html": [
       "<pre class=language-r><code>function (x = 5, y = 12) \n",
       "NULL</code></pre>"
      ],
      "text/latex": [
       "\\begin{minted}{r}\n",
       "function (x = 5, y = 12) \n",
       "NULL\n",
       "\\end{minted}"
      ],
      "text/markdown": [
       "```r\n",
       "function (x = 5, y = 12) \n",
       "NULL\n",
       "```"
      ],
      "text/plain": [
       "function (x = 5, y = 12) \n",
       "NULL"
      ]
     },
     "metadata": {},
     "output_type": "display_data"
    }
   ],
   "source": [
    "args(hypotenuse)"
   ]
  },
  {
   "cell_type": "code",
   "execution_count": 19,
   "metadata": {},
   "outputs": [
    {
     "data": {
      "text/html": [
       "<ol class=list-inline>\n",
       "\t<li>'x'</li>\n",
       "\t<li>'y'</li>\n",
       "</ol>\n"
      ],
      "text/latex": [
       "\\begin{enumerate*}\n",
       "\\item 'x'\n",
       "\\item 'y'\n",
       "\\end{enumerate*}\n"
      ],
      "text/markdown": [
       "1. 'x'\n",
       "2. 'y'\n",
       "\n",
       "\n"
      ],
      "text/plain": [
       "[1] \"x\" \"y\""
      ]
     },
     "metadata": {},
     "output_type": "display_data"
    }
   ],
   "source": [
    "formalArgs(hypotenuse)"
   ]
  },
  {
   "cell_type": "code",
   "execution_count": 20,
   "metadata": {},
   "outputs": [
    {
     "data": {
      "text/plain": [
       "{\n",
       "    sqrt(x^2 + y^2)\n",
       "}"
      ]
     },
     "metadata": {},
     "output_type": "display_data"
    }
   ],
   "source": [
    "body_of_hypotenuse = body(hypotenuse)\n",
    "body_of_hypotenuse"
   ]
  },
  {
   "cell_type": "code",
   "execution_count": 21,
   "metadata": {},
   "outputs": [
    {
     "data": {
      "text/html": [
       "<ol class=list-inline>\n",
       "\t<li>'{'</li>\n",
       "\t<li><span style=white-space:pre-wrap>'    sqrt(x^2 + y^2)'</span></li>\n",
       "\t<li>'}'</li>\n",
       "</ol>\n"
      ],
      "text/latex": [
       "\\begin{enumerate*}\n",
       "\\item '\\{'\n",
       "\\item '    sqrt(x\\textasciicircum{}2 + y\\textasciicircum{}2)'\n",
       "\\item '\\}'\n",
       "\\end{enumerate*}\n"
      ],
      "text/markdown": [
       "1. '{'\n",
       "2. <span style=white-space:pre-wrap>'    sqrt(x^2 + y^2)'</span>\n",
       "3. '}'\n",
       "\n",
       "\n"
      ],
      "text/plain": [
       "[1] \"{\"                   \"    sqrt(x^2 + y^2)\" \"}\"                  "
      ]
     },
     "metadata": {},
     "output_type": "display_data"
    }
   ],
   "source": [
    "deparse(body_of_hypotenuse)"
   ]
  },
  {
   "cell_type": "code",
   "execution_count": 22,
   "metadata": {},
   "outputs": [
    {
     "data": {
      "text/html": [
       "<ol class=list-inline>\n",
       "\t<li>&lt;NA&gt;</li>\n",
       "\t<li>&lt;NA&gt;</li>\n",
       "\t<li>&lt;NA&gt;</li>\n",
       "\t<li>&lt;NA&gt;</li>\n",
       "\t<li>&lt;NA&gt;</li>\n",
       "</ol>\n"
      ],
      "text/latex": [
       "\\begin{enumerate*}\n",
       "\\item <NA>\n",
       "\\item <NA>\n",
       "\\item <NA>\n",
       "\\item <NA>\n",
       "\\item <NA>\n",
       "\\end{enumerate*}\n"
      ],
      "text/markdown": [
       "1. &lt;NA&gt;\n",
       "2. &lt;NA&gt;\n",
       "3. &lt;NA&gt;\n",
       "4. &lt;NA&gt;\n",
       "5. &lt;NA&gt;\n",
       "\n",
       "\n"
      ],
      "text/plain": [
       "[1] NA NA NA NA NA"
      ]
     },
     "metadata": {},
     "output_type": "display_data"
    }
   ],
   "source": [
    "normalize = function(x, m = mean(x, na.rm=na.rm), s=sd(x, na.rm=na.rm), na.rm=FALSE)\n",
    "{\n",
    "    (x - m) / s\n",
    "}\n",
    "normalize(c(1, 3, 6, 10, NA))"
   ]
  },
  {
   "cell_type": "code",
   "execution_count": 23,
   "metadata": {
    "scrolled": true
   },
   "outputs": [
    {
     "data": {
      "text/html": [
       "<ol class=list-inline>\n",
       "\t<li>-1.0215078369105</li>\n",
       "\t<li>-0.510753918455249</li>\n",
       "\t<li>0.255376959227625</li>\n",
       "\t<li>1.27688479613812</li>\n",
       "\t<li>&lt;NA&gt;</li>\n",
       "</ol>\n"
      ],
      "text/latex": [
       "\\begin{enumerate*}\n",
       "\\item -1.0215078369105\n",
       "\\item -0.510753918455249\n",
       "\\item 0.255376959227625\n",
       "\\item 1.27688479613812\n",
       "\\item <NA>\n",
       "\\end{enumerate*}\n"
      ],
      "text/markdown": [
       "1. -1.0215078369105\n",
       "2. -0.510753918455249\n",
       "3. 0.255376959227625\n",
       "4. 1.27688479613812\n",
       "5. &lt;NA&gt;\n",
       "\n",
       "\n"
      ],
      "text/plain": [
       "[1] -1.0215078 -0.5107539  0.2553770  1.2768848         NA"
      ]
     },
     "metadata": {},
     "output_type": "display_data"
    }
   ],
   "source": [
    "normalize(c(1, 3, 6, 10, NA), na.rm=TRUE)"
   ]
  },
  {
   "cell_type": "markdown",
   "metadata": {},
   "source": [
    "Using ... to replace the optional parameters"
   ]
  },
  {
   "cell_type": "code",
   "execution_count": 24,
   "metadata": {},
   "outputs": [
    {
     "name": "stdout",
     "output_type": "stream",
     "text": [
      "[1] NA NA NA NA NA\n",
      "[1] -1.0215078 -0.5107539  0.2553770  1.2768848         NA\n"
     ]
    }
   ],
   "source": [
    "normalize = function(x, m=mean(x, ...), s=sd(x, ...), ...){\n",
    "    (x - m) / s\n",
    "}\n",
    "print(normalize(c(1,3,6,10,NA)))\n",
    "print(normalize(c(1,3,6,10,NA), na.rm=TRUE))"
   ]
  },
  {
   "cell_type": "markdown",
   "metadata": {},
   "source": [
    "Using **do.call** and rbind to concat df"
   ]
  },
  {
   "cell_type": "code",
   "execution_count": 25,
   "metadata": {},
   "outputs": [
    {
     "data": {
      "text/html": [
       "<table>\n",
       "<thead><tr><th scope=col>x</th><th scope=col>y</th></tr></thead>\n",
       "<tbody>\n",
       "\t<tr><td> 1         </td><td>  0.1409924</td></tr>\n",
       "\t<tr><td> 2         </td><td>  0.9163184</td></tr>\n",
       "\t<tr><td> 3         </td><td> -0.4119010</td></tr>\n",
       "\t<tr><td> 4         </td><td>  0.5415055</td></tr>\n",
       "\t<tr><td> 5         </td><td> -0.6139836</td></tr>\n",
       "\t<tr><td> 6         </td><td>  3.1719802</td></tr>\n",
       "\t<tr><td> 7         </td><td> 26.7423046</td></tr>\n",
       "\t<tr><td> 8         </td><td>  5.1426438</td></tr>\n",
       "\t<tr><td> 9         </td><td>  9.6158875</td></tr>\n",
       "\t<tr><td>10         </td><td>133.6841520</td></tr>\n",
       "\t<tr><td>11         </td><td>  0.8644167</td></tr>\n",
       "\t<tr><td>12         </td><td>  0.9411355</td></tr>\n",
       "\t<tr><td>13         </td><td>  0.2349285</td></tr>\n",
       "\t<tr><td>14         </td><td>  0.9010194</td></tr>\n",
       "\t<tr><td>15         </td><td>  0.2754478</td></tr>\n",
       "</tbody>\n",
       "</table>\n"
      ],
      "text/latex": [
       "\\begin{tabular}{r|ll}\n",
       " x & y\\\\\n",
       "\\hline\n",
       "\t  1          &   0.1409924\\\\\n",
       "\t  2          &   0.9163184\\\\\n",
       "\t  3          &  -0.4119010\\\\\n",
       "\t  4          &   0.5415055\\\\\n",
       "\t  5          &  -0.6139836\\\\\n",
       "\t  6          &   3.1719802\\\\\n",
       "\t  7          &  26.7423046\\\\\n",
       "\t  8          &   5.1426438\\\\\n",
       "\t  9          &   9.6158875\\\\\n",
       "\t 10          & 133.6841520\\\\\n",
       "\t 11          &   0.8644167\\\\\n",
       "\t 12          &   0.9411355\\\\\n",
       "\t 13          &   0.2349285\\\\\n",
       "\t 14          &   0.9010194\\\\\n",
       "\t 15          &   0.2754478\\\\\n",
       "\\end{tabular}\n"
      ],
      "text/markdown": [
       "\n",
       "| x | y |\n",
       "|---|---|\n",
       "|  1          |   0.1409924 |\n",
       "|  2          |   0.9163184 |\n",
       "|  3          |  -0.4119010 |\n",
       "|  4          |   0.5415055 |\n",
       "|  5          |  -0.6139836 |\n",
       "|  6          |   3.1719802 |\n",
       "|  7          |  26.7423046 |\n",
       "|  8          |   5.1426438 |\n",
       "|  9          |   9.6158875 |\n",
       "| 10          | 133.6841520 |\n",
       "| 11          |   0.8644167 |\n",
       "| 12          |   0.9411355 |\n",
       "| 13          |   0.2349285 |\n",
       "| 14          |   0.9010194 |\n",
       "| 15          |   0.2754478 |\n",
       "\n"
      ],
      "text/plain": [
       "   x  y          \n",
       "1   1   0.1409924\n",
       "2   2   0.9163184\n",
       "3   3  -0.4119010\n",
       "4   4   0.5415055\n",
       "5   5  -0.6139836\n",
       "6   6   3.1719802\n",
       "7   7  26.7423046\n",
       "8   8   5.1426438\n",
       "9   9   9.6158875\n",
       "10 10 133.6841520\n",
       "11 11   0.8644167\n",
       "12 12   0.9411355\n",
       "13 13   0.2349285\n",
       "14 14   0.9010194\n",
       "15 15   0.2754478"
      ]
     },
     "metadata": {},
     "output_type": "display_data"
    }
   ],
   "source": [
    "dfr1 = data.frame(x = 1:5, y = rt(5, 1))\n",
    "dfr2 = data.frame(x = 6:10, y = rf(5, 1, 1)) \n",
    "dfr3 = data.frame(x = 11:15, y = rbeta(5, 1, 1))\n",
    "do.call(rbind, list(dfr1, dfr2, dfr3))"
   ]
  },
  {
   "cell_type": "code",
   "execution_count": 26,
   "metadata": {},
   "outputs": [
    {
     "data": {
      "text/html": [
       "13.8571428571429"
      ],
      "text/latex": [
       "13.8571428571429"
      ],
      "text/markdown": [
       "13.8571428571429"
      ],
      "text/plain": [
       "[1] 13.85714"
      ]
     },
     "metadata": {},
     "output_type": "display_data"
    }
   ],
   "source": [
    "menage = c(1, 0, 0, 1, 2, 13, 80)\n",
    "mean(menage)"
   ]
  },
  {
   "cell_type": "code",
   "execution_count": 28,
   "metadata": {},
   "outputs": [
    {
     "data": {
      "text/html": [
       "<ol class=list-inline>\n",
       "\t<li>6</li>\n",
       "\t<li>6</li>\n",
       "\t<li>6</li>\n",
       "\t<li>6</li>\n",
       "\t<li>6</li>\n",
       "</ol>\n"
      ],
      "text/latex": [
       "\\begin{enumerate*}\n",
       "\\item 6\n",
       "\\item 6\n",
       "\\item 6\n",
       "\\item 6\n",
       "\\item 6\n",
       "\\end{enumerate*}\n"
      ],
      "text/markdown": [
       "1. 6\n",
       "2. 6\n",
       "3. 6\n",
       "4. 6\n",
       "5. 6\n",
       "\n",
       "\n"
      ],
      "text/plain": [
       "[1] 6 6 6 6 6"
      ]
     },
     "metadata": {},
     "output_type": "display_data"
    }
   ],
   "source": [
    "do.call(function(x, y) x+y, list(1:5, 5:1))"
   ]
  },
  {
   "cell_type": "code",
   "execution_count": 30,
   "metadata": {},
   "outputs": [
    {
     "data": {
      "text/html": [
       "<pre class=language-r><code>structure(function (v) \n",
       ".approxfun(x, y, v, method, yleft, yright, f), class = c(\"ecdf\", \n",
       "\"stepfun\", \"function\"), call = ecdf(rnorm(50)))</code></pre>"
      ],
      "text/latex": [
       "\\begin{minted}{r}\n",
       "structure(function (v) \n",
       ".approxfun(x, y, v, method, yleft, yright, f), class = c(\"ecdf\", \n",
       "\"stepfun\", \"function\"), call = ecdf(rnorm(50)))\n",
       "\\end{minted}"
      ],
      "text/markdown": [
       "```r\n",
       "structure(function (v) \n",
       ".approxfun(x, y, v, method, yleft, yright, f), class = c(\"ecdf\", \n",
       "\"stepfun\", \"function\"), call = ecdf(rnorm(50)))\n",
       "```"
      ],
      "text/plain": [
       "Empirical CDF \n",
       "Call: ecdf(rnorm(50))\n",
       " x[1:50] = -2.6692, -1.8014, -1.4647,  ..., 2.0942, 2.6295"
      ]
     },
     "metadata": {},
     "output_type": "display_data"
    }
   ],
   "source": [
    "emp_cum_dist_fn = ecdf(rnorm(50))\n",
    "emp_cum_dist_fn"
   ]
  },
  {
   "cell_type": "code",
   "execution_count": 31,
   "metadata": {},
   "outputs": [
    {
     "data": {
      "text/html": [
       "TRUE"
      ],
      "text/latex": [
       "TRUE"
      ],
      "text/markdown": [
       "TRUE"
      ],
      "text/plain": [
       "[1] TRUE"
      ]
     },
     "metadata": {},
     "output_type": "display_data"
    }
   ],
   "source": [
    "is.function(emp_cum_dist_fn)"
   ]
  },
  {
   "cell_type": "code",
   "execution_count": 32,
   "metadata": {},
   "outputs": [
    {
     "data": {
      "image/png": "[encoded data removed]",
      "text/plain": [
       "Plot with title “ecdf(rnorm(50))”"
      ]
     },
     "metadata": {},
     "output_type": "display_data"
    }
   ],
   "source": [
    "plot(emp_cum_dist_fn)"
   ]
  },
  {
   "cell_type": "code",
   "execution_count": 33,
   "metadata": {},
   "outputs": [
    {
     "data": {
      "text/html": [
       "<ol class=list-inline>\n",
       "\t<li>144</li>\n",
       "\t<li>144</li>\n",
       "\t<li>108</li>\n",
       "\t<li>144</li>\n",
       "\t<li>144</li>\n",
       "\t<li>108</li>\n",
       "\t<li>108</li>\n",
       "\t<li>108</li>\n",
       "\t<li>108</li>\n",
       "\t<li>144</li>\n",
       "</ol>\n"
      ],
      "text/latex": [
       "\\begin{enumerate*}\n",
       "\\item 144\n",
       "\\item 144\n",
       "\\item 108\n",
       "\\item 144\n",
       "\\item 144\n",
       "\\item 108\n",
       "\\item 108\n",
       "\\item 108\n",
       "\\item 108\n",
       "\\item 144\n",
       "\\end{enumerate*}\n"
      ],
      "text/markdown": [
       "1. 144\n",
       "2. 144\n",
       "3. 108\n",
       "4. 144\n",
       "5. 144\n",
       "6. 108\n",
       "7. 108\n",
       "8. 108\n",
       "9. 108\n",
       "10. 144\n",
       "\n",
       "\n"
      ],
      "text/plain": [
       " [1] 144 144 108 144 144 108 108 108 108 144"
      ]
     },
     "metadata": {},
     "output_type": "display_data"
    }
   ],
   "source": [
    "y = 16\n",
    "h2 <- function(x) {\n",
    "    if(runif(1) > 0.5) y = 12\n",
    "    x*y \n",
    "}\n",
    "\n",
    "replicate(10, h2(9))"
   ]
  },
  {
   "cell_type": "markdown",
   "metadata": {},
   "source": [
    "Exercise 6-2"
   ]
  },
  {
   "cell_type": "code",
   "execution_count": 56,
   "metadata": {},
   "outputs": [
    {
     "name": "stdout",
     "output_type": "stream",
     "text": [
      "[1] FALSE  TRUE FALSE FALSE FALSE\n",
      "[1] FALSE  TRUE FALSE  TRUE FALSE\n",
      "[1] FALSE FALSE FALSE FALSE FALSE FALSE\n"
     ]
    }
   ],
   "source": [
    "is_numeric = function(v){\n",
    "    v_logic = c()\n",
    "    if (length(v)==0) return(v_logic)\n",
    "    for (e in v){\n",
    "        if (!is.finite(e)) v_logic = c(v_logic, FALSE)\n",
    "        else if (e %% 2 == 0) v_logic = c(v_logic, TRUE)\n",
    "        else v_logic = c(v_logic, FALSE)\n",
    "    }\n",
    "    v_logic\n",
    "}\n",
    "print(is_numeric(c(1,2,3,NA,5)))\n",
    "print(is_numeric(c(1,2,3,4,5)))\n",
    "print(is_numeric(c(NA,NA,NA,NA,NA,NA)))"
   ]
  },
  {
   "cell_type": "markdown",
   "metadata": {},
   "source": [
    "Exercise 6-3"
   ]
  },
  {
   "cell_type": "code",
   "execution_count": 60,
   "metadata": {},
   "outputs": [
    {
     "name": "stdout",
     "output_type": "stream",
     "text": [
      "$args\n",
      "function (x, ...) \n",
      "NULL\n",
      "\n",
      "$body\n",
      "UseMethod(\"mean\")\n",
      "\n",
      "$args\n",
      "function (v) \n",
      "NULL\n",
      "\n",
      "$body\n",
      "{\n",
      "    v_logic = c()\n",
      "    if (length(v) == 0) \n",
      "        return(v_logic)\n",
      "    for (e in v) {\n",
      "        if (!is.finite(e)) \n",
      "            v_logic = c(v_logic, FALSE)\n",
      "        else if (e%%2 == 0) \n",
      "            v_logic = c(v_logic, TRUE)\n",
      "        else v_logic = c(v_logic, FALSE)\n",
      "    }\n",
      "    v_logic\n",
      "}\n",
      "\n"
     ]
    }
   ],
   "source": [
    "show_function = function(func = mean){\n",
    "    structure_of_func = list()\n",
    "    if (class(func) == 'function'){\n",
    "        structure_of_func$args = args(func)\n",
    "        structure_of_func$body = body(func)\n",
    "    }\n",
    "    structure_of_func\n",
    "}\n",
    "\n",
    "print(show_function())\n",
    "print(show_function(is_numeric))"
   ]
  },
  {
   "cell_type": "code",
   "execution_count": null,
   "metadata": {},
   "outputs": [],
   "source": []
  }
 ],
 "metadata": {
  "kernelspec": {
   "display_name": "R",
   "language": "R",
   "name": "ir"
  },
  "language_info": {
   "codemirror_mode": "r",
   "file_extension": ".r",
   "mimetype": "text/x-r-source",
   "name": "R",
   "pygments_lexer": "r",
   "version": "3.6.1"
  }
 },
 "nbformat": 4,
 "nbformat_minor": 4
}
