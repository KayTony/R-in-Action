{
 "cells": [
  {
   "cell_type": "markdown",
   "metadata": {},
   "source": [
    "# Some tips in learning R\n",
    "Using “Learning R\" to know more about R language"
   ]
  },
  {
   "cell_type": "markdown",
   "metadata": {},
   "source": [
    "## Chaper 3: Variable"
   ]
  },
  {
   "cell_type": "markdown",
   "metadata": {},
   "source": [
    "Q1: 数字的三个内置类的名称是什么?  \n",
    "A1: numeric, integer, complex  \n",
    "  \n",
    "Q2: 如何把字符串“6.283185”转换为数字?  \n",
    "A2: "
   ]
  },
  {
   "cell_type": "code",
   "execution_count": 3,
   "metadata": {},
   "outputs": [
    {
     "data": {
      "text/html": [
       "6.283185"
      ],
      "text/latex": [
       "6.283185"
      ],
      "text/markdown": [
       "6.283185"
      ],
      "text/plain": [
       "[1] 6.283185"
      ]
     },
     "metadata": {},
     "output_type": "display_data"
    }
   ],
   "source": [
    "num = '6.283185'\n",
    "as(num, 'numeric')"
   ]
  },
  {
   "cell_type": "markdown",
   "metadata": {},
   "source": [
    "Q3: 查找以下值 Inf、NA、NaN 和 \"\" 的类、类型、模式及存储模式  \n",
    "A3: "
   ]
  },
  {
   "cell_type": "code",
   "execution_count": 4,
   "metadata": {},
   "outputs": [
    {
     "name": "stdout",
     "output_type": "stream",
     "text": [
      "[1] \"numeric\"\n",
      "[1] \"logical\"\n",
      "[1] \"numeric\"\n",
      "[1] \"character\"\n"
     ]
    }
   ],
   "source": [
    "print(class(Inf))\n",
    "print(class(NA))\n",
    "print(class(NaN))\n",
    "print(class(\"\"))"
   ]
  },
  {
   "cell_type": "code",
   "execution_count": 5,
   "metadata": {},
   "outputs": [
    {
     "name": "stdout",
     "output_type": "stream",
     "text": [
      "[1] \"double\"\n",
      "[1] \"logical\"\n",
      "[1] \"double\"\n",
      "[1] \"character\"\n"
     ]
    }
   ],
   "source": [
    "print(typeof(Inf))\n",
    "print(typeof(NA))\n",
    "print(typeof(NaN))\n",
    "print(typeof(\"\"))"
   ]
  },
  {
   "cell_type": "code",
   "execution_count": 6,
   "metadata": {},
   "outputs": [
    {
     "name": "stdout",
     "output_type": "stream",
     "text": [
      "[1] \"numeric\"\n",
      "[1] \"logical\"\n",
      "[1] \"numeric\"\n",
      "[1] \"character\"\n"
     ]
    }
   ],
   "source": [
    "print(mode(Inf))\n",
    "print(mode(NA))\n",
    "print(mode(NaN))\n",
    "print(mode(\"\"))"
   ]
  },
  {
   "cell_type": "code",
   "execution_count": 7,
   "metadata": {},
   "outputs": [
    {
     "name": "stdout",
     "output_type": "stream",
     "text": [
      "[1] \"double\"\n",
      "[1] \"logical\"\n",
      "[1] \"double\"\n",
      "[1] \"character\"\n"
     ]
    }
   ],
   "source": [
    "print(storage.mode(Inf))\n",
    "print(storage.mode(NA))\n",
    "print(storage.mode(NaN))\n",
    "print(storage.mode(\"\"))"
   ]
  },
  {
   "cell_type": "markdown",
   "metadata": {},
   "source": [
    "Q4: 随机从“dog”、“cat”、“hamster”和“goldfish”中以相等的概率生成 1000 个宠物名。 显示所得变量的前几个值，并计算每种宠物的数量。  \n",
    "A4:"
   ]
  },
  {
   "cell_type": "code",
   "execution_count": 22,
   "metadata": {},
   "outputs": [
    {
     "name": "stdout",
     "output_type": "stream",
     "text": [
      "[1] cat     dog     cat     dog     hamster cat    \n",
      "Levels: cat dog goldfish hamster\n",
      "     cat      dog goldfish  hamster \n",
      "     269      237      245      249 \n"
     ]
    }
   ],
   "source": [
    "animal = factor(c(\"dog\", \"cat\", \"hamster\", \"goldfish\"))\n",
    "# animals = as(sample(animal, 1000, replace = TRUE), 'factor')\n",
    "animals = sample(animal, 1000, replace = TRUE)\n",
    "print(head(animals))\n",
    "print(summary(animals))"
   ]
  },
  {
   "cell_type": "markdown",
   "metadata": {},
   "source": [
    "## Chaper 4: Vector, Array, Matrix"
   ]
  },
  {
   "cell_type": "code",
   "execution_count": 26,
   "metadata": {},
   "outputs": [
    {
     "data": {
      "text/html": [
       "<ol class=list-inline>\n",
       "\t<li>8.5</li>\n",
       "\t<li>7.5</li>\n",
       "\t<li>6.5</li>\n",
       "\t<li>5.5</li>\n",
       "\t<li>4.5</li>\n",
       "</ol>\n"
      ],
      "text/latex": [
       "\\begin{enumerate*}\n",
       "\\item 8.5\n",
       "\\item 7.5\n",
       "\\item 6.5\n",
       "\\item 5.5\n",
       "\\item 4.5\n",
       "\\end{enumerate*}\n"
      ],
      "text/markdown": [
       "1. 8.5\n",
       "2. 7.5\n",
       "3. 6.5\n",
       "4. 5.5\n",
       "5. 4.5\n",
       "\n",
       "\n"
      ],
      "text/plain": [
       "[1] 8.5 7.5 6.5 5.5 4.5"
      ]
     },
     "metadata": {},
     "output_type": "display_data"
    }
   ],
   "source": [
    "8.5:4.5"
   ]
  },
  {
   "cell_type": "code",
   "execution_count": 27,
   "metadata": {},
   "outputs": [
    {
     "data": {
      "text/html": [
       "<ol class=list-inline>\n",
       "\t<li>0</li>\n",
       "\t<li>0</li>\n",
       "\t<li>0</li>\n",
       "\t<li>0</li>\n",
       "\t<li>0</li>\n",
       "</ol>\n"
      ],
      "text/latex": [
       "\\begin{enumerate*}\n",
       "\\item 0\n",
       "\\item 0\n",
       "\\item 0\n",
       "\\item 0\n",
       "\\item 0\n",
       "\\end{enumerate*}\n"
      ],
      "text/markdown": [
       "1. 0\n",
       "2. 0\n",
       "3. 0\n",
       "4. 0\n",
       "5. 0\n",
       "\n",
       "\n"
      ],
      "text/plain": [
       "[1] 0 0 0 0 0"
      ]
     },
     "metadata": {},
     "output_type": "display_data"
    }
   ],
   "source": [
    "vector(\"numeric\", 5)"
   ]
  },
  {
   "cell_type": "code",
   "execution_count": 28,
   "metadata": {},
   "outputs": [
    {
     "data": {
      "text/html": [
       "<ol class=list-inline>\n",
       "\t<li>3</li>\n",
       "\t<li>5</li>\n",
       "\t<li>7</li>\n",
       "\t<li>9</li>\n",
       "\t<li>11</li>\n",
       "</ol>\n"
      ],
      "text/latex": [
       "\\begin{enumerate*}\n",
       "\\item 3\n",
       "\\item 5\n",
       "\\item 7\n",
       "\\item 9\n",
       "\\item 11\n",
       "\\end{enumerate*}\n"
      ],
      "text/markdown": [
       "1. 3\n",
       "2. 5\n",
       "3. 7\n",
       "4. 9\n",
       "5. 11\n",
       "\n",
       "\n"
      ],
      "text/plain": [
       "[1]  3  5  7  9 11"
      ]
     },
     "metadata": {},
     "output_type": "display_data"
    }
   ],
   "source": [
    "seq.int(3, 12, 2)"
   ]
  },
  {
   "cell_type": "code",
   "execution_count": 29,
   "metadata": {},
   "outputs": [
    {
     "data": {
      "text/html": [
       "<ol class=list-inline>\n",
       "\t<li>0.1</li>\n",
       "\t<li>0.09</li>\n",
       "\t<li>0.08</li>\n",
       "\t<li>0.07</li>\n",
       "\t<li>0.06</li>\n",
       "\t<li>0.05</li>\n",
       "\t<li>0.04</li>\n",
       "\t<li>0.03</li>\n",
       "\t<li>0.02</li>\n",
       "\t<li>0.01</li>\n",
       "</ol>\n"
      ],
      "text/latex": [
       "\\begin{enumerate*}\n",
       "\\item 0.1\n",
       "\\item 0.09\n",
       "\\item 0.08\n",
       "\\item 0.07\n",
       "\\item 0.06\n",
       "\\item 0.05\n",
       "\\item 0.04\n",
       "\\item 0.03\n",
       "\\item 0.02\n",
       "\\item 0.01\n",
       "\\end{enumerate*}\n"
      ],
      "text/markdown": [
       "1. 0.1\n",
       "2. 0.09\n",
       "3. 0.08\n",
       "4. 0.07\n",
       "5. 0.06\n",
       "6. 0.05\n",
       "7. 0.04\n",
       "8. 0.03\n",
       "9. 0.02\n",
       "10. 0.01\n",
       "\n",
       "\n"
      ],
      "text/plain": [
       " [1] 0.10 0.09 0.08 0.07 0.06 0.05 0.04 0.03 0.02 0.01"
      ]
     },
     "metadata": {},
     "output_type": "display_data"
    }
   ],
   "source": [
    "seq.int(0.1, 0.01, -0.01)"
   ]
  },
  {
   "cell_type": "code",
   "execution_count": 32,
   "metadata": {},
   "outputs": [
    {
     "data": {
      "text/html": [
       "<ol class=list-inline>\n",
       "\t<li>1</li>\n",
       "\t<li>2</li>\n",
       "\t<li>3</li>\n",
       "\t<li>4</li>\n",
       "\t<li>5</li>\n",
       "\t<li>6</li>\n",
       "\t<li>7</li>\n",
       "\t<li>8</li>\n",
       "\t<li>9</li>\n",
       "\t<li>10</li>\n",
       "</ol>\n"
      ],
      "text/latex": [
       "\\begin{enumerate*}\n",
       "\\item 1\n",
       "\\item 2\n",
       "\\item 3\n",
       "\\item 4\n",
       "\\item 5\n",
       "\\item 6\n",
       "\\item 7\n",
       "\\item 8\n",
       "\\item 9\n",
       "\\item 10\n",
       "\\end{enumerate*}\n"
      ],
      "text/markdown": [
       "1. 1\n",
       "2. 2\n",
       "3. 3\n",
       "4. 4\n",
       "5. 5\n",
       "6. 6\n",
       "7. 7\n",
       "8. 8\n",
       "9. 9\n",
       "10. 10\n",
       "\n",
       "\n"
      ],
      "text/plain": [
       " [1]  1  2  3  4  5  6  7  8  9 10"
      ]
     },
     "metadata": {},
     "output_type": "display_data"
    }
   ],
   "source": [
    "n = 10\n",
    "seq_len(n)"
   ]
  },
  {
   "cell_type": "code",
   "execution_count": 33,
   "metadata": {},
   "outputs": [
    {
     "name": "stdout",
     "output_type": "stream",
     "text": [
      "[1] \"Peter\"\n",
      "[1] \"Piper\"\n",
      "[1] \"picked\"\n",
      "[1] \"a\"\n",
      "[1] \"peck\"\n",
      "[1] \"of\"\n",
      "[1] \"pickled\"\n",
      "[1] \"peppers\"\n"
     ]
    }
   ],
   "source": [
    "pp = c(\"Peter\", \"Piper\", \"picked\", \"a\", \"peck\", \"of\", \"pickled\", \"peppers\")\n",
    "for(i in seq_along(pp)) print(pp[i])"
   ]
  },
  {
   "cell_type": "markdown",
   "metadata": {},
   "source": [
    "### length"
   ]
  },
  {
   "cell_type": "code",
   "execution_count": 34,
   "metadata": {},
   "outputs": [
    {
     "name": "stdout",
     "output_type": "stream",
     "text": [
      "[1] 4\n",
      "[1] 6 5 6 5\n"
     ]
    }
   ],
   "source": [
    "sn <- c(\"Sheena\", \"leads\", \"Sheila\", \"needs\")\n",
    "print(length(sn))\n",
    "print(nchar(sn))"
   ]
  },
  {
   "cell_type": "code",
   "execution_count": 35,
   "metadata": {},
   "outputs": [
    {
     "data": {
      "text/html": [
       "<ol class=list-inline>\n",
       "\t<li>1</li>\n",
       "\t<li>0</li>\n",
       "\t<li>0</li>\n",
       "\t<li>0</li>\n",
       "</ol>\n"
      ],
      "text/latex": [
       "\\begin{enumerate*}\n",
       "\\item 1\n",
       "\\item 0\n",
       "\\item 0\n",
       "\\item 0\n",
       "\\end{enumerate*}\n"
      ],
      "text/markdown": [
       "1. 1\n",
       "2. 0\n",
       "3. 0\n",
       "4. 0\n",
       "\n",
       "\n"
      ],
      "text/plain": [
       "[1] 1 0 0 0"
      ]
     },
     "metadata": {},
     "output_type": "display_data"
    }
   ],
   "source": [
    "poincare <- c(1, 0, 0, 0, 2, 0, 2, 0)\n",
    "length(poincare) = 4\n",
    "poincare"
   ]
  },
  {
   "cell_type": "code",
   "execution_count": 36,
   "metadata": {},
   "outputs": [
    {
     "data": {
      "text/html": [
       "<ol class=list-inline>\n",
       "\t<li>1</li>\n",
       "\t<li>0</li>\n",
       "\t<li>0</li>\n",
       "\t<li>0</li>\n",
       "\t<li>&lt;NA&gt;</li>\n",
       "\t<li>&lt;NA&gt;</li>\n",
       "\t<li>&lt;NA&gt;</li>\n",
       "\t<li>&lt;NA&gt;</li>\n",
       "</ol>\n"
      ],
      "text/latex": [
       "\\begin{enumerate*}\n",
       "\\item 1\n",
       "\\item 0\n",
       "\\item 0\n",
       "\\item 0\n",
       "\\item <NA>\n",
       "\\item <NA>\n",
       "\\item <NA>\n",
       "\\item <NA>\n",
       "\\end{enumerate*}\n"
      ],
      "text/markdown": [
       "1. 1\n",
       "2. 0\n",
       "3. 0\n",
       "4. 0\n",
       "5. &lt;NA&gt;\n",
       "6. &lt;NA&gt;\n",
       "7. &lt;NA&gt;\n",
       "8. &lt;NA&gt;\n",
       "\n",
       "\n"
      ],
      "text/plain": [
       "[1]  1  0  0  0 NA NA NA NA"
      ]
     },
     "metadata": {},
     "output_type": "display_data"
    }
   ],
   "source": [
    "length(poincare) = 8\n",
    "poincare"
   ]
  },
  {
   "cell_type": "markdown",
   "metadata": {},
   "source": [
    "### names"
   ]
  },
  {
   "cell_type": "code",
   "execution_count": 38,
   "metadata": {},
   "outputs": [
    {
     "data": {
      "text/html": [
       "<dl class=dl-horizontal>\n",
       "\t<dt>apple</dt>\n",
       "\t\t<dd>1</dd>\n",
       "\t<dt>banana</dt>\n",
       "\t\t<dd>2</dd>\n",
       "\t<dt>kiwi fruit</dt>\n",
       "\t\t<dd>3</dd>\n",
       "\t<dt>4</dt>\n",
       "\t\t<dd>4</dd>\n",
       "</dl>\n"
      ],
      "text/latex": [
       "\\begin{description*}\n",
       "\\item[apple] 1\n",
       "\\item[banana] 2\n",
       "\\item[kiwi fruit] 3\n",
       "\\item[4] 4\n",
       "\\end{description*}\n"
      ],
      "text/markdown": [
       "apple\n",
       ":   1banana\n",
       ":   2kiwi fruit\n",
       ":   34\n",
       ":   4\n",
       "\n"
      ],
      "text/plain": [
       "     apple     banana kiwi fruit            \n",
       "         1          2          3          4 "
      ]
     },
     "metadata": {},
     "output_type": "display_data"
    }
   ],
   "source": [
    "c(apple = 1, banana = 2, \"kiwi fruit\" = 3, 4)"
   ]
  },
  {
   "cell_type": "code",
   "execution_count": 40,
   "metadata": {},
   "outputs": [
    {
     "data": {
      "text/html": [
       "<dl class=dl-horizontal>\n",
       "\t<dt>apple</dt>\n",
       "\t\t<dd>1</dd>\n",
       "\t<dt>bananas</dt>\n",
       "\t\t<dd>2</dd>\n",
       "\t<dt>kiwi fruit</dt>\n",
       "\t\t<dd>3</dd>\n",
       "\t<dt>4</dt>\n",
       "\t\t<dd>4</dd>\n",
       "</dl>\n"
      ],
      "text/latex": [
       "\\begin{description*}\n",
       "\\item[apple] 1\n",
       "\\item[bananas] 2\n",
       "\\item[kiwi fruit] 3\n",
       "\\item[4] 4\n",
       "\\end{description*}\n"
      ],
      "text/markdown": [
       "apple\n",
       ":   1bananas\n",
       ":   2kiwi fruit\n",
       ":   34\n",
       ":   4\n",
       "\n"
      ],
      "text/plain": [
       "     apple    bananas kiwi fruit            \n",
       "         1          2          3          4 "
      ]
     },
     "metadata": {},
     "output_type": "display_data"
    }
   ],
   "source": [
    "x <- 1:4\n",
    "names(x) <- c(\"apple\", \"bananas\", \"kiwi fruit\", \"\")\n",
    "x"
   ]
  },
  {
   "cell_type": "markdown",
   "metadata": {},
   "source": [
    "### index"
   ]
  },
  {
   "cell_type": "code",
   "execution_count": 50,
   "metadata": {},
   "outputs": [
    {
     "data": {
      "text/html": [
       "<ol class=list-inline>\n",
       "\t<li>36</li>\n",
       "\t<li>16</li>\n",
       "\t<li>4</li>\n",
       "</ol>\n"
      ],
      "text/latex": [
       "\\begin{enumerate*}\n",
       "\\item 36\n",
       "\\item 16\n",
       "\\item 4\n",
       "\\end{enumerate*}\n"
      ],
      "text/markdown": [
       "1. 36\n",
       "2. 16\n",
       "3. 4\n",
       "\n",
       "\n"
      ],
      "text/plain": [
       "[1] 36 16  4"
      ]
     },
     "metadata": {},
     "output_type": "display_data"
    }
   ],
   "source": [
    "x <- (-6:5) ^ 2\n",
    "x[c(1, 3, 5)]"
   ]
  },
  {
   "cell_type": "code",
   "execution_count": 51,
   "metadata": {},
   "outputs": [
    {
     "data": {
      "text/html": [
       "<ol class=list-inline>\n",
       "\t<li>1</li>\n",
       "\t<li>2</li>\n",
       "\t<li>3</li>\n",
       "\t<li>11</li>\n",
       "\t<li>12</li>\n",
       "</ol>\n"
      ],
      "text/latex": [
       "\\begin{enumerate*}\n",
       "\\item 1\n",
       "\\item 2\n",
       "\\item 3\n",
       "\\item 11\n",
       "\\item 12\n",
       "\\end{enumerate*}\n"
      ],
      "text/markdown": [
       "1. 1\n",
       "2. 2\n",
       "3. 3\n",
       "4. 11\n",
       "5. 12\n",
       "\n",
       "\n"
      ],
      "text/plain": [
       "[1]  1  2  3 11 12"
      ]
     },
     "metadata": {},
     "output_type": "display_data"
    }
   ],
   "source": [
    "which(x > 10)"
   ]
  },
  {
   "cell_type": "code",
   "execution_count": 53,
   "metadata": {},
   "outputs": [
    {
     "data": {
      "text/html": [
       "1"
      ],
      "text/latex": [
       "1"
      ],
      "text/markdown": [
       "1"
      ],
      "text/plain": [
       "[1] 1"
      ]
     },
     "metadata": {},
     "output_type": "display_data"
    }
   ],
   "source": [
    "which.max(x)  ## return argmax index"
   ]
  },
  {
   "cell_type": "markdown",
   "metadata": {},
   "source": [
    "### loop and rep in vector"
   ]
  },
  {
   "cell_type": "code",
   "execution_count": 54,
   "metadata": {},
   "outputs": [
    {
     "data": {
      "text/html": [
       "<ol class=list-inline>\n",
       "\t<li>1</li>\n",
       "\t<li>2</li>\n",
       "\t<li>3</li>\n",
       "\t<li>4</li>\n",
       "\t<li>5</li>\n",
       "\t<li>1</li>\n",
       "\t<li>2</li>\n",
       "\t<li>3</li>\n",
       "\t<li>4</li>\n",
       "\t<li>5</li>\n",
       "\t<li>1</li>\n",
       "\t<li>2</li>\n",
       "\t<li>3</li>\n",
       "\t<li>4</li>\n",
       "\t<li>5</li>\n",
       "</ol>\n"
      ],
      "text/latex": [
       "\\begin{enumerate*}\n",
       "\\item 1\n",
       "\\item 2\n",
       "\\item 3\n",
       "\\item 4\n",
       "\\item 5\n",
       "\\item 1\n",
       "\\item 2\n",
       "\\item 3\n",
       "\\item 4\n",
       "\\item 5\n",
       "\\item 1\n",
       "\\item 2\n",
       "\\item 3\n",
       "\\item 4\n",
       "\\item 5\n",
       "\\end{enumerate*}\n"
      ],
      "text/markdown": [
       "1. 1\n",
       "2. 2\n",
       "3. 3\n",
       "4. 4\n",
       "5. 5\n",
       "6. 1\n",
       "7. 2\n",
       "8. 3\n",
       "9. 4\n",
       "10. 5\n",
       "11. 1\n",
       "12. 2\n",
       "13. 3\n",
       "14. 4\n",
       "15. 5\n",
       "\n",
       "\n"
      ],
      "text/plain": [
       " [1] 1 2 3 4 5 1 2 3 4 5 1 2 3 4 5"
      ]
     },
     "metadata": {},
     "output_type": "display_data"
    }
   ],
   "source": [
    "rep(1:5, 3)"
   ]
  },
  {
   "cell_type": "code",
   "execution_count": 55,
   "metadata": {},
   "outputs": [
    {
     "data": {
      "text/html": [
       "<ol class=list-inline>\n",
       "\t<li>1</li>\n",
       "\t<li>1</li>\n",
       "\t<li>1</li>\n",
       "\t<li>2</li>\n",
       "\t<li>2</li>\n",
       "\t<li>2</li>\n",
       "\t<li>3</li>\n",
       "\t<li>3</li>\n",
       "\t<li>3</li>\n",
       "\t<li>4</li>\n",
       "\t<li>4</li>\n",
       "\t<li>4</li>\n",
       "\t<li>5</li>\n",
       "\t<li>5</li>\n",
       "\t<li>5</li>\n",
       "</ol>\n"
      ],
      "text/latex": [
       "\\begin{enumerate*}\n",
       "\\item 1\n",
       "\\item 1\n",
       "\\item 1\n",
       "\\item 2\n",
       "\\item 2\n",
       "\\item 2\n",
       "\\item 3\n",
       "\\item 3\n",
       "\\item 3\n",
       "\\item 4\n",
       "\\item 4\n",
       "\\item 4\n",
       "\\item 5\n",
       "\\item 5\n",
       "\\item 5\n",
       "\\end{enumerate*}\n"
      ],
      "text/markdown": [
       "1. 1\n",
       "2. 1\n",
       "3. 1\n",
       "4. 2\n",
       "5. 2\n",
       "6. 2\n",
       "7. 3\n",
       "8. 3\n",
       "9. 3\n",
       "10. 4\n",
       "11. 4\n",
       "12. 4\n",
       "13. 5\n",
       "14. 5\n",
       "15. 5\n",
       "\n",
       "\n"
      ],
      "text/plain": [
       " [1] 1 1 1 2 2 2 3 3 3 4 4 4 5 5 5"
      ]
     },
     "metadata": {},
     "output_type": "display_data"
    }
   ],
   "source": [
    "rep(1:5, each = 3)"
   ]
  },
  {
   "cell_type": "code",
   "execution_count": 56,
   "metadata": {},
   "outputs": [
    {
     "data": {
      "text/html": [
       "<ol class=list-inline>\n",
       "\t<li>1</li>\n",
       "\t<li>2</li>\n",
       "\t<li>2</li>\n",
       "\t<li>3</li>\n",
       "\t<li>3</li>\n",
       "\t<li>3</li>\n",
       "\t<li>4</li>\n",
       "\t<li>4</li>\n",
       "\t<li>4</li>\n",
       "\t<li>4</li>\n",
       "\t<li>5</li>\n",
       "\t<li>5</li>\n",
       "\t<li>5</li>\n",
       "\t<li>5</li>\n",
       "\t<li>5</li>\n",
       "</ol>\n"
      ],
      "text/latex": [
       "\\begin{enumerate*}\n",
       "\\item 1\n",
       "\\item 2\n",
       "\\item 2\n",
       "\\item 3\n",
       "\\item 3\n",
       "\\item 3\n",
       "\\item 4\n",
       "\\item 4\n",
       "\\item 4\n",
       "\\item 4\n",
       "\\item 5\n",
       "\\item 5\n",
       "\\item 5\n",
       "\\item 5\n",
       "\\item 5\n",
       "\\end{enumerate*}\n"
      ],
      "text/markdown": [
       "1. 1\n",
       "2. 2\n",
       "3. 2\n",
       "4. 3\n",
       "5. 3\n",
       "6. 3\n",
       "7. 4\n",
       "8. 4\n",
       "9. 4\n",
       "10. 4\n",
       "11. 5\n",
       "12. 5\n",
       "13. 5\n",
       "14. 5\n",
       "15. 5\n",
       "\n",
       "\n"
      ],
      "text/plain": [
       " [1] 1 2 2 3 3 3 4 4 4 4 5 5 5 5 5"
      ]
     },
     "metadata": {},
     "output_type": "display_data"
    }
   ],
   "source": [
    "rep(1:5, times = 1:5)"
   ]
  },
  {
   "cell_type": "code",
   "execution_count": 57,
   "metadata": {},
   "outputs": [
    {
     "data": {
      "text/html": [
       "<ol class=list-inline>\n",
       "\t<li>1</li>\n",
       "\t<li>2</li>\n",
       "\t<li>3</li>\n",
       "\t<li>4</li>\n",
       "\t<li>5</li>\n",
       "\t<li>1</li>\n",
       "\t<li>2</li>\n",
       "</ol>\n"
      ],
      "text/latex": [
       "\\begin{enumerate*}\n",
       "\\item 1\n",
       "\\item 2\n",
       "\\item 3\n",
       "\\item 4\n",
       "\\item 5\n",
       "\\item 1\n",
       "\\item 2\n",
       "\\end{enumerate*}\n"
      ],
      "text/markdown": [
       "1. 1\n",
       "2. 2\n",
       "3. 3\n",
       "4. 4\n",
       "5. 5\n",
       "6. 1\n",
       "7. 2\n",
       "\n",
       "\n"
      ],
      "text/plain": [
       "[1] 1 2 3 4 5 1 2"
      ]
     },
     "metadata": {},
     "output_type": "display_data"
    }
   ],
   "source": [
    "rep(1:5, length.out = 7)"
   ]
  },
  {
   "cell_type": "code",
   "execution_count": 58,
   "metadata": {},
   "outputs": [
    {
     "data": {
      "text/html": [
       "<ol class=list-inline>\n",
       "\t<li>1</li>\n",
       "\t<li>2</li>\n",
       "\t<li>3</li>\n",
       "\t<li>4</li>\n",
       "\t<li>5</li>\n",
       "\t<li>1</li>\n",
       "\t<li>2</li>\n",
       "\t<li>3</li>\n",
       "\t<li>4</li>\n",
       "\t<li>5</li>\n",
       "\t<li>1</li>\n",
       "\t<li>2</li>\n",
       "\t<li>3</li>\n",
       "\t<li>4</li>\n",
       "\t<li>5</li>\n",
       "</ol>\n"
      ],
      "text/latex": [
       "\\begin{enumerate*}\n",
       "\\item 1\n",
       "\\item 2\n",
       "\\item 3\n",
       "\\item 4\n",
       "\\item 5\n",
       "\\item 1\n",
       "\\item 2\n",
       "\\item 3\n",
       "\\item 4\n",
       "\\item 5\n",
       "\\item 1\n",
       "\\item 2\n",
       "\\item 3\n",
       "\\item 4\n",
       "\\item 5\n",
       "\\end{enumerate*}\n"
      ],
      "text/markdown": [
       "1. 1\n",
       "2. 2\n",
       "3. 3\n",
       "4. 4\n",
       "5. 5\n",
       "6. 1\n",
       "7. 2\n",
       "8. 3\n",
       "9. 4\n",
       "10. 5\n",
       "11. 1\n",
       "12. 2\n",
       "13. 3\n",
       "14. 4\n",
       "15. 5\n",
       "\n",
       "\n"
      ],
      "text/plain": [
       " [1] 1 2 3 4 5 1 2 3 4 5 1 2 3 4 5"
      ]
     },
     "metadata": {},
     "output_type": "display_data"
    }
   ],
   "source": [
    "rep.int(1:5, 3)"
   ]
  },
  {
   "cell_type": "code",
   "execution_count": 59,
   "metadata": {},
   "outputs": [
    {
     "data": {
      "text/html": [
       "<ol class=list-inline>\n",
       "\t<li>1</li>\n",
       "\t<li>2</li>\n",
       "\t<li>3</li>\n",
       "\t<li>4</li>\n",
       "\t<li>5</li>\n",
       "\t<li>1</li>\n",
       "\t<li>2</li>\n",
       "\t<li>3</li>\n",
       "\t<li>4</li>\n",
       "\t<li>5</li>\n",
       "\t<li>1</li>\n",
       "\t<li>2</li>\n",
       "\t<li>3</li>\n",
       "</ol>\n"
      ],
      "text/latex": [
       "\\begin{enumerate*}\n",
       "\\item 1\n",
       "\\item 2\n",
       "\\item 3\n",
       "\\item 4\n",
       "\\item 5\n",
       "\\item 1\n",
       "\\item 2\n",
       "\\item 3\n",
       "\\item 4\n",
       "\\item 5\n",
       "\\item 1\n",
       "\\item 2\n",
       "\\item 3\n",
       "\\end{enumerate*}\n"
      ],
      "text/markdown": [
       "1. 1\n",
       "2. 2\n",
       "3. 3\n",
       "4. 4\n",
       "5. 5\n",
       "6. 1\n",
       "7. 2\n",
       "8. 3\n",
       "9. 4\n",
       "10. 5\n",
       "11. 1\n",
       "12. 2\n",
       "13. 3\n",
       "\n",
       "\n"
      ],
      "text/plain": [
       " [1] 1 2 3 4 5 1 2 3 4 5 1 2 3"
      ]
     },
     "metadata": {},
     "output_type": "display_data"
    }
   ],
   "source": [
    "rep_len(1:5, 13)"
   ]
  },
  {
   "cell_type": "markdown",
   "metadata": {},
   "source": [
    "### Array and Matrix"
   ]
  },
  {
   "cell_type": "markdown",
   "metadata": {},
   "source": [
    "创建数组"
   ]
  },
  {
   "cell_type": "code",
   "execution_count": 64,
   "metadata": {},
   "outputs": [
    {
     "data": {
      "text/html": [
       "<ol class=list-inline>\n",
       "\t<li>1</li>\n",
       "\t<li>2</li>\n",
       "\t<li>3</li>\n",
       "\t<li>4</li>\n",
       "\t<li>5</li>\n",
       "\t<li>6</li>\n",
       "\t<li>7</li>\n",
       "\t<li>8</li>\n",
       "\t<li>9</li>\n",
       "\t<li>10</li>\n",
       "\t<li>11</li>\n",
       "\t<li>12</li>\n",
       "\t<li>13</li>\n",
       "\t<li>14</li>\n",
       "\t<li>15</li>\n",
       "\t<li>16</li>\n",
       "\t<li>17</li>\n",
       "\t<li>18</li>\n",
       "\t<li>19</li>\n",
       "\t<li>20</li>\n",
       "\t<li>21</li>\n",
       "\t<li>22</li>\n",
       "\t<li>23</li>\n",
       "\t<li>24</li>\n",
       "</ol>\n"
      ],
      "text/latex": [
       "\\begin{enumerate*}\n",
       "\\item 1\n",
       "\\item 2\n",
       "\\item 3\n",
       "\\item 4\n",
       "\\item 5\n",
       "\\item 6\n",
       "\\item 7\n",
       "\\item 8\n",
       "\\item 9\n",
       "\\item 10\n",
       "\\item 11\n",
       "\\item 12\n",
       "\\item 13\n",
       "\\item 14\n",
       "\\item 15\n",
       "\\item 16\n",
       "\\item 17\n",
       "\\item 18\n",
       "\\item 19\n",
       "\\item 20\n",
       "\\item 21\n",
       "\\item 22\n",
       "\\item 23\n",
       "\\item 24\n",
       "\\end{enumerate*}\n"
      ],
      "text/markdown": [
       "1. 1\n",
       "2. 2\n",
       "3. 3\n",
       "4. 4\n",
       "5. 5\n",
       "6. 6\n",
       "7. 7\n",
       "8. 8\n",
       "9. 9\n",
       "10. 10\n",
       "11. 11\n",
       "12. 12\n",
       "13. 13\n",
       "14. 14\n",
       "15. 15\n",
       "16. 16\n",
       "17. 17\n",
       "18. 18\n",
       "19. 19\n",
       "20. 20\n",
       "21. 21\n",
       "22. 22\n",
       "23. 23\n",
       "24. 24\n",
       "\n",
       "\n"
      ],
      "text/plain": [
       ", , un\n",
       "\n",
       "      ein zwei drei\n",
       "one     1    5    9\n",
       "two     2    6   10\n",
       "three   3    7   11\n",
       "four    4    8   12\n",
       "\n",
       ", , deux\n",
       "\n",
       "      ein zwei drei\n",
       "one    13   17   21\n",
       "two    14   18   22\n",
       "three  15   19   23\n",
       "four   16   20   24\n"
      ]
     },
     "metadata": {},
     "output_type": "display_data"
    }
   ],
   "source": [
    "three_d_array = array(\n",
    "    1:24, \n",
    "    dim = c(4,3,2),\n",
    "    dimnames = list(\n",
    "        c(\"one\", \"two\", \"three\", \"four\"),\n",
    "        c(\"ein\", \"zwei\", \"drei\"),\n",
    "        c(\"un\", \"deux\")\n",
    "    )\n",
    ")\n",
    "three_d_array"
   ]
  },
  {
   "cell_type": "code",
   "execution_count": 69,
   "metadata": {},
   "outputs": [
    {
     "data": {
      "text/html": [
       "<table>\n",
       "<thead><tr><th></th><th scope=col>ein</th><th scope=col>zwei</th><th scope=col>drei</th></tr></thead>\n",
       "<tbody>\n",
       "\t<tr><th scope=row>one</th><td>1 </td><td>5 </td><td> 9</td></tr>\n",
       "\t<tr><th scope=row>two</th><td>2 </td><td>6 </td><td>10</td></tr>\n",
       "\t<tr><th scope=row>three</th><td>3 </td><td>7 </td><td>11</td></tr>\n",
       "\t<tr><th scope=row>four</th><td>4 </td><td>8 </td><td>12</td></tr>\n",
       "</tbody>\n",
       "</table>\n"
      ],
      "text/latex": [
       "\\begin{tabular}{r|lll}\n",
       "  & ein & zwei & drei\\\\\n",
       "\\hline\n",
       "\tone & 1  & 5  &  9\\\\\n",
       "\ttwo & 2  & 6  & 10\\\\\n",
       "\tthree & 3  & 7  & 11\\\\\n",
       "\tfour & 4  & 8  & 12\\\\\n",
       "\\end{tabular}\n"
      ],
      "text/markdown": [
       "\n",
       "| <!--/--> | ein | zwei | drei |\n",
       "|---|---|---|---|\n",
       "| one | 1  | 5  |  9 |\n",
       "| two | 2  | 6  | 10 |\n",
       "| three | 3  | 7  | 11 |\n",
       "| four | 4  | 8  | 12 |\n",
       "\n"
      ],
      "text/plain": [
       "      ein zwei drei\n",
       "one   1   5     9  \n",
       "two   2   6    10  \n",
       "three 3   7    11  \n",
       "four  4   8    12  "
      ]
     },
     "metadata": {},
     "output_type": "display_data"
    }
   ],
   "source": [
    "a_matrix = matrix(\n",
    "    1:12,\n",
    "    nrow = 4, \n",
    "    dimnames = list(\n",
    "        c(\"one\", \"two\", \"three\", \"four\"),\n",
    "        c(\"ein\", \"zwei\", \"drei\")\n",
    "    )\n",
    ")\n",
    "a_matrix"
   ]
  },
  {
   "cell_type": "code",
   "execution_count": 70,
   "metadata": {},
   "outputs": [
    {
     "name": "stdout",
     "output_type": "stream",
     "text": [
      "[1] 4 3 2\n",
      "[1] 4 3\n"
     ]
    }
   ],
   "source": [
    "print(dim(three_d_array))\n",
    "print(dim(a_matrix))"
   ]
  },
  {
   "cell_type": "code",
   "execution_count": 72,
   "metadata": {},
   "outputs": [
    {
     "name": "stdout",
     "output_type": "stream",
     "text": [
      "[1] 4\n",
      "[1] 3\n"
     ]
    }
   ],
   "source": [
    "print(nrow(three_d_array))\n",
    "print(ncol(three_d_array))"
   ]
  },
  {
   "cell_type": "code",
   "execution_count": 73,
   "metadata": {},
   "outputs": [
    {
     "data": {
      "text/html": [
       "<table>\n",
       "<tbody>\n",
       "\t<tr><td>1 </td><td> 5</td><td>2 </td></tr>\n",
       "\t<tr><td>0 </td><td>-3</td><td>4 </td></tr>\n",
       "\t<tr><td>1 </td><td> 1</td><td>7 </td></tr>\n",
       "</tbody>\n",
       "</table>\n"
      ],
      "text/latex": [
       "\\begin{tabular}{lll}\n",
       "\t 1  &  5 & 2 \\\\\n",
       "\t 0  & -3 & 4 \\\\\n",
       "\t 1  &  1 & 7 \\\\\n",
       "\\end{tabular}\n"
      ],
      "text/markdown": [
       "\n",
       "| 1  |  5 | 2  |\n",
       "| 0  | -3 | 4  |\n",
       "| 1  |  1 | 7  |\n",
       "\n"
      ],
      "text/plain": [
       "     [,1] [,2] [,3]\n",
       "[1,] 1     5   2   \n",
       "[2,] 0    -3   4   \n",
       "[3,] 1     1   7   "
      ]
     },
     "metadata": {},
     "output_type": "display_data"
    }
   ],
   "source": [
    "m <- matrix(c(1, 0, 1, 5, -3, 1, 2, 4, 7), nrow = 3)\n",
    "m"
   ]
  },
  {
   "cell_type": "code",
   "execution_count": 74,
   "metadata": {},
   "outputs": [
    {
     "data": {
      "text/html": [
       "<table>\n",
       "<tbody>\n",
       "\t<tr><td>  1       </td><td> 0.2000000</td><td>0.5000000 </td></tr>\n",
       "\t<tr><td>Inf       </td><td>-0.3333333</td><td>0.2500000 </td></tr>\n",
       "\t<tr><td>  1       </td><td> 1.0000000</td><td>0.1428571 </td></tr>\n",
       "</tbody>\n",
       "</table>\n"
      ],
      "text/latex": [
       "\\begin{tabular}{lll}\n",
       "\t   1        &  0.2000000 & 0.5000000 \\\\\n",
       "\t Inf        & -0.3333333 & 0.2500000 \\\\\n",
       "\t   1        &  1.0000000 & 0.1428571 \\\\\n",
       "\\end{tabular}\n"
      ],
      "text/markdown": [
       "\n",
       "|   1        |  0.2000000 | 0.5000000  |\n",
       "| Inf        | -0.3333333 | 0.2500000  |\n",
       "|   1        |  1.0000000 | 0.1428571  |\n",
       "\n"
      ],
      "text/plain": [
       "     [,1] [,2]       [,3]     \n",
       "[1,]   1   0.2000000 0.5000000\n",
       "[2,] Inf  -0.3333333 0.2500000\n",
       "[3,]   1   1.0000000 0.1428571"
      ]
     },
     "metadata": {},
     "output_type": "display_data"
    }
   ],
   "source": [
    "m ^ -1"
   ]
  },
  {
   "cell_type": "code",
   "execution_count": 75,
   "metadata": {},
   "outputs": [
    {
     "data": {
      "text/html": [
       "<table>\n",
       "<tbody>\n",
       "\t<tr><td>-25</td><td>-33</td><td>26 </td></tr>\n",
       "\t<tr><td>  4</td><td>  5</td><td>-4 </td></tr>\n",
       "\t<tr><td>  3</td><td>  4</td><td>-3 </td></tr>\n",
       "</tbody>\n",
       "</table>\n"
      ],
      "text/latex": [
       "\\begin{tabular}{lll}\n",
       "\t -25 & -33 & 26 \\\\\n",
       "\t   4 &   5 & -4 \\\\\n",
       "\t   3 &   4 & -3 \\\\\n",
       "\\end{tabular}\n"
      ],
      "text/markdown": [
       "\n",
       "| -25 | -33 | 26  |\n",
       "|   4 |   5 | -4  |\n",
       "|   3 |   4 | -3  |\n",
       "\n"
      ],
      "text/plain": [
       "     [,1] [,2] [,3]\n",
       "[1,] -25  -33  26  \n",
       "[2,]   4    5  -4  \n",
       "[3,]   3    4  -3  "
      ]
     },
     "metadata": {},
     "output_type": "display_data"
    }
   ],
   "source": [
    "inverse_of_m = solve(m)\n",
    "inverse_of_m"
   ]
  },
  {
   "cell_type": "code",
   "execution_count": 77,
   "metadata": {},
   "outputs": [
    {
     "data": {
      "text/html": [
       "<table>\n",
       "<tbody>\n",
       "\t<tr><td>1</td><td>0</td><td>0</td></tr>\n",
       "\t<tr><td>0</td><td>1</td><td>0</td></tr>\n",
       "\t<tr><td>0</td><td>0</td><td>1</td></tr>\n",
       "</tbody>\n",
       "</table>\n"
      ],
      "text/latex": [
       "\\begin{tabular}{lll}\n",
       "\t 1 & 0 & 0\\\\\n",
       "\t 0 & 1 & 0\\\\\n",
       "\t 0 & 0 & 1\\\\\n",
       "\\end{tabular}\n"
      ],
      "text/markdown": [
       "\n",
       "| 1 | 0 | 0 |\n",
       "| 0 | 1 | 0 |\n",
       "| 0 | 0 | 1 |\n",
       "\n"
      ],
      "text/plain": [
       "     [,1] [,2] [,3]\n",
       "[1,] 1    0    0   \n",
       "[2,] 0    1    0   \n",
       "[3,] 0    0    1   "
      ]
     },
     "metadata": {},
     "output_type": "display_data"
    }
   ],
   "source": [
    "m %*% solve(m)"
   ]
  },
  {
   "cell_type": "markdown",
   "metadata": {},
   "source": [
    "### QA\n",
    "Q1: 四种向量索引方式  \n",
    "A1:  \n",
    " - 给向量传入正数\n",
    " - 给向量传入负数\n",
    " - 给向量传入逻辑向量\n",
    " - 对于已命名的向量，给向量传入命名的字符向量\n",
    " \n",
    "Q2: 第 n 个三角形数表示为 n * (n + 1) / 2。创建一个包含前 20 个三角形数的序列。R 有 一个内置常数 letters，它包含小写的罗马字母。使用前 20 个英文字母来给你刚刚创 建的向量命名。选择命名为元音的三角数。  \n",
    "A2:  "
   ]
  },
  {
   "cell_type": "code",
   "execution_count": 86,
   "metadata": {},
   "outputs": [
    {
     "data": {
      "text/html": [
       "<dl class=dl-horizontal>\n",
       "\t<dt>a</dt>\n",
       "\t\t<dd>1</dd>\n",
       "\t<dt>b</dt>\n",
       "\t\t<dd>3</dd>\n",
       "\t<dt>c</dt>\n",
       "\t\t<dd>6</dd>\n",
       "\t<dt>d</dt>\n",
       "\t\t<dd>10</dd>\n",
       "\t<dt>e</dt>\n",
       "\t\t<dd>15</dd>\n",
       "\t<dt>f</dt>\n",
       "\t\t<dd>21</dd>\n",
       "\t<dt>g</dt>\n",
       "\t\t<dd>28</dd>\n",
       "\t<dt>h</dt>\n",
       "\t\t<dd>36</dd>\n",
       "\t<dt>i</dt>\n",
       "\t\t<dd>45</dd>\n",
       "\t<dt>j</dt>\n",
       "\t\t<dd>55</dd>\n",
       "\t<dt>k</dt>\n",
       "\t\t<dd>66</dd>\n",
       "\t<dt>l</dt>\n",
       "\t\t<dd>78</dd>\n",
       "\t<dt>m</dt>\n",
       "\t\t<dd>91</dd>\n",
       "\t<dt>n</dt>\n",
       "\t\t<dd>105</dd>\n",
       "\t<dt>o</dt>\n",
       "\t\t<dd>120</dd>\n",
       "\t<dt>p</dt>\n",
       "\t\t<dd>136</dd>\n",
       "\t<dt>q</dt>\n",
       "\t\t<dd>153</dd>\n",
       "\t<dt>r</dt>\n",
       "\t\t<dd>171</dd>\n",
       "\t<dt>s</dt>\n",
       "\t\t<dd>190</dd>\n",
       "\t<dt>t</dt>\n",
       "\t\t<dd>210</dd>\n",
       "</dl>\n"
      ],
      "text/latex": [
       "\\begin{description*}\n",
       "\\item[a] 1\n",
       "\\item[b] 3\n",
       "\\item[c] 6\n",
       "\\item[d] 10\n",
       "\\item[e] 15\n",
       "\\item[f] 21\n",
       "\\item[g] 28\n",
       "\\item[h] 36\n",
       "\\item[i] 45\n",
       "\\item[j] 55\n",
       "\\item[k] 66\n",
       "\\item[l] 78\n",
       "\\item[m] 91\n",
       "\\item[n] 105\n",
       "\\item[o] 120\n",
       "\\item[p] 136\n",
       "\\item[q] 153\n",
       "\\item[r] 171\n",
       "\\item[s] 190\n",
       "\\item[t] 210\n",
       "\\end{description*}\n"
      ],
      "text/markdown": [
       "a\n",
       ":   1b\n",
       ":   3c\n",
       ":   6d\n",
       ":   10e\n",
       ":   15f\n",
       ":   21g\n",
       ":   28h\n",
       ":   36i\n",
       ":   45j\n",
       ":   55k\n",
       ":   66l\n",
       ":   78m\n",
       ":   91n\n",
       ":   105o\n",
       ":   120p\n",
       ":   136q\n",
       ":   153r\n",
       ":   171s\n",
       ":   190t\n",
       ":   210\n",
       "\n"
      ],
      "text/plain": [
       "  a   b   c   d   e   f   g   h   i   j   k   l   m   n   o   p   q   r   s   t \n",
       "  1   3   6  10  15  21  28  36  45  55  66  78  91 105 120 136 153 171 190 210 "
      ]
     },
     "metadata": {},
     "output_type": "display_data"
    }
   ],
   "source": [
    "idx = 1:20\n",
    "tri_numbers = idx * (idx + 1) / 2\n",
    "names(tri_numbers) = letters[1:20]\n",
    "tri_numbers"
   ]
  },
  {
   "cell_type": "markdown",
   "metadata": {},
   "source": [
    "Q3: diag 函数有几种用途，其中之一是以输入向量作为对角线来创建一个方阵。使用序列 10 到 0 到 11(即 11,10,...,1,0,1,...,11)创建一个 21×21 的矩阵。  \n",
    "A3: "
   ]
  },
  {
   "cell_type": "code",
   "execution_count": 112,
   "metadata": {},
   "outputs": [
    {
     "data": {
      "text/html": [
       "<table>\n",
       "<tbody>\n",
       "\t<tr><td>10 </td><td>0  </td><td>0  </td><td>0  </td><td>0  </td><td>0  </td><td>0  </td><td>0  </td><td>0  </td><td>0  </td><td>...</td><td>0  </td><td>0  </td><td>0  </td><td>0  </td><td>0  </td><td>0  </td><td>0  </td><td>0  </td><td>0  </td><td> 0 </td></tr>\n",
       "\t<tr><td> 0 </td><td>9  </td><td>0  </td><td>0  </td><td>0  </td><td>0  </td><td>0  </td><td>0  </td><td>0  </td><td>0  </td><td>...</td><td>0  </td><td>0  </td><td>0  </td><td>0  </td><td>0  </td><td>0  </td><td>0  </td><td>0  </td><td>0  </td><td> 0 </td></tr>\n",
       "\t<tr><td> 0 </td><td>0  </td><td>8  </td><td>0  </td><td>0  </td><td>0  </td><td>0  </td><td>0  </td><td>0  </td><td>0  </td><td>...</td><td>0  </td><td>0  </td><td>0  </td><td>0  </td><td>0  </td><td>0  </td><td>0  </td><td>0  </td><td>0  </td><td> 0 </td></tr>\n",
       "\t<tr><td> 0 </td><td>0  </td><td>0  </td><td>7  </td><td>0  </td><td>0  </td><td>0  </td><td>0  </td><td>0  </td><td>0  </td><td>...</td><td>0  </td><td>0  </td><td>0  </td><td>0  </td><td>0  </td><td>0  </td><td>0  </td><td>0  </td><td>0  </td><td> 0 </td></tr>\n",
       "\t<tr><td> 0 </td><td>0  </td><td>0  </td><td>0  </td><td>6  </td><td>0  </td><td>0  </td><td>0  </td><td>0  </td><td>0  </td><td>...</td><td>0  </td><td>0  </td><td>0  </td><td>0  </td><td>0  </td><td>0  </td><td>0  </td><td>0  </td><td>0  </td><td> 0 </td></tr>\n",
       "\t<tr><td> 0 </td><td>0  </td><td>0  </td><td>0  </td><td>0  </td><td>5  </td><td>0  </td><td>0  </td><td>0  </td><td>0  </td><td>...</td><td>0  </td><td>0  </td><td>0  </td><td>0  </td><td>0  </td><td>0  </td><td>0  </td><td>0  </td><td>0  </td><td> 0 </td></tr>\n",
       "\t<tr><td> 0 </td><td>0  </td><td>0  </td><td>0  </td><td>0  </td><td>0  </td><td>4  </td><td>0  </td><td>0  </td><td>0  </td><td>...</td><td>0  </td><td>0  </td><td>0  </td><td>0  </td><td>0  </td><td>0  </td><td>0  </td><td>0  </td><td>0  </td><td> 0 </td></tr>\n",
       "\t<tr><td> 0 </td><td>0  </td><td>0  </td><td>0  </td><td>0  </td><td>0  </td><td>0  </td><td>3  </td><td>0  </td><td>0  </td><td>...</td><td>0  </td><td>0  </td><td>0  </td><td>0  </td><td>0  </td><td>0  </td><td>0  </td><td>0  </td><td>0  </td><td> 0 </td></tr>\n",
       "\t<tr><td> 0 </td><td>0  </td><td>0  </td><td>0  </td><td>0  </td><td>0  </td><td>0  </td><td>0  </td><td>2  </td><td>0  </td><td>...</td><td>0  </td><td>0  </td><td>0  </td><td>0  </td><td>0  </td><td>0  </td><td>0  </td><td>0  </td><td>0  </td><td> 0 </td></tr>\n",
       "\t<tr><td> 0 </td><td>0  </td><td>0  </td><td>0  </td><td>0  </td><td>0  </td><td>0  </td><td>0  </td><td>0  </td><td>1  </td><td>...</td><td>0  </td><td>0  </td><td>0  </td><td>0  </td><td>0  </td><td>0  </td><td>0  </td><td>0  </td><td>0  </td><td> 0 </td></tr>\n",
       "\t<tr><td> 0 </td><td>0  </td><td>0  </td><td>0  </td><td>0  </td><td>0  </td><td>0  </td><td>0  </td><td>0  </td><td>0  </td><td>...</td><td>0  </td><td>0  </td><td>0  </td><td>0  </td><td>0  </td><td>0  </td><td>0  </td><td>0  </td><td>0  </td><td> 0 </td></tr>\n",
       "\t<tr><td> 0 </td><td>0  </td><td>0  </td><td>0  </td><td>0  </td><td>0  </td><td>0  </td><td>0  </td><td>0  </td><td>0  </td><td>...</td><td>1  </td><td>0  </td><td>0  </td><td>0  </td><td>0  </td><td>0  </td><td>0  </td><td>0  </td><td>0  </td><td> 0 </td></tr>\n",
       "\t<tr><td> 0 </td><td>0  </td><td>0  </td><td>0  </td><td>0  </td><td>0  </td><td>0  </td><td>0  </td><td>0  </td><td>0  </td><td>...</td><td>0  </td><td>2  </td><td>0  </td><td>0  </td><td>0  </td><td>0  </td><td>0  </td><td>0  </td><td>0  </td><td> 0 </td></tr>\n",
       "\t<tr><td> 0 </td><td>0  </td><td>0  </td><td>0  </td><td>0  </td><td>0  </td><td>0  </td><td>0  </td><td>0  </td><td>0  </td><td>...</td><td>0  </td><td>0  </td><td>3  </td><td>0  </td><td>0  </td><td>0  </td><td>0  </td><td>0  </td><td>0  </td><td> 0 </td></tr>\n",
       "\t<tr><td> 0 </td><td>0  </td><td>0  </td><td>0  </td><td>0  </td><td>0  </td><td>0  </td><td>0  </td><td>0  </td><td>0  </td><td>...</td><td>0  </td><td>0  </td><td>0  </td><td>4  </td><td>0  </td><td>0  </td><td>0  </td><td>0  </td><td>0  </td><td> 0 </td></tr>\n",
       "\t<tr><td> 0 </td><td>0  </td><td>0  </td><td>0  </td><td>0  </td><td>0  </td><td>0  </td><td>0  </td><td>0  </td><td>0  </td><td>...</td><td>0  </td><td>0  </td><td>0  </td><td>0  </td><td>5  </td><td>0  </td><td>0  </td><td>0  </td><td>0  </td><td> 0 </td></tr>\n",
       "\t<tr><td> 0 </td><td>0  </td><td>0  </td><td>0  </td><td>0  </td><td>0  </td><td>0  </td><td>0  </td><td>0  </td><td>0  </td><td>...</td><td>0  </td><td>0  </td><td>0  </td><td>0  </td><td>0  </td><td>6  </td><td>0  </td><td>0  </td><td>0  </td><td> 0 </td></tr>\n",
       "\t<tr><td> 0 </td><td>0  </td><td>0  </td><td>0  </td><td>0  </td><td>0  </td><td>0  </td><td>0  </td><td>0  </td><td>0  </td><td>...</td><td>0  </td><td>0  </td><td>0  </td><td>0  </td><td>0  </td><td>0  </td><td>7  </td><td>0  </td><td>0  </td><td> 0 </td></tr>\n",
       "\t<tr><td> 0 </td><td>0  </td><td>0  </td><td>0  </td><td>0  </td><td>0  </td><td>0  </td><td>0  </td><td>0  </td><td>0  </td><td>...</td><td>0  </td><td>0  </td><td>0  </td><td>0  </td><td>0  </td><td>0  </td><td>0  </td><td>8  </td><td>0  </td><td> 0 </td></tr>\n",
       "\t<tr><td> 0 </td><td>0  </td><td>0  </td><td>0  </td><td>0  </td><td>0  </td><td>0  </td><td>0  </td><td>0  </td><td>0  </td><td>...</td><td>0  </td><td>0  </td><td>0  </td><td>0  </td><td>0  </td><td>0  </td><td>0  </td><td>0  </td><td>9  </td><td> 0 </td></tr>\n",
       "\t<tr><td> 0 </td><td>0  </td><td>0  </td><td>0  </td><td>0  </td><td>0  </td><td>0  </td><td>0  </td><td>0  </td><td>0  </td><td>...</td><td>0  </td><td>0  </td><td>0  </td><td>0  </td><td>0  </td><td>0  </td><td>0  </td><td>0  </td><td>0  </td><td>10 </td></tr>\n",
       "</tbody>\n",
       "</table>\n"
      ],
      "text/latex": [
       "\\begin{tabular}{lllllllllllllllllllll}\n",
       "\t 10  & 0   & 0   & 0   & 0   & 0   & 0   & 0   & 0   & 0   & ... & 0   & 0   & 0   & 0   & 0   & 0   & 0   & 0   & 0   &  0 \\\\\n",
       "\t  0  & 9   & 0   & 0   & 0   & 0   & 0   & 0   & 0   & 0   & ... & 0   & 0   & 0   & 0   & 0   & 0   & 0   & 0   & 0   &  0 \\\\\n",
       "\t  0  & 0   & 8   & 0   & 0   & 0   & 0   & 0   & 0   & 0   & ... & 0   & 0   & 0   & 0   & 0   & 0   & 0   & 0   & 0   &  0 \\\\\n",
       "\t  0  & 0   & 0   & 7   & 0   & 0   & 0   & 0   & 0   & 0   & ... & 0   & 0   & 0   & 0   & 0   & 0   & 0   & 0   & 0   &  0 \\\\\n",
       "\t  0  & 0   & 0   & 0   & 6   & 0   & 0   & 0   & 0   & 0   & ... & 0   & 0   & 0   & 0   & 0   & 0   & 0   & 0   & 0   &  0 \\\\\n",
       "\t  0  & 0   & 0   & 0   & 0   & 5   & 0   & 0   & 0   & 0   & ... & 0   & 0   & 0   & 0   & 0   & 0   & 0   & 0   & 0   &  0 \\\\\n",
       "\t  0  & 0   & 0   & 0   & 0   & 0   & 4   & 0   & 0   & 0   & ... & 0   & 0   & 0   & 0   & 0   & 0   & 0   & 0   & 0   &  0 \\\\\n",
       "\t  0  & 0   & 0   & 0   & 0   & 0   & 0   & 3   & 0   & 0   & ... & 0   & 0   & 0   & 0   & 0   & 0   & 0   & 0   & 0   &  0 \\\\\n",
       "\t  0  & 0   & 0   & 0   & 0   & 0   & 0   & 0   & 2   & 0   & ... & 0   & 0   & 0   & 0   & 0   & 0   & 0   & 0   & 0   &  0 \\\\\n",
       "\t  0  & 0   & 0   & 0   & 0   & 0   & 0   & 0   & 0   & 1   & ... & 0   & 0   & 0   & 0   & 0   & 0   & 0   & 0   & 0   &  0 \\\\\n",
       "\t  0  & 0   & 0   & 0   & 0   & 0   & 0   & 0   & 0   & 0   & ... & 0   & 0   & 0   & 0   & 0   & 0   & 0   & 0   & 0   &  0 \\\\\n",
       "\t  0  & 0   & 0   & 0   & 0   & 0   & 0   & 0   & 0   & 0   & ... & 1   & 0   & 0   & 0   & 0   & 0   & 0   & 0   & 0   &  0 \\\\\n",
       "\t  0  & 0   & 0   & 0   & 0   & 0   & 0   & 0   & 0   & 0   & ... & 0   & 2   & 0   & 0   & 0   & 0   & 0   & 0   & 0   &  0 \\\\\n",
       "\t  0  & 0   & 0   & 0   & 0   & 0   & 0   & 0   & 0   & 0   & ... & 0   & 0   & 3   & 0   & 0   & 0   & 0   & 0   & 0   &  0 \\\\\n",
       "\t  0  & 0   & 0   & 0   & 0   & 0   & 0   & 0   & 0   & 0   & ... & 0   & 0   & 0   & 4   & 0   & 0   & 0   & 0   & 0   &  0 \\\\\n",
       "\t  0  & 0   & 0   & 0   & 0   & 0   & 0   & 0   & 0   & 0   & ... & 0   & 0   & 0   & 0   & 5   & 0   & 0   & 0   & 0   &  0 \\\\\n",
       "\t  0  & 0   & 0   & 0   & 0   & 0   & 0   & 0   & 0   & 0   & ... & 0   & 0   & 0   & 0   & 0   & 6   & 0   & 0   & 0   &  0 \\\\\n",
       "\t  0  & 0   & 0   & 0   & 0   & 0   & 0   & 0   & 0   & 0   & ... & 0   & 0   & 0   & 0   & 0   & 0   & 7   & 0   & 0   &  0 \\\\\n",
       "\t  0  & 0   & 0   & 0   & 0   & 0   & 0   & 0   & 0   & 0   & ... & 0   & 0   & 0   & 0   & 0   & 0   & 0   & 8   & 0   &  0 \\\\\n",
       "\t  0  & 0   & 0   & 0   & 0   & 0   & 0   & 0   & 0   & 0   & ... & 0   & 0   & 0   & 0   & 0   & 0   & 0   & 0   & 9   &  0 \\\\\n",
       "\t  0  & 0   & 0   & 0   & 0   & 0   & 0   & 0   & 0   & 0   & ... & 0   & 0   & 0   & 0   & 0   & 0   & 0   & 0   & 0   & 10 \\\\\n",
       "\\end{tabular}\n"
      ],
      "text/markdown": [
       "\n",
       "| 10  | 0   | 0   | 0   | 0   | 0   | 0   | 0   | 0   | 0   | ... | 0   | 0   | 0   | 0   | 0   | 0   | 0   | 0   | 0   |  0  |\n",
       "|  0  | 9   | 0   | 0   | 0   | 0   | 0   | 0   | 0   | 0   | ... | 0   | 0   | 0   | 0   | 0   | 0   | 0   | 0   | 0   |  0  |\n",
       "|  0  | 0   | 8   | 0   | 0   | 0   | 0   | 0   | 0   | 0   | ... | 0   | 0   | 0   | 0   | 0   | 0   | 0   | 0   | 0   |  0  |\n",
       "|  0  | 0   | 0   | 7   | 0   | 0   | 0   | 0   | 0   | 0   | ... | 0   | 0   | 0   | 0   | 0   | 0   | 0   | 0   | 0   |  0  |\n",
       "|  0  | 0   | 0   | 0   | 6   | 0   | 0   | 0   | 0   | 0   | ... | 0   | 0   | 0   | 0   | 0   | 0   | 0   | 0   | 0   |  0  |\n",
       "|  0  | 0   | 0   | 0   | 0   | 5   | 0   | 0   | 0   | 0   | ... | 0   | 0   | 0   | 0   | 0   | 0   | 0   | 0   | 0   |  0  |\n",
       "|  0  | 0   | 0   | 0   | 0   | 0   | 4   | 0   | 0   | 0   | ... | 0   | 0   | 0   | 0   | 0   | 0   | 0   | 0   | 0   |  0  |\n",
       "|  0  | 0   | 0   | 0   | 0   | 0   | 0   | 3   | 0   | 0   | ... | 0   | 0   | 0   | 0   | 0   | 0   | 0   | 0   | 0   |  0  |\n",
       "|  0  | 0   | 0   | 0   | 0   | 0   | 0   | 0   | 2   | 0   | ... | 0   | 0   | 0   | 0   | 0   | 0   | 0   | 0   | 0   |  0  |\n",
       "|  0  | 0   | 0   | 0   | 0   | 0   | 0   | 0   | 0   | 1   | ... | 0   | 0   | 0   | 0   | 0   | 0   | 0   | 0   | 0   |  0  |\n",
       "|  0  | 0   | 0   | 0   | 0   | 0   | 0   | 0   | 0   | 0   | ... | 0   | 0   | 0   | 0   | 0   | 0   | 0   | 0   | 0   |  0  |\n",
       "|  0  | 0   | 0   | 0   | 0   | 0   | 0   | 0   | 0   | 0   | ... | 1   | 0   | 0   | 0   | 0   | 0   | 0   | 0   | 0   |  0  |\n",
       "|  0  | 0   | 0   | 0   | 0   | 0   | 0   | 0   | 0   | 0   | ... | 0   | 2   | 0   | 0   | 0   | 0   | 0   | 0   | 0   |  0  |\n",
       "|  0  | 0   | 0   | 0   | 0   | 0   | 0   | 0   | 0   | 0   | ... | 0   | 0   | 3   | 0   | 0   | 0   | 0   | 0   | 0   |  0  |\n",
       "|  0  | 0   | 0   | 0   | 0   | 0   | 0   | 0   | 0   | 0   | ... | 0   | 0   | 0   | 4   | 0   | 0   | 0   | 0   | 0   |  0  |\n",
       "|  0  | 0   | 0   | 0   | 0   | 0   | 0   | 0   | 0   | 0   | ... | 0   | 0   | 0   | 0   | 5   | 0   | 0   | 0   | 0   |  0  |\n",
       "|  0  | 0   | 0   | 0   | 0   | 0   | 0   | 0   | 0   | 0   | ... | 0   | 0   | 0   | 0   | 0   | 6   | 0   | 0   | 0   |  0  |\n",
       "|  0  | 0   | 0   | 0   | 0   | 0   | 0   | 0   | 0   | 0   | ... | 0   | 0   | 0   | 0   | 0   | 0   | 7   | 0   | 0   |  0  |\n",
       "|  0  | 0   | 0   | 0   | 0   | 0   | 0   | 0   | 0   | 0   | ... | 0   | 0   | 0   | 0   | 0   | 0   | 0   | 8   | 0   |  0  |\n",
       "|  0  | 0   | 0   | 0   | 0   | 0   | 0   | 0   | 0   | 0   | ... | 0   | 0   | 0   | 0   | 0   | 0   | 0   | 0   | 9   |  0  |\n",
       "|  0  | 0   | 0   | 0   | 0   | 0   | 0   | 0   | 0   | 0   | ... | 0   | 0   | 0   | 0   | 0   | 0   | 0   | 0   | 0   | 10  |\n",
       "\n"
      ],
      "text/plain": [
       "      [,1] [,2] [,3] [,4] [,5] [,6] [,7] [,8] [,9] [,10] [,11] [,12] [,13]\n",
       " [1,] 10   0    0    0    0    0    0    0    0    0     ...   0     0    \n",
       " [2,]  0   9    0    0    0    0    0    0    0    0     ...   0     0    \n",
       " [3,]  0   0    8    0    0    0    0    0    0    0     ...   0     0    \n",
       " [4,]  0   0    0    7    0    0    0    0    0    0     ...   0     0    \n",
       " [5,]  0   0    0    0    6    0    0    0    0    0     ...   0     0    \n",
       " [6,]  0   0    0    0    0    5    0    0    0    0     ...   0     0    \n",
       " [7,]  0   0    0    0    0    0    4    0    0    0     ...   0     0    \n",
       " [8,]  0   0    0    0    0    0    0    3    0    0     ...   0     0    \n",
       " [9,]  0   0    0    0    0    0    0    0    2    0     ...   0     0    \n",
       "[10,]  0   0    0    0    0    0    0    0    0    1     ...   0     0    \n",
       "[11,]  0   0    0    0    0    0    0    0    0    0     ...   0     0    \n",
       "[12,]  0   0    0    0    0    0    0    0    0    0     ...   1     0    \n",
       "[13,]  0   0    0    0    0    0    0    0    0    0     ...   0     2    \n",
       "[14,]  0   0    0    0    0    0    0    0    0    0     ...   0     0    \n",
       "[15,]  0   0    0    0    0    0    0    0    0    0     ...   0     0    \n",
       "[16,]  0   0    0    0    0    0    0    0    0    0     ...   0     0    \n",
       "[17,]  0   0    0    0    0    0    0    0    0    0     ...   0     0    \n",
       "[18,]  0   0    0    0    0    0    0    0    0    0     ...   0     0    \n",
       "[19,]  0   0    0    0    0    0    0    0    0    0     ...   0     0    \n",
       "[20,]  0   0    0    0    0    0    0    0    0    0     ...   0     0    \n",
       "[21,]  0   0    0    0    0    0    0    0    0    0     ...   0     0    \n",
       "      [,14] [,15] [,16] [,17] [,18] [,19] [,20] [,21]\n",
       " [1,] 0     0     0     0     0     0     0      0   \n",
       " [2,] 0     0     0     0     0     0     0      0   \n",
       " [3,] 0     0     0     0     0     0     0      0   \n",
       " [4,] 0     0     0     0     0     0     0      0   \n",
       " [5,] 0     0     0     0     0     0     0      0   \n",
       " [6,] 0     0     0     0     0     0     0      0   \n",
       " [7,] 0     0     0     0     0     0     0      0   \n",
       " [8,] 0     0     0     0     0     0     0      0   \n",
       " [9,] 0     0     0     0     0     0     0      0   \n",
       "[10,] 0     0     0     0     0     0     0      0   \n",
       "[11,] 0     0     0     0     0     0     0      0   \n",
       "[12,] 0     0     0     0     0     0     0      0   \n",
       "[13,] 0     0     0     0     0     0     0      0   \n",
       "[14,] 3     0     0     0     0     0     0      0   \n",
       "[15,] 0     4     0     0     0     0     0      0   \n",
       "[16,] 0     0     5     0     0     0     0      0   \n",
       "[17,] 0     0     0     6     0     0     0      0   \n",
       "[18,] 0     0     0     0     7     0     0      0   \n",
       "[19,] 0     0     0     0     0     8     0      0   \n",
       "[20,] 0     0     0     0     0     0     9      0   \n",
       "[21,] 0     0     0     0     0     0     0     10   "
      ]
     },
     "metadata": {},
     "output_type": "display_data"
    }
   ],
   "source": [
    "center = diag(c(10:1, 0:10))\n",
    "center"
   ]
  },
  {
   "cell_type": "markdown",
   "metadata": {},
   "source": [
    "Q4: 你可通过给 diag 函数传递两个额外的参数来指定输出的维度。创建一个主对角线元素 都为 1 的 20×21 的矩阵。现在，在此矩阵之上加一行全零元素来创建一个 21×21 的方 阵，原来主对角线上的全 1 元素现在全体向下偏移一行。  \n",
    "A4:  "
   ]
  },
  {
   "cell_type": "code",
   "execution_count": 113,
   "metadata": {},
   "outputs": [],
   "source": [
    "num_row = 21"
   ]
  },
  {
   "cell_type": "code",
   "execution_count": 116,
   "metadata": {
    "scrolled": true
   },
   "outputs": [],
   "source": [
    "t = diag(1, num_row-1, num_row)"
   ]
  },
  {
   "cell_type": "code",
   "execution_count": 117,
   "metadata": {},
   "outputs": [],
   "source": [
    "low = rbind(rep(0, num_row), t)\n"
   ]
  },
  {
   "cell_type": "code",
   "execution_count": 118,
   "metadata": {},
   "outputs": [],
   "source": [
    "high = cbind(rep(0, num_row), diag(1, num_row, num_row-1))"
   ]
  },
  {
   "cell_type": "code",
   "execution_count": 119,
   "metadata": {},
   "outputs": [
    {
     "data": {
      "text/html": [
       "<table>\n",
       "<tbody>\n",
       "\t<tr><td>10 </td><td>1  </td><td>0  </td><td>0  </td><td>0  </td><td>0  </td><td>0  </td><td>0  </td><td>0  </td><td>0  </td><td>...</td><td>0  </td><td>0  </td><td>0  </td><td>0  </td><td>0  </td><td>0  </td><td>0  </td><td>0  </td><td>0  </td><td> 0 </td></tr>\n",
       "\t<tr><td> 1 </td><td>9  </td><td>1  </td><td>0  </td><td>0  </td><td>0  </td><td>0  </td><td>0  </td><td>0  </td><td>0  </td><td>...</td><td>0  </td><td>0  </td><td>0  </td><td>0  </td><td>0  </td><td>0  </td><td>0  </td><td>0  </td><td>0  </td><td> 0 </td></tr>\n",
       "\t<tr><td> 0 </td><td>1  </td><td>8  </td><td>1  </td><td>0  </td><td>0  </td><td>0  </td><td>0  </td><td>0  </td><td>0  </td><td>...</td><td>0  </td><td>0  </td><td>0  </td><td>0  </td><td>0  </td><td>0  </td><td>0  </td><td>0  </td><td>0  </td><td> 0 </td></tr>\n",
       "\t<tr><td> 0 </td><td>0  </td><td>1  </td><td>7  </td><td>1  </td><td>0  </td><td>0  </td><td>0  </td><td>0  </td><td>0  </td><td>...</td><td>0  </td><td>0  </td><td>0  </td><td>0  </td><td>0  </td><td>0  </td><td>0  </td><td>0  </td><td>0  </td><td> 0 </td></tr>\n",
       "\t<tr><td> 0 </td><td>0  </td><td>0  </td><td>1  </td><td>6  </td><td>1  </td><td>0  </td><td>0  </td><td>0  </td><td>0  </td><td>...</td><td>0  </td><td>0  </td><td>0  </td><td>0  </td><td>0  </td><td>0  </td><td>0  </td><td>0  </td><td>0  </td><td> 0 </td></tr>\n",
       "\t<tr><td> 0 </td><td>0  </td><td>0  </td><td>0  </td><td>1  </td><td>5  </td><td>1  </td><td>0  </td><td>0  </td><td>0  </td><td>...</td><td>0  </td><td>0  </td><td>0  </td><td>0  </td><td>0  </td><td>0  </td><td>0  </td><td>0  </td><td>0  </td><td> 0 </td></tr>\n",
       "\t<tr><td> 0 </td><td>0  </td><td>0  </td><td>0  </td><td>0  </td><td>1  </td><td>4  </td><td>1  </td><td>0  </td><td>0  </td><td>...</td><td>0  </td><td>0  </td><td>0  </td><td>0  </td><td>0  </td><td>0  </td><td>0  </td><td>0  </td><td>0  </td><td> 0 </td></tr>\n",
       "\t<tr><td> 0 </td><td>0  </td><td>0  </td><td>0  </td><td>0  </td><td>0  </td><td>1  </td><td>3  </td><td>1  </td><td>0  </td><td>...</td><td>0  </td><td>0  </td><td>0  </td><td>0  </td><td>0  </td><td>0  </td><td>0  </td><td>0  </td><td>0  </td><td> 0 </td></tr>\n",
       "\t<tr><td> 0 </td><td>0  </td><td>0  </td><td>0  </td><td>0  </td><td>0  </td><td>0  </td><td>1  </td><td>2  </td><td>1  </td><td>...</td><td>0  </td><td>0  </td><td>0  </td><td>0  </td><td>0  </td><td>0  </td><td>0  </td><td>0  </td><td>0  </td><td> 0 </td></tr>\n",
       "\t<tr><td> 0 </td><td>0  </td><td>0  </td><td>0  </td><td>0  </td><td>0  </td><td>0  </td><td>0  </td><td>1  </td><td>1  </td><td>...</td><td>0  </td><td>0  </td><td>0  </td><td>0  </td><td>0  </td><td>0  </td><td>0  </td><td>0  </td><td>0  </td><td> 0 </td></tr>\n",
       "\t<tr><td> 0 </td><td>0  </td><td>0  </td><td>0  </td><td>0  </td><td>0  </td><td>0  </td><td>0  </td><td>0  </td><td>1  </td><td>...</td><td>1  </td><td>0  </td><td>0  </td><td>0  </td><td>0  </td><td>0  </td><td>0  </td><td>0  </td><td>0  </td><td> 0 </td></tr>\n",
       "\t<tr><td> 0 </td><td>0  </td><td>0  </td><td>0  </td><td>0  </td><td>0  </td><td>0  </td><td>0  </td><td>0  </td><td>0  </td><td>...</td><td>1  </td><td>1  </td><td>0  </td><td>0  </td><td>0  </td><td>0  </td><td>0  </td><td>0  </td><td>0  </td><td> 0 </td></tr>\n",
       "\t<tr><td> 0 </td><td>0  </td><td>0  </td><td>0  </td><td>0  </td><td>0  </td><td>0  </td><td>0  </td><td>0  </td><td>0  </td><td>...</td><td>1  </td><td>2  </td><td>1  </td><td>0  </td><td>0  </td><td>0  </td><td>0  </td><td>0  </td><td>0  </td><td> 0 </td></tr>\n",
       "\t<tr><td> 0 </td><td>0  </td><td>0  </td><td>0  </td><td>0  </td><td>0  </td><td>0  </td><td>0  </td><td>0  </td><td>0  </td><td>...</td><td>0  </td><td>1  </td><td>3  </td><td>1  </td><td>0  </td><td>0  </td><td>0  </td><td>0  </td><td>0  </td><td> 0 </td></tr>\n",
       "\t<tr><td> 0 </td><td>0  </td><td>0  </td><td>0  </td><td>0  </td><td>0  </td><td>0  </td><td>0  </td><td>0  </td><td>0  </td><td>...</td><td>0  </td><td>0  </td><td>1  </td><td>4  </td><td>1  </td><td>0  </td><td>0  </td><td>0  </td><td>0  </td><td> 0 </td></tr>\n",
       "\t<tr><td> 0 </td><td>0  </td><td>0  </td><td>0  </td><td>0  </td><td>0  </td><td>0  </td><td>0  </td><td>0  </td><td>0  </td><td>...</td><td>0  </td><td>0  </td><td>0  </td><td>1  </td><td>5  </td><td>1  </td><td>0  </td><td>0  </td><td>0  </td><td> 0 </td></tr>\n",
       "\t<tr><td> 0 </td><td>0  </td><td>0  </td><td>0  </td><td>0  </td><td>0  </td><td>0  </td><td>0  </td><td>0  </td><td>0  </td><td>...</td><td>0  </td><td>0  </td><td>0  </td><td>0  </td><td>1  </td><td>6  </td><td>1  </td><td>0  </td><td>0  </td><td> 0 </td></tr>\n",
       "\t<tr><td> 0 </td><td>0  </td><td>0  </td><td>0  </td><td>0  </td><td>0  </td><td>0  </td><td>0  </td><td>0  </td><td>0  </td><td>...</td><td>0  </td><td>0  </td><td>0  </td><td>0  </td><td>0  </td><td>1  </td><td>7  </td><td>1  </td><td>0  </td><td> 0 </td></tr>\n",
       "\t<tr><td> 0 </td><td>0  </td><td>0  </td><td>0  </td><td>0  </td><td>0  </td><td>0  </td><td>0  </td><td>0  </td><td>0  </td><td>...</td><td>0  </td><td>0  </td><td>0  </td><td>0  </td><td>0  </td><td>0  </td><td>1  </td><td>8  </td><td>1  </td><td> 0 </td></tr>\n",
       "\t<tr><td> 0 </td><td>0  </td><td>0  </td><td>0  </td><td>0  </td><td>0  </td><td>0  </td><td>0  </td><td>0  </td><td>0  </td><td>...</td><td>0  </td><td>0  </td><td>0  </td><td>0  </td><td>0  </td><td>0  </td><td>0  </td><td>1  </td><td>9  </td><td> 1 </td></tr>\n",
       "\t<tr><td> 0 </td><td>0  </td><td>0  </td><td>0  </td><td>0  </td><td>0  </td><td>0  </td><td>0  </td><td>0  </td><td>0  </td><td>...</td><td>0  </td><td>0  </td><td>0  </td><td>0  </td><td>0  </td><td>0  </td><td>0  </td><td>0  </td><td>1  </td><td>10 </td></tr>\n",
       "</tbody>\n",
       "</table>\n"
      ],
      "text/latex": [
       "\\begin{tabular}{lllllllllllllllllllll}\n",
       "\t 10  & 1   & 0   & 0   & 0   & 0   & 0   & 0   & 0   & 0   & ... & 0   & 0   & 0   & 0   & 0   & 0   & 0   & 0   & 0   &  0 \\\\\n",
       "\t  1  & 9   & 1   & 0   & 0   & 0   & 0   & 0   & 0   & 0   & ... & 0   & 0   & 0   & 0   & 0   & 0   & 0   & 0   & 0   &  0 \\\\\n",
       "\t  0  & 1   & 8   & 1   & 0   & 0   & 0   & 0   & 0   & 0   & ... & 0   & 0   & 0   & 0   & 0   & 0   & 0   & 0   & 0   &  0 \\\\\n",
       "\t  0  & 0   & 1   & 7   & 1   & 0   & 0   & 0   & 0   & 0   & ... & 0   & 0   & 0   & 0   & 0   & 0   & 0   & 0   & 0   &  0 \\\\\n",
       "\t  0  & 0   & 0   & 1   & 6   & 1   & 0   & 0   & 0   & 0   & ... & 0   & 0   & 0   & 0   & 0   & 0   & 0   & 0   & 0   &  0 \\\\\n",
       "\t  0  & 0   & 0   & 0   & 1   & 5   & 1   & 0   & 0   & 0   & ... & 0   & 0   & 0   & 0   & 0   & 0   & 0   & 0   & 0   &  0 \\\\\n",
       "\t  0  & 0   & 0   & 0   & 0   & 1   & 4   & 1   & 0   & 0   & ... & 0   & 0   & 0   & 0   & 0   & 0   & 0   & 0   & 0   &  0 \\\\\n",
       "\t  0  & 0   & 0   & 0   & 0   & 0   & 1   & 3   & 1   & 0   & ... & 0   & 0   & 0   & 0   & 0   & 0   & 0   & 0   & 0   &  0 \\\\\n",
       "\t  0  & 0   & 0   & 0   & 0   & 0   & 0   & 1   & 2   & 1   & ... & 0   & 0   & 0   & 0   & 0   & 0   & 0   & 0   & 0   &  0 \\\\\n",
       "\t  0  & 0   & 0   & 0   & 0   & 0   & 0   & 0   & 1   & 1   & ... & 0   & 0   & 0   & 0   & 0   & 0   & 0   & 0   & 0   &  0 \\\\\n",
       "\t  0  & 0   & 0   & 0   & 0   & 0   & 0   & 0   & 0   & 1   & ... & 1   & 0   & 0   & 0   & 0   & 0   & 0   & 0   & 0   &  0 \\\\\n",
       "\t  0  & 0   & 0   & 0   & 0   & 0   & 0   & 0   & 0   & 0   & ... & 1   & 1   & 0   & 0   & 0   & 0   & 0   & 0   & 0   &  0 \\\\\n",
       "\t  0  & 0   & 0   & 0   & 0   & 0   & 0   & 0   & 0   & 0   & ... & 1   & 2   & 1   & 0   & 0   & 0   & 0   & 0   & 0   &  0 \\\\\n",
       "\t  0  & 0   & 0   & 0   & 0   & 0   & 0   & 0   & 0   & 0   & ... & 0   & 1   & 3   & 1   & 0   & 0   & 0   & 0   & 0   &  0 \\\\\n",
       "\t  0  & 0   & 0   & 0   & 0   & 0   & 0   & 0   & 0   & 0   & ... & 0   & 0   & 1   & 4   & 1   & 0   & 0   & 0   & 0   &  0 \\\\\n",
       "\t  0  & 0   & 0   & 0   & 0   & 0   & 0   & 0   & 0   & 0   & ... & 0   & 0   & 0   & 1   & 5   & 1   & 0   & 0   & 0   &  0 \\\\\n",
       "\t  0  & 0   & 0   & 0   & 0   & 0   & 0   & 0   & 0   & 0   & ... & 0   & 0   & 0   & 0   & 1   & 6   & 1   & 0   & 0   &  0 \\\\\n",
       "\t  0  & 0   & 0   & 0   & 0   & 0   & 0   & 0   & 0   & 0   & ... & 0   & 0   & 0   & 0   & 0   & 1   & 7   & 1   & 0   &  0 \\\\\n",
       "\t  0  & 0   & 0   & 0   & 0   & 0   & 0   & 0   & 0   & 0   & ... & 0   & 0   & 0   & 0   & 0   & 0   & 1   & 8   & 1   &  0 \\\\\n",
       "\t  0  & 0   & 0   & 0   & 0   & 0   & 0   & 0   & 0   & 0   & ... & 0   & 0   & 0   & 0   & 0   & 0   & 0   & 1   & 9   &  1 \\\\\n",
       "\t  0  & 0   & 0   & 0   & 0   & 0   & 0   & 0   & 0   & 0   & ... & 0   & 0   & 0   & 0   & 0   & 0   & 0   & 0   & 1   & 10 \\\\\n",
       "\\end{tabular}\n"
      ],
      "text/markdown": [
       "\n",
       "| 10  | 1   | 0   | 0   | 0   | 0   | 0   | 0   | 0   | 0   | ... | 0   | 0   | 0   | 0   | 0   | 0   | 0   | 0   | 0   |  0  |\n",
       "|  1  | 9   | 1   | 0   | 0   | 0   | 0   | 0   | 0   | 0   | ... | 0   | 0   | 0   | 0   | 0   | 0   | 0   | 0   | 0   |  0  |\n",
       "|  0  | 1   | 8   | 1   | 0   | 0   | 0   | 0   | 0   | 0   | ... | 0   | 0   | 0   | 0   | 0   | 0   | 0   | 0   | 0   |  0  |\n",
       "|  0  | 0   | 1   | 7   | 1   | 0   | 0   | 0   | 0   | 0   | ... | 0   | 0   | 0   | 0   | 0   | 0   | 0   | 0   | 0   |  0  |\n",
       "|  0  | 0   | 0   | 1   | 6   | 1   | 0   | 0   | 0   | 0   | ... | 0   | 0   | 0   | 0   | 0   | 0   | 0   | 0   | 0   |  0  |\n",
       "|  0  | 0   | 0   | 0   | 1   | 5   | 1   | 0   | 0   | 0   | ... | 0   | 0   | 0   | 0   | 0   | 0   | 0   | 0   | 0   |  0  |\n",
       "|  0  | 0   | 0   | 0   | 0   | 1   | 4   | 1   | 0   | 0   | ... | 0   | 0   | 0   | 0   | 0   | 0   | 0   | 0   | 0   |  0  |\n",
       "|  0  | 0   | 0   | 0   | 0   | 0   | 1   | 3   | 1   | 0   | ... | 0   | 0   | 0   | 0   | 0   | 0   | 0   | 0   | 0   |  0  |\n",
       "|  0  | 0   | 0   | 0   | 0   | 0   | 0   | 1   | 2   | 1   | ... | 0   | 0   | 0   | 0   | 0   | 0   | 0   | 0   | 0   |  0  |\n",
       "|  0  | 0   | 0   | 0   | 0   | 0   | 0   | 0   | 1   | 1   | ... | 0   | 0   | 0   | 0   | 0   | 0   | 0   | 0   | 0   |  0  |\n",
       "|  0  | 0   | 0   | 0   | 0   | 0   | 0   | 0   | 0   | 1   | ... | 1   | 0   | 0   | 0   | 0   | 0   | 0   | 0   | 0   |  0  |\n",
       "|  0  | 0   | 0   | 0   | 0   | 0   | 0   | 0   | 0   | 0   | ... | 1   | 1   | 0   | 0   | 0   | 0   | 0   | 0   | 0   |  0  |\n",
       "|  0  | 0   | 0   | 0   | 0   | 0   | 0   | 0   | 0   | 0   | ... | 1   | 2   | 1   | 0   | 0   | 0   | 0   | 0   | 0   |  0  |\n",
       "|  0  | 0   | 0   | 0   | 0   | 0   | 0   | 0   | 0   | 0   | ... | 0   | 1   | 3   | 1   | 0   | 0   | 0   | 0   | 0   |  0  |\n",
       "|  0  | 0   | 0   | 0   | 0   | 0   | 0   | 0   | 0   | 0   | ... | 0   | 0   | 1   | 4   | 1   | 0   | 0   | 0   | 0   |  0  |\n",
       "|  0  | 0   | 0   | 0   | 0   | 0   | 0   | 0   | 0   | 0   | ... | 0   | 0   | 0   | 1   | 5   | 1   | 0   | 0   | 0   |  0  |\n",
       "|  0  | 0   | 0   | 0   | 0   | 0   | 0   | 0   | 0   | 0   | ... | 0   | 0   | 0   | 0   | 1   | 6   | 1   | 0   | 0   |  0  |\n",
       "|  0  | 0   | 0   | 0   | 0   | 0   | 0   | 0   | 0   | 0   | ... | 0   | 0   | 0   | 0   | 0   | 1   | 7   | 1   | 0   |  0  |\n",
       "|  0  | 0   | 0   | 0   | 0   | 0   | 0   | 0   | 0   | 0   | ... | 0   | 0   | 0   | 0   | 0   | 0   | 1   | 8   | 1   |  0  |\n",
       "|  0  | 0   | 0   | 0   | 0   | 0   | 0   | 0   | 0   | 0   | ... | 0   | 0   | 0   | 0   | 0   | 0   | 0   | 1   | 9   |  1  |\n",
       "|  0  | 0   | 0   | 0   | 0   | 0   | 0   | 0   | 0   | 0   | ... | 0   | 0   | 0   | 0   | 0   | 0   | 0   | 0   | 1   | 10  |\n",
       "\n"
      ],
      "text/plain": [
       "      [,1] [,2] [,3] [,4] [,5] [,6] [,7] [,8] [,9] [,10] [,11] [,12] [,13]\n",
       " [1,] 10   1    0    0    0    0    0    0    0    0     ...   0     0    \n",
       " [2,]  1   9    1    0    0    0    0    0    0    0     ...   0     0    \n",
       " [3,]  0   1    8    1    0    0    0    0    0    0     ...   0     0    \n",
       " [4,]  0   0    1    7    1    0    0    0    0    0     ...   0     0    \n",
       " [5,]  0   0    0    1    6    1    0    0    0    0     ...   0     0    \n",
       " [6,]  0   0    0    0    1    5    1    0    0    0     ...   0     0    \n",
       " [7,]  0   0    0    0    0    1    4    1    0    0     ...   0     0    \n",
       " [8,]  0   0    0    0    0    0    1    3    1    0     ...   0     0    \n",
       " [9,]  0   0    0    0    0    0    0    1    2    1     ...   0     0    \n",
       "[10,]  0   0    0    0    0    0    0    0    1    1     ...   0     0    \n",
       "[11,]  0   0    0    0    0    0    0    0    0    1     ...   1     0    \n",
       "[12,]  0   0    0    0    0    0    0    0    0    0     ...   1     1    \n",
       "[13,]  0   0    0    0    0    0    0    0    0    0     ...   1     2    \n",
       "[14,]  0   0    0    0    0    0    0    0    0    0     ...   0     1    \n",
       "[15,]  0   0    0    0    0    0    0    0    0    0     ...   0     0    \n",
       "[16,]  0   0    0    0    0    0    0    0    0    0     ...   0     0    \n",
       "[17,]  0   0    0    0    0    0    0    0    0    0     ...   0     0    \n",
       "[18,]  0   0    0    0    0    0    0    0    0    0     ...   0     0    \n",
       "[19,]  0   0    0    0    0    0    0    0    0    0     ...   0     0    \n",
       "[20,]  0   0    0    0    0    0    0    0    0    0     ...   0     0    \n",
       "[21,]  0   0    0    0    0    0    0    0    0    0     ...   0     0    \n",
       "      [,14] [,15] [,16] [,17] [,18] [,19] [,20] [,21]\n",
       " [1,] 0     0     0     0     0     0     0      0   \n",
       " [2,] 0     0     0     0     0     0     0      0   \n",
       " [3,] 0     0     0     0     0     0     0      0   \n",
       " [4,] 0     0     0     0     0     0     0      0   \n",
       " [5,] 0     0     0     0     0     0     0      0   \n",
       " [6,] 0     0     0     0     0     0     0      0   \n",
       " [7,] 0     0     0     0     0     0     0      0   \n",
       " [8,] 0     0     0     0     0     0     0      0   \n",
       " [9,] 0     0     0     0     0     0     0      0   \n",
       "[10,] 0     0     0     0     0     0     0      0   \n",
       "[11,] 0     0     0     0     0     0     0      0   \n",
       "[12,] 0     0     0     0     0     0     0      0   \n",
       "[13,] 1     0     0     0     0     0     0      0   \n",
       "[14,] 3     1     0     0     0     0     0      0   \n",
       "[15,] 1     4     1     0     0     0     0      0   \n",
       "[16,] 0     1     5     1     0     0     0      0   \n",
       "[17,] 0     0     1     6     1     0     0      0   \n",
       "[18,] 0     0     0     1     7     1     0      0   \n",
       "[19,] 0     0     0     0     1     8     1      0   \n",
       "[20,] 0     0     0     0     0     1     9      1   \n",
       "[21,] 0     0     0     0     0     0     1     10   "
      ]
     },
     "metadata": {},
     "output_type": "display_data"
    }
   ],
   "source": [
    "wilkinson = low + center + high\n",
    "wilkinson"
   ]
  },
  {
   "cell_type": "code",
   "execution_count": 120,
   "metadata": {},
   "outputs": [
    {
     "data": {
      "text/plain": [
       "eigen() decomposition\n",
       "$values\n",
       " [1] 10.7461942 10.7461942  9.2106786  9.2106786  8.0389411  8.0389411\n",
       " [7]  7.0039522  7.0039518  6.0002340  6.0002175  5.0002444  4.9997825\n",
       "[13]  4.0043540  3.9960482  3.0430993  2.9610589  2.1302092  1.7893214\n",
       "[19]  0.9475344  0.2538058 -1.1254415\n",
       "\n",
       "$vectors\n",
       "              [,1]          [,2]          [,3]          [,4]          [,5]\n",
       " [1,] 5.495410e-01 -5.493073e-01 -3.824805e-01  3.824543e-01  2.111086e-01\n",
       " [2,] 4.100643e-01 -4.098899e-01  3.019000e-01 -3.018793e-01 -4.139963e-01\n",
       " [3,] 1.665109e-01 -1.664401e-01  4.460844e-01 -4.460538e-01  1.867663e-01\n",
       " [4,] 4.720694e-02 -4.718686e-02  2.381648e-01 -2.381485e-01  4.212692e-01\n",
       " [5,] 1.033548e-02 -1.033109e-02  8.042149e-02 -8.041598e-02  2.509076e-01\n",
       " [6,] 1.847263e-03 -1.846477e-03  2.004275e-02 -2.004137e-02  9.031667e-02\n",
       " [7,] 2.792477e-04 -2.791289e-04  3.972068e-03 -3.971794e-03  2.355942e-02\n",
       " [8,] 3.659637e-05 -3.658067e-05  6.544258e-04 -6.543736e-04  4.838449e-03\n",
       " [9,] 4.234910e-06 -4.232115e-06  9.236027e-05 -9.230979e-05  8.212357e-04\n",
       "[10,] 4.429766e-07 -4.342308e-07  1.155435e-05 -1.124264e-05  1.209451e-04\n",
       "[11,] 8.242625e-08  1.753108e-11  2.508820e-06  8.602875e-11  3.008981e-05\n",
       "[12,] 4.427919e-07  4.344192e-07  1.155358e-05  1.124343e-05  1.209451e-04\n",
       "[13,] 4.233109e-06  4.233916e-06  9.235393e-05  9.231613e-05  8.212356e-04\n",
       "[14,] 3.658080e-05  3.659624e-05  6.543810e-04  6.544185e-04  4.838448e-03\n",
       "[15,] 2.791289e-04  2.792476e-04  3.971796e-03  3.972067e-03  2.355942e-02\n",
       "[16,] 1.846477e-03  1.847263e-03  2.004137e-02  2.004275e-02  9.031667e-02\n",
       "[17,] 1.033109e-02  1.033548e-02  8.041598e-02  8.042149e-02  2.509076e-01\n",
       "[18,] 4.718686e-02  4.720694e-02  2.381485e-01  2.381648e-01  4.212692e-01\n",
       "[19,] 1.664401e-01  1.665109e-01  4.460538e-01  4.460844e-01  1.867663e-01\n",
       "[20,] 4.098899e-01  4.100643e-01  3.018793e-01  3.019000e-01 -4.139963e-01\n",
       "[21,] 5.493073e-01  5.495410e-01 -3.824543e-01 -3.824805e-01  2.111085e-01\n",
       "               [,6]          [,7]          [,8]         [,9]         [,10]\n",
       " [1,] -2.111085e-01 -0.0821426778  8.214270e-02  0.022668112  2.266824e-02\n",
       " [2,]  4.139963e-01  0.2461033884 -2.461035e-01 -0.090667145 -9.066801e-02\n",
       " [3,] -1.867663e-01 -0.4090914468  4.090917e-01  0.249312103  2.493161e-01\n",
       " [4,] -4.212692e-01  0.1613712433 -1.613716e-01 -0.407898714 -4.079099e-01\n",
       " [5,] -2.509076e-01  0.4097292197 -4.097295e-01  0.158491150  1.585051e-01\n",
       " [6,] -9.031665e-02  0.2499773122 -2.499770e-01  0.407935806  4.079444e-01\n",
       " [7,] -2.355938e-02  0.0912133673 -9.121245e-02  0.249540126  2.495280e-01\n",
       " [8,] -4.838291e-03  0.0240232842 -2.402079e-02  0.091202846  9.116593e-02\n",
       " [9,] -8.204840e-04  0.0049747144 -4.965647e-03  0.024089756  2.398961e-02\n",
       "[10,] -1.165635e-04  0.0008699488 -8.270631e-04  0.005161817  4.797713e-03\n",
       "[11,]  9.207297e-13  0.0002484165  2.328896e-12  0.001720539 -2.943361e-13\n",
       "[12,]  1.165636e-04  0.0008699488  8.270631e-04  0.005161817 -4.797713e-03\n",
       "[13,]  8.204840e-04  0.0049747143  4.965647e-03  0.024089756 -2.398961e-02\n",
       "[14,]  4.838291e-03  0.0240232837  2.402079e-02  0.091202846 -9.116593e-02\n",
       "[15,]  2.355938e-02  0.0912133656  9.121246e-02  0.249540126 -2.495280e-01\n",
       "[16,]  9.031666e-02  0.2499773075  2.499770e-01  0.407935806 -4.079444e-01\n",
       "[17,]  2.509076e-01  0.4097292120  4.097295e-01  0.158491150 -1.585051e-01\n",
       "[18,]  4.212692e-01  0.1613712403  1.613716e-01 -0.407898714  4.079099e-01\n",
       "[19,]  1.867663e-01 -0.4090914391 -4.090918e-01  0.249312103 -2.493161e-01\n",
       "[20,] -4.139963e-01  0.2461033838  2.461035e-01 -0.090667145  9.066801e-02\n",
       "[21,]  2.111086e-01 -0.0821426763 -8.214271e-02  0.022668112 -2.266824e-02\n",
       "            [,11]         [,12]         [,13]         [,14]         [,15]\n",
       " [1,] -0.00479793  4.797713e-03  0.0008307046  8.270631e-04  0.0001269708\n",
       " [2,]  0.02398848 -2.398961e-02 -0.0049806108 -4.965647e-03 -0.0008833230\n",
       " [3,] -0.09115012  9.116593e-02  0.0240506637  2.402079e-02  0.0051348968\n",
       " [4,]  0.24943960 -2.495280e-01 -0.0911173269 -9.121246e-02 -0.0245698507\n",
       " [5,] -0.40766810  4.079444e-01  0.2489045901  2.499770e-01  0.0920855629\n",
       " [6,]  0.15812886 -1.585051e-01 -0.4056081169 -4.097295e-01 -0.2477180153\n",
       " [7,]  0.40770675 -4.079099e-01  0.1549374995  1.613716e-01  0.3926739965\n",
       " [8,]  0.24967754 -2.493161e-01  0.4062827184  4.090917e-01 -0.1280320097\n",
       " [9,]  0.09170936 -9.066801e-02  0.2531141834  2.461035e-01 -0.3981920855\n",
       "[10,]  0.02547295 -2.266824e-02  0.1010477134  8.214270e-02 -0.2873218730\n",
       "[11,]  0.01018868  7.819324e-14  0.0504689210 -4.231528e-15 -0.1888350299\n",
       "[12,]  0.02547295  2.266824e-02  0.1010477134 -8.214270e-02 -0.2873218730\n",
       "[13,]  0.09170936  9.066801e-02  0.2531141834 -2.461035e-01 -0.3981920855\n",
       "[14,]  0.24967754  2.493161e-01  0.4062827184 -4.090917e-01 -0.1280320097\n",
       "[15,]  0.40770675  4.079099e-01  0.1549374995 -1.613716e-01  0.3926739965\n",
       "[16,]  0.15812886  1.585051e-01 -0.4056081169  4.097295e-01 -0.2477180153\n",
       "[17,] -0.40766810 -4.079444e-01  0.2489045901 -2.499770e-01  0.0920855629\n",
       "[18,]  0.24943960  2.495280e-01 -0.0911173269  9.121246e-02 -0.0245698507\n",
       "[19,] -0.09115012 -9.116593e-02  0.0240506637 -2.402079e-02  0.0051348968\n",
       "[20,]  0.02398848  2.398961e-02 -0.0049806108  4.965647e-03 -0.0008833230\n",
       "[21,] -0.00479793 -4.797713e-03  0.0008307046 -8.270631e-04  0.0001269708\n",
       "              [,16]         [,17]         [,18]         [,19]         [,20]\n",
       " [1,] -1.165636e-04 -0.0000200531 -1.124304e-05 -1.871813e-06 -4.343250e-07\n",
       " [2,]  8.204840e-04  0.0001578137  9.231296e-05  1.694452e-05  4.233016e-06\n",
       " [3,] -4.838291e-03 -0.0010640938 -6.543961e-04 -1.345734e-04 -3.658846e-05\n",
       " [4,]  2.355938e-02  0.0060881945  3.971931e-03  9.321297e-04  2.791883e-04\n",
       " [5,] -9.031665e-02 -0.0285841398 -2.004206e-02 -5.507109e-03 -1.846870e-03\n",
       " [6,]  2.509076e-01  0.1045264461  8.041874e-02  2.689235e-02  1.033328e-02\n",
       " [7,] -4.212692e-01 -0.2713848915 -2.381567e-01 -1.034732e-01 -4.719690e-02\n",
       " [8,]  1.867663e-01  0.4029065220  4.460691e-01  2.889561e-01  1.664755e-01\n",
       " [9,]  4.139963e-01 -0.0790594868 -3.018897e-01 -4.895992e-01 -4.099771e-01\n",
       "[10,]  2.111086e-01 -0.4132007961 -3.824674e-01  2.263303e-01  5.494241e-01\n",
       "[11,] -6.656323e-15 -0.3879438623 -4.925640e-15  4.777247e-01  5.855840e-15\n",
       "[12,] -2.111086e-01 -0.4132007961  3.824674e-01  2.263303e-01 -5.494241e-01\n",
       "[13,] -4.139963e-01 -0.0790594868  3.018897e-01 -4.895992e-01  4.099771e-01\n",
       "[14,] -1.867663e-01  0.4029065220 -4.460691e-01  2.889561e-01 -1.664755e-01\n",
       "[15,]  4.212692e-01 -0.2713848915  2.381567e-01 -1.034732e-01  4.719690e-02\n",
       "[16,] -2.509076e-01  0.1045264461 -8.041874e-02  2.689235e-02 -1.033328e-02\n",
       "[17,]  9.031665e-02 -0.0285841398  2.004206e-02 -5.507109e-03  1.846870e-03\n",
       "[18,] -2.355938e-02  0.0060881945 -3.971931e-03  9.321297e-04 -2.791883e-04\n",
       "[19,]  4.838291e-03 -0.0010640938  6.543961e-04 -1.345734e-04  3.658846e-05\n",
       "[20,] -8.204840e-04  0.0001578137 -9.231296e-05  1.694452e-05 -4.233016e-06\n",
       "[21,]  1.165636e-04 -0.0000200531  1.124304e-05 -1.871813e-06  4.343250e-07\n",
       "              [,21]\n",
       " [1,]  2.274322e-08\n",
       " [2,] -2.530284e-07\n",
       " [3,]  2.539281e-06\n",
       " [4,] -2.291903e-05\n",
       " [5,]  1.836879e-04\n",
       " [6,] -1.285939e-03\n",
       " [7,]  7.693254e-03\n",
       " [8,] -3.814539e-02\n",
       " [9,]  1.496733e-01\n",
       "[10,] -4.296498e-01\n",
       "[11,]  7.635222e-01\n",
       "[12,] -4.296498e-01\n",
       "[13,]  1.496733e-01\n",
       "[14,] -3.814539e-02\n",
       "[15,]  7.693254e-03\n",
       "[16,] -1.285939e-03\n",
       "[17,]  1.836879e-04\n",
       "[18,] -2.291903e-05\n",
       "[19,]  2.539281e-06\n",
       "[20,] -2.530284e-07\n",
       "[21,]  2.274322e-08\n"
      ]
     },
     "metadata": {},
     "output_type": "display_data"
    }
   ],
   "source": [
    "eigen(wilkinson)"
   ]
  },
  {
   "cell_type": "code",
   "execution_count": null,
   "metadata": {},
   "outputs": [],
   "source": []
  },
  {
   "cell_type": "code",
   "execution_count": null,
   "metadata": {},
   "outputs": [],
   "source": []
  }
 ],
 "metadata": {
  "kernelspec": {
   "display_name": "R",
   "language": "R",
   "name": "ir"
  },
  "language_info": {
   "codemirror_mode": "r",
   "file_extension": ".r",
   "mimetype": "text/x-r-source",
   "name": "R",
   "pygments_lexer": "r",
   "version": "3.6.1"
  }
 },
 "nbformat": 4,
 "nbformat_minor": 4
}
