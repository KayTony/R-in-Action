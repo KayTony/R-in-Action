{
 "cells": [
  {
   "cell_type": "markdown",
   "metadata": {},
   "source": [
    "# Some tips in learning R\n",
    "Using “Learning R\" to know more about R language"
   ]
  },
  {
   "cell_type": "markdown",
   "metadata": {},
   "source": [
    "## Chaper 3: Variable"
   ]
  },
  {
   "cell_type": "markdown",
   "metadata": {},
   "source": [
    "Q1: 数字的三个内置类的名称是什么?  \n",
    "A1: numeric, integer, complex  \n",
    "  \n",
    "Q2: 如何把字符串“6.283185”转换为数字?  \n",
    "A2: "
   ]
  },
  {
   "cell_type": "code",
   "execution_count": 3,
   "metadata": {},
   "outputs": [
    {
     "data": {
      "text/html": [
       "6.283185"
      ],
      "text/latex": [
       "6.283185"
      ],
      "text/markdown": [
       "6.283185"
      ],
      "text/plain": [
       "[1] 6.283185"
      ]
     },
     "metadata": {},
     "output_type": "display_data"
    }
   ],
   "source": [
    "num = '6.283185'\n",
    "as(num, 'numeric')"
   ]
  },
  {
   "cell_type": "markdown",
   "metadata": {},
   "source": [
    "Q3: 查找以下值 Inf、NA、NaN 和 \"\" 的类、类型、模式及存储模式  \n",
    "A3: "
   ]
  },
  {
   "cell_type": "code",
   "execution_count": 4,
   "metadata": {},
   "outputs": [
    {
     "name": "stdout",
     "output_type": "stream",
     "text": [
      "[1] \"numeric\"\n",
      "[1] \"logical\"\n",
      "[1] \"numeric\"\n",
      "[1] \"character\"\n"
     ]
    }
   ],
   "source": [
    "print(class(Inf))\n",
    "print(class(NA))\n",
    "print(class(NaN))\n",
    "print(class(\"\"))"
   ]
  },
  {
   "cell_type": "code",
   "execution_count": 5,
   "metadata": {},
   "outputs": [
    {
     "name": "stdout",
     "output_type": "stream",
     "text": [
      "[1] \"double\"\n",
      "[1] \"logical\"\n",
      "[1] \"double\"\n",
      "[1] \"character\"\n"
     ]
    }
   ],
   "source": [
    "print(typeof(Inf))\n",
    "print(typeof(NA))\n",
    "print(typeof(NaN))\n",
    "print(typeof(\"\"))"
   ]
  },
  {
   "cell_type": "code",
   "execution_count": 6,
   "metadata": {},
   "outputs": [
    {
     "name": "stdout",
     "output_type": "stream",
     "text": [
      "[1] \"numeric\"\n",
      "[1] \"logical\"\n",
      "[1] \"numeric\"\n",
      "[1] \"character\"\n"
     ]
    }
   ],
   "source": [
    "print(mode(Inf))\n",
    "print(mode(NA))\n",
    "print(mode(NaN))\n",
    "print(mode(\"\"))"
   ]
  },
  {
   "cell_type": "code",
   "execution_count": 7,
   "metadata": {},
   "outputs": [
    {
     "name": "stdout",
     "output_type": "stream",
     "text": [
      "[1] \"double\"\n",
      "[1] \"logical\"\n",
      "[1] \"double\"\n",
      "[1] \"character\"\n"
     ]
    }
   ],
   "source": [
    "print(storage.mode(Inf))\n",
    "print(storage.mode(NA))\n",
    "print(storage.mode(NaN))\n",
    "print(storage.mode(\"\"))"
   ]
  },
  {
   "cell_type": "markdown",
   "metadata": {},
   "source": [
    "Q4: 随机从“dog”、“cat”、“hamster”和“goldfish”中以相等的概率生成 1000 个宠物名。 显示所得变量的前几个值，并计算每种宠物的数量。  \n",
    "A4:"
   ]
  },
  {
   "cell_type": "code",
   "execution_count": 22,
   "metadata": {},
   "outputs": [
    {
     "name": "stdout",
     "output_type": "stream",
     "text": [
      "[1] cat     dog     cat     dog     hamster cat    \n",
      "Levels: cat dog goldfish hamster\n",
      "     cat      dog goldfish  hamster \n",
      "     269      237      245      249 \n"
     ]
    }
   ],
   "source": [
    "animal = factor(c(\"dog\", \"cat\", \"hamster\", \"goldfish\"))\n",
    "# animals = as(sample(animal, 1000, replace = TRUE), 'factor')\n",
    "animals = sample(animal, 1000, replace = TRUE)\n",
    "print(head(animals))\n",
    "print(summary(animals))"
   ]
  },
  {
   "cell_type": "markdown",
   "metadata": {},
   "source": [
    "## Chaper 4: Vector, Array, Matrix"
   ]
  },
  {
   "cell_type": "code",
   "execution_count": 26,
   "metadata": {},
   "outputs": [
    {
     "data": {
      "text/html": [
       "<ol class=list-inline>\n",
       "\t<li>8.5</li>\n",
       "\t<li>7.5</li>\n",
       "\t<li>6.5</li>\n",
       "\t<li>5.5</li>\n",
       "\t<li>4.5</li>\n",
       "</ol>\n"
      ],
      "text/latex": [
       "\\begin{enumerate*}\n",
       "\\item 8.5\n",
       "\\item 7.5\n",
       "\\item 6.5\n",
       "\\item 5.5\n",
       "\\item 4.5\n",
       "\\end{enumerate*}\n"
      ],
      "text/markdown": [
       "1. 8.5\n",
       "2. 7.5\n",
       "3. 6.5\n",
       "4. 5.5\n",
       "5. 4.5\n",
       "\n",
       "\n"
      ],
      "text/plain": [
       "[1] 8.5 7.5 6.5 5.5 4.5"
      ]
     },
     "metadata": {},
     "output_type": "display_data"
    }
   ],
   "source": [
    "8.5:4.5"
   ]
  },
  {
   "cell_type": "code",
   "execution_count": 27,
   "metadata": {},
   "outputs": [
    {
     "data": {
      "text/html": [
       "<ol class=list-inline>\n",
       "\t<li>0</li>\n",
       "\t<li>0</li>\n",
       "\t<li>0</li>\n",
       "\t<li>0</li>\n",
       "\t<li>0</li>\n",
       "</ol>\n"
      ],
      "text/latex": [
       "\\begin{enumerate*}\n",
       "\\item 0\n",
       "\\item 0\n",
       "\\item 0\n",
       "\\item 0\n",
       "\\item 0\n",
       "\\end{enumerate*}\n"
      ],
      "text/markdown": [
       "1. 0\n",
       "2. 0\n",
       "3. 0\n",
       "4. 0\n",
       "5. 0\n",
       "\n",
       "\n"
      ],
      "text/plain": [
       "[1] 0 0 0 0 0"
      ]
     },
     "metadata": {},
     "output_type": "display_data"
    }
   ],
   "source": [
    "vector(\"numeric\", 5)"
   ]
  },
  {
   "cell_type": "code",
   "execution_count": 28,
   "metadata": {},
   "outputs": [
    {
     "data": {
      "text/html": [
       "<ol class=list-inline>\n",
       "\t<li>3</li>\n",
       "\t<li>5</li>\n",
       "\t<li>7</li>\n",
       "\t<li>9</li>\n",
       "\t<li>11</li>\n",
       "</ol>\n"
      ],
      "text/latex": [
       "\\begin{enumerate*}\n",
       "\\item 3\n",
       "\\item 5\n",
       "\\item 7\n",
       "\\item 9\n",
       "\\item 11\n",
       "\\end{enumerate*}\n"
      ],
      "text/markdown": [
       "1. 3\n",
       "2. 5\n",
       "3. 7\n",
       "4. 9\n",
       "5. 11\n",
       "\n",
       "\n"
      ],
      "text/plain": [
       "[1]  3  5  7  9 11"
      ]
     },
     "metadata": {},
     "output_type": "display_data"
    }
   ],
   "source": [
    "seq.int(3, 12, 2)"
   ]
  },
  {
   "cell_type": "code",
   "execution_count": 29,
   "metadata": {},
   "outputs": [
    {
     "data": {
      "text/html": [
       "<ol class=list-inline>\n",
       "\t<li>0.1</li>\n",
       "\t<li>0.09</li>\n",
       "\t<li>0.08</li>\n",
       "\t<li>0.07</li>\n",
       "\t<li>0.06</li>\n",
       "\t<li>0.05</li>\n",
       "\t<li>0.04</li>\n",
       "\t<li>0.03</li>\n",
       "\t<li>0.02</li>\n",
       "\t<li>0.01</li>\n",
       "</ol>\n"
      ],
      "text/latex": [
       "\\begin{enumerate*}\n",
       "\\item 0.1\n",
       "\\item 0.09\n",
       "\\item 0.08\n",
       "\\item 0.07\n",
       "\\item 0.06\n",
       "\\item 0.05\n",
       "\\item 0.04\n",
       "\\item 0.03\n",
       "\\item 0.02\n",
       "\\item 0.01\n",
       "\\end{enumerate*}\n"
      ],
      "text/markdown": [
       "1. 0.1\n",
       "2. 0.09\n",
       "3. 0.08\n",
       "4. 0.07\n",
       "5. 0.06\n",
       "6. 0.05\n",
       "7. 0.04\n",
       "8. 0.03\n",
       "9. 0.02\n",
       "10. 0.01\n",
       "\n",
       "\n"
      ],
      "text/plain": [
       " [1] 0.10 0.09 0.08 0.07 0.06 0.05 0.04 0.03 0.02 0.01"
      ]
     },
     "metadata": {},
     "output_type": "display_data"
    }
   ],
   "source": [
    "seq.int(0.1, 0.01, -0.01)"
   ]
  },
  {
   "cell_type": "code",
   "execution_count": 32,
   "metadata": {},
   "outputs": [
    {
     "data": {
      "text/html": [
       "<ol class=list-inline>\n",
       "\t<li>1</li>\n",
       "\t<li>2</li>\n",
       "\t<li>3</li>\n",
       "\t<li>4</li>\n",
       "\t<li>5</li>\n",
       "\t<li>6</li>\n",
       "\t<li>7</li>\n",
       "\t<li>8</li>\n",
       "\t<li>9</li>\n",
       "\t<li>10</li>\n",
       "</ol>\n"
      ],
      "text/latex": [
       "\\begin{enumerate*}\n",
       "\\item 1\n",
       "\\item 2\n",
       "\\item 3\n",
       "\\item 4\n",
       "\\item 5\n",
       "\\item 6\n",
       "\\item 7\n",
       "\\item 8\n",
       "\\item 9\n",
       "\\item 10\n",
       "\\end{enumerate*}\n"
      ],
      "text/markdown": [
       "1. 1\n",
       "2. 2\n",
       "3. 3\n",
       "4. 4\n",
       "5. 5\n",
       "6. 6\n",
       "7. 7\n",
       "8. 8\n",
       "9. 9\n",
       "10. 10\n",
       "\n",
       "\n"
      ],
      "text/plain": [
       " [1]  1  2  3  4  5  6  7  8  9 10"
      ]
     },
     "metadata": {},
     "output_type": "display_data"
    }
   ],
   "source": [
    "n = 10\n",
    "seq_len(n)"
   ]
  },
  {
   "cell_type": "code",
   "execution_count": 33,
   "metadata": {},
   "outputs": [
    {
     "name": "stdout",
     "output_type": "stream",
     "text": [
      "[1] \"Peter\"\n",
      "[1] \"Piper\"\n",
      "[1] \"picked\"\n",
      "[1] \"a\"\n",
      "[1] \"peck\"\n",
      "[1] \"of\"\n",
      "[1] \"pickled\"\n",
      "[1] \"peppers\"\n"
     ]
    }
   ],
   "source": [
    "pp = c(\"Peter\", \"Piper\", \"picked\", \"a\", \"peck\", \"of\", \"pickled\", \"peppers\")\n",
    "for(i in seq_along(pp)) print(pp[i])"
   ]
  },
  {
   "cell_type": "markdown",
   "metadata": {},
   "source": [
    "### length"
   ]
  },
  {
   "cell_type": "code",
   "execution_count": 34,
   "metadata": {},
   "outputs": [
    {
     "name": "stdout",
     "output_type": "stream",
     "text": [
      "[1] 4\n",
      "[1] 6 5 6 5\n"
     ]
    }
   ],
   "source": [
    "sn <- c(\"Sheena\", \"leads\", \"Sheila\", \"needs\")\n",
    "print(length(sn))\n",
    "print(nchar(sn))"
   ]
  },
  {
   "cell_type": "code",
   "execution_count": 35,
   "metadata": {},
   "outputs": [
    {
     "data": {
      "text/html": [
       "<ol class=list-inline>\n",
       "\t<li>1</li>\n",
       "\t<li>0</li>\n",
       "\t<li>0</li>\n",
       "\t<li>0</li>\n",
       "</ol>\n"
      ],
      "text/latex": [
       "\\begin{enumerate*}\n",
       "\\item 1\n",
       "\\item 0\n",
       "\\item 0\n",
       "\\item 0\n",
       "\\end{enumerate*}\n"
      ],
      "text/markdown": [
       "1. 1\n",
       "2. 0\n",
       "3. 0\n",
       "4. 0\n",
       "\n",
       "\n"
      ],
      "text/plain": [
       "[1] 1 0 0 0"
      ]
     },
     "metadata": {},
     "output_type": "display_data"
    }
   ],
   "source": [
    "poincare <- c(1, 0, 0, 0, 2, 0, 2, 0)\n",
    "length(poincare) = 4\n",
    "poincare"
   ]
  },
  {
   "cell_type": "code",
   "execution_count": 36,
   "metadata": {},
   "outputs": [
    {
     "data": {
      "text/html": [
       "<ol class=list-inline>\n",
       "\t<li>1</li>\n",
       "\t<li>0</li>\n",
       "\t<li>0</li>\n",
       "\t<li>0</li>\n",
       "\t<li>&lt;NA&gt;</li>\n",
       "\t<li>&lt;NA&gt;</li>\n",
       "\t<li>&lt;NA&gt;</li>\n",
       "\t<li>&lt;NA&gt;</li>\n",
       "</ol>\n"
      ],
      "text/latex": [
       "\\begin{enumerate*}\n",
       "\\item 1\n",
       "\\item 0\n",
       "\\item 0\n",
       "\\item 0\n",
       "\\item <NA>\n",
       "\\item <NA>\n",
       "\\item <NA>\n",
       "\\item <NA>\n",
       "\\end{enumerate*}\n"
      ],
      "text/markdown": [
       "1. 1\n",
       "2. 0\n",
       "3. 0\n",
       "4. 0\n",
       "5. &lt;NA&gt;\n",
       "6. &lt;NA&gt;\n",
       "7. &lt;NA&gt;\n",
       "8. &lt;NA&gt;\n",
       "\n",
       "\n"
      ],
      "text/plain": [
       "[1]  1  0  0  0 NA NA NA NA"
      ]
     },
     "metadata": {},
     "output_type": "display_data"
    }
   ],
   "source": [
    "length(poincare) = 8\n",
    "poincare"
   ]
  },
  {
   "cell_type": "markdown",
   "metadata": {},
   "source": [
    "### names"
   ]
  },
  {
   "cell_type": "code",
   "execution_count": 38,
   "metadata": {},
   "outputs": [
    {
     "data": {
      "text/html": [
       "<dl class=dl-horizontal>\n",
       "\t<dt>apple</dt>\n",
       "\t\t<dd>1</dd>\n",
       "\t<dt>banana</dt>\n",
       "\t\t<dd>2</dd>\n",
       "\t<dt>kiwi fruit</dt>\n",
       "\t\t<dd>3</dd>\n",
       "\t<dt>4</dt>\n",
       "\t\t<dd>4</dd>\n",
       "</dl>\n"
      ],
      "text/latex": [
       "\\begin{description*}\n",
       "\\item[apple] 1\n",
       "\\item[banana] 2\n",
       "\\item[kiwi fruit] 3\n",
       "\\item[4] 4\n",
       "\\end{description*}\n"
      ],
      "text/markdown": [
       "apple\n",
       ":   1banana\n",
       ":   2kiwi fruit\n",
       ":   34\n",
       ":   4\n",
       "\n"
      ],
      "text/plain": [
       "     apple     banana kiwi fruit            \n",
       "         1          2          3          4 "
      ]
     },
     "metadata": {},
     "output_type": "display_data"
    }
   ],
   "source": [
    "c(apple = 1, banana = 2, \"kiwi fruit\" = 3, 4)"
   ]
  },
  {
   "cell_type": "code",
   "execution_count": 40,
   "metadata": {},
   "outputs": [
    {
     "data": {
      "text/html": [
       "<dl class=dl-horizontal>\n",
       "\t<dt>apple</dt>\n",
       "\t\t<dd>1</dd>\n",
       "\t<dt>bananas</dt>\n",
       "\t\t<dd>2</dd>\n",
       "\t<dt>kiwi fruit</dt>\n",
       "\t\t<dd>3</dd>\n",
       "\t<dt>4</dt>\n",
       "\t\t<dd>4</dd>\n",
       "</dl>\n"
      ],
      "text/latex": [
       "\\begin{description*}\n",
       "\\item[apple] 1\n",
       "\\item[bananas] 2\n",
       "\\item[kiwi fruit] 3\n",
       "\\item[4] 4\n",
       "\\end{description*}\n"
      ],
      "text/markdown": [
       "apple\n",
       ":   1bananas\n",
       ":   2kiwi fruit\n",
       ":   34\n",
       ":   4\n",
       "\n"
      ],
      "text/plain": [
       "     apple    bananas kiwi fruit            \n",
       "         1          2          3          4 "
      ]
     },
     "metadata": {},
     "output_type": "display_data"
    }
   ],
   "source": [
    "x <- 1:4\n",
    "names(x) <- c(\"apple\", \"bananas\", \"kiwi fruit\", \"\")\n",
    "x"
   ]
  },
  {
   "cell_type": "markdown",
   "metadata": {},
   "source": [
    "### index"
   ]
  },
  {
   "cell_type": "code",
   "execution_count": 50,
   "metadata": {},
   "outputs": [
    {
     "data": {
      "text/html": [
       "<ol class=list-inline>\n",
       "\t<li>36</li>\n",
       "\t<li>16</li>\n",
       "\t<li>4</li>\n",
       "</ol>\n"
      ],
      "text/latex": [
       "\\begin{enumerate*}\n",
       "\\item 36\n",
       "\\item 16\n",
       "\\item 4\n",
       "\\end{enumerate*}\n"
      ],
      "text/markdown": [
       "1. 36\n",
       "2. 16\n",
       "3. 4\n",
       "\n",
       "\n"
      ],
      "text/plain": [
       "[1] 36 16  4"
      ]
     },
     "metadata": {},
     "output_type": "display_data"
    }
   ],
   "source": [
    "x <- (-6:5) ^ 2\n",
    "x[c(1, 3, 5)]"
   ]
  },
  {
   "cell_type": "code",
   "execution_count": 51,
   "metadata": {},
   "outputs": [
    {
     "data": {
      "text/html": [
       "<ol class=list-inline>\n",
       "\t<li>1</li>\n",
       "\t<li>2</li>\n",
       "\t<li>3</li>\n",
       "\t<li>11</li>\n",
       "\t<li>12</li>\n",
       "</ol>\n"
      ],
      "text/latex": [
       "\\begin{enumerate*}\n",
       "\\item 1\n",
       "\\item 2\n",
       "\\item 3\n",
       "\\item 11\n",
       "\\item 12\n",
       "\\end{enumerate*}\n"
      ],
      "text/markdown": [
       "1. 1\n",
       "2. 2\n",
       "3. 3\n",
       "4. 11\n",
       "5. 12\n",
       "\n",
       "\n"
      ],
      "text/plain": [
       "[1]  1  2  3 11 12"
      ]
     },
     "metadata": {},
     "output_type": "display_data"
    }
   ],
   "source": [
    "which(x > 10)"
   ]
  },
  {
   "cell_type": "code",
   "execution_count": 53,
   "metadata": {},
   "outputs": [
    {
     "data": {
      "text/html": [
       "1"
      ],
      "text/latex": [
       "1"
      ],
      "text/markdown": [
       "1"
      ],
      "text/plain": [
       "[1] 1"
      ]
     },
     "metadata": {},
     "output_type": "display_data"
    }
   ],
   "source": [
    "which.max(x)  ## return argmax index"
   ]
  },
  {
   "cell_type": "markdown",
   "metadata": {},
   "source": [
    "### loop and rep in vector"
   ]
  },
  {
   "cell_type": "code",
   "execution_count": 54,
   "metadata": {},
   "outputs": [
    {
     "data": {
      "text/html": [
       "<ol class=list-inline>\n",
       "\t<li>1</li>\n",
       "\t<li>2</li>\n",
       "\t<li>3</li>\n",
       "\t<li>4</li>\n",
       "\t<li>5</li>\n",
       "\t<li>1</li>\n",
       "\t<li>2</li>\n",
       "\t<li>3</li>\n",
       "\t<li>4</li>\n",
       "\t<li>5</li>\n",
       "\t<li>1</li>\n",
       "\t<li>2</li>\n",
       "\t<li>3</li>\n",
       "\t<li>4</li>\n",
       "\t<li>5</li>\n",
       "</ol>\n"
      ],
      "text/latex": [
       "\\begin{enumerate*}\n",
       "\\item 1\n",
       "\\item 2\n",
       "\\item 3\n",
       "\\item 4\n",
       "\\item 5\n",
       "\\item 1\n",
       "\\item 2\n",
       "\\item 3\n",
       "\\item 4\n",
       "\\item 5\n",
       "\\item 1\n",
       "\\item 2\n",
       "\\item 3\n",
       "\\item 4\n",
       "\\item 5\n",
       "\\end{enumerate*}\n"
      ],
      "text/markdown": [
       "1. 1\n",
       "2. 2\n",
       "3. 3\n",
       "4. 4\n",
       "5. 5\n",
       "6. 1\n",
       "7. 2\n",
       "8. 3\n",
       "9. 4\n",
       "10. 5\n",
       "11. 1\n",
       "12. 2\n",
       "13. 3\n",
       "14. 4\n",
       "15. 5\n",
       "\n",
       "\n"
      ],
      "text/plain": [
       " [1] 1 2 3 4 5 1 2 3 4 5 1 2 3 4 5"
      ]
     },
     "metadata": {},
     "output_type": "display_data"
    }
   ],
   "source": [
    "rep(1:5, 3)"
   ]
  },
  {
   "cell_type": "code",
   "execution_count": 55,
   "metadata": {},
   "outputs": [
    {
     "data": {
      "text/html": [
       "<ol class=list-inline>\n",
       "\t<li>1</li>\n",
       "\t<li>1</li>\n",
       "\t<li>1</li>\n",
       "\t<li>2</li>\n",
       "\t<li>2</li>\n",
       "\t<li>2</li>\n",
       "\t<li>3</li>\n",
       "\t<li>3</li>\n",
       "\t<li>3</li>\n",
       "\t<li>4</li>\n",
       "\t<li>4</li>\n",
       "\t<li>4</li>\n",
       "\t<li>5</li>\n",
       "\t<li>5</li>\n",
       "\t<li>5</li>\n",
       "</ol>\n"
      ],
      "text/latex": [
       "\\begin{enumerate*}\n",
       "\\item 1\n",
       "\\item 1\n",
       "\\item 1\n",
       "\\item 2\n",
       "\\item 2\n",
       "\\item 2\n",
       "\\item 3\n",
       "\\item 3\n",
       "\\item 3\n",
       "\\item 4\n",
       "\\item 4\n",
       "\\item 4\n",
       "\\item 5\n",
       "\\item 5\n",
       "\\item 5\n",
       "\\end{enumerate*}\n"
      ],
      "text/markdown": [
       "1. 1\n",
       "2. 1\n",
       "3. 1\n",
       "4. 2\n",
       "5. 2\n",
       "6. 2\n",
       "7. 3\n",
       "8. 3\n",
       "9. 3\n",
       "10. 4\n",
       "11. 4\n",
       "12. 4\n",
       "13. 5\n",
       "14. 5\n",
       "15. 5\n",
       "\n",
       "\n"
      ],
      "text/plain": [
       " [1] 1 1 1 2 2 2 3 3 3 4 4 4 5 5 5"
      ]
     },
     "metadata": {},
     "output_type": "display_data"
    }
   ],
   "source": [
    "rep(1:5, each = 3)"
   ]
  },
  {
   "cell_type": "code",
   "execution_count": 56,
   "metadata": {},
   "outputs": [
    {
     "data": {
      "text/html": [
       "<ol class=list-inline>\n",
       "\t<li>1</li>\n",
       "\t<li>2</li>\n",
       "\t<li>2</li>\n",
       "\t<li>3</li>\n",
       "\t<li>3</li>\n",
       "\t<li>3</li>\n",
       "\t<li>4</li>\n",
       "\t<li>4</li>\n",
       "\t<li>4</li>\n",
       "\t<li>4</li>\n",
       "\t<li>5</li>\n",
       "\t<li>5</li>\n",
       "\t<li>5</li>\n",
       "\t<li>5</li>\n",
       "\t<li>5</li>\n",
       "</ol>\n"
      ],
      "text/latex": [
       "\\begin{enumerate*}\n",
       "\\item 1\n",
       "\\item 2\n",
       "\\item 2\n",
       "\\item 3\n",
       "\\item 3\n",
       "\\item 3\n",
       "\\item 4\n",
       "\\item 4\n",
       "\\item 4\n",
       "\\item 4\n",
       "\\item 5\n",
       "\\item 5\n",
       "\\item 5\n",
       "\\item 5\n",
       "\\item 5\n",
       "\\end{enumerate*}\n"
      ],
      "text/markdown": [
       "1. 1\n",
       "2. 2\n",
       "3. 2\n",
       "4. 3\n",
       "5. 3\n",
       "6. 3\n",
       "7. 4\n",
       "8. 4\n",
       "9. 4\n",
       "10. 4\n",
       "11. 5\n",
       "12. 5\n",
       "13. 5\n",
       "14. 5\n",
       "15. 5\n",
       "\n",
       "\n"
      ],
      "text/plain": [
       " [1] 1 2 2 3 3 3 4 4 4 4 5 5 5 5 5"
      ]
     },
     "metadata": {},
     "output_type": "display_data"
    }
   ],
   "source": [
    "rep(1:5, times = 1:5)"
   ]
  },
  {
   "cell_type": "code",
   "execution_count": 57,
   "metadata": {},
   "outputs": [
    {
     "data": {
      "text/html": [
       "<ol class=list-inline>\n",
       "\t<li>1</li>\n",
       "\t<li>2</li>\n",
       "\t<li>3</li>\n",
       "\t<li>4</li>\n",
       "\t<li>5</li>\n",
       "\t<li>1</li>\n",
       "\t<li>2</li>\n",
       "</ol>\n"
      ],
      "text/latex": [
       "\\begin{enumerate*}\n",
       "\\item 1\n",
       "\\item 2\n",
       "\\item 3\n",
       "\\item 4\n",
       "\\item 5\n",
       "\\item 1\n",
       "\\item 2\n",
       "\\end{enumerate*}\n"
      ],
      "text/markdown": [
       "1. 1\n",
       "2. 2\n",
       "3. 3\n",
       "4. 4\n",
       "5. 5\n",
       "6. 1\n",
       "7. 2\n",
       "\n",
       "\n"
      ],
      "text/plain": [
       "[1] 1 2 3 4 5 1 2"
      ]
     },
     "metadata": {},
     "output_type": "display_data"
    }
   ],
   "source": [
    "rep(1:5, length.out = 7)"
   ]
  },
  {
   "cell_type": "code",
   "execution_count": 58,
   "metadata": {},
   "outputs": [
    {
     "data": {
      "text/html": [
       "<ol class=list-inline>\n",
       "\t<li>1</li>\n",
       "\t<li>2</li>\n",
       "\t<li>3</li>\n",
       "\t<li>4</li>\n",
       "\t<li>5</li>\n",
       "\t<li>1</li>\n",
       "\t<li>2</li>\n",
       "\t<li>3</li>\n",
       "\t<li>4</li>\n",
       "\t<li>5</li>\n",
       "\t<li>1</li>\n",
       "\t<li>2</li>\n",
       "\t<li>3</li>\n",
       "\t<li>4</li>\n",
       "\t<li>5</li>\n",
       "</ol>\n"
      ],
      "text/latex": [
       "\\begin{enumerate*}\n",
       "\\item 1\n",
       "\\item 2\n",
       "\\item 3\n",
       "\\item 4\n",
       "\\item 5\n",
       "\\item 1\n",
       "\\item 2\n",
       "\\item 3\n",
       "\\item 4\n",
       "\\item 5\n",
       "\\item 1\n",
       "\\item 2\n",
       "\\item 3\n",
       "\\item 4\n",
       "\\item 5\n",
       "\\end{enumerate*}\n"
      ],
      "text/markdown": [
       "1. 1\n",
       "2. 2\n",
       "3. 3\n",
       "4. 4\n",
       "5. 5\n",
       "6. 1\n",
       "7. 2\n",
       "8. 3\n",
       "9. 4\n",
       "10. 5\n",
       "11. 1\n",
       "12. 2\n",
       "13. 3\n",
       "14. 4\n",
       "15. 5\n",
       "\n",
       "\n"
      ],
      "text/plain": [
       " [1] 1 2 3 4 5 1 2 3 4 5 1 2 3 4 5"
      ]
     },
     "metadata": {},
     "output_type": "display_data"
    }
   ],
   "source": [
    "rep.int(1:5, 3)"
   ]
  },
  {
   "cell_type": "code",
   "execution_count": 59,
   "metadata": {},
   "outputs": [
    {
     "data": {
      "text/html": [
       "<ol class=list-inline>\n",
       "\t<li>1</li>\n",
       "\t<li>2</li>\n",
       "\t<li>3</li>\n",
       "\t<li>4</li>\n",
       "\t<li>5</li>\n",
       "\t<li>1</li>\n",
       "\t<li>2</li>\n",
       "\t<li>3</li>\n",
       "\t<li>4</li>\n",
       "\t<li>5</li>\n",
       "\t<li>1</li>\n",
       "\t<li>2</li>\n",
       "\t<li>3</li>\n",
       "</ol>\n"
      ],
      "text/latex": [
       "\\begin{enumerate*}\n",
       "\\item 1\n",
       "\\item 2\n",
       "\\item 3\n",
       "\\item 4\n",
       "\\item 5\n",
       "\\item 1\n",
       "\\item 2\n",
       "\\item 3\n",
       "\\item 4\n",
       "\\item 5\n",
       "\\item 1\n",
       "\\item 2\n",
       "\\item 3\n",
       "\\end{enumerate*}\n"
      ],
      "text/markdown": [
       "1. 1\n",
       "2. 2\n",
       "3. 3\n",
       "4. 4\n",
       "5. 5\n",
       "6. 1\n",
       "7. 2\n",
       "8. 3\n",
       "9. 4\n",
       "10. 5\n",
       "11. 1\n",
       "12. 2\n",
       "13. 3\n",
       "\n",
       "\n"
      ],
      "text/plain": [
       " [1] 1 2 3 4 5 1 2 3 4 5 1 2 3"
      ]
     },
     "metadata": {},
     "output_type": "display_data"
    }
   ],
   "source": [
    "rep_len(1:5, 13)"
   ]
  },
  {
   "cell_type": "markdown",
   "metadata": {},
   "source": [
    "### Array and Matrix"
   ]
  },
  {
   "cell_type": "markdown",
   "metadata": {},
   "source": [
    "创建数组"
   ]
  },
  {
   "cell_type": "code",
   "execution_count": 64,
   "metadata": {},
   "outputs": [
    {
     "data": {
      "text/html": [
       "<ol class=list-inline>\n",
       "\t<li>1</li>\n",
       "\t<li>2</li>\n",
       "\t<li>3</li>\n",
       "\t<li>4</li>\n",
       "\t<li>5</li>\n",
       "\t<li>6</li>\n",
       "\t<li>7</li>\n",
       "\t<li>8</li>\n",
       "\t<li>9</li>\n",
       "\t<li>10</li>\n",
       "\t<li>11</li>\n",
       "\t<li>12</li>\n",
       "\t<li>13</li>\n",
       "\t<li>14</li>\n",
       "\t<li>15</li>\n",
       "\t<li>16</li>\n",
       "\t<li>17</li>\n",
       "\t<li>18</li>\n",
       "\t<li>19</li>\n",
       "\t<li>20</li>\n",
       "\t<li>21</li>\n",
       "\t<li>22</li>\n",
       "\t<li>23</li>\n",
       "\t<li>24</li>\n",
       "</ol>\n"
      ],
      "text/latex": [
       "\\begin{enumerate*}\n",
       "\\item 1\n",
       "\\item 2\n",
       "\\item 3\n",
       "\\item 4\n",
       "\\item 5\n",
       "\\item 6\n",
       "\\item 7\n",
       "\\item 8\n",
       "\\item 9\n",
       "\\item 10\n",
       "\\item 11\n",
       "\\item 12\n",
       "\\item 13\n",
       "\\item 14\n",
       "\\item 15\n",
       "\\item 16\n",
       "\\item 17\n",
       "\\item 18\n",
       "\\item 19\n",
       "\\item 20\n",
       "\\item 21\n",
       "\\item 22\n",
       "\\item 23\n",
       "\\item 24\n",
       "\\end{enumerate*}\n"
      ],
      "text/markdown": [
       "1. 1\n",
       "2. 2\n",
       "3. 3\n",
       "4. 4\n",
       "5. 5\n",
       "6. 6\n",
       "7. 7\n",
       "8. 8\n",
       "9. 9\n",
       "10. 10\n",
       "11. 11\n",
       "12. 12\n",
       "13. 13\n",
       "14. 14\n",
       "15. 15\n",
       "16. 16\n",
       "17. 17\n",
       "18. 18\n",
       "19. 19\n",
       "20. 20\n",
       "21. 21\n",
       "22. 22\n",
       "23. 23\n",
       "24. 24\n",
       "\n",
       "\n"
      ],
      "text/plain": [
       ", , un\n",
       "\n",
       "      ein zwei drei\n",
       "one     1    5    9\n",
       "two     2    6   10\n",
       "three   3    7   11\n",
       "four    4    8   12\n",
       "\n",
       ", , deux\n",
       "\n",
       "      ein zwei drei\n",
       "one    13   17   21\n",
       "two    14   18   22\n",
       "three  15   19   23\n",
       "four   16   20   24\n"
      ]
     },
     "metadata": {},
     "output_type": "display_data"
    }
   ],
   "source": [
    "three_d_array = array(\n",
    "    1:24, \n",
    "    dim = c(4,3,2),\n",
    "    dimnames = list(\n",
    "        c(\"one\", \"two\", \"three\", \"four\"),\n",
    "        c(\"ein\", \"zwei\", \"drei\"),\n",
    "        c(\"un\", \"deux\")\n",
    "    )\n",
    ")\n",
    "three_d_array"
   ]
  },
  {
   "cell_type": "code",
   "execution_count": 69,
   "metadata": {},
   "outputs": [
    {
     "data": {
      "text/html": [
       "<table>\n",
       "<thead><tr><th></th><th scope=col>ein</th><th scope=col>zwei</th><th scope=col>drei</th></tr></thead>\n",
       "<tbody>\n",
       "\t<tr><th scope=row>one</th><td>1 </td><td>5 </td><td> 9</td></tr>\n",
       "\t<tr><th scope=row>two</th><td>2 </td><td>6 </td><td>10</td></tr>\n",
       "\t<tr><th scope=row>three</th><td>3 </td><td>7 </td><td>11</td></tr>\n",
       "\t<tr><th scope=row>four</th><td>4 </td><td>8 </td><td>12</td></tr>\n",
       "</tbody>\n",
       "</table>\n"
      ],
      "text/latex": [
       "\\begin{tabular}{r|lll}\n",
       "  & ein & zwei & drei\\\\\n",
       "\\hline\n",
       "\tone & 1  & 5  &  9\\\\\n",
       "\ttwo & 2  & 6  & 10\\\\\n",
       "\tthree & 3  & 7  & 11\\\\\n",
       "\tfour & 4  & 8  & 12\\\\\n",
       "\\end{tabular}\n"
      ],
      "text/markdown": [
       "\n",
       "| <!--/--> | ein | zwei | drei |\n",
       "|---|---|---|---|\n",
       "| one | 1  | 5  |  9 |\n",
       "| two | 2  | 6  | 10 |\n",
       "| three | 3  | 7  | 11 |\n",
       "| four | 4  | 8  | 12 |\n",
       "\n"
      ],
      "text/plain": [
       "      ein zwei drei\n",
       "one   1   5     9  \n",
       "two   2   6    10  \n",
       "three 3   7    11  \n",
       "four  4   8    12  "
      ]
     },
     "metadata": {},
     "output_type": "display_data"
    }
   ],
   "source": [
    "a_matrix = matrix(\n",
    "    1:12,\n",
    "    nrow = 4, \n",
    "    dimnames = list(\n",
    "        c(\"one\", \"two\", \"three\", \"four\"),\n",
    "        c(\"ein\", \"zwei\", \"drei\")\n",
    "    )\n",
    ")\n",
    "a_matrix"
   ]
  },
  {
   "cell_type": "code",
   "execution_count": 70,
   "metadata": {},
   "outputs": [
    {
     "name": "stdout",
     "output_type": "stream",
     "text": [
      "[1] 4 3 2\n",
      "[1] 4 3\n"
     ]
    }
   ],
   "source": [
    "print(dim(three_d_array))\n",
    "print(dim(a_matrix))"
   ]
  },
  {
   "cell_type": "code",
   "execution_count": 72,
   "metadata": {},
   "outputs": [
    {
     "name": "stdout",
     "output_type": "stream",
     "text": [
      "[1] 4\n",
      "[1] 3\n"
     ]
    }
   ],
   "source": [
    "print(nrow(three_d_array))\n",
    "print(ncol(three_d_array))"
   ]
  },
  {
   "cell_type": "code",
   "execution_count": 73,
   "metadata": {},
   "outputs": [
    {
     "data": {
      "text/html": [
       "<table>\n",
       "<tbody>\n",
       "\t<tr><td>1 </td><td> 5</td><td>2 </td></tr>\n",
       "\t<tr><td>0 </td><td>-3</td><td>4 </td></tr>\n",
       "\t<tr><td>1 </td><td> 1</td><td>7 </td></tr>\n",
       "</tbody>\n",
       "</table>\n"
      ],
      "text/latex": [
       "\\begin{tabular}{lll}\n",
       "\t 1  &  5 & 2 \\\\\n",
       "\t 0  & -3 & 4 \\\\\n",
       "\t 1  &  1 & 7 \\\\\n",
       "\\end{tabular}\n"
      ],
      "text/markdown": [
       "\n",
       "| 1  |  5 | 2  |\n",
       "| 0  | -3 | 4  |\n",
       "| 1  |  1 | 7  |\n",
       "\n"
      ],
      "text/plain": [
       "     [,1] [,2] [,3]\n",
       "[1,] 1     5   2   \n",
       "[2,] 0    -3   4   \n",
       "[3,] 1     1   7   "
      ]
     },
     "metadata": {},
     "output_type": "display_data"
    }
   ],
   "source": [
    "m <- matrix(c(1, 0, 1, 5, -3, 1, 2, 4, 7), nrow = 3)\n",
    "m"
   ]
  },
  {
   "cell_type": "code",
   "execution_count": 74,
   "metadata": {},
   "outputs": [
    {
     "data": {
      "text/html": [
       "<table>\n",
       "<tbody>\n",
       "\t<tr><td>  1       </td><td> 0.2000000</td><td>0.5000000 </td></tr>\n",
       "\t<tr><td>Inf       </td><td>-0.3333333</td><td>0.2500000 </td></tr>\n",
       "\t<tr><td>  1       </td><td> 1.0000000</td><td>0.1428571 </td></tr>\n",
       "</tbody>\n",
       "</table>\n"
      ],
      "text/latex": [
       "\\begin{tabular}{lll}\n",
       "\t   1        &  0.2000000 & 0.5000000 \\\\\n",
       "\t Inf        & -0.3333333 & 0.2500000 \\\\\n",
       "\t   1        &  1.0000000 & 0.1428571 \\\\\n",
       "\\end{tabular}\n"
      ],
      "text/markdown": [
       "\n",
       "|   1        |  0.2000000 | 0.5000000  |\n",
       "| Inf        | -0.3333333 | 0.2500000  |\n",
       "|   1        |  1.0000000 | 0.1428571  |\n",
       "\n"
      ],
      "text/plain": [
       "     [,1] [,2]       [,3]     \n",
       "[1,]   1   0.2000000 0.5000000\n",
       "[2,] Inf  -0.3333333 0.2500000\n",
       "[3,]   1   1.0000000 0.1428571"
      ]
     },
     "metadata": {},
     "output_type": "display_data"
    }
   ],
   "source": [
    "m ^ -1"
   ]
  },
  {
   "cell_type": "code",
   "execution_count": 75,
   "metadata": {},
   "outputs": [
    {
     "data": {
      "text/html": [
       "<table>\n",
       "<tbody>\n",
       "\t<tr><td>-25</td><td>-33</td><td>26 </td></tr>\n",
       "\t<tr><td>  4</td><td>  5</td><td>-4 </td></tr>\n",
       "\t<tr><td>  3</td><td>  4</td><td>-3 </td></tr>\n",
       "</tbody>\n",
       "</table>\n"
      ],
      "text/latex": [
       "\\begin{tabular}{lll}\n",
       "\t -25 & -33 & 26 \\\\\n",
       "\t   4 &   5 & -4 \\\\\n",
       "\t   3 &   4 & -3 \\\\\n",
       "\\end{tabular}\n"
      ],
      "text/markdown": [
       "\n",
       "| -25 | -33 | 26  |\n",
       "|   4 |   5 | -4  |\n",
       "|   3 |   4 | -3  |\n",
       "\n"
      ],
      "text/plain": [
       "     [,1] [,2] [,3]\n",
       "[1,] -25  -33  26  \n",
       "[2,]   4    5  -4  \n",
       "[3,]   3    4  -3  "
      ]
     },
     "metadata": {},
     "output_type": "display_data"
    }
   ],
   "source": [
    "inverse_of_m = solve(m)\n",
    "inverse_of_m"
   ]
  },
  {
   "cell_type": "code",
   "execution_count": 77,
   "metadata": {},
   "outputs": [
    {
     "data": {
      "text/html": [
       "<table>\n",
       "<tbody>\n",
       "\t<tr><td>1</td><td>0</td><td>0</td></tr>\n",
       "\t<tr><td>0</td><td>1</td><td>0</td></tr>\n",
       "\t<tr><td>0</td><td>0</td><td>1</td></tr>\n",
       "</tbody>\n",
       "</table>\n"
      ],
      "text/latex": [
       "\\begin{tabular}{lll}\n",
       "\t 1 & 0 & 0\\\\\n",
       "\t 0 & 1 & 0\\\\\n",
       "\t 0 & 0 & 1\\\\\n",
       "\\end{tabular}\n"
      ],
      "text/markdown": [
       "\n",
       "| 1 | 0 | 0 |\n",
       "| 0 | 1 | 0 |\n",
       "| 0 | 0 | 1 |\n",
       "\n"
      ],
      "text/plain": [
       "     [,1] [,2] [,3]\n",
       "[1,] 1    0    0   \n",
       "[2,] 0    1    0   \n",
       "[3,] 0    0    1   "
      ]
     },
     "metadata": {},
     "output_type": "display_data"
    }
   ],
   "source": [
    "m %*% solve(m)"
   ]
  },
  {
   "cell_type": "markdown",
   "metadata": {},
   "source": [
    "### QA\n",
    "Q1: 四种向量索引方式  \n",
    "A1:  \n",
    " - 给向量传入正数\n",
    " - 给向量传入负数\n",
    " - 给向量传入逻辑向量\n",
    " - 对于已命名的向量，给向量传入命名的字符向量\n",
    " \n",
    "Q2: 第 n 个三角形数表示为 n * (n + 1) / 2。创建一个包含前 20 个三角形数的序列。R 有 一个内置常数 letters，它包含小写的罗马字母。使用前 20 个英文字母来给你刚刚创 建的向量命名。选择命名为元音的三角数。  \n",
    "A2:  "
   ]
  },
  {
   "cell_type": "code",
   "execution_count": 86,
   "metadata": {},
   "outputs": [
    {
     "data": {
      "text/html": [
       "<dl class=dl-horizontal>\n",
       "\t<dt>a</dt>\n",
       "\t\t<dd>1</dd>\n",
       "\t<dt>b</dt>\n",
       "\t\t<dd>3</dd>\n",
       "\t<dt>c</dt>\n",
       "\t\t<dd>6</dd>\n",
       "\t<dt>d</dt>\n",
       "\t\t<dd>10</dd>\n",
       "\t<dt>e</dt>\n",
       "\t\t<dd>15</dd>\n",
       "\t<dt>f</dt>\n",
       "\t\t<dd>21</dd>\n",
       "\t<dt>g</dt>\n",
       "\t\t<dd>28</dd>\n",
       "\t<dt>h</dt>\n",
       "\t\t<dd>36</dd>\n",
       "\t<dt>i</dt>\n",
       "\t\t<dd>45</dd>\n",
       "\t<dt>j</dt>\n",
       "\t\t<dd>55</dd>\n",
       "\t<dt>k</dt>\n",
       "\t\t<dd>66</dd>\n",
       "\t<dt>l</dt>\n",
       "\t\t<dd>78</dd>\n",
       "\t<dt>m</dt>\n",
       "\t\t<dd>91</dd>\n",
       "\t<dt>n</dt>\n",
       "\t\t<dd>105</dd>\n",
       "\t<dt>o</dt>\n",
       "\t\t<dd>120</dd>\n",
       "\t<dt>p</dt>\n",
       "\t\t<dd>136</dd>\n",
       "\t<dt>q</dt>\n",
       "\t\t<dd>153</dd>\n",
       "\t<dt>r</dt>\n",
       "\t\t<dd>171</dd>\n",
       "\t<dt>s</dt>\n",
       "\t\t<dd>190</dd>\n",
       "\t<dt>t</dt>\n",
       "\t\t<dd>210</dd>\n",
       "</dl>\n"
      ],
      "text/latex": [
       "\\begin{description*}\n",
       "\\item[a] 1\n",
       "\\item[b] 3\n",
       "\\item[c] 6\n",
       "\\item[d] 10\n",
       "\\item[e] 15\n",
       "\\item[f] 21\n",
       "\\item[g] 28\n",
       "\\item[h] 36\n",
       "\\item[i] 45\n",
       "\\item[j] 55\n",
       "\\item[k] 66\n",
       "\\item[l] 78\n",
       "\\item[m] 91\n",
       "\\item[n] 105\n",
       "\\item[o] 120\n",
       "\\item[p] 136\n",
       "\\item[q] 153\n",
       "\\item[r] 171\n",
       "\\item[s] 190\n",
       "\\item[t] 210\n",
       "\\end{description*}\n"
      ],
      "text/markdown": [
       "a\n",
       ":   1b\n",
       ":   3c\n",
       ":   6d\n",
       ":   10e\n",
       ":   15f\n",
       ":   21g\n",
       ":   28h\n",
       ":   36i\n",
       ":   45j\n",
       ":   55k\n",
       ":   66l\n",
       ":   78m\n",
       ":   91n\n",
       ":   105o\n",
       ":   120p\n",
       ":   136q\n",
       ":   153r\n",
       ":   171s\n",
       ":   190t\n",
       ":   210\n",
       "\n"
      ],
      "text/plain": [
       "  a   b   c   d   e   f   g   h   i   j   k   l   m   n   o   p   q   r   s   t \n",
       "  1   3   6  10  15  21  28  36  45  55  66  78  91 105 120 136 153 171 190 210 "
      ]
     },
     "metadata": {},
     "output_type": "display_data"
    }
   ],
   "source": [
    "idx = 1:20\n",
    "tri_numbers = idx * (idx + 1) / 2\n",
    "names(tri_numbers) = letters[1:20]\n",
    "tri_numbers"
   ]
  },
  {
   "cell_type": "markdown",
   "metadata": {},
   "source": [
    "Q3: diag 函数有几种用途，其中之一是以输入向量作为对角线来创建一个方阵。使用序列 10 到 0 到 11(即 11,10,...,1,0,1,...,11)创建一个 21×21 的矩阵。  \n",
    "A3: "
   ]
  },
  {
   "cell_type": "code",
   "execution_count": 112,
   "metadata": {},
   "outputs": [
    {
     "data": {
      "text/html": [
       "<table>\n",
       "<tbody>\n",
       "\t<tr><td>10 </td><td>0  </td><td>0  </td><td>0  </td><td>0  </td><td>0  </td><td>0  </td><td>0  </td><td>0  </td><td>0  </td><td>...</td><td>0  </td><td>0  </td><td>0  </td><td>0  </td><td>0  </td><td>0  </td><td>0  </td><td>0  </td><td>0  </td><td> 0 </td></tr>\n",
       "\t<tr><td> 0 </td><td>9  </td><td>0  </td><td>0  </td><td>0  </td><td>0  </td><td>0  </td><td>0  </td><td>0  </td><td>0  </td><td>...</td><td>0  </td><td>0  </td><td>0  </td><td>0  </td><td>0  </td><td>0  </td><td>0  </td><td>0  </td><td>0  </td><td> 0 </td></tr>\n",
       "\t<tr><td> 0 </td><td>0  </td><td>8  </td><td>0  </td><td>0  </td><td>0  </td><td>0  </td><td>0  </td><td>0  </td><td>0  </td><td>...</td><td>0  </td><td>0  </td><td>0  </td><td>0  </td><td>0  </td><td>0  </td><td>0  </td><td>0  </td><td>0  </td><td> 0 </td></tr>\n",
       "\t<tr><td> 0 </td><td>0  </td><td>0  </td><td>7  </td><td>0  </td><td>0  </td><td>0  </td><td>0  </td><td>0  </td><td>0  </td><td>...</td><td>0  </td><td>0  </td><td>0  </td><td>0  </td><td>0  </td><td>0  </td><td>0  </td><td>0  </td><td>0  </td><td> 0 </td></tr>\n",
       "\t<tr><td> 0 </td><td>0  </td><td>0  </td><td>0  </td><td>6  </td><td>0  </td><td>0  </td><td>0  </td><td>0  </td><td>0  </td><td>...</td><td>0  </td><td>0  </td><td>0  </td><td>0  </td><td>0  </td><td>0  </td><td>0  </td><td>0  </td><td>0  </td><td> 0 </td></tr>\n",
       "\t<tr><td> 0 </td><td>0  </td><td>0  </td><td>0  </td><td>0  </td><td>5  </td><td>0  </td><td>0  </td><td>0  </td><td>0  </td><td>...</td><td>0  </td><td>0  </td><td>0  </td><td>0  </td><td>0  </td><td>0  </td><td>0  </td><td>0  </td><td>0  </td><td> 0 </td></tr>\n",
       "\t<tr><td> 0 </td><td>0  </td><td>0  </td><td>0  </td><td>0  </td><td>0  </td><td>4  </td><td>0  </td><td>0  </td><td>0  </td><td>...</td><td>0  </td><td>0  </td><td>0  </td><td>0  </td><td>0  </td><td>0  </td><td>0  </td><td>0  </td><td>0  </td><td> 0 </td></tr>\n",
       "\t<tr><td> 0 </td><td>0  </td><td>0  </td><td>0  </td><td>0  </td><td>0  </td><td>0  </td><td>3  </td><td>0  </td><td>0  </td><td>...</td><td>0  </td><td>0  </td><td>0  </td><td>0  </td><td>0  </td><td>0  </td><td>0  </td><td>0  </td><td>0  </td><td> 0 </td></tr>\n",
       "\t<tr><td> 0 </td><td>0  </td><td>0  </td><td>0  </td><td>0  </td><td>0  </td><td>0  </td><td>0  </td><td>2  </td><td>0  </td><td>...</td><td>0  </td><td>0  </td><td>0  </td><td>0  </td><td>0  </td><td>0  </td><td>0  </td><td>0  </td><td>0  </td><td> 0 </td></tr>\n",
       "\t<tr><td> 0 </td><td>0  </td><td>0  </td><td>0  </td><td>0  </td><td>0  </td><td>0  </td><td>0  </td><td>0  </td><td>1  </td><td>...</td><td>0  </td><td>0  </td><td>0  </td><td>0  </td><td>0  </td><td>0  </td><td>0  </td><td>0  </td><td>0  </td><td> 0 </td></tr>\n",
       "\t<tr><td> 0 </td><td>0  </td><td>0  </td><td>0  </td><td>0  </td><td>0  </td><td>0  </td><td>0  </td><td>0  </td><td>0  </td><td>...</td><td>0  </td><td>0  </td><td>0  </td><td>0  </td><td>0  </td><td>0  </td><td>0  </td><td>0  </td><td>0  </td><td> 0 </td></tr>\n",
       "\t<tr><td> 0 </td><td>0  </td><td>0  </td><td>0  </td><td>0  </td><td>0  </td><td>0  </td><td>0  </td><td>0  </td><td>0  </td><td>...</td><td>1  </td><td>0  </td><td>0  </td><td>0  </td><td>0  </td><td>0  </td><td>0  </td><td>0  </td><td>0  </td><td> 0 </td></tr>\n",
       "\t<tr><td> 0 </td><td>0  </td><td>0  </td><td>0  </td><td>0  </td><td>0  </td><td>0  </td><td>0  </td><td>0  </td><td>0  </td><td>...</td><td>0  </td><td>2  </td><td>0  </td><td>0  </td><td>0  </td><td>0  </td><td>0  </td><td>0  </td><td>0  </td><td> 0 </td></tr>\n",
       "\t<tr><td> 0 </td><td>0  </td><td>0  </td><td>0  </td><td>0  </td><td>0  </td><td>0  </td><td>0  </td><td>0  </td><td>0  </td><td>...</td><td>0  </td><td>0  </td><td>3  </td><td>0  </td><td>0  </td><td>0  </td><td>0  </td><td>0  </td><td>0  </td><td> 0 </td></tr>\n",
       "\t<tr><td> 0 </td><td>0  </td><td>0  </td><td>0  </td><td>0  </td><td>0  </td><td>0  </td><td>0  </td><td>0  </td><td>0  </td><td>...</td><td>0  </td><td>0  </td><td>0  </td><td>4  </td><td>0  </td><td>0  </td><td>0  </td><td>0  </td><td>0  </td><td> 0 </td></tr>\n",
       "\t<tr><td> 0 </td><td>0  </td><td>0  </td><td>0  </td><td>0  </td><td>0  </td><td>0  </td><td>0  </td><td>0  </td><td>0  </td><td>...</td><td>0  </td><td>0  </td><td>0  </td><td>0  </td><td>5  </td><td>0  </td><td>0  </td><td>0  </td><td>0  </td><td> 0 </td></tr>\n",
       "\t<tr><td> 0 </td><td>0  </td><td>0  </td><td>0  </td><td>0  </td><td>0  </td><td>0  </td><td>0  </td><td>0  </td><td>0  </td><td>...</td><td>0  </td><td>0  </td><td>0  </td><td>0  </td><td>0  </td><td>6  </td><td>0  </td><td>0  </td><td>0  </td><td> 0 </td></tr>\n",
       "\t<tr><td> 0 </td><td>0  </td><td>0  </td><td>0  </td><td>0  </td><td>0  </td><td>0  </td><td>0  </td><td>0  </td><td>0  </td><td>...</td><td>0  </td><td>0  </td><td>0  </td><td>0  </td><td>0  </td><td>0  </td><td>7  </td><td>0  </td><td>0  </td><td> 0 </td></tr>\n",
       "\t<tr><td> 0 </td><td>0  </td><td>0  </td><td>0  </td><td>0  </td><td>0  </td><td>0  </td><td>0  </td><td>0  </td><td>0  </td><td>...</td><td>0  </td><td>0  </td><td>0  </td><td>0  </td><td>0  </td><td>0  </td><td>0  </td><td>8  </td><td>0  </td><td> 0 </td></tr>\n",
       "\t<tr><td> 0 </td><td>0  </td><td>0  </td><td>0  </td><td>0  </td><td>0  </td><td>0  </td><td>0  </td><td>0  </td><td>0  </td><td>...</td><td>0  </td><td>0  </td><td>0  </td><td>0  </td><td>0  </td><td>0  </td><td>0  </td><td>0  </td><td>9  </td><td> 0 </td></tr>\n",
       "\t<tr><td> 0 </td><td>0  </td><td>0  </td><td>0  </td><td>0  </td><td>0  </td><td>0  </td><td>0  </td><td>0  </td><td>0  </td><td>...</td><td>0  </td><td>0  </td><td>0  </td><td>0  </td><td>0  </td><td>0  </td><td>0  </td><td>0  </td><td>0  </td><td>10 </td></tr>\n",
       "</tbody>\n",
       "</table>\n"
      ],
      "text/latex": [
       "\\begin{tabular}{lllllllllllllllllllll}\n",
       "\t 10  & 0   & 0   & 0   & 0   & 0   & 0   & 0   & 0   & 0   & ... & 0   & 0   & 0   & 0   & 0   & 0   & 0   & 0   & 0   &  0 \\\\\n",
       "\t  0  & 9   & 0   & 0   & 0   & 0   & 0   & 0   & 0   & 0   & ... & 0   & 0   & 0   & 0   & 0   & 0   & 0   & 0   & 0   &  0 \\\\\n",
       "\t  0  & 0   & 8   & 0   & 0   & 0   & 0   & 0   & 0   & 0   & ... & 0   & 0   & 0   & 0   & 0   & 0   & 0   & 0   & 0   &  0 \\\\\n",
       "\t  0  & 0   & 0   & 7   & 0   & 0   & 0   & 0   & 0   & 0   & ... & 0   & 0   & 0   & 0   & 0   & 0   & 0   & 0   & 0   &  0 \\\\\n",
       "\t  0  & 0   & 0   & 0   & 6   & 0   & 0   & 0   & 0   & 0   & ... & 0   & 0   & 0   & 0   & 0   & 0   & 0   & 0   & 0   &  0 \\\\\n",
       "\t  0  & 0   & 0   & 0   & 0   & 5   & 0   & 0   & 0   & 0   & ... & 0   & 0   & 0   & 0   & 0   & 0   & 0   & 0   & 0   &  0 \\\\\n",
       "\t  0  & 0   & 0   & 0   & 0   & 0   & 4   & 0   & 0   & 0   & ... & 0   & 0   & 0   & 0   & 0   & 0   & 0   & 0   & 0   &  0 \\\\\n",
       "\t  0  & 0   & 0   & 0   & 0   & 0   & 0   & 3   & 0   & 0   & ... & 0   & 0   & 0   & 0   & 0   & 0   & 0   & 0   & 0   &  0 \\\\\n",
       "\t  0  & 0   & 0   & 0   & 0   & 0   & 0   & 0   & 2   & 0   & ... & 0   & 0   & 0   & 0   & 0   & 0   & 0   & 0   & 0   &  0 \\\\\n",
       "\t  0  & 0   & 0   & 0   & 0   & 0   & 0   & 0   & 0   & 1   & ... & 0   & 0   & 0   & 0   & 0   & 0   & 0   & 0   & 0   &  0 \\\\\n",
       "\t  0  & 0   & 0   & 0   & 0   & 0   & 0   & 0   & 0   & 0   & ... & 0   & 0   & 0   & 0   & 0   & 0   & 0   & 0   & 0   &  0 \\\\\n",
       "\t  0  & 0   & 0   & 0   & 0   & 0   & 0   & 0   & 0   & 0   & ... & 1   & 0   & 0   & 0   & 0   & 0   & 0   & 0   & 0   &  0 \\\\\n",
       "\t  0  & 0   & 0   & 0   & 0   & 0   & 0   & 0   & 0   & 0   & ... & 0   & 2   & 0   & 0   & 0   & 0   & 0   & 0   & 0   &  0 \\\\\n",
       "\t  0  & 0   & 0   & 0   & 0   & 0   & 0   & 0   & 0   & 0   & ... & 0   & 0   & 3   & 0   & 0   & 0   & 0   & 0   & 0   &  0 \\\\\n",
       "\t  0  & 0   & 0   & 0   & 0   & 0   & 0   & 0   & 0   & 0   & ... & 0   & 0   & 0   & 4   & 0   & 0   & 0   & 0   & 0   &  0 \\\\\n",
       "\t  0  & 0   & 0   & 0   & 0   & 0   & 0   & 0   & 0   & 0   & ... & 0   & 0   & 0   & 0   & 5   & 0   & 0   & 0   & 0   &  0 \\\\\n",
       "\t  0  & 0   & 0   & 0   & 0   & 0   & 0   & 0   & 0   & 0   & ... & 0   & 0   & 0   & 0   & 0   & 6   & 0   & 0   & 0   &  0 \\\\\n",
       "\t  0  & 0   & 0   & 0   & 0   & 0   & 0   & 0   & 0   & 0   & ... & 0   & 0   & 0   & 0   & 0   & 0   & 7   & 0   & 0   &  0 \\\\\n",
       "\t  0  & 0   & 0   & 0   & 0   & 0   & 0   & 0   & 0   & 0   & ... & 0   & 0   & 0   & 0   & 0   & 0   & 0   & 8   & 0   &  0 \\\\\n",
       "\t  0  & 0   & 0   & 0   & 0   & 0   & 0   & 0   & 0   & 0   & ... & 0   & 0   & 0   & 0   & 0   & 0   & 0   & 0   & 9   &  0 \\\\\n",
       "\t  0  & 0   & 0   & 0   & 0   & 0   & 0   & 0   & 0   & 0   & ... & 0   & 0   & 0   & 0   & 0   & 0   & 0   & 0   & 0   & 10 \\\\\n",
       "\\end{tabular}\n"
      ],
      "text/markdown": [
       "\n",
       "| 10  | 0   | 0   | 0   | 0   | 0   | 0   | 0   | 0   | 0   | ... | 0   | 0   | 0   | 0   | 0   | 0   | 0   | 0   | 0   |  0  |\n",
       "|  0  | 9   | 0   | 0   | 0   | 0   | 0   | 0   | 0   | 0   | ... | 0   | 0   | 0   | 0   | 0   | 0   | 0   | 0   | 0   |  0  |\n",
       "|  0  | 0   | 8   | 0   | 0   | 0   | 0   | 0   | 0   | 0   | ... | 0   | 0   | 0   | 0   | 0   | 0   | 0   | 0   | 0   |  0  |\n",
       "|  0  | 0   | 0   | 7   | 0   | 0   | 0   | 0   | 0   | 0   | ... | 0   | 0   | 0   | 0   | 0   | 0   | 0   | 0   | 0   |  0  |\n",
       "|  0  | 0   | 0   | 0   | 6   | 0   | 0   | 0   | 0   | 0   | ... | 0   | 0   | 0   | 0   | 0   | 0   | 0   | 0   | 0   |  0  |\n",
       "|  0  | 0   | 0   | 0   | 0   | 5   | 0   | 0   | 0   | 0   | ... | 0   | 0   | 0   | 0   | 0   | 0   | 0   | 0   | 0   |  0  |\n",
       "|  0  | 0   | 0   | 0   | 0   | 0   | 4   | 0   | 0   | 0   | ... | 0   | 0   | 0   | 0   | 0   | 0   | 0   | 0   | 0   |  0  |\n",
       "|  0  | 0   | 0   | 0   | 0   | 0   | 0   | 3   | 0   | 0   | ... | 0   | 0   | 0   | 0   | 0   | 0   | 0   | 0   | 0   |  0  |\n",
       "|  0  | 0   | 0   | 0   | 0   | 0   | 0   | 0   | 2   | 0   | ... | 0   | 0   | 0   | 0   | 0   | 0   | 0   | 0   | 0   |  0  |\n",
       "|  0  | 0   | 0   | 0   | 0   | 0   | 0   | 0   | 0   | 1   | ... | 0   | 0   | 0   | 0   | 0   | 0   | 0   | 0   | 0   |  0  |\n",
       "|  0  | 0   | 0   | 0   | 0   | 0   | 0   | 0   | 0   | 0   | ... | 0   | 0   | 0   | 0   | 0   | 0   | 0   | 0   | 0   |  0  |\n",
       "|  0  | 0   | 0   | 0   | 0   | 0   | 0   | 0   | 0   | 0   | ... | 1   | 0   | 0   | 0   | 0   | 0   | 0   | 0   | 0   |  0  |\n",
       "|  0  | 0   | 0   | 0   | 0   | 0   | 0   | 0   | 0   | 0   | ... | 0   | 2   | 0   | 0   | 0   | 0   | 0   | 0   | 0   |  0  |\n",
       "|  0  | 0   | 0   | 0   | 0   | 0   | 0   | 0   | 0   | 0   | ... | 0   | 0   | 3   | 0   | 0   | 0   | 0   | 0   | 0   |  0  |\n",
       "|  0  | 0   | 0   | 0   | 0   | 0   | 0   | 0   | 0   | 0   | ... | 0   | 0   | 0   | 4   | 0   | 0   | 0   | 0   | 0   |  0  |\n",
       "|  0  | 0   | 0   | 0   | 0   | 0   | 0   | 0   | 0   | 0   | ... | 0   | 0   | 0   | 0   | 5   | 0   | 0   | 0   | 0   |  0  |\n",
       "|  0  | 0   | 0   | 0   | 0   | 0   | 0   | 0   | 0   | 0   | ... | 0   | 0   | 0   | 0   | 0   | 6   | 0   | 0   | 0   |  0  |\n",
       "|  0  | 0   | 0   | 0   | 0   | 0   | 0   | 0   | 0   | 0   | ... | 0   | 0   | 0   | 0   | 0   | 0   | 7   | 0   | 0   |  0  |\n",
       "|  0  | 0   | 0   | 0   | 0   | 0   | 0   | 0   | 0   | 0   | ... | 0   | 0   | 0   | 0   | 0   | 0   | 0   | 8   | 0   |  0  |\n",
       "|  0  | 0   | 0   | 0   | 0   | 0   | 0   | 0   | 0   | 0   | ... | 0   | 0   | 0   | 0   | 0   | 0   | 0   | 0   | 9   |  0  |\n",
       "|  0  | 0   | 0   | 0   | 0   | 0   | 0   | 0   | 0   | 0   | ... | 0   | 0   | 0   | 0   | 0   | 0   | 0   | 0   | 0   | 10  |\n",
       "\n"
      ],
      "text/plain": [
       "      [,1] [,2] [,3] [,4] [,5] [,6] [,7] [,8] [,9] [,10] [,11] [,12] [,13]\n",
       " [1,] 10   0    0    0    0    0    0    0    0    0     ...   0     0    \n",
       " [2,]  0   9    0    0    0    0    0    0    0    0     ...   0     0    \n",
       " [3,]  0   0    8    0    0    0    0    0    0    0     ...   0     0    \n",
       " [4,]  0   0    0    7    0    0    0    0    0    0     ...   0     0    \n",
       " [5,]  0   0    0    0    6    0    0    0    0    0     ...   0     0    \n",
       " [6,]  0   0    0    0    0    5    0    0    0    0     ...   0     0    \n",
       " [7,]  0   0    0    0    0    0    4    0    0    0     ...   0     0    \n",
       " [8,]  0   0    0    0    0    0    0    3    0    0     ...   0     0    \n",
       " [9,]  0   0    0    0    0    0    0    0    2    0     ...   0     0    \n",
       "[10,]  0   0    0    0    0    0    0    0    0    1     ...   0     0    \n",
       "[11,]  0   0    0    0    0    0    0    0    0    0     ...   0     0    \n",
       "[12,]  0   0    0    0    0    0    0    0    0    0     ...   1     0    \n",
       "[13,]  0   0    0    0    0    0    0    0    0    0     ...   0     2    \n",
       "[14,]  0   0    0    0    0    0    0    0    0    0     ...   0     0    \n",
       "[15,]  0   0    0    0    0    0    0    0    0    0     ...   0     0    \n",
       "[16,]  0   0    0    0    0    0    0    0    0    0     ...   0     0    \n",
       "[17,]  0   0    0    0    0    0    0    0    0    0     ...   0     0    \n",
       "[18,]  0   0    0    0    0    0    0    0    0    0     ...   0     0    \n",
       "[19,]  0   0    0    0    0    0    0    0    0    0     ...   0     0    \n",
       "[20,]  0   0    0    0    0    0    0    0    0    0     ...   0     0    \n",
       "[21,]  0   0    0    0    0    0    0    0    0    0     ...   0     0    \n",
       "      [,14] [,15] [,16] [,17] [,18] [,19] [,20] [,21]\n",
       " [1,] 0     0     0     0     0     0     0      0   \n",
       " [2,] 0     0     0     0     0     0     0      0   \n",
       " [3,] 0     0     0     0     0     0     0      0   \n",
       " [4,] 0     0     0     0     0     0     0      0   \n",
       " [5,] 0     0     0     0     0     0     0      0   \n",
       " [6,] 0     0     0     0     0     0     0      0   \n",
       " [7,] 0     0     0     0     0     0     0      0   \n",
       " [8,] 0     0     0     0     0     0     0      0   \n",
       " [9,] 0     0     0     0     0     0     0      0   \n",
       "[10,] 0     0     0     0     0     0     0      0   \n",
       "[11,] 0     0     0     0     0     0     0      0   \n",
       "[12,] 0     0     0     0     0     0     0      0   \n",
       "[13,] 0     0     0     0     0     0     0      0   \n",
       "[14,] 3     0     0     0     0     0     0      0   \n",
       "[15,] 0     4     0     0     0     0     0      0   \n",
       "[16,] 0     0     5     0     0     0     0      0   \n",
       "[17,] 0     0     0     6     0     0     0      0   \n",
       "[18,] 0     0     0     0     7     0     0      0   \n",
       "[19,] 0     0     0     0     0     8     0      0   \n",
       "[20,] 0     0     0     0     0     0     9      0   \n",
       "[21,] 0     0     0     0     0     0     0     10   "
      ]
     },
     "metadata": {},
     "output_type": "display_data"
    }
   ],
   "source": [
    "center = diag(c(10:1, 0:10))\n",
    "center"
   ]
  },
  {
   "cell_type": "markdown",
   "metadata": {},
   "source": [
    "Q4: 你可通过给 diag 函数传递两个额外的参数来指定输出的维度。创建一个主对角线元素 都为 1 的 20×21 的矩阵。现在，在此矩阵之上加一行全零元素来创建一个 21×21 的方 阵，原来主对角线上的全 1 元素现在全体向下偏移一行。  \n",
    "A4:  "
   ]
  },
  {
   "cell_type": "code",
   "execution_count": 113,
   "metadata": {},
   "outputs": [],
   "source": [
    "num_row = 21"
   ]
  },
  {
   "cell_type": "code",
   "execution_count": 116,
   "metadata": {
    "scrolled": true
   },
   "outputs": [],
   "source": [
    "t = diag(1, num_row-1, num_row)"
   ]
  },
  {
   "cell_type": "code",
   "execution_count": 117,
   "metadata": {},
   "outputs": [],
   "source": [
    "low = rbind(rep(0, num_row), t)\n"
   ]
  },
  {
   "cell_type": "code",
   "execution_count": 118,
   "metadata": {},
   "outputs": [],
   "source": [
    "high = cbind(rep(0, num_row), diag(1, num_row, num_row-1))"
   ]
  },
  {
   "cell_type": "code",
   "execution_count": 119,
   "metadata": {},
   "outputs": [
    {
     "data": {
      "text/html": [
       "<table>\n",
       "<tbody>\n",
       "\t<tr><td>10 </td><td>1  </td><td>0  </td><td>0  </td><td>0  </td><td>0  </td><td>0  </td><td>0  </td><td>0  </td><td>0  </td><td>...</td><td>0  </td><td>0  </td><td>0  </td><td>0  </td><td>0  </td><td>0  </td><td>0  </td><td>0  </td><td>0  </td><td> 0 </td></tr>\n",
       "\t<tr><td> 1 </td><td>9  </td><td>1  </td><td>0  </td><td>0  </td><td>0  </td><td>0  </td><td>0  </td><td>0  </td><td>0  </td><td>...</td><td>0  </td><td>0  </td><td>0  </td><td>0  </td><td>0  </td><td>0  </td><td>0  </td><td>0  </td><td>0  </td><td> 0 </td></tr>\n",
       "\t<tr><td> 0 </td><td>1  </td><td>8  </td><td>1  </td><td>0  </td><td>0  </td><td>0  </td><td>0  </td><td>0  </td><td>0  </td><td>...</td><td>0  </td><td>0  </td><td>0  </td><td>0  </td><td>0  </td><td>0  </td><td>0  </td><td>0  </td><td>0  </td><td> 0 </td></tr>\n",
       "\t<tr><td> 0 </td><td>0  </td><td>1  </td><td>7  </td><td>1  </td><td>0  </td><td>0  </td><td>0  </td><td>0  </td><td>0  </td><td>...</td><td>0  </td><td>0  </td><td>0  </td><td>0  </td><td>0  </td><td>0  </td><td>0  </td><td>0  </td><td>0  </td><td> 0 </td></tr>\n",
       "\t<tr><td> 0 </td><td>0  </td><td>0  </td><td>1  </td><td>6  </td><td>1  </td><td>0  </td><td>0  </td><td>0  </td><td>0  </td><td>...</td><td>0  </td><td>0  </td><td>0  </td><td>0  </td><td>0  </td><td>0  </td><td>0  </td><td>0  </td><td>0  </td><td> 0 </td></tr>\n",
       "\t<tr><td> 0 </td><td>0  </td><td>0  </td><td>0  </td><td>1  </td><td>5  </td><td>1  </td><td>0  </td><td>0  </td><td>0  </td><td>...</td><td>0  </td><td>0  </td><td>0  </td><td>0  </td><td>0  </td><td>0  </td><td>0  </td><td>0  </td><td>0  </td><td> 0 </td></tr>\n",
       "\t<tr><td> 0 </td><td>0  </td><td>0  </td><td>0  </td><td>0  </td><td>1  </td><td>4  </td><td>1  </td><td>0  </td><td>0  </td><td>...</td><td>0  </td><td>0  </td><td>0  </td><td>0  </td><td>0  </td><td>0  </td><td>0  </td><td>0  </td><td>0  </td><td> 0 </td></tr>\n",
       "\t<tr><td> 0 </td><td>0  </td><td>0  </td><td>0  </td><td>0  </td><td>0  </td><td>1  </td><td>3  </td><td>1  </td><td>0  </td><td>...</td><td>0  </td><td>0  </td><td>0  </td><td>0  </td><td>0  </td><td>0  </td><td>0  </td><td>0  </td><td>0  </td><td> 0 </td></tr>\n",
       "\t<tr><td> 0 </td><td>0  </td><td>0  </td><td>0  </td><td>0  </td><td>0  </td><td>0  </td><td>1  </td><td>2  </td><td>1  </td><td>...</td><td>0  </td><td>0  </td><td>0  </td><td>0  </td><td>0  </td><td>0  </td><td>0  </td><td>0  </td><td>0  </td><td> 0 </td></tr>\n",
       "\t<tr><td> 0 </td><td>0  </td><td>0  </td><td>0  </td><td>0  </td><td>0  </td><td>0  </td><td>0  </td><td>1  </td><td>1  </td><td>...</td><td>0  </td><td>0  </td><td>0  </td><td>0  </td><td>0  </td><td>0  </td><td>0  </td><td>0  </td><td>0  </td><td> 0 </td></tr>\n",
       "\t<tr><td> 0 </td><td>0  </td><td>0  </td><td>0  </td><td>0  </td><td>0  </td><td>0  </td><td>0  </td><td>0  </td><td>1  </td><td>...</td><td>1  </td><td>0  </td><td>0  </td><td>0  </td><td>0  </td><td>0  </td><td>0  </td><td>0  </td><td>0  </td><td> 0 </td></tr>\n",
       "\t<tr><td> 0 </td><td>0  </td><td>0  </td><td>0  </td><td>0  </td><td>0  </td><td>0  </td><td>0  </td><td>0  </td><td>0  </td><td>...</td><td>1  </td><td>1  </td><td>0  </td><td>0  </td><td>0  </td><td>0  </td><td>0  </td><td>0  </td><td>0  </td><td> 0 </td></tr>\n",
       "\t<tr><td> 0 </td><td>0  </td><td>0  </td><td>0  </td><td>0  </td><td>0  </td><td>0  </td><td>0  </td><td>0  </td><td>0  </td><td>...</td><td>1  </td><td>2  </td><td>1  </td><td>0  </td><td>0  </td><td>0  </td><td>0  </td><td>0  </td><td>0  </td><td> 0 </td></tr>\n",
       "\t<tr><td> 0 </td><td>0  </td><td>0  </td><td>0  </td><td>0  </td><td>0  </td><td>0  </td><td>0  </td><td>0  </td><td>0  </td><td>...</td><td>0  </td><td>1  </td><td>3  </td><td>1  </td><td>0  </td><td>0  </td><td>0  </td><td>0  </td><td>0  </td><td> 0 </td></tr>\n",
       "\t<tr><td> 0 </td><td>0  </td><td>0  </td><td>0  </td><td>0  </td><td>0  </td><td>0  </td><td>0  </td><td>0  </td><td>0  </td><td>...</td><td>0  </td><td>0  </td><td>1  </td><td>4  </td><td>1  </td><td>0  </td><td>0  </td><td>0  </td><td>0  </td><td> 0 </td></tr>\n",
       "\t<tr><td> 0 </td><td>0  </td><td>0  </td><td>0  </td><td>0  </td><td>0  </td><td>0  </td><td>0  </td><td>0  </td><td>0  </td><td>...</td><td>0  </td><td>0  </td><td>0  </td><td>1  </td><td>5  </td><td>1  </td><td>0  </td><td>0  </td><td>0  </td><td> 0 </td></tr>\n",
       "\t<tr><td> 0 </td><td>0  </td><td>0  </td><td>0  </td><td>0  </td><td>0  </td><td>0  </td><td>0  </td><td>0  </td><td>0  </td><td>...</td><td>0  </td><td>0  </td><td>0  </td><td>0  </td><td>1  </td><td>6  </td><td>1  </td><td>0  </td><td>0  </td><td> 0 </td></tr>\n",
       "\t<tr><td> 0 </td><td>0  </td><td>0  </td><td>0  </td><td>0  </td><td>0  </td><td>0  </td><td>0  </td><td>0  </td><td>0  </td><td>...</td><td>0  </td><td>0  </td><td>0  </td><td>0  </td><td>0  </td><td>1  </td><td>7  </td><td>1  </td><td>0  </td><td> 0 </td></tr>\n",
       "\t<tr><td> 0 </td><td>0  </td><td>0  </td><td>0  </td><td>0  </td><td>0  </td><td>0  </td><td>0  </td><td>0  </td><td>0  </td><td>...</td><td>0  </td><td>0  </td><td>0  </td><td>0  </td><td>0  </td><td>0  </td><td>1  </td><td>8  </td><td>1  </td><td> 0 </td></tr>\n",
       "\t<tr><td> 0 </td><td>0  </td><td>0  </td><td>0  </td><td>0  </td><td>0  </td><td>0  </td><td>0  </td><td>0  </td><td>0  </td><td>...</td><td>0  </td><td>0  </td><td>0  </td><td>0  </td><td>0  </td><td>0  </td><td>0  </td><td>1  </td><td>9  </td><td> 1 </td></tr>\n",
       "\t<tr><td> 0 </td><td>0  </td><td>0  </td><td>0  </td><td>0  </td><td>0  </td><td>0  </td><td>0  </td><td>0  </td><td>0  </td><td>...</td><td>0  </td><td>0  </td><td>0  </td><td>0  </td><td>0  </td><td>0  </td><td>0  </td><td>0  </td><td>1  </td><td>10 </td></tr>\n",
       "</tbody>\n",
       "</table>\n"
      ],
      "text/latex": [
       "\\begin{tabular}{lllllllllllllllllllll}\n",
       "\t 10  & 1   & 0   & 0   & 0   & 0   & 0   & 0   & 0   & 0   & ... & 0   & 0   & 0   & 0   & 0   & 0   & 0   & 0   & 0   &  0 \\\\\n",
       "\t  1  & 9   & 1   & 0   & 0   & 0   & 0   & 0   & 0   & 0   & ... & 0   & 0   & 0   & 0   & 0   & 0   & 0   & 0   & 0   &  0 \\\\\n",
       "\t  0  & 1   & 8   & 1   & 0   & 0   & 0   & 0   & 0   & 0   & ... & 0   & 0   & 0   & 0   & 0   & 0   & 0   & 0   & 0   &  0 \\\\\n",
       "\t  0  & 0   & 1   & 7   & 1   & 0   & 0   & 0   & 0   & 0   & ... & 0   & 0   & 0   & 0   & 0   & 0   & 0   & 0   & 0   &  0 \\\\\n",
       "\t  0  & 0   & 0   & 1   & 6   & 1   & 0   & 0   & 0   & 0   & ... & 0   & 0   & 0   & 0   & 0   & 0   & 0   & 0   & 0   &  0 \\\\\n",
       "\t  0  & 0   & 0   & 0   & 1   & 5   & 1   & 0   & 0   & 0   & ... & 0   & 0   & 0   & 0   & 0   & 0   & 0   & 0   & 0   &  0 \\\\\n",
       "\t  0  & 0   & 0   & 0   & 0   & 1   & 4   & 1   & 0   & 0   & ... & 0   & 0   & 0   & 0   & 0   & 0   & 0   & 0   & 0   &  0 \\\\\n",
       "\t  0  & 0   & 0   & 0   & 0   & 0   & 1   & 3   & 1   & 0   & ... & 0   & 0   & 0   & 0   & 0   & 0   & 0   & 0   & 0   &  0 \\\\\n",
       "\t  0  & 0   & 0   & 0   & 0   & 0   & 0   & 1   & 2   & 1   & ... & 0   & 0   & 0   & 0   & 0   & 0   & 0   & 0   & 0   &  0 \\\\\n",
       "\t  0  & 0   & 0   & 0   & 0   & 0   & 0   & 0   & 1   & 1   & ... & 0   & 0   & 0   & 0   & 0   & 0   & 0   & 0   & 0   &  0 \\\\\n",
       "\t  0  & 0   & 0   & 0   & 0   & 0   & 0   & 0   & 0   & 1   & ... & 1   & 0   & 0   & 0   & 0   & 0   & 0   & 0   & 0   &  0 \\\\\n",
       "\t  0  & 0   & 0   & 0   & 0   & 0   & 0   & 0   & 0   & 0   & ... & 1   & 1   & 0   & 0   & 0   & 0   & 0   & 0   & 0   &  0 \\\\\n",
       "\t  0  & 0   & 0   & 0   & 0   & 0   & 0   & 0   & 0   & 0   & ... & 1   & 2   & 1   & 0   & 0   & 0   & 0   & 0   & 0   &  0 \\\\\n",
       "\t  0  & 0   & 0   & 0   & 0   & 0   & 0   & 0   & 0   & 0   & ... & 0   & 1   & 3   & 1   & 0   & 0   & 0   & 0   & 0   &  0 \\\\\n",
       "\t  0  & 0   & 0   & 0   & 0   & 0   & 0   & 0   & 0   & 0   & ... & 0   & 0   & 1   & 4   & 1   & 0   & 0   & 0   & 0   &  0 \\\\\n",
       "\t  0  & 0   & 0   & 0   & 0   & 0   & 0   & 0   & 0   & 0   & ... & 0   & 0   & 0   & 1   & 5   & 1   & 0   & 0   & 0   &  0 \\\\\n",
       "\t  0  & 0   & 0   & 0   & 0   & 0   & 0   & 0   & 0   & 0   & ... & 0   & 0   & 0   & 0   & 1   & 6   & 1   & 0   & 0   &  0 \\\\\n",
       "\t  0  & 0   & 0   & 0   & 0   & 0   & 0   & 0   & 0   & 0   & ... & 0   & 0   & 0   & 0   & 0   & 1   & 7   & 1   & 0   &  0 \\\\\n",
       "\t  0  & 0   & 0   & 0   & 0   & 0   & 0   & 0   & 0   & 0   & ... & 0   & 0   & 0   & 0   & 0   & 0   & 1   & 8   & 1   &  0 \\\\\n",
       "\t  0  & 0   & 0   & 0   & 0   & 0   & 0   & 0   & 0   & 0   & ... & 0   & 0   & 0   & 0   & 0   & 0   & 0   & 1   & 9   &  1 \\\\\n",
       "\t  0  & 0   & 0   & 0   & 0   & 0   & 0   & 0   & 0   & 0   & ... & 0   & 0   & 0   & 0   & 0   & 0   & 0   & 0   & 1   & 10 \\\\\n",
       "\\end{tabular}\n"
      ],
      "text/markdown": [
       "\n",
       "| 10  | 1   | 0   | 0   | 0   | 0   | 0   | 0   | 0   | 0   | ... | 0   | 0   | 0   | 0   | 0   | 0   | 0   | 0   | 0   |  0  |\n",
       "|  1  | 9   | 1   | 0   | 0   | 0   | 0   | 0   | 0   | 0   | ... | 0   | 0   | 0   | 0   | 0   | 0   | 0   | 0   | 0   |  0  |\n",
       "|  0  | 1   | 8   | 1   | 0   | 0   | 0   | 0   | 0   | 0   | ... | 0   | 0   | 0   | 0   | 0   | 0   | 0   | 0   | 0   |  0  |\n",
       "|  0  | 0   | 1   | 7   | 1   | 0   | 0   | 0   | 0   | 0   | ... | 0   | 0   | 0   | 0   | 0   | 0   | 0   | 0   | 0   |  0  |\n",
       "|  0  | 0   | 0   | 1   | 6   | 1   | 0   | 0   | 0   | 0   | ... | 0   | 0   | 0   | 0   | 0   | 0   | 0   | 0   | 0   |  0  |\n",
       "|  0  | 0   | 0   | 0   | 1   | 5   | 1   | 0   | 0   | 0   | ... | 0   | 0   | 0   | 0   | 0   | 0   | 0   | 0   | 0   |  0  |\n",
       "|  0  | 0   | 0   | 0   | 0   | 1   | 4   | 1   | 0   | 0   | ... | 0   | 0   | 0   | 0   | 0   | 0   | 0   | 0   | 0   |  0  |\n",
       "|  0  | 0   | 0   | 0   | 0   | 0   | 1   | 3   | 1   | 0   | ... | 0   | 0   | 0   | 0   | 0   | 0   | 0   | 0   | 0   |  0  |\n",
       "|  0  | 0   | 0   | 0   | 0   | 0   | 0   | 1   | 2   | 1   | ... | 0   | 0   | 0   | 0   | 0   | 0   | 0   | 0   | 0   |  0  |\n",
       "|  0  | 0   | 0   | 0   | 0   | 0   | 0   | 0   | 1   | 1   | ... | 0   | 0   | 0   | 0   | 0   | 0   | 0   | 0   | 0   |  0  |\n",
       "|  0  | 0   | 0   | 0   | 0   | 0   | 0   | 0   | 0   | 1   | ... | 1   | 0   | 0   | 0   | 0   | 0   | 0   | 0   | 0   |  0  |\n",
       "|  0  | 0   | 0   | 0   | 0   | 0   | 0   | 0   | 0   | 0   | ... | 1   | 1   | 0   | 0   | 0   | 0   | 0   | 0   | 0   |  0  |\n",
       "|  0  | 0   | 0   | 0   | 0   | 0   | 0   | 0   | 0   | 0   | ... | 1   | 2   | 1   | 0   | 0   | 0   | 0   | 0   | 0   |  0  |\n",
       "|  0  | 0   | 0   | 0   | 0   | 0   | 0   | 0   | 0   | 0   | ... | 0   | 1   | 3   | 1   | 0   | 0   | 0   | 0   | 0   |  0  |\n",
       "|  0  | 0   | 0   | 0   | 0   | 0   | 0   | 0   | 0   | 0   | ... | 0   | 0   | 1   | 4   | 1   | 0   | 0   | 0   | 0   |  0  |\n",
       "|  0  | 0   | 0   | 0   | 0   | 0   | 0   | 0   | 0   | 0   | ... | 0   | 0   | 0   | 1   | 5   | 1   | 0   | 0   | 0   |  0  |\n",
       "|  0  | 0   | 0   | 0   | 0   | 0   | 0   | 0   | 0   | 0   | ... | 0   | 0   | 0   | 0   | 1   | 6   | 1   | 0   | 0   |  0  |\n",
       "|  0  | 0   | 0   | 0   | 0   | 0   | 0   | 0   | 0   | 0   | ... | 0   | 0   | 0   | 0   | 0   | 1   | 7   | 1   | 0   |  0  |\n",
       "|  0  | 0   | 0   | 0   | 0   | 0   | 0   | 0   | 0   | 0   | ... | 0   | 0   | 0   | 0   | 0   | 0   | 1   | 8   | 1   |  0  |\n",
       "|  0  | 0   | 0   | 0   | 0   | 0   | 0   | 0   | 0   | 0   | ... | 0   | 0   | 0   | 0   | 0   | 0   | 0   | 1   | 9   |  1  |\n",
       "|  0  | 0   | 0   | 0   | 0   | 0   | 0   | 0   | 0   | 0   | ... | 0   | 0   | 0   | 0   | 0   | 0   | 0   | 0   | 1   | 10  |\n",
       "\n"
      ],
      "text/plain": [
       "      [,1] [,2] [,3] [,4] [,5] [,6] [,7] [,8] [,9] [,10] [,11] [,12] [,13]\n",
       " [1,] 10   1    0    0    0    0    0    0    0    0     ...   0     0    \n",
       " [2,]  1   9    1    0    0    0    0    0    0    0     ...   0     0    \n",
       " [3,]  0   1    8    1    0    0    0    0    0    0     ...   0     0    \n",
       " [4,]  0   0    1    7    1    0    0    0    0    0     ...   0     0    \n",
       " [5,]  0   0    0    1    6    1    0    0    0    0     ...   0     0    \n",
       " [6,]  0   0    0    0    1    5    1    0    0    0     ...   0     0    \n",
       " [7,]  0   0    0    0    0    1    4    1    0    0     ...   0     0    \n",
       " [8,]  0   0    0    0    0    0    1    3    1    0     ...   0     0    \n",
       " [9,]  0   0    0    0    0    0    0    1    2    1     ...   0     0    \n",
       "[10,]  0   0    0    0    0    0    0    0    1    1     ...   0     0    \n",
       "[11,]  0   0    0    0    0    0    0    0    0    1     ...   1     0    \n",
       "[12,]  0   0    0    0    0    0    0    0    0    0     ...   1     1    \n",
       "[13,]  0   0    0    0    0    0    0    0    0    0     ...   1     2    \n",
       "[14,]  0   0    0    0    0    0    0    0    0    0     ...   0     1    \n",
       "[15,]  0   0    0    0    0    0    0    0    0    0     ...   0     0    \n",
       "[16,]  0   0    0    0    0    0    0    0    0    0     ...   0     0    \n",
       "[17,]  0   0    0    0    0    0    0    0    0    0     ...   0     0    \n",
       "[18,]  0   0    0    0    0    0    0    0    0    0     ...   0     0    \n",
       "[19,]  0   0    0    0    0    0    0    0    0    0     ...   0     0    \n",
       "[20,]  0   0    0    0    0    0    0    0    0    0     ...   0     0    \n",
       "[21,]  0   0    0    0    0    0    0    0    0    0     ...   0     0    \n",
       "      [,14] [,15] [,16] [,17] [,18] [,19] [,20] [,21]\n",
       " [1,] 0     0     0     0     0     0     0      0   \n",
       " [2,] 0     0     0     0     0     0     0      0   \n",
       " [3,] 0     0     0     0     0     0     0      0   \n",
       " [4,] 0     0     0     0     0     0     0      0   \n",
       " [5,] 0     0     0     0     0     0     0      0   \n",
       " [6,] 0     0     0     0     0     0     0      0   \n",
       " [7,] 0     0     0     0     0     0     0      0   \n",
       " [8,] 0     0     0     0     0     0     0      0   \n",
       " [9,] 0     0     0     0     0     0     0      0   \n",
       "[10,] 0     0     0     0     0     0     0      0   \n",
       "[11,] 0     0     0     0     0     0     0      0   \n",
       "[12,] 0     0     0     0     0     0     0      0   \n",
       "[13,] 1     0     0     0     0     0     0      0   \n",
       "[14,] 3     1     0     0     0     0     0      0   \n",
       "[15,] 1     4     1     0     0     0     0      0   \n",
       "[16,] 0     1     5     1     0     0     0      0   \n",
       "[17,] 0     0     1     6     1     0     0      0   \n",
       "[18,] 0     0     0     1     7     1     0      0   \n",
       "[19,] 0     0     0     0     1     8     1      0   \n",
       "[20,] 0     0     0     0     0     1     9      1   \n",
       "[21,] 0     0     0     0     0     0     1     10   "
      ]
     },
     "metadata": {},
     "output_type": "display_data"
    }
   ],
   "source": [
    "wilkinson = low + center + high\n",
    "wilkinson"
   ]
  },
  {
   "cell_type": "code",
   "execution_count": 120,
   "metadata": {},
   "outputs": [
    {
     "data": {
      "text/plain": [
       "eigen() decomposition\n",
       "$values\n",
       " [1] 10.7461942 10.7461942  9.2106786  9.2106786  8.0389411  8.0389411\n",
       " [7]  7.0039522  7.0039518  6.0002340  6.0002175  5.0002444  4.9997825\n",
       "[13]  4.0043540  3.9960482  3.0430993  2.9610589  2.1302092  1.7893214\n",
       "[19]  0.9475344  0.2538058 -1.1254415\n",
       "\n",
       "$vectors\n",
       "              [,1]          [,2]          [,3]          [,4]          [,5]\n",
       " [1,] 5.495410e-01 -5.493073e-01 -3.824805e-01  3.824543e-01  2.111086e-01\n",
       " [2,] 4.100643e-01 -4.098899e-01  3.019000e-01 -3.018793e-01 -4.139963e-01\n",
       " [3,] 1.665109e-01 -1.664401e-01  4.460844e-01 -4.460538e-01  1.867663e-01\n",
       " [4,] 4.720694e-02 -4.718686e-02  2.381648e-01 -2.381485e-01  4.212692e-01\n",
       " [5,] 1.033548e-02 -1.033109e-02  8.042149e-02 -8.041598e-02  2.509076e-01\n",
       " [6,] 1.847263e-03 -1.846477e-03  2.004275e-02 -2.004137e-02  9.031667e-02\n",
       " [7,] 2.792477e-04 -2.791289e-04  3.972068e-03 -3.971794e-03  2.355942e-02\n",
       " [8,] 3.659637e-05 -3.658067e-05  6.544258e-04 -6.543736e-04  4.838449e-03\n",
       " [9,] 4.234910e-06 -4.232115e-06  9.236027e-05 -9.230979e-05  8.212357e-04\n",
       "[10,] 4.429766e-07 -4.342308e-07  1.155435e-05 -1.124264e-05  1.209451e-04\n",
       "[11,] 8.242625e-08  1.753108e-11  2.508820e-06  8.602875e-11  3.008981e-05\n",
       "[12,] 4.427919e-07  4.344192e-07  1.155358e-05  1.124343e-05  1.209451e-04\n",
       "[13,] 4.233109e-06  4.233916e-06  9.235393e-05  9.231613e-05  8.212356e-04\n",
       "[14,] 3.658080e-05  3.659624e-05  6.543810e-04  6.544185e-04  4.838448e-03\n",
       "[15,] 2.791289e-04  2.792476e-04  3.971796e-03  3.972067e-03  2.355942e-02\n",
       "[16,] 1.846477e-03  1.847263e-03  2.004137e-02  2.004275e-02  9.031667e-02\n",
       "[17,] 1.033109e-02  1.033548e-02  8.041598e-02  8.042149e-02  2.509076e-01\n",
       "[18,] 4.718686e-02  4.720694e-02  2.381485e-01  2.381648e-01  4.212692e-01\n",
       "[19,] 1.664401e-01  1.665109e-01  4.460538e-01  4.460844e-01  1.867663e-01\n",
       "[20,] 4.098899e-01  4.100643e-01  3.018793e-01  3.019000e-01 -4.139963e-01\n",
       "[21,] 5.493073e-01  5.495410e-01 -3.824543e-01 -3.824805e-01  2.111085e-01\n",
       "               [,6]          [,7]          [,8]         [,9]         [,10]\n",
       " [1,] -2.111085e-01 -0.0821426778  8.214270e-02  0.022668112  2.266824e-02\n",
       " [2,]  4.139963e-01  0.2461033884 -2.461035e-01 -0.090667145 -9.066801e-02\n",
       " [3,] -1.867663e-01 -0.4090914468  4.090917e-01  0.249312103  2.493161e-01\n",
       " [4,] -4.212692e-01  0.1613712433 -1.613716e-01 -0.407898714 -4.079099e-01\n",
       " [5,] -2.509076e-01  0.4097292197 -4.097295e-01  0.158491150  1.585051e-01\n",
       " [6,] -9.031665e-02  0.2499773122 -2.499770e-01  0.407935806  4.079444e-01\n",
       " [7,] -2.355938e-02  0.0912133673 -9.121245e-02  0.249540126  2.495280e-01\n",
       " [8,] -4.838291e-03  0.0240232842 -2.402079e-02  0.091202846  9.116593e-02\n",
       " [9,] -8.204840e-04  0.0049747144 -4.965647e-03  0.024089756  2.398961e-02\n",
       "[10,] -1.165635e-04  0.0008699488 -8.270631e-04  0.005161817  4.797713e-03\n",
       "[11,]  9.207297e-13  0.0002484165  2.328896e-12  0.001720539 -2.943361e-13\n",
       "[12,]  1.165636e-04  0.0008699488  8.270631e-04  0.005161817 -4.797713e-03\n",
       "[13,]  8.204840e-04  0.0049747143  4.965647e-03  0.024089756 -2.398961e-02\n",
       "[14,]  4.838291e-03  0.0240232837  2.402079e-02  0.091202846 -9.116593e-02\n",
       "[15,]  2.355938e-02  0.0912133656  9.121246e-02  0.249540126 -2.495280e-01\n",
       "[16,]  9.031666e-02  0.2499773075  2.499770e-01  0.407935806 -4.079444e-01\n",
       "[17,]  2.509076e-01  0.4097292120  4.097295e-01  0.158491150 -1.585051e-01\n",
       "[18,]  4.212692e-01  0.1613712403  1.613716e-01 -0.407898714  4.079099e-01\n",
       "[19,]  1.867663e-01 -0.4090914391 -4.090918e-01  0.249312103 -2.493161e-01\n",
       "[20,] -4.139963e-01  0.2461033838  2.461035e-01 -0.090667145  9.066801e-02\n",
       "[21,]  2.111086e-01 -0.0821426763 -8.214271e-02  0.022668112 -2.266824e-02\n",
       "            [,11]         [,12]         [,13]         [,14]         [,15]\n",
       " [1,] -0.00479793  4.797713e-03  0.0008307046  8.270631e-04  0.0001269708\n",
       " [2,]  0.02398848 -2.398961e-02 -0.0049806108 -4.965647e-03 -0.0008833230\n",
       " [3,] -0.09115012  9.116593e-02  0.0240506637  2.402079e-02  0.0051348968\n",
       " [4,]  0.24943960 -2.495280e-01 -0.0911173269 -9.121246e-02 -0.0245698507\n",
       " [5,] -0.40766810  4.079444e-01  0.2489045901  2.499770e-01  0.0920855629\n",
       " [6,]  0.15812886 -1.585051e-01 -0.4056081169 -4.097295e-01 -0.2477180153\n",
       " [7,]  0.40770675 -4.079099e-01  0.1549374995  1.613716e-01  0.3926739965\n",
       " [8,]  0.24967754 -2.493161e-01  0.4062827184  4.090917e-01 -0.1280320097\n",
       " [9,]  0.09170936 -9.066801e-02  0.2531141834  2.461035e-01 -0.3981920855\n",
       "[10,]  0.02547295 -2.266824e-02  0.1010477134  8.214270e-02 -0.2873218730\n",
       "[11,]  0.01018868  7.819324e-14  0.0504689210 -4.231528e-15 -0.1888350299\n",
       "[12,]  0.02547295  2.266824e-02  0.1010477134 -8.214270e-02 -0.2873218730\n",
       "[13,]  0.09170936  9.066801e-02  0.2531141834 -2.461035e-01 -0.3981920855\n",
       "[14,]  0.24967754  2.493161e-01  0.4062827184 -4.090917e-01 -0.1280320097\n",
       "[15,]  0.40770675  4.079099e-01  0.1549374995 -1.613716e-01  0.3926739965\n",
       "[16,]  0.15812886  1.585051e-01 -0.4056081169  4.097295e-01 -0.2477180153\n",
       "[17,] -0.40766810 -4.079444e-01  0.2489045901 -2.499770e-01  0.0920855629\n",
       "[18,]  0.24943960  2.495280e-01 -0.0911173269  9.121246e-02 -0.0245698507\n",
       "[19,] -0.09115012 -9.116593e-02  0.0240506637 -2.402079e-02  0.0051348968\n",
       "[20,]  0.02398848  2.398961e-02 -0.0049806108  4.965647e-03 -0.0008833230\n",
       "[21,] -0.00479793 -4.797713e-03  0.0008307046 -8.270631e-04  0.0001269708\n",
       "              [,16]         [,17]         [,18]         [,19]         [,20]\n",
       " [1,] -1.165636e-04 -0.0000200531 -1.124304e-05 -1.871813e-06 -4.343250e-07\n",
       " [2,]  8.204840e-04  0.0001578137  9.231296e-05  1.694452e-05  4.233016e-06\n",
       " [3,] -4.838291e-03 -0.0010640938 -6.543961e-04 -1.345734e-04 -3.658846e-05\n",
       " [4,]  2.355938e-02  0.0060881945  3.971931e-03  9.321297e-04  2.791883e-04\n",
       " [5,] -9.031665e-02 -0.0285841398 -2.004206e-02 -5.507109e-03 -1.846870e-03\n",
       " [6,]  2.509076e-01  0.1045264461  8.041874e-02  2.689235e-02  1.033328e-02\n",
       " [7,] -4.212692e-01 -0.2713848915 -2.381567e-01 -1.034732e-01 -4.719690e-02\n",
       " [8,]  1.867663e-01  0.4029065220  4.460691e-01  2.889561e-01  1.664755e-01\n",
       " [9,]  4.139963e-01 -0.0790594868 -3.018897e-01 -4.895992e-01 -4.099771e-01\n",
       "[10,]  2.111086e-01 -0.4132007961 -3.824674e-01  2.263303e-01  5.494241e-01\n",
       "[11,] -6.656323e-15 -0.3879438623 -4.925640e-15  4.777247e-01  5.855840e-15\n",
       "[12,] -2.111086e-01 -0.4132007961  3.824674e-01  2.263303e-01 -5.494241e-01\n",
       "[13,] -4.139963e-01 -0.0790594868  3.018897e-01 -4.895992e-01  4.099771e-01\n",
       "[14,] -1.867663e-01  0.4029065220 -4.460691e-01  2.889561e-01 -1.664755e-01\n",
       "[15,]  4.212692e-01 -0.2713848915  2.381567e-01 -1.034732e-01  4.719690e-02\n",
       "[16,] -2.509076e-01  0.1045264461 -8.041874e-02  2.689235e-02 -1.033328e-02\n",
       "[17,]  9.031665e-02 -0.0285841398  2.004206e-02 -5.507109e-03  1.846870e-03\n",
       "[18,] -2.355938e-02  0.0060881945 -3.971931e-03  9.321297e-04 -2.791883e-04\n",
       "[19,]  4.838291e-03 -0.0010640938  6.543961e-04 -1.345734e-04  3.658846e-05\n",
       "[20,] -8.204840e-04  0.0001578137 -9.231296e-05  1.694452e-05 -4.233016e-06\n",
       "[21,]  1.165636e-04 -0.0000200531  1.124304e-05 -1.871813e-06  4.343250e-07\n",
       "              [,21]\n",
       " [1,]  2.274322e-08\n",
       " [2,] -2.530284e-07\n",
       " [3,]  2.539281e-06\n",
       " [4,] -2.291903e-05\n",
       " [5,]  1.836879e-04\n",
       " [6,] -1.285939e-03\n",
       " [7,]  7.693254e-03\n",
       " [8,] -3.814539e-02\n",
       " [9,]  1.496733e-01\n",
       "[10,] -4.296498e-01\n",
       "[11,]  7.635222e-01\n",
       "[12,] -4.296498e-01\n",
       "[13,]  1.496733e-01\n",
       "[14,] -3.814539e-02\n",
       "[15,]  7.693254e-03\n",
       "[16,] -1.285939e-03\n",
       "[17,]  1.836879e-04\n",
       "[18,] -2.291903e-05\n",
       "[19,]  2.539281e-06\n",
       "[20,] -2.530284e-07\n",
       "[21,]  2.274322e-08\n"
      ]
     },
     "metadata": {},
     "output_type": "display_data"
    }
   ],
   "source": [
    "eigen(wilkinson)"
   ]
  },
  {
   "cell_type": "markdown",
   "metadata": {},
   "source": [
    "## Chapter 5: List and DataFrame\n",
    "### List"
   ]
  },
  {
   "cell_type": "code",
   "execution_count": 5,
   "metadata": {},
   "outputs": [
    {
     "data": {
      "text/html": [
       "<ol>\n",
       "\t<li><ol class=list-inline>\n",
       "\t<li>1</li>\n",
       "\t<li>1</li>\n",
       "\t<li>2</li>\n",
       "\t<li>5</li>\n",
       "\t<li>14</li>\n",
       "\t<li>42</li>\n",
       "</ol>\n",
       "</li>\n",
       "\t<li><ol class=list-inline>\n",
       "\t<li>'Jan'</li>\n",
       "\t<li>'Feb'</li>\n",
       "\t<li>'Mar'</li>\n",
       "\t<li>'Apr'</li>\n",
       "\t<li>'May'</li>\n",
       "\t<li>'Jun'</li>\n",
       "\t<li>'Jul'</li>\n",
       "\t<li>'Aug'</li>\n",
       "\t<li>'Sep'</li>\n",
       "\t<li>'Oct'</li>\n",
       "\t<li>'Nov'</li>\n",
       "\t<li>'Dec'</li>\n",
       "</ol>\n",
       "</li>\n",
       "\t<li><table>\n",
       "<tbody>\n",
       "\t<tr><td> 8</td><td>1 </td></tr>\n",
       "\t<tr><td>-3</td><td>3 </td></tr>\n",
       "</tbody>\n",
       "</table>\n",
       "</li>\n",
       "\t<li><pre class=language-r><code>.Primitive(\"asin\")</code></pre></li>\n",
       "</ol>\n"
      ],
      "text/latex": [
       "\\begin{enumerate}\n",
       "\\item \\begin{enumerate*}\n",
       "\\item 1\n",
       "\\item 1\n",
       "\\item 2\n",
       "\\item 5\n",
       "\\item 14\n",
       "\\item 42\n",
       "\\end{enumerate*}\n",
       "\n",
       "\\item \\begin{enumerate*}\n",
       "\\item 'Jan'\n",
       "\\item 'Feb'\n",
       "\\item 'Mar'\n",
       "\\item 'Apr'\n",
       "\\item 'May'\n",
       "\\item 'Jun'\n",
       "\\item 'Jul'\n",
       "\\item 'Aug'\n",
       "\\item 'Sep'\n",
       "\\item 'Oct'\n",
       "\\item 'Nov'\n",
       "\\item 'Dec'\n",
       "\\end{enumerate*}\n",
       "\n",
       "\\item \\begin{tabular}{ll}\n",
       "\t  8 & 1 \\\\\n",
       "\t -3 & 3 \\\\\n",
       "\\end{tabular}\n",
       "\n",
       "\\item \\begin{minted}{r}\n",
       ".Primitive(\"asin\")\n",
       "\\end{minted}\n",
       "\\end{enumerate}\n"
      ],
      "text/markdown": [
       "1. 1. 1\n",
       "2. 1\n",
       "3. 2\n",
       "4. 5\n",
       "5. 14\n",
       "6. 42\n",
       "\n",
       "\n",
       "\n",
       "2. 1. 'Jan'\n",
       "2. 'Feb'\n",
       "3. 'Mar'\n",
       "4. 'Apr'\n",
       "5. 'May'\n",
       "6. 'Jun'\n",
       "7. 'Jul'\n",
       "8. 'Aug'\n",
       "9. 'Sep'\n",
       "10. 'Oct'\n",
       "11. 'Nov'\n",
       "12. 'Dec'\n",
       "\n",
       "\n",
       "\n",
       "3. \n",
       "|  8 | 1  |\n",
       "| -3 | 3  |\n",
       "\n",
       "\n",
       "4. ```r\n",
       ".Primitive(\"asin\")\n",
       "```\n",
       "\n",
       "\n"
      ],
      "text/plain": [
       "[[1]]\n",
       "[1]  1  1  2  5 14 42\n",
       "\n",
       "[[2]]\n",
       " [1] \"Jan\" \"Feb\" \"Mar\" \"Apr\" \"May\" \"Jun\" \"Jul\" \"Aug\" \"Sep\" \"Oct\" \"Nov\" \"Dec\"\n",
       "\n",
       "[[3]]\n",
       "     [,1] [,2]\n",
       "[1,]    8    1\n",
       "[2,]   -3    3\n",
       "\n",
       "[[4]]\n",
       "function (x)  .Primitive(\"asin\")\n"
      ]
     },
     "metadata": {},
     "output_type": "display_data"
    }
   ],
   "source": [
    "a_list = list(\n",
    "    c(1,1,2,5,14,42),\n",
    "    month.abb,\n",
    "    matrix(c(8, -3, 1, 3), nrow = 2),\n",
    "    asin\n",
    ")\n",
    "a_list"
   ]
  },
  {
   "cell_type": "code",
   "execution_count": 6,
   "metadata": {},
   "outputs": [
    {
     "data": {
      "text/html": [
       "<dl>\n",
       "\t<dt>$catalan</dt>\n",
       "\t\t<dd><ol class=list-inline>\n",
       "\t<li>1</li>\n",
       "\t<li>1</li>\n",
       "\t<li>2</li>\n",
       "\t<li>5</li>\n",
       "\t<li>14</li>\n",
       "\t<li>42</li>\n",
       "</ol>\n",
       "</dd>\n",
       "\t<dt>$months</dt>\n",
       "\t\t<dd><ol class=list-inline>\n",
       "\t<li>'Jan'</li>\n",
       "\t<li>'Feb'</li>\n",
       "\t<li>'Mar'</li>\n",
       "\t<li>'Apr'</li>\n",
       "\t<li>'May'</li>\n",
       "\t<li>'Jun'</li>\n",
       "\t<li>'Jul'</li>\n",
       "\t<li>'Aug'</li>\n",
       "\t<li>'Sep'</li>\n",
       "\t<li>'Oct'</li>\n",
       "\t<li>'Nov'</li>\n",
       "\t<li>'Dec'</li>\n",
       "</ol>\n",
       "</dd>\n",
       "\t<dt>$involutary</dt>\n",
       "\t\t<dd><table>\n",
       "<tbody>\n",
       "\t<tr><td> 8</td><td>1 </td></tr>\n",
       "\t<tr><td>-3</td><td>3 </td></tr>\n",
       "</tbody>\n",
       "</table>\n",
       "</dd>\n",
       "\t<dt>$arcsin</dt>\n",
       "\t\t<dd><pre class=language-r><code>.Primitive(\"asin\")</code></pre></dd>\n",
       "</dl>\n"
      ],
      "text/latex": [
       "\\begin{description}\n",
       "\\item[\\$catalan] \\begin{enumerate*}\n",
       "\\item 1\n",
       "\\item 1\n",
       "\\item 2\n",
       "\\item 5\n",
       "\\item 14\n",
       "\\item 42\n",
       "\\end{enumerate*}\n",
       "\n",
       "\\item[\\$months] \\begin{enumerate*}\n",
       "\\item 'Jan'\n",
       "\\item 'Feb'\n",
       "\\item 'Mar'\n",
       "\\item 'Apr'\n",
       "\\item 'May'\n",
       "\\item 'Jun'\n",
       "\\item 'Jul'\n",
       "\\item 'Aug'\n",
       "\\item 'Sep'\n",
       "\\item 'Oct'\n",
       "\\item 'Nov'\n",
       "\\item 'Dec'\n",
       "\\end{enumerate*}\n",
       "\n",
       "\\item[\\$involutary] \\begin{tabular}{ll}\n",
       "\t  8 & 1 \\\\\n",
       "\t -3 & 3 \\\\\n",
       "\\end{tabular}\n",
       "\n",
       "\\item[\\$arcsin] \\begin{minted}{r}\n",
       ".Primitive(\"asin\")\n",
       "\\end{minted}\n",
       "\\end{description}\n"
      ],
      "text/markdown": [
       "$catalan\n",
       ":   1. 1\n",
       "2. 1\n",
       "3. 2\n",
       "4. 5\n",
       "5. 14\n",
       "6. 42\n",
       "\n",
       "\n",
       "\n",
       "$months\n",
       ":   1. 'Jan'\n",
       "2. 'Feb'\n",
       "3. 'Mar'\n",
       "4. 'Apr'\n",
       "5. 'May'\n",
       "6. 'Jun'\n",
       "7. 'Jul'\n",
       "8. 'Aug'\n",
       "9. 'Sep'\n",
       "10. 'Oct'\n",
       "11. 'Nov'\n",
       "12. 'Dec'\n",
       "\n",
       "\n",
       "\n",
       "$involutary\n",
       ":   \n",
       "|  8 | 1  |\n",
       "| -3 | 3  |\n",
       "\n",
       "\n",
       "$arcsin\n",
       ":   ```r\n",
       ".Primitive(\"asin\")\n",
       "```\n",
       "\n",
       "\n"
      ],
      "text/plain": [
       "$catalan\n",
       "[1]  1  1  2  5 14 42\n",
       "\n",
       "$months\n",
       " [1] \"Jan\" \"Feb\" \"Mar\" \"Apr\" \"May\" \"Jun\" \"Jul\" \"Aug\" \"Sep\" \"Oct\" \"Nov\" \"Dec\"\n",
       "\n",
       "$involutary\n",
       "     [,1] [,2]\n",
       "[1,]    8    1\n",
       "[2,]   -3    3\n",
       "\n",
       "$arcsin\n",
       "function (x)  .Primitive(\"asin\")\n"
      ]
     },
     "metadata": {},
     "output_type": "display_data"
    }
   ],
   "source": [
    "names(a_list) = c(\"catalan\", \"months\", \"involutary\", \"arcsin\")\n",
    "a_list"
   ]
  },
  {
   "cell_type": "markdown",
   "metadata": {},
   "source": [
    "####  Atomic and Recursive\n",
    " Atomic variable is a variable that can't include itself;  \n",
    " On the contrast, recursive variable is a variable that can include itself."
   ]
  },
  {
   "cell_type": "code",
   "execution_count": 7,
   "metadata": {},
   "outputs": [
    {
     "data": {
      "text/html": [
       "FALSE"
      ],
      "text/latex": [
       "FALSE"
      ],
      "text/markdown": [
       "FALSE"
      ],
      "text/plain": [
       "[1] FALSE"
      ]
     },
     "metadata": {},
     "output_type": "display_data"
    }
   ],
   "source": [
    "is.atomic(list())"
   ]
  },
  {
   "cell_type": "code",
   "execution_count": 8,
   "metadata": {},
   "outputs": [
    {
     "data": {
      "text/html": [
       "TRUE"
      ],
      "text/latex": [
       "TRUE"
      ],
      "text/markdown": [
       "TRUE"
      ],
      "text/plain": [
       "[1] TRUE"
      ]
     },
     "metadata": {},
     "output_type": "display_data"
    }
   ],
   "source": [
    "is.recursive(list())"
   ]
  },
  {
   "cell_type": "code",
   "execution_count": 9,
   "metadata": {},
   "outputs": [
    {
     "data": {
      "text/html": [
       "TRUE"
      ],
      "text/latex": [
       "TRUE"
      ],
      "text/markdown": [
       "TRUE"
      ],
      "text/plain": [
       "[1] TRUE"
      ]
     },
     "metadata": {},
     "output_type": "display_data"
    }
   ],
   "source": [
    "is.atomic(numeric())"
   ]
  },
  {
   "cell_type": "code",
   "execution_count": 10,
   "metadata": {},
   "outputs": [
    {
     "data": {
      "text/html": [
       "FALSE"
      ],
      "text/latex": [
       "FALSE"
      ],
      "text/markdown": [
       "FALSE"
      ],
      "text/plain": [
       "[1] FALSE"
      ]
     },
     "metadata": {},
     "output_type": "display_data"
    }
   ],
   "source": [
    "is.recursive(numeric())"
   ]
  },
  {
   "cell_type": "markdown",
   "metadata": {},
   "source": [
    "#### Dimension and calculate"
   ]
  },
  {
   "cell_type": "code",
   "execution_count": 11,
   "metadata": {},
   "outputs": [
    {
     "data": {
      "text/html": [
       "4"
      ],
      "text/latex": [
       "4"
      ],
      "text/markdown": [
       "4"
      ],
      "text/plain": [
       "[1] 4"
      ]
     },
     "metadata": {},
     "output_type": "display_data"
    }
   ],
   "source": [
    "length(a_list)"
   ]
  },
  {
   "cell_type": "code",
   "execution_count": 14,
   "metadata": {},
   "outputs": [
    {
     "data": {
      "text/html": [
       "<ol class=list-inline>\n",
       "\t<li>7</li>\n",
       "\t<li>9</li>\n",
       "\t<li>11</li>\n",
       "\t<li>13</li>\n",
       "\t<li>15</li>\n",
       "</ol>\n"
      ],
      "text/latex": [
       "\\begin{enumerate*}\n",
       "\\item 7\n",
       "\\item 9\n",
       "\\item 11\n",
       "\\item 13\n",
       "\\item 15\n",
       "\\end{enumerate*}\n"
      ],
      "text/markdown": [
       "1. 7\n",
       "2. 9\n",
       "3. 11\n",
       "4. 13\n",
       "5. 15\n",
       "\n",
       "\n"
      ],
      "text/plain": [
       "[1]  7  9 11 13 15"
      ]
     },
     "metadata": {},
     "output_type": "display_data"
    }
   ],
   "source": [
    "l1 = list(1:5)\n",
    "l2 = list(6:10)\n",
    "l1[[1]] + l2[[1]]  ## equal to 1:5 + 6:10"
   ]
  },
  {
   "cell_type": "code",
   "execution_count": 17,
   "metadata": {},
   "outputs": [
    {
     "data": {
      "text/html": [
       "<dl>\n",
       "\t<dt>$first</dt>\n",
       "\t\t<dd>1</dd>\n",
       "\t<dt>$second</dt>\n",
       "\t\t<dd>2</dd>\n",
       "\t<dt>$third</dt>\n",
       "\t\t<dd><dl>\n",
       "\t<dt>$alpha</dt>\n",
       "\t\t<dd>3.1</dd>\n",
       "\t<dt>$beta</dt>\n",
       "\t\t<dd>3</dd>\n",
       "\t<dt>[[3]]</dt>\n",
       "\t\t<dd>2</dd>\n",
       "</dl>\n",
       "</dd>\n",
       "</dl>\n"
      ],
      "text/latex": [
       "\\begin{description}\n",
       "\\item[\\$first] 1\n",
       "\\item[\\$second] 2\n",
       "\\item[\\$third] \\begin{description}\n",
       "\\item[\\$alpha] 3.1\n",
       "\\item[\\$beta] 3\n",
       "\\item[{[[3]]}] 2\n",
       "\\end{description}\n",
       "\n",
       "\\end{description}\n"
      ],
      "text/markdown": [
       "$first\n",
       ":   1\n",
       "$second\n",
       ":   2\n",
       "$third\n",
       ":   $alpha\n",
       ":   3.1\n",
       "$beta\n",
       ":   3\n",
       "[[3]]\n",
       ":   2\n",
       "\n",
       "\n",
       "\n",
       "\n",
       "\n"
      ],
      "text/plain": [
       "$first\n",
       "[1] 1\n",
       "\n",
       "$second\n",
       "[1] 2\n",
       "\n",
       "$third\n",
       "$third$alpha\n",
       "[1] 3.1\n",
       "\n",
       "$third$beta\n",
       "[1] 3\n",
       "\n",
       "$third[[3]]\n",
       "[1] 2\n",
       "\n"
      ]
     },
     "metadata": {},
     "output_type": "display_data"
    }
   ],
   "source": [
    "l = list(\n",
    "    first = 1,\n",
    "    second = 2,\n",
    "    third = list(\n",
    "        alpha = 3.1,\n",
    "        beta = 3,2\n",
    "    )\n",
    ")\n",
    "l"
   ]
  },
  {
   "cell_type": "code",
   "execution_count": 20,
   "metadata": {},
   "outputs": [
    {
     "name": "stdout",
     "output_type": "stream",
     "text": [
      "$first\n",
      "[1] 1\n",
      "\n",
      "$second\n",
      "[1] 2\n",
      "\n",
      "[1] \"----------------------------------------\"\n",
      "$first\n",
      "[1] 1\n",
      "\n",
      "$second\n",
      "[1] 2\n",
      "\n",
      "[1] \"----------------------------------------\"\n",
      "$first\n",
      "[1] 1\n",
      "\n",
      "$second\n",
      "[1] 2\n",
      "\n",
      "[1] \"----------------------------------------\"\n",
      "$first\n",
      "[1] 1\n",
      "\n",
      "$second\n",
      "[1] 2\n",
      "\n"
     ]
    }
   ],
   "source": [
    "print(l[1:2])\n",
    "print('----------------------------------------')\n",
    "print(l[-3])\n",
    "print('----------------------------------------')\n",
    "print(l[c('first', 'second')])\n",
    "print('----------------------------------------')\n",
    "print(l[c(TRUE, TRUE, FALSE)])"
   ]
  },
  {
   "cell_type": "markdown",
   "metadata": {},
   "source": [
    "#### Convert of vector and list"
   ]
  },
  {
   "cell_type": "code",
   "execution_count": 21,
   "metadata": {},
   "outputs": [
    {
     "data": {
      "text/html": [
       "<ol>\n",
       "\t<li>1</li>\n",
       "\t<li>6</li>\n",
       "\t<li>21</li>\n",
       "\t<li>107</li>\n",
       "</ol>\n"
      ],
      "text/latex": [
       "\\begin{enumerate}\n",
       "\\item 1\n",
       "\\item 6\n",
       "\\item 21\n",
       "\\item 107\n",
       "\\end{enumerate}\n"
      ],
      "text/markdown": [
       "1. 1\n",
       "2. 6\n",
       "3. 21\n",
       "4. 107\n",
       "\n",
       "\n"
      ],
      "text/plain": [
       "[[1]]\n",
       "[1] 1\n",
       "\n",
       "[[2]]\n",
       "[1] 6\n",
       "\n",
       "[[3]]\n",
       "[1] 21\n",
       "\n",
       "[[4]]\n",
       "[1] 107\n"
      ]
     },
     "metadata": {},
     "output_type": "display_data"
    }
   ],
   "source": [
    "busy_behaver = c(1, 6, 21, 107)\n",
    "as.list(busy_behaver)"
   ]
  },
  {
   "cell_type": "code",
   "execution_count": 22,
   "metadata": {},
   "outputs": [
    {
     "data": {
      "text/html": [
       "<ol class=list-inline>\n",
       "\t<li>1</li>\n",
       "\t<li>6</li>\n",
       "\t<li>21</li>\n",
       "\t<li>107</li>\n",
       "</ol>\n"
      ],
      "text/latex": [
       "\\begin{enumerate*}\n",
       "\\item 1\n",
       "\\item 6\n",
       "\\item 21\n",
       "\\item 107\n",
       "\\end{enumerate*}\n"
      ],
      "text/markdown": [
       "1. 1\n",
       "2. 6\n",
       "3. 21\n",
       "4. 107\n",
       "\n",
       "\n"
      ],
      "text/plain": [
       "[1]   1   6  21 107"
      ]
     },
     "metadata": {},
     "output_type": "display_data"
    }
   ],
   "source": [
    "as.numeric(list(1, 6, 21, 107))"
   ]
  },
  {
   "cell_type": "markdown",
   "metadata": {},
   "source": [
    "#### Combine list"
   ]
  },
  {
   "cell_type": "code",
   "execution_count": 23,
   "metadata": {},
   "outputs": [
    {
     "data": {
      "text/html": [
       "<dl>\n",
       "\t<dt>$a</dt>\n",
       "\t\t<dd>1</dd>\n",
       "\t<dt>$b</dt>\n",
       "\t\t<dd>2</dd>\n",
       "\t<dt>[[3]]</dt>\n",
       "\t\t<dd>3</dd>\n",
       "</dl>\n"
      ],
      "text/latex": [
       "\\begin{description}\n",
       "\\item[\\$a] 1\n",
       "\\item[\\$b] 2\n",
       "\\item[{[[3]]}] 3\n",
       "\\end{description}\n"
      ],
      "text/markdown": [
       "$a\n",
       ":   1\n",
       "$b\n",
       ":   2\n",
       "[[3]]\n",
       ":   3\n",
       "\n",
       "\n"
      ],
      "text/plain": [
       "$a\n",
       "[1] 1\n",
       "\n",
       "$b\n",
       "[1] 2\n",
       "\n",
       "[[3]]\n",
       "[1] 3\n"
      ]
     },
     "metadata": {},
     "output_type": "display_data"
    }
   ],
   "source": [
    "c(list(a = 1, b = 2), list(3))"
   ]
  },
  {
   "cell_type": "markdown",
   "metadata": {},
   "source": [
    "#### NULL and NA"
   ]
  },
  {
   "cell_type": "code",
   "execution_count": 25,
   "metadata": {},
   "outputs": [
    {
     "name": "stdout",
     "output_type": "stream",
     "text": [
      "[1] 0\n",
      "[1] 1\n"
     ]
    }
   ],
   "source": [
    "print(length(NULL))\n",
    "print(length(NA))"
   ]
  },
  {
   "cell_type": "markdown",
   "metadata": {},
   "source": [
    "#### Pairlists"
   ]
  },
  {
   "cell_type": "code",
   "execution_count": 27,
   "metadata": {},
   "outputs": [
    {
     "data": {
      "text/plain": [
       "$x\n",
       "\n",
       "\n",
       "$na.rm\n",
       "[1] FALSE\n"
      ]
     },
     "metadata": {},
     "output_type": "display_data"
    }
   ],
   "source": [
    "arguments_of_sd = formals(sd)\n",
    "arguments_of_sd"
   ]
  },
  {
   "cell_type": "code",
   "execution_count": 28,
   "metadata": {},
   "outputs": [
    {
     "data": {
      "text/html": [
       "'pairlist'"
      ],
      "text/latex": [
       "'pairlist'"
      ],
      "text/markdown": [
       "'pairlist'"
      ],
      "text/plain": [
       "[1] \"pairlist\""
      ]
     },
     "metadata": {},
     "output_type": "display_data"
    }
   ],
   "source": [
    "class(arguments_of_sd)"
   ]
  },
  {
   "cell_type": "markdown",
   "metadata": {},
   "source": [
    "### DataFrame"
   ]
  },
  {
   "cell_type": "code",
   "execution_count": 29,
   "metadata": {},
   "outputs": [
    {
     "data": {
      "text/html": [
       "<table>\n",
       "<thead><tr><th scope=col>x</th><th scope=col>y</th><th scope=col>z</th></tr></thead>\n",
       "<tbody>\n",
       "\t<tr><td>a         </td><td> 0.3150092</td><td>FALSE     </td></tr>\n",
       "\t<tr><td>b         </td><td>-0.1904853</td><td>FALSE     </td></tr>\n",
       "\t<tr><td>c         </td><td> 1.3861771</td><td> TRUE     </td></tr>\n",
       "\t<tr><td>d         </td><td> 0.9775685</td><td> TRUE     </td></tr>\n",
       "\t<tr><td>e         </td><td> 0.1780399</td><td>FALSE     </td></tr>\n",
       "</tbody>\n",
       "</table>\n"
      ],
      "text/latex": [
       "\\begin{tabular}{r|lll}\n",
       " x & y & z\\\\\n",
       "\\hline\n",
       "\t a          &  0.3150092 & FALSE     \\\\\n",
       "\t b          & -0.1904853 & FALSE     \\\\\n",
       "\t c          &  1.3861771 &  TRUE     \\\\\n",
       "\t d          &  0.9775685 &  TRUE     \\\\\n",
       "\t e          &  0.1780399 & FALSE     \\\\\n",
       "\\end{tabular}\n"
      ],
      "text/markdown": [
       "\n",
       "| x | y | z |\n",
       "|---|---|---|\n",
       "| a          |  0.3150092 | FALSE      |\n",
       "| b          | -0.1904853 | FALSE      |\n",
       "| c          |  1.3861771 |  TRUE      |\n",
       "| d          |  0.9775685 |  TRUE      |\n",
       "| e          |  0.1780399 | FALSE      |\n",
       "\n"
      ],
      "text/plain": [
       "  x y          z    \n",
       "1 a  0.3150092 FALSE\n",
       "2 b -0.1904853 FALSE\n",
       "3 c  1.3861771  TRUE\n",
       "4 d  0.9775685  TRUE\n",
       "5 e  0.1780399 FALSE"
      ]
     },
     "metadata": {},
     "output_type": "display_data"
    }
   ],
   "source": [
    "a_df = data.frame(\n",
    "    x = letters[1:5],\n",
    "    y = rnorm(5),\n",
    "    z = runif(5) > 0.5\n",
    ")\n",
    "a_df"
   ]
  },
  {
   "cell_type": "code",
   "execution_count": 34,
   "metadata": {},
   "outputs": [
    {
     "data": {
      "text/html": [
       "<table>\n",
       "<thead><tr><th></th><th scope=col>x</th><th scope=col>y</th><th scope=col>z</th></tr></thead>\n",
       "<tbody>\n",
       "\t<tr><th scope=row>January</th><td>a         </td><td> 0.3150092</td><td>FALSE     </td></tr>\n",
       "\t<tr><th scope=row>February</th><td>b         </td><td>-0.1904853</td><td>FALSE     </td></tr>\n",
       "\t<tr><th scope=row>March</th><td>c         </td><td> 1.3861771</td><td> TRUE     </td></tr>\n",
       "\t<tr><th scope=row>April</th><td>d         </td><td> 0.9775685</td><td> TRUE     </td></tr>\n",
       "\t<tr><th scope=row>May</th><td>e         </td><td> 0.1780399</td><td>FALSE     </td></tr>\n",
       "</tbody>\n",
       "</table>\n"
      ],
      "text/latex": [
       "\\begin{tabular}{r|lll}\n",
       "  & x & y & z\\\\\n",
       "\\hline\n",
       "\tJanuary & a          &  0.3150092 & FALSE     \\\\\n",
       "\tFebruary & b          & -0.1904853 & FALSE     \\\\\n",
       "\tMarch & c          &  1.3861771 &  TRUE     \\\\\n",
       "\tApril & d          &  0.9775685 &  TRUE     \\\\\n",
       "\tMay & e          &  0.1780399 & FALSE     \\\\\n",
       "\\end{tabular}\n"
      ],
      "text/markdown": [
       "\n",
       "| <!--/--> | x | y | z |\n",
       "|---|---|---|---|\n",
       "| January | a          |  0.3150092 | FALSE      |\n",
       "| February | b          | -0.1904853 | FALSE      |\n",
       "| March | c          |  1.3861771 |  TRUE      |\n",
       "| April | d          |  0.9775685 |  TRUE      |\n",
       "| May | e          |  0.1780399 | FALSE      |\n",
       "\n"
      ],
      "text/plain": [
       "         x y          z    \n",
       "January  a  0.3150092 FALSE\n",
       "February b -0.1904853 FALSE\n",
       "March    c  1.3861771  TRUE\n",
       "April    d  0.9775685  TRUE\n",
       "May      e  0.1780399 FALSE"
      ]
     },
     "metadata": {},
     "output_type": "display_data"
    }
   ],
   "source": [
    "rownames(a_df) = month.name[1:5]\n",
    "a_df"
   ]
  },
  {
   "cell_type": "code",
   "execution_count": 35,
   "metadata": {},
   "outputs": [
    {
     "data": {
      "text/html": [
       "<ol class=list-inline>\n",
       "\t<li>'January'</li>\n",
       "\t<li>'February'</li>\n",
       "\t<li>'March'</li>\n",
       "\t<li>'April'</li>\n",
       "\t<li>'May'</li>\n",
       "</ol>\n"
      ],
      "text/latex": [
       "\\begin{enumerate*}\n",
       "\\item 'January'\n",
       "\\item 'February'\n",
       "\\item 'March'\n",
       "\\item 'April'\n",
       "\\item 'May'\n",
       "\\end{enumerate*}\n"
      ],
      "text/markdown": [
       "1. 'January'\n",
       "2. 'February'\n",
       "3. 'March'\n",
       "4. 'April'\n",
       "5. 'May'\n",
       "\n",
       "\n"
      ],
      "text/plain": [
       "[1] \"January\"  \"February\" \"March\"    \"April\"    \"May\"     "
      ]
     },
     "metadata": {},
     "output_type": "display_data"
    }
   ],
   "source": [
    "row.names(a_df)"
   ]
  },
  {
   "cell_type": "code",
   "execution_count": 36,
   "metadata": {},
   "outputs": [
    {
     "data": {
      "text/html": [
       "<ol class=list-inline>\n",
       "\t<li>'January'</li>\n",
       "\t<li>'February'</li>\n",
       "\t<li>'March'</li>\n",
       "\t<li>'April'</li>\n",
       "\t<li>'May'</li>\n",
       "</ol>\n"
      ],
      "text/latex": [
       "\\begin{enumerate*}\n",
       "\\item 'January'\n",
       "\\item 'February'\n",
       "\\item 'March'\n",
       "\\item 'April'\n",
       "\\item 'May'\n",
       "\\end{enumerate*}\n"
      ],
      "text/markdown": [
       "1. 'January'\n",
       "2. 'February'\n",
       "3. 'March'\n",
       "4. 'April'\n",
       "5. 'May'\n",
       "\n",
       "\n"
      ],
      "text/plain": [
       "[1] \"January\"  \"February\" \"March\"    \"April\"    \"May\"     "
      ]
     },
     "metadata": {},
     "output_type": "display_data"
    }
   ],
   "source": [
    "rownames(a_df)"
   ]
  },
  {
   "cell_type": "code",
   "execution_count": 37,
   "metadata": {},
   "outputs": [
    {
     "data": {
      "text/html": [
       "<ol class=list-inline>\n",
       "\t<li>TRUE</li>\n",
       "\t<li>TRUE</li>\n",
       "\t<li>TRUE</li>\n",
       "\t<li>TRUE</li>\n",
       "\t<li>TRUE</li>\n",
       "</ol>\n"
      ],
      "text/latex": [
       "\\begin{enumerate*}\n",
       "\\item TRUE\n",
       "\\item TRUE\n",
       "\\item TRUE\n",
       "\\item TRUE\n",
       "\\item TRUE\n",
       "\\end{enumerate*}\n"
      ],
      "text/markdown": [
       "1. TRUE\n",
       "2. TRUE\n",
       "3. TRUE\n",
       "4. TRUE\n",
       "5. TRUE\n",
       "\n",
       "\n"
      ],
      "text/plain": [
       "[1] TRUE TRUE TRUE TRUE TRUE"
      ]
     },
     "metadata": {},
     "output_type": "display_data"
    }
   ],
   "source": [
    "row.names(a_df) == rownames(a_df)"
   ]
  },
  {
   "cell_type": "markdown",
   "metadata": {},
   "source": [
    "#### index data.frame"
   ]
  },
  {
   "cell_type": "code",
   "execution_count": 38,
   "metadata": {},
   "outputs": [
    {
     "data": {
      "text/html": [
       "<table>\n",
       "<thead><tr><th></th><th scope=col>x</th><th scope=col>y</th></tr></thead>\n",
       "<tbody>\n",
       "\t<tr><th scope=row>February</th><td>b         </td><td>-0.1904853</td></tr>\n",
       "\t<tr><th scope=row>March</th><td>c         </td><td> 1.3861771</td></tr>\n",
       "</tbody>\n",
       "</table>\n"
      ],
      "text/latex": [
       "\\begin{tabular}{r|ll}\n",
       "  & x & y\\\\\n",
       "\\hline\n",
       "\tFebruary & b          & -0.1904853\\\\\n",
       "\tMarch & c          &  1.3861771\\\\\n",
       "\\end{tabular}\n"
      ],
      "text/markdown": [
       "\n",
       "| <!--/--> | x | y |\n",
       "|---|---|---|\n",
       "| February | b          | -0.1904853 |\n",
       "| March | c          |  1.3861771 |\n",
       "\n"
      ],
      "text/plain": [
       "         x y         \n",
       "February b -0.1904853\n",
       "March    c  1.3861771"
      ]
     },
     "metadata": {},
     "output_type": "display_data"
    }
   ],
   "source": [
    "a_df[2:3, -3]"
   ]
  },
  {
   "cell_type": "code",
   "execution_count": 39,
   "metadata": {},
   "outputs": [
    {
     "data": {
      "text/html": [
       "<table>\n",
       "<thead><tr><th></th><th scope=col>x</th><th scope=col>y</th></tr></thead>\n",
       "<tbody>\n",
       "\t<tr><th scope=row>February</th><td>b         </td><td>-0.1904853</td></tr>\n",
       "\t<tr><th scope=row>March</th><td>c         </td><td> 1.3861771</td></tr>\n",
       "</tbody>\n",
       "</table>\n"
      ],
      "text/latex": [
       "\\begin{tabular}{r|ll}\n",
       "  & x & y\\\\\n",
       "\\hline\n",
       "\tFebruary & b          & -0.1904853\\\\\n",
       "\tMarch & c          &  1.3861771\\\\\n",
       "\\end{tabular}\n"
      ],
      "text/markdown": [
       "\n",
       "| <!--/--> | x | y |\n",
       "|---|---|---|\n",
       "| February | b          | -0.1904853 |\n",
       "| March | c          |  1.3861771 |\n",
       "\n"
      ],
      "text/plain": [
       "         x y         \n",
       "February b -0.1904853\n",
       "March    c  1.3861771"
      ]
     },
     "metadata": {},
     "output_type": "display_data"
    }
   ],
   "source": [
    "a_df[c(FALSE, TRUE, TRUE, FALSE, FALSE), c(\"x\", \"y\")]"
   ]
  },
  {
   "cell_type": "code",
   "execution_count": 41,
   "metadata": {},
   "outputs": [
    {
     "data": {
      "text/html": [
       "<ol class=list-inline>\n",
       "\t<li>a</li>\n",
       "\t<li>c</li>\n",
       "\t<li>d</li>\n",
       "\t<li>e</li>\n",
       "</ol>\n",
       "\n",
       "<details>\n",
       "\t<summary style=display:list-item;cursor:pointer>\n",
       "\t\t<strong>Levels</strong>:\n",
       "\t</summary>\n",
       "\t<ol class=list-inline>\n",
       "\t\t<li>'a'</li>\n",
       "\t\t<li>'b'</li>\n",
       "\t\t<li>'c'</li>\n",
       "\t\t<li>'d'</li>\n",
       "\t\t<li>'e'</li>\n",
       "\t</ol>\n",
       "</details>"
      ],
      "text/latex": [
       "\\begin{enumerate*}\n",
       "\\item a\n",
       "\\item c\n",
       "\\item d\n",
       "\\item e\n",
       "\\end{enumerate*}\n",
       "\n",
       "\\emph{Levels}: \\begin{enumerate*}\n",
       "\\item 'a'\n",
       "\\item 'b'\n",
       "\\item 'c'\n",
       "\\item 'd'\n",
       "\\item 'e'\n",
       "\\end{enumerate*}\n"
      ],
      "text/markdown": [
       "1. a\n",
       "2. c\n",
       "3. d\n",
       "4. e\n",
       "\n",
       "\n",
       "\n",
       "**Levels**: 1. 'a'\n",
       "2. 'b'\n",
       "3. 'c'\n",
       "4. 'd'\n",
       "5. 'e'\n",
       "\n",
       "\n"
      ],
      "text/plain": [
       "[1] a c d e\n",
       "Levels: a b c d e"
      ]
     },
     "metadata": {},
     "output_type": "display_data"
    }
   ],
   "source": [
    "a_df[a_df$y >0 | a_df$z, \"x\"]"
   ]
  },
  {
   "cell_type": "code",
   "execution_count": 42,
   "metadata": {},
   "outputs": [
    {
     "data": {
      "text/html": [
       "<table>\n",
       "<thead><tr><th></th><th scope=col>x</th></tr></thead>\n",
       "<tbody>\n",
       "\t<tr><th scope=row>January</th><td>a</td></tr>\n",
       "\t<tr><th scope=row>March</th><td>c</td></tr>\n",
       "\t<tr><th scope=row>April</th><td>d</td></tr>\n",
       "\t<tr><th scope=row>May</th><td>e</td></tr>\n",
       "</tbody>\n",
       "</table>\n"
      ],
      "text/latex": [
       "\\begin{tabular}{r|l}\n",
       "  & x\\\\\n",
       "\\hline\n",
       "\tJanuary & a\\\\\n",
       "\tMarch & c\\\\\n",
       "\tApril & d\\\\\n",
       "\tMay & e\\\\\n",
       "\\end{tabular}\n"
      ],
      "text/markdown": [
       "\n",
       "| <!--/--> | x |\n",
       "|---|---|\n",
       "| January | a |\n",
       "| March | c |\n",
       "| April | d |\n",
       "| May | e |\n",
       "\n"
      ],
      "text/plain": [
       "        x\n",
       "January a\n",
       "March   c\n",
       "April   d\n",
       "May     e"
      ]
     },
     "metadata": {},
     "output_type": "display_data"
    }
   ],
   "source": [
    "subset(a_df, y>0|z, x)"
   ]
  },
  {
   "cell_type": "markdown",
   "metadata": {},
   "source": [
    "#### Operation of data.frame"
   ]
  },
  {
   "cell_type": "code",
   "execution_count": 43,
   "metadata": {},
   "outputs": [
    {
     "data": {
      "text/html": [
       "<table>\n",
       "<thead><tr><th></th><th scope=col>January</th><th scope=col>February</th><th scope=col>March</th><th scope=col>April</th><th scope=col>May</th></tr></thead>\n",
       "<tbody>\n",
       "\t<tr><th scope=row>x</th><td>a         </td><td>b         </td><td>c         </td><td>d         </td><td>e         </td></tr>\n",
       "\t<tr><th scope=row>y</th><td> 0.3150092</td><td>-0.1904853</td><td> 1.3861771</td><td> 0.9775685</td><td> 0.1780399</td></tr>\n",
       "\t<tr><th scope=row>z</th><td>FALSE     </td><td>FALSE     </td><td>TRUE      </td><td>TRUE      </td><td>FALSE     </td></tr>\n",
       "</tbody>\n",
       "</table>\n"
      ],
      "text/latex": [
       "\\begin{tabular}{r|lllll}\n",
       "  & January & February & March & April & May\\\\\n",
       "\\hline\n",
       "\tx & a          & b          & c          & d          & e         \\\\\n",
       "\ty &  0.3150092 & -0.1904853 &  1.3861771 &  0.9775685 &  0.1780399\\\\\n",
       "\tz & FALSE      & FALSE      & TRUE       & TRUE       & FALSE     \\\\\n",
       "\\end{tabular}\n"
      ],
      "text/markdown": [
       "\n",
       "| <!--/--> | January | February | March | April | May |\n",
       "|---|---|---|---|---|---|\n",
       "| x | a          | b          | c          | d          | e          |\n",
       "| y |  0.3150092 | -0.1904853 |  1.3861771 |  0.9775685 |  0.1780399 |\n",
       "| z | FALSE      | FALSE      | TRUE       | TRUE       | FALSE      |\n",
       "\n"
      ],
      "text/plain": [
       "  January    February   March      April      May       \n",
       "x a          b          c          d          e         \n",
       "y  0.3150092 -0.1904853  1.3861771  0.9775685  0.1780399\n",
       "z FALSE      FALSE      TRUE       TRUE       FALSE     "
      ]
     },
     "metadata": {},
     "output_type": "display_data"
    }
   ],
   "source": [
    "t(a_df)"
   ]
  },
  {
   "cell_type": "code",
   "execution_count": 44,
   "metadata": {},
   "outputs": [
    {
     "data": {
      "text/html": [
       "<dl class=dl-horizontal>\n",
       "\t<dt>y</dt>\n",
       "\t\t<dd>2.66630945528948</dd>\n",
       "\t<dt>z</dt>\n",
       "\t\t<dd>2</dd>\n",
       "</dl>\n"
      ],
      "text/latex": [
       "\\begin{description*}\n",
       "\\item[y] 2.66630945528948\n",
       "\\item[z] 2\n",
       "\\end{description*}\n"
      ],
      "text/markdown": [
       "y\n",
       ":   2.66630945528948z\n",
       ":   2\n",
       "\n"
      ],
      "text/plain": [
       "       y        z \n",
       "2.666309 2.000000 "
      ]
     },
     "metadata": {},
     "output_type": "display_data"
    }
   ],
   "source": [
    "colSums(a_df[, 2:3])"
   ]
  },
  {
   "cell_type": "code",
   "execution_count": 45,
   "metadata": {},
   "outputs": [
    {
     "data": {
      "text/html": [
       "<dl class=dl-horizontal>\n",
       "\t<dt>y</dt>\n",
       "\t\t<dd>0.533261891057896</dd>\n",
       "\t<dt>z</dt>\n",
       "\t\t<dd>0.4</dd>\n",
       "</dl>\n"
      ],
      "text/latex": [
       "\\begin{description*}\n",
       "\\item[y] 0.533261891057896\n",
       "\\item[z] 0.4\n",
       "\\end{description*}\n"
      ],
      "text/markdown": [
       "y\n",
       ":   0.533261891057896z\n",
       ":   0.4\n",
       "\n"
      ],
      "text/plain": [
       "        y         z \n",
       "0.5332619 0.4000000 "
      ]
     },
     "metadata": {},
     "output_type": "display_data"
    }
   ],
   "source": [
    "colMeans(a_df[, 2:3])"
   ]
  },
  {
   "cell_type": "markdown",
   "metadata": {},
   "source": [
    "#### home work"
   ]
  },
  {
   "cell_type": "code",
   "execution_count": 47,
   "metadata": {},
   "outputs": [
    {
     "name": "stdout",
     "output_type": "stream",
     "text": [
      "  Sepal.Length Sepal.Width Petal.Length Petal.Width\n",
      "1          5.1         3.5          1.4         0.2\n",
      "2          4.9         3.0          1.4         0.2\n",
      "3          4.7         3.2          1.3         0.2\n",
      "4          4.6         3.1          1.5         0.2\n",
      "5          5.0         3.6          1.4         0.2\n",
      "6          5.4         3.9          1.7         0.4\n"
     ]
    },
    {
     "data": {
      "text/html": [
       "<dl class=dl-horizontal>\n",
       "\t<dt>Sepal.Length</dt>\n",
       "\t\t<dd>5.84333333333333</dd>\n",
       "\t<dt>Sepal.Width</dt>\n",
       "\t\t<dd>3.05733333333333</dd>\n",
       "\t<dt>Petal.Length</dt>\n",
       "\t\t<dd>3.758</dd>\n",
       "\t<dt>Petal.Width</dt>\n",
       "\t\t<dd>1.19933333333333</dd>\n",
       "</dl>\n"
      ],
      "text/latex": [
       "\\begin{description*}\n",
       "\\item[Sepal.Length] 5.84333333333333\n",
       "\\item[Sepal.Width] 3.05733333333333\n",
       "\\item[Petal.Length] 3.758\n",
       "\\item[Petal.Width] 1.19933333333333\n",
       "\\end{description*}\n"
      ],
      "text/markdown": [
       "Sepal.Length\n",
       ":   5.84333333333333Sepal.Width\n",
       ":   3.05733333333333Petal.Length\n",
       ":   3.758Petal.Width\n",
       ":   1.19933333333333\n",
       "\n"
      ],
      "text/plain": [
       "Sepal.Length  Sepal.Width Petal.Length  Petal.Width \n",
       "    5.843333     3.057333     3.758000     1.199333 "
      ]
     },
     "metadata": {},
     "output_type": "display_data"
    }
   ],
   "source": [
    "iris_numeric = iris[-5]\n",
    "print(head(iris_numeric))\n",
    "colMeans(iris_numeric)"
   ]
  },
  {
   "cell_type": "code",
   "execution_count": 59,
   "metadata": {},
   "outputs": [
    {
     "name": "stdout",
     "output_type": "stream",
     "text": [
      "  day time  temp activ ID\n",
      "1 346  840 36.33     0  1\n",
      "2 346  850 36.34     0  1\n",
      "3 346  900 36.35     0  1\n",
      "4 346  910 36.42     0  1\n",
      "5 346  920 36.55     0  1\n",
      "6 346  930 36.69     0  1\n",
      "    day time  temp activ ID\n",
      "54  346 1730 37.07     1  1\n",
      "68  346 1950 37.10     1  1\n",
      "80  346 2150 37.53     1  1\n",
      "83  346 2230 37.25     1  1\n",
      "86  346 2300 37.24     1  1\n",
      "114 347  340 37.15     1  1\n",
      "153 307 1550 37.98     1  2\n",
      "154 307 1600 38.02     1  2\n",
      "155 307 1610 38.00     1  2\n",
      "156 307 1620 38.24     1  2\n",
      "157 307 1630 38.10     1  2\n",
      "158 307 1640 38.24     1  2\n",
      "159 307 1650 38.11     1  2\n",
      "160 307 1700 38.02     1  2\n",
      "161 307 1710 38.11     1  2\n",
      "162 307 1720 38.01     1  2\n",
      "163 307 1730 37.91     1  2\n",
      "164 307 1740 37.96     1  2\n",
      "165 307 1750 38.03     1  2\n",
      "166 307 1800 38.17     1  2\n",
      "167 307 1810 38.19     1  2\n",
      "168 307 1820 38.18     1  2\n",
      "169 307 1830 38.15     1  2\n",
      "170 307 1840 38.04     1  2\n",
      "171 307 1850 37.96     1  2\n",
      "172 307 1900 37.84     1  2\n",
      "173 307 1910 37.83     1  2\n",
      "174 307 1920 37.84     1  2\n",
      "175 307 1930 37.74     1  2\n",
      "176 307 1940 37.76     1  2\n",
      "177 307 1950 37.76     1  2\n",
      "178 307 2000 37.64     1  2\n",
      "179 307 2010 37.63     1  2\n",
      "180 307 2020 38.06     1  2\n",
      "181 307 2030 38.19     1  2\n",
      "182 307 2040 38.35     1  2\n",
      "183 307 2050 38.25     1  2\n",
      "184 307 2100 37.86     1  2\n",
      "185 307 2110 37.95     1  2\n",
      "186 307 2120 37.95     1  2\n",
      "187 307 2130 37.76     1  2\n",
      "188 307 2140 37.60     1  2\n",
      "189 307 2150 37.89     1  2\n",
      "190 307 2200 37.86     1  2\n",
      "191 307 2210 37.71     1  2\n",
      "192 307 2220 37.78     1  2\n",
      "193 307 2230 37.82     1  2\n",
      "194 307 2240 37.76     1  2\n",
      "195 307 2250 37.81     1  2\n",
      "196 307 2300 37.84     1  2\n",
      "197 307 2310 38.01     1  2\n",
      "198 307 2320 38.10     1  2\n",
      "199 307 2330 38.15     1  2\n",
      "200 307 2340 37.92     1  2\n",
      "201 307 2350 37.64     1  2\n",
      "202 308    0 37.70     1  2\n",
      "203 308   10 37.46     1  2\n",
      "204 308   20 37.41     1  2\n",
      "205 308   30 37.46     1  2\n",
      "206 308   40 37.56     1  2\n",
      "207 308   50 37.55     1  2\n",
      "208 308  100 37.75     1  2\n",
      "209 308  110 37.76     1  2\n",
      "210 308  120 37.73     1  2\n",
      "211 308  130 37.77     1  2\n",
      "212 308  140 38.01     1  2\n",
      "213 308  150 38.04     1  2\n",
      "214 308  200 38.07     1  2\n"
     ]
    }
   ],
   "source": [
    "beaver_1 = cbind(beaver1, rep(1, dim(beaver1)[1]))\n",
    "names(beaver_1) = c(names(beaver1), 'ID')\n",
    "beaver_2 = cbind(beaver2, rep(2, dim(beaver2)[1]))\n",
    "names(beaver_2) = c(names(beaver2), 'ID')\n",
    "beaver = rbind(beaver_1, beaver_2)\n",
    "print(head(beaver))\n",
    "beaver_active = subset(beaver, activ == 1)\n",
    "print(beaver_active)"
   ]
  },
  {
   "cell_type": "markdown",
   "metadata": {},
   "source": [
    "## Chapter 6: environment and function\n",
    "### enviroment"
   ]
  },
  {
   "cell_type": "code",
   "execution_count": 1,
   "metadata": {},
   "outputs": [],
   "source": [
    "an_environment = new.env()\n",
    "an_environment[[\"pythag\"]]<-c(12, 15, 20, 21)\n",
    "an_environment$root<-polyroot(c(6, -5, 1))"
   ]
  },
  {
   "cell_type": "code",
   "execution_count": 5,
   "metadata": {},
   "outputs": [],
   "source": [
    "assign(\n",
    "    'moonday',\n",
    "    weekdays(as.Date(\"1969/07/20\")),\n",
    "    an_environment\n",
    ")"
   ]
  },
  {
   "cell_type": "code",
   "execution_count": 6,
   "metadata": {},
   "outputs": [
    {
     "data": {
      "text/html": [
       "'Sunday'"
      ],
      "text/latex": [
       "'Sunday'"
      ],
      "text/markdown": [
       "'Sunday'"
      ],
      "text/plain": [
       "[1] \"Sunday\""
      ]
     },
     "metadata": {},
     "output_type": "display_data"
    }
   ],
   "source": [
    "an_environment$moonday"
   ]
  },
  {
   "cell_type": "code",
   "execution_count": 7,
   "metadata": {},
   "outputs": [
    {
     "data": {
      "text/html": [
       "<ol class=list-inline>\n",
       "\t<li>2+0i</li>\n",
       "\t<li>3-0i</li>\n",
       "</ol>\n"
      ],
      "text/latex": [
       "\\begin{enumerate*}\n",
       "\\item 2+0i\n",
       "\\item 3-0i\n",
       "\\end{enumerate*}\n"
      ],
      "text/markdown": [
       "1. 2+0i\n",
       "2. 3-0i\n",
       "\n",
       "\n"
      ],
      "text/plain": [
       "[1] 2+0i 3-0i"
      ]
     },
     "metadata": {},
     "output_type": "display_data"
    }
   ],
   "source": [
    "an_environment[['root']]"
   ]
  },
  {
   "cell_type": "markdown",
   "metadata": {},
   "source": [
    "root of poly"
   ]
  },
  {
   "cell_type": "code",
   "execution_count": 12,
   "metadata": {},
   "outputs": [
    {
     "data": {
      "text/html": [
       "<ol class=list-inline>\n",
       "\t<li>-1-0i</li>\n",
       "\t<li>-1+0i</li>\n",
       "</ol>\n"
      ],
      "text/latex": [
       "\\begin{enumerate*}\n",
       "\\item -1-0i\n",
       "\\item -1+0i\n",
       "\\end{enumerate*}\n"
      ],
      "text/markdown": [
       "1. -1-0i\n",
       "2. -1+0i\n",
       "\n",
       "\n"
      ],
      "text/plain": [
       "[1] -1-0i -1+0i"
      ]
     },
     "metadata": {},
     "output_type": "display_data"
    }
   ],
   "source": [
    "polyroot(c(1,2,1))"
   ]
  },
  {
   "cell_type": "code",
   "execution_count": 13,
   "metadata": {},
   "outputs": [
    {
     "data": {
      "text/plain": [
       "moonday :  chr \"Sunday\"\n",
       "pythag :  num [1:4] 12 15 20 21\n",
       "root :  cplx [1:2] 2+0i 3-0i"
      ]
     },
     "metadata": {},
     "output_type": "display_data"
    }
   ],
   "source": [
    "ls.str(envir = an_environment)"
   ]
  },
  {
   "cell_type": "code",
   "execution_count": 14,
   "metadata": {},
   "outputs": [
    {
     "data": {
      "text/html": [
       "<dl>\n",
       "\t<dt>$pythag</dt>\n",
       "\t\t<dd><ol class=list-inline>\n",
       "\t<li>12</li>\n",
       "\t<li>15</li>\n",
       "\t<li>20</li>\n",
       "\t<li>21</li>\n",
       "</ol>\n",
       "</dd>\n",
       "\t<dt>$moonday</dt>\n",
       "\t\t<dd>'Sunday'</dd>\n",
       "\t<dt>$root</dt>\n",
       "\t\t<dd><ol class=list-inline>\n",
       "\t<li>2+0i</li>\n",
       "\t<li>3-0i</li>\n",
       "</ol>\n",
       "</dd>\n",
       "</dl>\n"
      ],
      "text/latex": [
       "\\begin{description}\n",
       "\\item[\\$pythag] \\begin{enumerate*}\n",
       "\\item 12\n",
       "\\item 15\n",
       "\\item 20\n",
       "\\item 21\n",
       "\\end{enumerate*}\n",
       "\n",
       "\\item[\\$moonday] 'Sunday'\n",
       "\\item[\\$root] \\begin{enumerate*}\n",
       "\\item 2+0i\n",
       "\\item 3-0i\n",
       "\\end{enumerate*}\n",
       "\n",
       "\\end{description}\n"
      ],
      "text/markdown": [
       "$pythag\n",
       ":   1. 12\n",
       "2. 15\n",
       "3. 20\n",
       "4. 21\n",
       "\n",
       "\n",
       "\n",
       "$moonday\n",
       ":   'Sunday'\n",
       "$root\n",
       ":   1. 2+0i\n",
       "2. 3-0i\n",
       "\n",
       "\n",
       "\n",
       "\n",
       "\n"
      ],
      "text/plain": [
       "$pythag\n",
       "[1] 12 15 20 21\n",
       "\n",
       "$moonday\n",
       "[1] \"Sunday\"\n",
       "\n",
       "$root\n",
       "[1] 2+0i 3-0i\n"
      ]
     },
     "metadata": {},
     "output_type": "display_data"
    }
   ],
   "source": [
    "as.list(an_environment)"
   ]
  },
  {
   "cell_type": "markdown",
   "metadata": {},
   "source": [
    "### function"
   ]
  },
  {
   "cell_type": "code",
   "execution_count": 15,
   "metadata": {},
   "outputs": [
    {
     "name": "stdout",
     "output_type": "stream",
     "text": [
      "[1] 13\n"
     ]
    }
   ],
   "source": [
    "hypotenuse = function(x = 5, y = 12){\n",
    "    sqrt(x ^ 2 + y ^ 2)\n",
    "}\n",
    "print(hypotenuse())"
   ]
  },
  {
   "cell_type": "code",
   "execution_count": 16,
   "metadata": {},
   "outputs": [
    {
     "data": {
      "text/plain": [
       "$x\n",
       "[1] 5\n",
       "\n",
       "$y\n",
       "[1] 12\n"
      ]
     },
     "metadata": {},
     "output_type": "display_data"
    }
   ],
   "source": [
    "formals(hypotenuse)"
   ]
  },
  {
   "cell_type": "code",
   "execution_count": 18,
   "metadata": {},
   "outputs": [
    {
     "data": {
      "text/html": [
       "<pre class=language-r><code>function (x = 5, y = 12) \n",
       "NULL</code></pre>"
      ],
      "text/latex": [
       "\\begin{minted}{r}\n",
       "function (x = 5, y = 12) \n",
       "NULL\n",
       "\\end{minted}"
      ],
      "text/markdown": [
       "```r\n",
       "function (x = 5, y = 12) \n",
       "NULL\n",
       "```"
      ],
      "text/plain": [
       "function (x = 5, y = 12) \n",
       "NULL"
      ]
     },
     "metadata": {},
     "output_type": "display_data"
    }
   ],
   "source": [
    "args(hypotenuse)"
   ]
  },
  {
   "cell_type": "code",
   "execution_count": 19,
   "metadata": {},
   "outputs": [
    {
     "data": {
      "text/html": [
       "<ol class=list-inline>\n",
       "\t<li>'x'</li>\n",
       "\t<li>'y'</li>\n",
       "</ol>\n"
      ],
      "text/latex": [
       "\\begin{enumerate*}\n",
       "\\item 'x'\n",
       "\\item 'y'\n",
       "\\end{enumerate*}\n"
      ],
      "text/markdown": [
       "1. 'x'\n",
       "2. 'y'\n",
       "\n",
       "\n"
      ],
      "text/plain": [
       "[1] \"x\" \"y\""
      ]
     },
     "metadata": {},
     "output_type": "display_data"
    }
   ],
   "source": [
    "formalArgs(hypotenuse)"
   ]
  },
  {
   "cell_type": "code",
   "execution_count": 20,
   "metadata": {},
   "outputs": [
    {
     "data": {
      "text/plain": [
       "{\n",
       "    sqrt(x^2 + y^2)\n",
       "}"
      ]
     },
     "metadata": {},
     "output_type": "display_data"
    }
   ],
   "source": [
    "body_of_hypotenuse = body(hypotenuse)\n",
    "body_of_hypotenuse"
   ]
  },
  {
   "cell_type": "code",
   "execution_count": 21,
   "metadata": {},
   "outputs": [
    {
     "data": {
      "text/html": [
       "<ol class=list-inline>\n",
       "\t<li>'{'</li>\n",
       "\t<li><span style=white-space:pre-wrap>'    sqrt(x^2 + y^2)'</span></li>\n",
       "\t<li>'}'</li>\n",
       "</ol>\n"
      ],
      "text/latex": [
       "\\begin{enumerate*}\n",
       "\\item '\\{'\n",
       "\\item '    sqrt(x\\textasciicircum{}2 + y\\textasciicircum{}2)'\n",
       "\\item '\\}'\n",
       "\\end{enumerate*}\n"
      ],
      "text/markdown": [
       "1. '{'\n",
       "2. <span style=white-space:pre-wrap>'    sqrt(x^2 + y^2)'</span>\n",
       "3. '}'\n",
       "\n",
       "\n"
      ],
      "text/plain": [
       "[1] \"{\"                   \"    sqrt(x^2 + y^2)\" \"}\"                  "
      ]
     },
     "metadata": {},
     "output_type": "display_data"
    }
   ],
   "source": [
    "deparse(body_of_hypotenuse)"
   ]
  },
  {
   "cell_type": "code",
   "execution_count": 22,
   "metadata": {},
   "outputs": [
    {
     "data": {
      "text/html": [
       "<ol class=list-inline>\n",
       "\t<li>&lt;NA&gt;</li>\n",
       "\t<li>&lt;NA&gt;</li>\n",
       "\t<li>&lt;NA&gt;</li>\n",
       "\t<li>&lt;NA&gt;</li>\n",
       "\t<li>&lt;NA&gt;</li>\n",
       "</ol>\n"
      ],
      "text/latex": [
       "\\begin{enumerate*}\n",
       "\\item <NA>\n",
       "\\item <NA>\n",
       "\\item <NA>\n",
       "\\item <NA>\n",
       "\\item <NA>\n",
       "\\end{enumerate*}\n"
      ],
      "text/markdown": [
       "1. &lt;NA&gt;\n",
       "2. &lt;NA&gt;\n",
       "3. &lt;NA&gt;\n",
       "4. &lt;NA&gt;\n",
       "5. &lt;NA&gt;\n",
       "\n",
       "\n"
      ],
      "text/plain": [
       "[1] NA NA NA NA NA"
      ]
     },
     "metadata": {},
     "output_type": "display_data"
    }
   ],
   "source": [
    "normalize = function(x, m = mean(x, na.rm=na.rm), s=sd(x, na.rm=na.rm), na.rm=FALSE)\n",
    "{\n",
    "    (x - m) / s\n",
    "}\n",
    "normalize(c(1, 3, 6, 10, NA))"
   ]
  },
  {
   "cell_type": "code",
   "execution_count": 23,
   "metadata": {
    "scrolled": true
   },
   "outputs": [
    {
     "data": {
      "text/html": [
       "<ol class=list-inline>\n",
       "\t<li>-1.0215078369105</li>\n",
       "\t<li>-0.510753918455249</li>\n",
       "\t<li>0.255376959227625</li>\n",
       "\t<li>1.27688479613812</li>\n",
       "\t<li>&lt;NA&gt;</li>\n",
       "</ol>\n"
      ],
      "text/latex": [
       "\\begin{enumerate*}\n",
       "\\item -1.0215078369105\n",
       "\\item -0.510753918455249\n",
       "\\item 0.255376959227625\n",
       "\\item 1.27688479613812\n",
       "\\item <NA>\n",
       "\\end{enumerate*}\n"
      ],
      "text/markdown": [
       "1. -1.0215078369105\n",
       "2. -0.510753918455249\n",
       "3. 0.255376959227625\n",
       "4. 1.27688479613812\n",
       "5. &lt;NA&gt;\n",
       "\n",
       "\n"
      ],
      "text/plain": [
       "[1] -1.0215078 -0.5107539  0.2553770  1.2768848         NA"
      ]
     },
     "metadata": {},
     "output_type": "display_data"
    }
   ],
   "source": [
    "normalize(c(1, 3, 6, 10, NA), na.rm=TRUE)"
   ]
  },
  {
   "cell_type": "markdown",
   "metadata": {},
   "source": [
    "Using ... to replace the optional parameters"
   ]
  },
  {
   "cell_type": "code",
   "execution_count": 24,
   "metadata": {},
   "outputs": [
    {
     "name": "stdout",
     "output_type": "stream",
     "text": [
      "[1] NA NA NA NA NA\n",
      "[1] -1.0215078 -0.5107539  0.2553770  1.2768848         NA\n"
     ]
    }
   ],
   "source": [
    "normalize = function(x, m=mean(x, ...), s=sd(x, ...), ...){\n",
    "    (x - m) / s\n",
    "}\n",
    "print(normalize(c(1,3,6,10,NA)))\n",
    "print(normalize(c(1,3,6,10,NA), na.rm=TRUE))"
   ]
  },
  {
   "cell_type": "markdown",
   "metadata": {},
   "source": [
    "Using **do.call** and rbind to concat df"
   ]
  },
  {
   "cell_type": "code",
   "execution_count": 25,
   "metadata": {},
   "outputs": [
    {
     "data": {
      "text/html": [
       "<table>\n",
       "<thead><tr><th scope=col>x</th><th scope=col>y</th></tr></thead>\n",
       "<tbody>\n",
       "\t<tr><td> 1         </td><td>  0.1409924</td></tr>\n",
       "\t<tr><td> 2         </td><td>  0.9163184</td></tr>\n",
       "\t<tr><td> 3         </td><td> -0.4119010</td></tr>\n",
       "\t<tr><td> 4         </td><td>  0.5415055</td></tr>\n",
       "\t<tr><td> 5         </td><td> -0.6139836</td></tr>\n",
       "\t<tr><td> 6         </td><td>  3.1719802</td></tr>\n",
       "\t<tr><td> 7         </td><td> 26.7423046</td></tr>\n",
       "\t<tr><td> 8         </td><td>  5.1426438</td></tr>\n",
       "\t<tr><td> 9         </td><td>  9.6158875</td></tr>\n",
       "\t<tr><td>10         </td><td>133.6841520</td></tr>\n",
       "\t<tr><td>11         </td><td>  0.8644167</td></tr>\n",
       "\t<tr><td>12         </td><td>  0.9411355</td></tr>\n",
       "\t<tr><td>13         </td><td>  0.2349285</td></tr>\n",
       "\t<tr><td>14         </td><td>  0.9010194</td></tr>\n",
       "\t<tr><td>15         </td><td>  0.2754478</td></tr>\n",
       "</tbody>\n",
       "</table>\n"
      ],
      "text/latex": [
       "\\begin{tabular}{r|ll}\n",
       " x & y\\\\\n",
       "\\hline\n",
       "\t  1          &   0.1409924\\\\\n",
       "\t  2          &   0.9163184\\\\\n",
       "\t  3          &  -0.4119010\\\\\n",
       "\t  4          &   0.5415055\\\\\n",
       "\t  5          &  -0.6139836\\\\\n",
       "\t  6          &   3.1719802\\\\\n",
       "\t  7          &  26.7423046\\\\\n",
       "\t  8          &   5.1426438\\\\\n",
       "\t  9          &   9.6158875\\\\\n",
       "\t 10          & 133.6841520\\\\\n",
       "\t 11          &   0.8644167\\\\\n",
       "\t 12          &   0.9411355\\\\\n",
       "\t 13          &   0.2349285\\\\\n",
       "\t 14          &   0.9010194\\\\\n",
       "\t 15          &   0.2754478\\\\\n",
       "\\end{tabular}\n"
      ],
      "text/markdown": [
       "\n",
       "| x | y |\n",
       "|---|---|\n",
       "|  1          |   0.1409924 |\n",
       "|  2          |   0.9163184 |\n",
       "|  3          |  -0.4119010 |\n",
       "|  4          |   0.5415055 |\n",
       "|  5          |  -0.6139836 |\n",
       "|  6          |   3.1719802 |\n",
       "|  7          |  26.7423046 |\n",
       "|  8          |   5.1426438 |\n",
       "|  9          |   9.6158875 |\n",
       "| 10          | 133.6841520 |\n",
       "| 11          |   0.8644167 |\n",
       "| 12          |   0.9411355 |\n",
       "| 13          |   0.2349285 |\n",
       "| 14          |   0.9010194 |\n",
       "| 15          |   0.2754478 |\n",
       "\n"
      ],
      "text/plain": [
       "   x  y          \n",
       "1   1   0.1409924\n",
       "2   2   0.9163184\n",
       "3   3  -0.4119010\n",
       "4   4   0.5415055\n",
       "5   5  -0.6139836\n",
       "6   6   3.1719802\n",
       "7   7  26.7423046\n",
       "8   8   5.1426438\n",
       "9   9   9.6158875\n",
       "10 10 133.6841520\n",
       "11 11   0.8644167\n",
       "12 12   0.9411355\n",
       "13 13   0.2349285\n",
       "14 14   0.9010194\n",
       "15 15   0.2754478"
      ]
     },
     "metadata": {},
     "output_type": "display_data"
    }
   ],
   "source": [
    "dfr1 = data.frame(x = 1:5, y = rt(5, 1))\n",
    "dfr2 = data.frame(x = 6:10, y = rf(5, 1, 1)) \n",
    "dfr3 = data.frame(x = 11:15, y = rbeta(5, 1, 1))\n",
    "do.call(rbind, list(dfr1, dfr2, dfr3))"
   ]
  },
  {
   "cell_type": "code",
   "execution_count": 26,
   "metadata": {},
   "outputs": [
    {
     "data": {
      "text/html": [
       "13.8571428571429"
      ],
      "text/latex": [
       "13.8571428571429"
      ],
      "text/markdown": [
       "13.8571428571429"
      ],
      "text/plain": [
       "[1] 13.85714"
      ]
     },
     "metadata": {},
     "output_type": "display_data"
    }
   ],
   "source": [
    "menage = c(1, 0, 0, 1, 2, 13, 80)\n",
    "mean(menage)"
   ]
  },
  {
   "cell_type": "code",
   "execution_count": 28,
   "metadata": {},
   "outputs": [
    {
     "data": {
      "text/html": [
       "<ol class=list-inline>\n",
       "\t<li>6</li>\n",
       "\t<li>6</li>\n",
       "\t<li>6</li>\n",
       "\t<li>6</li>\n",
       "\t<li>6</li>\n",
       "</ol>\n"
      ],
      "text/latex": [
       "\\begin{enumerate*}\n",
       "\\item 6\n",
       "\\item 6\n",
       "\\item 6\n",
       "\\item 6\n",
       "\\item 6\n",
       "\\end{enumerate*}\n"
      ],
      "text/markdown": [
       "1. 6\n",
       "2. 6\n",
       "3. 6\n",
       "4. 6\n",
       "5. 6\n",
       "\n",
       "\n"
      ],
      "text/plain": [
       "[1] 6 6 6 6 6"
      ]
     },
     "metadata": {},
     "output_type": "display_data"
    }
   ],
   "source": [
    "do.call(function(x, y) x+y, list(1:5, 5:1))"
   ]
  },
  {
   "cell_type": "code",
   "execution_count": 30,
   "metadata": {},
   "outputs": [
    {
     "data": {
      "text/html": [
       "<pre class=language-r><code>structure(function (v) \n",
       ".approxfun(x, y, v, method, yleft, yright, f), class = c(\"ecdf\", \n",
       "\"stepfun\", \"function\"), call = ecdf(rnorm(50)))</code></pre>"
      ],
      "text/latex": [
       "\\begin{minted}{r}\n",
       "structure(function (v) \n",
       ".approxfun(x, y, v, method, yleft, yright, f), class = c(\"ecdf\", \n",
       "\"stepfun\", \"function\"), call = ecdf(rnorm(50)))\n",
       "\\end{minted}"
      ],
      "text/markdown": [
       "```r\n",
       "structure(function (v) \n",
       ".approxfun(x, y, v, method, yleft, yright, f), class = c(\"ecdf\", \n",
       "\"stepfun\", \"function\"), call = ecdf(rnorm(50)))\n",
       "```"
      ],
      "text/plain": [
       "Empirical CDF \n",
       "Call: ecdf(rnorm(50))\n",
       " x[1:50] = -2.6692, -1.8014, -1.4647,  ..., 2.0942, 2.6295"
      ]
     },
     "metadata": {},
     "output_type": "display_data"
    }
   ],
   "source": [
    "emp_cum_dist_fn = ecdf(rnorm(50))\n",
    "emp_cum_dist_fn"
   ]
  },
  {
   "cell_type": "code",
   "execution_count": 31,
   "metadata": {},
   "outputs": [
    {
     "data": {
      "text/html": [
       "TRUE"
      ],
      "text/latex": [
       "TRUE"
      ],
      "text/markdown": [
       "TRUE"
      ],
      "text/plain": [
       "[1] TRUE"
      ]
     },
     "metadata": {},
     "output_type": "display_data"
    }
   ],
   "source": [
    "is.function(emp_cum_dist_fn)"
   ]
  },
  {
   "cell_type": "code",
   "execution_count": 32,
   "metadata": {},
   "outputs": [
    {
     "data": {
      "image/png": "[encoded data removed]",
      "text/plain": [
       "Plot with title “ecdf(rnorm(50))”"
      ]
     },
     "metadata": {},
     "output_type": "display_data"
    }
   ],
   "source": [
    "plot(emp_cum_dist_fn)"
   ]
  },
  {
   "cell_type": "code",
   "execution_count": 33,
   "metadata": {},
   "outputs": [
    {
     "data": {
      "text/html": [
       "<ol class=list-inline>\n",
       "\t<li>144</li>\n",
       "\t<li>144</li>\n",
       "\t<li>108</li>\n",
       "\t<li>144</li>\n",
       "\t<li>144</li>\n",
       "\t<li>108</li>\n",
       "\t<li>108</li>\n",
       "\t<li>108</li>\n",
       "\t<li>108</li>\n",
       "\t<li>144</li>\n",
       "</ol>\n"
      ],
      "text/latex": [
       "\\begin{enumerate*}\n",
       "\\item 144\n",
       "\\item 144\n",
       "\\item 108\n",
       "\\item 144\n",
       "\\item 144\n",
       "\\item 108\n",
       "\\item 108\n",
       "\\item 108\n",
       "\\item 108\n",
       "\\item 144\n",
       "\\end{enumerate*}\n"
      ],
      "text/markdown": [
       "1. 144\n",
       "2. 144\n",
       "3. 108\n",
       "4. 144\n",
       "5. 144\n",
       "6. 108\n",
       "7. 108\n",
       "8. 108\n",
       "9. 108\n",
       "10. 144\n",
       "\n",
       "\n"
      ],
      "text/plain": [
       " [1] 144 144 108 144 144 108 108 108 108 144"
      ]
     },
     "metadata": {},
     "output_type": "display_data"
    }
   ],
   "source": [
    "y = 16\n",
    "h2 <- function(x) {\n",
    "    if(runif(1) > 0.5) y = 12\n",
    "    x*y \n",
    "}\n",
    "\n",
    "replicate(10, h2(9))"
   ]
  },
  {
   "cell_type": "markdown",
   "metadata": {},
   "source": [
    "Exercise 6-2"
   ]
  },
  {
   "cell_type": "code",
   "execution_count": 56,
   "metadata": {},
   "outputs": [
    {
     "name": "stdout",
     "output_type": "stream",
     "text": [
      "[1] FALSE  TRUE FALSE FALSE FALSE\n",
      "[1] FALSE  TRUE FALSE  TRUE FALSE\n",
      "[1] FALSE FALSE FALSE FALSE FALSE FALSE\n"
     ]
    }
   ],
   "source": [
    "is_numeric = function(v){\n",
    "    v_logic = c()\n",
    "    if (length(v)==0) return(v_logic)\n",
    "    for (e in v){\n",
    "        if (!is.finite(e)) v_logic = c(v_logic, FALSE)\n",
    "        else if (e %% 2 == 0) v_logic = c(v_logic, TRUE)\n",
    "        else v_logic = c(v_logic, FALSE)\n",
    "    }\n",
    "    v_logic\n",
    "}\n",
    "print(is_numeric(c(1,2,3,NA,5)))\n",
    "print(is_numeric(c(1,2,3,4,5)))\n",
    "print(is_numeric(c(NA,NA,NA,NA,NA,NA)))"
   ]
  },
  {
   "cell_type": "markdown",
   "metadata": {},
   "source": [
    "Exercise 6-3"
   ]
  },
  {
   "cell_type": "code",
   "execution_count": 60,
   "metadata": {},
   "outputs": [
    {
     "name": "stdout",
     "output_type": "stream",
     "text": [
      "$args\n",
      "function (x, ...) \n",
      "NULL\n",
      "\n",
      "$body\n",
      "UseMethod(\"mean\")\n",
      "\n",
      "$args\n",
      "function (v) \n",
      "NULL\n",
      "\n",
      "$body\n",
      "{\n",
      "    v_logic = c()\n",
      "    if (length(v) == 0) \n",
      "        return(v_logic)\n",
      "    for (e in v) {\n",
      "        if (!is.finite(e)) \n",
      "            v_logic = c(v_logic, FALSE)\n",
      "        else if (e%%2 == 0) \n",
      "            v_logic = c(v_logic, TRUE)\n",
      "        else v_logic = c(v_logic, FALSE)\n",
      "    }\n",
      "    v_logic\n",
      "}\n",
      "\n"
     ]
    }
   ],
   "source": [
    "show_function = function(func = mean){\n",
    "    structure_of_func = list()\n",
    "    if (class(func) == 'function'){\n",
    "        structure_of_func$args = args(func)\n",
    "        structure_of_func$body = body(func)\n",
    "    }\n",
    "    structure_of_func\n",
    "}\n",
    "\n",
    "print(show_function())\n",
    "print(show_function(is_numeric))"
   ]
  },
  {
   "cell_type": "markdown",
   "metadata": {},
   "source": [
    "# Chapter7: String\n",
    " - 如何从现有字符串中构造出一个新的字符串\n",
    " - 如何格式化数字的打印格式\n",
    " - 了解特殊字符（制表符，换行符）\n",
    " - 如何创建和操作因子"
   ]
  },
  {
   "cell_type": "markdown",
   "metadata": {},
   "source": [
    "## 7.2 String\n",
    "### 7.2.1 create and print string\n",
    "### paste and paste0"
   ]
  },
  {
   "cell_type": "code",
   "execution_count": 1,
   "metadata": {},
   "outputs": [
    {
     "data": {
      "text/html": [
       "<ol class=list-inline>\n",
       "\t<li>'red lorry'</li>\n",
       "\t<li>'yellow lorry'</li>\n",
       "</ol>\n"
      ],
      "text/latex": [
       "\\begin{enumerate*}\n",
       "\\item 'red lorry'\n",
       "\\item 'yellow lorry'\n",
       "\\end{enumerate*}\n"
      ],
      "text/markdown": [
       "1. 'red lorry'\n",
       "2. 'yellow lorry'\n",
       "\n",
       "\n"
      ],
      "text/plain": [
       "[1] \"red lorry\"    \"yellow lorry\""
      ]
     },
     "metadata": {},
     "output_type": "display_data"
    }
   ],
   "source": [
    "paste(c(\"red\", \"yellow\"), \"lorry\")"
   ]
  },
  {
   "cell_type": "code",
   "execution_count": 6,
   "metadata": {},
   "outputs": [
    {
     "data": {
      "text/html": [
       "<ol class=list-inline>\n",
       "\t<li>'red-lorry'</li>\n",
       "\t<li>'yellow-lorry'</li>\n",
       "</ol>\n"
      ],
      "text/latex": [
       "\\begin{enumerate*}\n",
       "\\item 'red-lorry'\n",
       "\\item 'yellow-lorry'\n",
       "\\end{enumerate*}\n"
      ],
      "text/markdown": [
       "1. 'red-lorry'\n",
       "2. 'yellow-lorry'\n",
       "\n",
       "\n"
      ],
      "text/plain": [
       "[1] \"red-lorry\"    \"yellow-lorry\""
      ]
     },
     "metadata": {},
     "output_type": "display_data"
    }
   ],
   "source": [
    "paste(c(\"red\", \"yellow\"), \"lorry\", sep=\"-\")"
   ]
  },
  {
   "cell_type": "code",
   "execution_count": 8,
   "metadata": {},
   "outputs": [
    {
     "data": {
      "text/html": [
       "'red lorry, yellow lorry'"
      ],
      "text/latex": [
       "'red lorry, yellow lorry'"
      ],
      "text/markdown": [
       "'red lorry, yellow lorry'"
      ],
      "text/plain": [
       "[1] \"red lorry, yellow lorry\""
      ]
     },
     "metadata": {},
     "output_type": "display_data"
    }
   ],
   "source": [
    "paste(c(\"red\", \"yellow\"), \"lorry\", collapse = \", \")"
   ]
  },
  {
   "cell_type": "code",
   "execution_count": 3,
   "metadata": {},
   "outputs": [
    {
     "data": {
      "text/html": [
       "<ol class=list-inline>\n",
       "\t<li>'redlorry'</li>\n",
       "\t<li>'yellowlorry'</li>\n",
       "</ol>\n"
      ],
      "text/latex": [
       "\\begin{enumerate*}\n",
       "\\item 'redlorry'\n",
       "\\item 'yellowlorry'\n",
       "\\end{enumerate*}\n"
      ],
      "text/markdown": [
       "1. 'redlorry'\n",
       "2. 'yellowlorry'\n",
       "\n",
       "\n"
      ],
      "text/plain": [
       "[1] \"redlorry\"    \"yellowlorry\""
      ]
     },
     "metadata": {},
     "output_type": "display_data"
    }
   ],
   "source": [
    "paste0(c(\"red\", \"yellow\"), \"lorry\")"
   ]
  },
  {
   "cell_type": "markdown",
   "metadata": {},
   "source": [
    "### toString"
   ]
  },
  {
   "cell_type": "code",
   "execution_count": 9,
   "metadata": {},
   "outputs": [
    {
     "data": {
      "text/html": [
       "'1, 4, 9, 16, 25, 36, 49, 64, 81, 100, 121, 144, 169, 196, 225'"
      ],
      "text/latex": [
       "'1, 4, 9, 16, 25, 36, 49, 64, 81, 100, 121, 144, 169, 196, 225'"
      ],
      "text/markdown": [
       "'1, 4, 9, 16, 25, 36, 49, 64, 81, 100, 121, 144, 169, 196, 225'"
      ],
      "text/plain": [
       "[1] \"1, 4, 9, 16, 25, 36, 49, 64, 81, 100, 121, 144, 169, 196, 225\""
      ]
     },
     "metadata": {},
     "output_type": "display_data"
    }
   ],
   "source": [
    "x = (1:15) ^ 2\n",
    "toString(x)"
   ]
  },
  {
   "cell_type": "code",
   "execution_count": 13,
   "metadata": {},
   "outputs": [
    {
     "data": {
      "text/html": [
       "'1, 4, 9, 16, 25, 36, 49, 64, 81, 100, 121, 144, 169, 196, 225'"
      ],
      "text/latex": [
       "'1, 4, 9, 16, 25, 36, 49, 64, 81, 100, 121, 144, 169, 196, 225'"
      ],
      "text/markdown": [
       "'1, 4, 9, 16, 25, 36, 49, 64, 81, 100, 121, 144, 169, 196, 225'"
      ],
      "text/plain": [
       "[1] \"1, 4, 9, 16, 25, 36, 49, 64, 81, 100, 121, 144, 169, 196, 225\""
      ]
     },
     "metadata": {},
     "output_type": "display_data"
    }
   ],
   "source": [
    "toString(x, width = 100)"
   ]
  },
  {
   "cell_type": "markdown",
   "metadata": {},
   "source": [
    "### noquote"
   ]
  },
  {
   "cell_type": "code",
   "execution_count": 16,
   "metadata": {},
   "outputs": [
    {
     "name": "stdout",
     "output_type": "stream",
     "text": [
      " [1] \"I\"     \"saw\"   \"a\"     \"saw\"   \"that\"  \"could\" \"out\"   \"saw\"   \"any\"  \n",
      "[10] \"other\" \"saw\"   \"I\"     \"ever\"  \"saw\"  \n",
      " [1] I     saw   a     saw   that  could out   saw   any   other saw   I    \n",
      "[13] ever  saw  \n"
     ]
    }
   ],
   "source": [
    "x = c(\n",
    "    \"I\", \"saw\", \"a\", \"saw\", \"that\", \"could\", \"out\",\n",
    "    \"saw\", \"any\", \"other\", \"saw\", \"I\", \"ever\", \"saw\"\n",
    ")\n",
    "y = noquote(x)\n",
    "print(x)\n",
    "print(y)"
   ]
  },
  {
   "cell_type": "markdown",
   "metadata": {},
   "source": [
    "## 7.2.2 format digit\n",
    "无论使用哪种选项，输入都应该是 numeric 类型(包括数组)，且输出是 character 字符向量或数组"
   ]
  },
  {
   "cell_type": "markdown",
   "metadata": {},
   "source": [
    "### formatC"
   ]
  },
  {
   "cell_type": "code",
   "execution_count": 24,
   "metadata": {},
   "outputs": [
    {
     "name": "stdout",
     "output_type": "stream",
     "text": [
      "[1] \"2.718\" \"7.389\" \"20.09\"\n",
      "[1] \"2.72\" \"7.39\" \"20.1\"\n",
      "[1] \"      2.72\" \"      7.39\" \"      20.1\"\n",
      "[1] \"2.718e+00\" \"7.389e+00\" \"2.009e+01\"\n",
      "[1] \"+2.72\" \"+7.39\" \"+20.1\"\n"
     ]
    }
   ],
   "source": [
    "pow = 1:3\n",
    "powers_of_e = exp(pow)\n",
    "print(formatC(powers_of_e))\n",
    "print(formatC(powers_of_e, digits = 3))  # keep 3 digit\n",
    "print(formatC(powers_of_e, digits = 3, width = 10))  # keep 3 digit, and length = 10\n",
    "print(formatC(powers_of_e, digits = 3, format = \"e\"))  # keep 3 digit, Scientific notation\n",
    "print(formatC(powers_of_e, digits = 3, flag = \"+\"))  # keep 3 digit\n",
    "\n"
   ]
  },
  {
   "cell_type": "markdown",
   "metadata": {},
   "source": [
    "### sprintf"
   ]
  },
  {
   "cell_type": "code",
   "execution_count": 27,
   "metadata": {},
   "outputs": [
    {
     "data": {
      "text/html": [
       "<ol class=list-inline>\n",
       "\t<li>'Euler\\'s constant to the power 1 = 2.718282'</li>\n",
       "\t<li>'Euler\\'s constant to the power 2 = 7.389056'</li>\n",
       "\t<li>'Euler\\'s constant to the power 3 = 20.085537'</li>\n",
       "</ol>\n"
      ],
      "text/latex": [
       "\\begin{enumerate*}\n",
       "\\item 'Euler\\textbackslash{}'s constant to the power 1 = 2.718282'\n",
       "\\item 'Euler\\textbackslash{}'s constant to the power 2 = 7.389056'\n",
       "\\item 'Euler\\textbackslash{}'s constant to the power 3 = 20.085537'\n",
       "\\end{enumerate*}\n"
      ],
      "text/markdown": [
       "1. 'Euler\\'s constant to the power 1 = 2.718282'\n",
       "2. 'Euler\\'s constant to the power 2 = 7.389056'\n",
       "3. 'Euler\\'s constant to the power 3 = 20.085537'\n",
       "\n",
       "\n"
      ],
      "text/plain": [
       "[1] \"Euler's constant to the power 1 = 2.718282\" \n",
       "[2] \"Euler's constant to the power 2 = 7.389056\" \n",
       "[3] \"Euler's constant to the power 3 = 20.085537\""
      ]
     },
     "metadata": {},
     "output_type": "display_data"
    },
    {
     "data": {
      "text/html": [
       "<ol class=list-inline>\n",
       "\t<li>'To three decimal places, e ^ 1 = 2.718'</li>\n",
       "\t<li>'To three decimal places, e ^ 2 = 7.389'</li>\n",
       "\t<li>'To three decimal places, e ^ 3 = 20.086'</li>\n",
       "</ol>\n"
      ],
      "text/latex": [
       "\\begin{enumerate*}\n",
       "\\item 'To three decimal places, e \\textasciicircum{} 1 = 2.718'\n",
       "\\item 'To three decimal places, e \\textasciicircum{} 2 = 7.389'\n",
       "\\item 'To three decimal places, e \\textasciicircum{} 3 = 20.086'\n",
       "\\end{enumerate*}\n"
      ],
      "text/markdown": [
       "1. 'To three decimal places, e ^ 1 = 2.718'\n",
       "2. 'To three decimal places, e ^ 2 = 7.389'\n",
       "3. 'To three decimal places, e ^ 3 = 20.086'\n",
       "\n",
       "\n"
      ],
      "text/plain": [
       "[1] \"To three decimal places, e ^ 1 = 2.718\" \n",
       "[2] \"To three decimal places, e ^ 2 = 7.389\" \n",
       "[3] \"To three decimal places, e ^ 3 = 20.086\""
      ]
     },
     "metadata": {},
     "output_type": "display_data"
    },
    {
     "data": {
      "text/html": [
       "<ol class=list-inline>\n",
       "\t<li>'In scientific notation, e ^ 1 = 2.718282e+00'</li>\n",
       "\t<li>'In scientific notation, e ^ 2 = 7.389056e+00'</li>\n",
       "\t<li>'In scientific notation, e ^ 3 = 2.008554e+01'</li>\n",
       "</ol>\n"
      ],
      "text/latex": [
       "\\begin{enumerate*}\n",
       "\\item 'In scientific notation, e \\textasciicircum{} 1 = 2.718282e+00'\n",
       "\\item 'In scientific notation, e \\textasciicircum{} 2 = 7.389056e+00'\n",
       "\\item 'In scientific notation, e \\textasciicircum{} 3 = 2.008554e+01'\n",
       "\\end{enumerate*}\n"
      ],
      "text/markdown": [
       "1. 'In scientific notation, e ^ 1 = 2.718282e+00'\n",
       "2. 'In scientific notation, e ^ 2 = 7.389056e+00'\n",
       "3. 'In scientific notation, e ^ 3 = 2.008554e+01'\n",
       "\n",
       "\n"
      ],
      "text/plain": [
       "[1] \"In scientific notation, e ^ 1 = 2.718282e+00\"\n",
       "[2] \"In scientific notation, e ^ 2 = 7.389056e+00\"\n",
       "[3] \"In scientific notation, e ^ 3 = 2.008554e+01\""
      ]
     },
     "metadata": {},
     "output_type": "display_data"
    }
   ],
   "source": [
    "sprintf(\"%s %d = %f\", \"Euler's constant to the power\", pow, powers_of_e)\n",
    "sprintf(\"To three decimal places, e ^ %d = %.3f\", pow, powers_of_e)\n",
    "sprintf(\"In scientific notation, e ^ %d = %e\", pow, powers_of_e)\n"
   ]
  },
  {
   "cell_type": "markdown",
   "metadata": {},
   "source": [
    "### format"
   ]
  },
  {
   "cell_type": "code",
   "execution_count": 31,
   "metadata": {},
   "outputs": [
    {
     "name": "stdout",
     "output_type": "stream",
     "text": [
      "[1] \" 2.718282\" \" 7.389056\" \"20.085537\"\n",
      "[1] \" 2.72\" \" 7.39\" \"20.09\"\n",
      "[1] \"2.72\"  \"7.39\"  \"20.09\"\n",
      "[1] \"2.72e+00\" \"7.39e+00\" \"2.01e+01\"\n"
     ]
    }
   ],
   "source": [
    "print(format(powers_of_e))\n",
    "print(format(powers_of_e, digits = 3))\n",
    "print(format(powers_of_e, digits = 3, trim = TRUE))\n",
    "print(format(powers_of_e, digits = 3, scientific = TRUE))\n"
   ]
  },
  {
   "cell_type": "markdown",
   "metadata": {},
   "source": [
    "### prettyNum\n",
    "用于表示特别大或者特别小的数字"
   ]
  },
  {
   "cell_type": "code",
   "execution_count": 32,
   "metadata": {},
   "outputs": [
    {
     "data": {
      "text/html": [
       "<ol class=list-inline>\n",
       "\t<li>'10,000,000,000'</li>\n",
       "\t<li>'0.00000 00000 00000 00001'</li>\n",
       "</ol>\n"
      ],
      "text/latex": [
       "\\begin{enumerate*}\n",
       "\\item '10,000,000,000'\n",
       "\\item '0.00000 00000 00000 00001'\n",
       "\\end{enumerate*}\n"
      ],
      "text/markdown": [
       "1. '10,000,000,000'\n",
       "2. '0.00000 00000 00000 00001'\n",
       "\n",
       "\n"
      ],
      "text/plain": [
       "[1] \"10,000,000,000\"            \"0.00000 00000 00000 00001\""
      ]
     },
     "metadata": {},
     "output_type": "display_data"
    }
   ],
   "source": [
    "prettyNum(\n",
    "    c(1e10, 1e-20),\n",
    "    big.mark = \",\",\n",
    "    small.mark = \" \", preserve.width = \"individual\", scientific = FALSE\n",
    ")"
   ]
  },
  {
   "cell_type": "markdown",
   "metadata": {},
   "source": [
    "## 7.2.3 Special Characters"
   ]
  },
  {
   "cell_type": "code",
   "execution_count": 33,
   "metadata": {},
   "outputs": [
    {
     "name": "stdout",
     "output_type": "stream",
     "text": [
      "foo\tbar\n"
     ]
    }
   ],
   "source": [
    "cat(\"foo\\tbar\", fill = TRUE)"
   ]
  },
  {
   "cell_type": "code",
   "execution_count": 35,
   "metadata": {},
   "outputs": [
    {
     "name": "stdout",
     "output_type": "stream",
     "text": [
      "foo\n",
      "bar\n"
     ]
    }
   ],
   "source": [
    "cat(\"foo\\nbar\", fill = TRUE)"
   ]
  },
  {
   "cell_type": "code",
   "execution_count": 36,
   "metadata": {},
   "outputs": [
    {
     "ename": "ERROR",
     "evalue": "Error in parse(text = x, srcfile = src): nul character not allowed (line 1)\n",
     "output_type": "error",
     "traceback": [
      "Error in parse(text = x, srcfile = src): nul character not allowed (line 1)\nTraceback:\n"
     ]
    }
   ],
   "source": [
    "cat(\"foo\\0bar\", fill = TRUE)"
   ]
  },
  {
   "cell_type": "code",
   "execution_count": 38,
   "metadata": {},
   "outputs": [
    {
     "name": "stdout",
     "output_type": "stream",
     "text": [
      "foo\"bar\n"
     ]
    }
   ],
   "source": [
    "cat(\"foo\\\"bar\", fill = TRUE)"
   ]
  },
  {
   "cell_type": "code",
   "execution_count": 39,
   "metadata": {},
   "outputs": [
    {
     "name": "stdout",
     "output_type": "stream",
     "text": [
      "foo'bar\n"
     ]
    }
   ],
   "source": [
    "cat(\"foo'bar\", fill = TRUE)"
   ]
  },
  {
   "cell_type": "markdown",
   "metadata": {},
   "source": [
    "## 7.2.4 upper & lower"
   ]
  },
  {
   "cell_type": "code",
   "execution_count": 40,
   "metadata": {},
   "outputs": [
    {
     "name": "stdout",
     "output_type": "stream",
     "text": [
      "[1] \"I'M SHOUTING\"\n",
      "[1] \"i'm whispering\"\n"
     ]
    }
   ],
   "source": [
    "print(toupper(\"I'm Shouting\"))\n",
    "print(tolower(\"I'm Whispering\"))"
   ]
  },
  {
   "cell_type": "markdown",
   "metadata": {},
   "source": [
    "## 7.2.5 cut off string"
   ]
  },
  {
   "cell_type": "code",
   "execution_count": 41,
   "metadata": {},
   "outputs": [
    {
     "data": {
      "text/html": [
       "<ol class=list-inline>\n",
       "\t<li>'How much w'</li>\n",
       "\t<li>'f a woodc'</li>\n",
       "\t<li>' would c'</li>\n",
       "\t<li>' chuck '</li>\n",
       "\t<li>' woodc'</li>\n",
       "\t<li>'uch w'</li>\n",
       "</ol>\n"
      ],
      "text/latex": [
       "\\begin{enumerate*}\n",
       "\\item 'How much w'\n",
       "\\item 'f a woodc'\n",
       "\\item ' would c'\n",
       "\\item ' chuck '\n",
       "\\item ' woodc'\n",
       "\\item 'uch w'\n",
       "\\end{enumerate*}\n"
      ],
      "text/markdown": [
       "1. 'How much w'\n",
       "2. 'f a woodc'\n",
       "3. ' would c'\n",
       "4. ' chuck '\n",
       "5. ' woodc'\n",
       "6. 'uch w'\n",
       "\n",
       "\n"
      ],
      "text/plain": [
       "[1] \"How much w\" \"f a woodc\"  \" would c\"   \" chuck \"    \" woodc\"    \n",
       "[6] \"uch w\"     "
      ]
     },
     "metadata": {},
     "output_type": "display_data"
    }
   ],
   "source": [
    "woodchuck <- c(\n",
    "    \"How much wood would a woodchuck chuck\",\n",
    "    \"If a woodchuck could chuck wood?\",\n",
    "    \"He would chuck, he would, as much as he could\", \n",
    "    \"And chuck as much wood as a woodchuck would\", \n",
    "    \"If a woodchuck could chuck wood.\"\n",
    ")\n",
    "substring(woodchuck, 1:6, 10)"
   ]
  },
  {
   "cell_type": "code",
   "execution_count": 42,
   "metadata": {},
   "outputs": [
    {
     "data": {
      "text/html": [
       "<ol class=list-inline>\n",
       "\t<li>'How much w'</li>\n",
       "\t<li>'f a woodc'</li>\n",
       "\t<li>' would c'</li>\n",
       "\t<li>' chuck '</li>\n",
       "\t<li>' woodc'</li>\n",
       "</ol>\n"
      ],
      "text/latex": [
       "\\begin{enumerate*}\n",
       "\\item 'How much w'\n",
       "\\item 'f a woodc'\n",
       "\\item ' would c'\n",
       "\\item ' chuck '\n",
       "\\item ' woodc'\n",
       "\\end{enumerate*}\n"
      ],
      "text/markdown": [
       "1. 'How much w'\n",
       "2. 'f a woodc'\n",
       "3. ' would c'\n",
       "4. ' chuck '\n",
       "5. ' woodc'\n",
       "\n",
       "\n"
      ],
      "text/plain": [
       "[1] \"How much w\" \"f a woodc\"  \" would c\"   \" chuck \"    \" woodc\"    "
      ]
     },
     "metadata": {},
     "output_type": "display_data"
    }
   ],
   "source": [
    "substr(woodchuck, 1:6, 10)"
   ]
  },
  {
   "cell_type": "markdown",
   "metadata": {},
   "source": [
    "## 7.2.6 strsplit"
   ]
  },
  {
   "cell_type": "code",
   "execution_count": 46,
   "metadata": {},
   "outputs": [
    {
     "data": {
      "text/html": [
       "<ol>\n",
       "\t<li><ol class=list-inline>\n",
       "\t<li>'How'</li>\n",
       "\t<li>'much'</li>\n",
       "\t<li>'wood'</li>\n",
       "\t<li>'would'</li>\n",
       "\t<li>'a'</li>\n",
       "\t<li>'woodchuck'</li>\n",
       "\t<li>'chuck'</li>\n",
       "</ol>\n",
       "</li>\n",
       "\t<li><ol class=list-inline>\n",
       "\t<li>'If'</li>\n",
       "\t<li>'a'</li>\n",
       "\t<li>'woodchuck'</li>\n",
       "\t<li>'could'</li>\n",
       "\t<li>'chuck'</li>\n",
       "\t<li>'wood?'</li>\n",
       "</ol>\n",
       "</li>\n",
       "\t<li><ol class=list-inline>\n",
       "\t<li>'He'</li>\n",
       "\t<li>'would'</li>\n",
       "\t<li>'chuck,'</li>\n",
       "\t<li>'he'</li>\n",
       "\t<li>'would,'</li>\n",
       "\t<li>'as'</li>\n",
       "\t<li>'much'</li>\n",
       "\t<li>'as'</li>\n",
       "\t<li>'he'</li>\n",
       "\t<li>'could'</li>\n",
       "</ol>\n",
       "</li>\n",
       "\t<li><ol class=list-inline>\n",
       "\t<li>'And'</li>\n",
       "\t<li>'chuck'</li>\n",
       "\t<li>'as'</li>\n",
       "\t<li>'much'</li>\n",
       "\t<li>'wood'</li>\n",
       "\t<li>'as'</li>\n",
       "\t<li>'a'</li>\n",
       "\t<li>'woodchuck'</li>\n",
       "\t<li>'would'</li>\n",
       "</ol>\n",
       "</li>\n",
       "\t<li><ol class=list-inline>\n",
       "\t<li>'If'</li>\n",
       "\t<li>'a'</li>\n",
       "\t<li>'woodchuck'</li>\n",
       "\t<li>'could'</li>\n",
       "\t<li>'chuck'</li>\n",
       "\t<li>'wood.'</li>\n",
       "</ol>\n",
       "</li>\n",
       "</ol>\n"
      ],
      "text/latex": [
       "\\begin{enumerate}\n",
       "\\item \\begin{enumerate*}\n",
       "\\item 'How'\n",
       "\\item 'much'\n",
       "\\item 'wood'\n",
       "\\item 'would'\n",
       "\\item 'a'\n",
       "\\item 'woodchuck'\n",
       "\\item 'chuck'\n",
       "\\end{enumerate*}\n",
       "\n",
       "\\item \\begin{enumerate*}\n",
       "\\item 'If'\n",
       "\\item 'a'\n",
       "\\item 'woodchuck'\n",
       "\\item 'could'\n",
       "\\item 'chuck'\n",
       "\\item 'wood?'\n",
       "\\end{enumerate*}\n",
       "\n",
       "\\item \\begin{enumerate*}\n",
       "\\item 'He'\n",
       "\\item 'would'\n",
       "\\item 'chuck,'\n",
       "\\item 'he'\n",
       "\\item 'would,'\n",
       "\\item 'as'\n",
       "\\item 'much'\n",
       "\\item 'as'\n",
       "\\item 'he'\n",
       "\\item 'could'\n",
       "\\end{enumerate*}\n",
       "\n",
       "\\item \\begin{enumerate*}\n",
       "\\item 'And'\n",
       "\\item 'chuck'\n",
       "\\item 'as'\n",
       "\\item 'much'\n",
       "\\item 'wood'\n",
       "\\item 'as'\n",
       "\\item 'a'\n",
       "\\item 'woodchuck'\n",
       "\\item 'would'\n",
       "\\end{enumerate*}\n",
       "\n",
       "\\item \\begin{enumerate*}\n",
       "\\item 'If'\n",
       "\\item 'a'\n",
       "\\item 'woodchuck'\n",
       "\\item 'could'\n",
       "\\item 'chuck'\n",
       "\\item 'wood.'\n",
       "\\end{enumerate*}\n",
       "\n",
       "\\end{enumerate}\n"
      ],
      "text/markdown": [
       "1. 1. 'How'\n",
       "2. 'much'\n",
       "3. 'wood'\n",
       "4. 'would'\n",
       "5. 'a'\n",
       "6. 'woodchuck'\n",
       "7. 'chuck'\n",
       "\n",
       "\n",
       "\n",
       "2. 1. 'If'\n",
       "2. 'a'\n",
       "3. 'woodchuck'\n",
       "4. 'could'\n",
       "5. 'chuck'\n",
       "6. 'wood?'\n",
       "\n",
       "\n",
       "\n",
       "3. 1. 'He'\n",
       "2. 'would'\n",
       "3. 'chuck,'\n",
       "4. 'he'\n",
       "5. 'would,'\n",
       "6. 'as'\n",
       "7. 'much'\n",
       "8. 'as'\n",
       "9. 'he'\n",
       "10. 'could'\n",
       "\n",
       "\n",
       "\n",
       "4. 1. 'And'\n",
       "2. 'chuck'\n",
       "3. 'as'\n",
       "4. 'much'\n",
       "5. 'wood'\n",
       "6. 'as'\n",
       "7. 'a'\n",
       "8. 'woodchuck'\n",
       "9. 'would'\n",
       "\n",
       "\n",
       "\n",
       "5. 1. 'If'\n",
       "2. 'a'\n",
       "3. 'woodchuck'\n",
       "4. 'could'\n",
       "5. 'chuck'\n",
       "6. 'wood.'\n",
       "\n",
       "\n",
       "\n",
       "\n",
       "\n"
      ],
      "text/plain": [
       "[[1]]\n",
       "[1] \"How\"       \"much\"      \"wood\"      \"would\"     \"a\"         \"woodchuck\"\n",
       "[7] \"chuck\"    \n",
       "\n",
       "[[2]]\n",
       "[1] \"If\"        \"a\"         \"woodchuck\" \"could\"     \"chuck\"     \"wood?\"    \n",
       "\n",
       "[[3]]\n",
       " [1] \"He\"     \"would\"  \"chuck,\" \"he\"     \"would,\" \"as\"     \"much\"   \"as\"    \n",
       " [9] \"he\"     \"could\" \n",
       "\n",
       "[[4]]\n",
       "[1] \"And\"       \"chuck\"     \"as\"        \"much\"      \"wood\"      \"as\"       \n",
       "[7] \"a\"         \"woodchuck\" \"would\"    \n",
       "\n",
       "[[5]]\n",
       "[1] \"If\"        \"a\"         \"woodchuck\" \"could\"     \"chuck\"     \"wood.\"    \n"
      ]
     },
     "metadata": {},
     "output_type": "display_data"
    }
   ],
   "source": [
    "strsplit(woodchuck, \" \", fixed = TRUE)  ## fix=TRUE表示splite的参数是固定长度的字符串而非正则表达式"
   ]
  },
  {
   "cell_type": "code",
   "execution_count": 48,
   "metadata": {},
   "outputs": [
    {
     "data": {
      "text/html": [
       "<ol>\n",
       "\t<li><ol class=list-inline>\n",
       "\t<li>'Ho'</li>\n",
       "\t<li>'muc'</li>\n",
       "\t<li>'woo'</li>\n",
       "\t<li>'woul'</li>\n",
       "\t<li>''</li>\n",
       "\t<li>'woodchuc'</li>\n",
       "\t<li>'chuck'</li>\n",
       "</ol>\n",
       "</li>\n",
       "\t<li><ol class=list-inline>\n",
       "\t<li>'I'</li>\n",
       "\t<li>''</li>\n",
       "\t<li>'woodchuc'</li>\n",
       "\t<li>'coul'</li>\n",
       "\t<li>'chuc'</li>\n",
       "\t<li>'wood?'</li>\n",
       "</ol>\n",
       "</li>\n",
       "\t<li><ol class=list-inline>\n",
       "\t<li>'H'</li>\n",
       "\t<li>'woul'</li>\n",
       "\t<li>'chuck'</li>\n",
       "\t<li>'h'</li>\n",
       "\t<li>'would'</li>\n",
       "\t<li>'a'</li>\n",
       "\t<li>'muc'</li>\n",
       "\t<li>'a'</li>\n",
       "\t<li>'h'</li>\n",
       "\t<li>'could'</li>\n",
       "</ol>\n",
       "</li>\n",
       "\t<li><ol class=list-inline>\n",
       "\t<li>'An'</li>\n",
       "\t<li>'chuc'</li>\n",
       "\t<li>'a'</li>\n",
       "\t<li>'muc'</li>\n",
       "\t<li>'woo'</li>\n",
       "\t<li>'a'</li>\n",
       "\t<li>''</li>\n",
       "\t<li>'woodchuc'</li>\n",
       "\t<li>'would'</li>\n",
       "</ol>\n",
       "</li>\n",
       "\t<li><ol class=list-inline>\n",
       "\t<li>'I'</li>\n",
       "\t<li>''</li>\n",
       "\t<li>'woodchuc'</li>\n",
       "\t<li>'coul'</li>\n",
       "\t<li>'chuc'</li>\n",
       "\t<li>'wood.'</li>\n",
       "</ol>\n",
       "</li>\n",
       "</ol>\n"
      ],
      "text/latex": [
       "\\begin{enumerate}\n",
       "\\item \\begin{enumerate*}\n",
       "\\item 'Ho'\n",
       "\\item 'muc'\n",
       "\\item 'woo'\n",
       "\\item 'woul'\n",
       "\\item ''\n",
       "\\item 'woodchuc'\n",
       "\\item 'chuck'\n",
       "\\end{enumerate*}\n",
       "\n",
       "\\item \\begin{enumerate*}\n",
       "\\item 'I'\n",
       "\\item ''\n",
       "\\item 'woodchuc'\n",
       "\\item 'coul'\n",
       "\\item 'chuc'\n",
       "\\item 'wood?'\n",
       "\\end{enumerate*}\n",
       "\n",
       "\\item \\begin{enumerate*}\n",
       "\\item 'H'\n",
       "\\item 'woul'\n",
       "\\item 'chuck'\n",
       "\\item 'h'\n",
       "\\item 'would'\n",
       "\\item 'a'\n",
       "\\item 'muc'\n",
       "\\item 'a'\n",
       "\\item 'h'\n",
       "\\item 'could'\n",
       "\\end{enumerate*}\n",
       "\n",
       "\\item \\begin{enumerate*}\n",
       "\\item 'An'\n",
       "\\item 'chuc'\n",
       "\\item 'a'\n",
       "\\item 'muc'\n",
       "\\item 'woo'\n",
       "\\item 'a'\n",
       "\\item ''\n",
       "\\item 'woodchuc'\n",
       "\\item 'would'\n",
       "\\end{enumerate*}\n",
       "\n",
       "\\item \\begin{enumerate*}\n",
       "\\item 'I'\n",
       "\\item ''\n",
       "\\item 'woodchuc'\n",
       "\\item 'coul'\n",
       "\\item 'chuc'\n",
       "\\item 'wood.'\n",
       "\\end{enumerate*}\n",
       "\n",
       "\\end{enumerate}\n"
      ],
      "text/markdown": [
       "1. 1. 'Ho'\n",
       "2. 'muc'\n",
       "3. 'woo'\n",
       "4. 'woul'\n",
       "5. ''\n",
       "6. 'woodchuc'\n",
       "7. 'chuck'\n",
       "\n",
       "\n",
       "\n",
       "2. 1. 'I'\n",
       "2. ''\n",
       "3. 'woodchuc'\n",
       "4. 'coul'\n",
       "5. 'chuc'\n",
       "6. 'wood?'\n",
       "\n",
       "\n",
       "\n",
       "3. 1. 'H'\n",
       "2. 'woul'\n",
       "3. 'chuck'\n",
       "4. 'h'\n",
       "5. 'would'\n",
       "6. 'a'\n",
       "7. 'muc'\n",
       "8. 'a'\n",
       "9. 'h'\n",
       "10. 'could'\n",
       "\n",
       "\n",
       "\n",
       "4. 1. 'An'\n",
       "2. 'chuc'\n",
       "3. 'a'\n",
       "4. 'muc'\n",
       "5. 'woo'\n",
       "6. 'a'\n",
       "7. ''\n",
       "8. 'woodchuc'\n",
       "9. 'would'\n",
       "\n",
       "\n",
       "\n",
       "5. 1. 'I'\n",
       "2. ''\n",
       "3. 'woodchuc'\n",
       "4. 'coul'\n",
       "5. 'chuc'\n",
       "6. 'wood.'\n",
       "\n",
       "\n",
       "\n",
       "\n",
       "\n"
      ],
      "text/plain": [
       "[[1]]\n",
       "[1] \"Ho\"       \"muc\"      \"woo\"      \"woul\"     \"\"         \"woodchuc\" \"chuck\"   \n",
       "\n",
       "[[2]]\n",
       "[1] \"I\"        \"\"         \"woodchuc\" \"coul\"     \"chuc\"     \"wood?\"   \n",
       "\n",
       "[[3]]\n",
       " [1] \"H\"     \"woul\"  \"chuck\" \"h\"     \"would\" \"a\"     \"muc\"   \"a\"     \"h\"    \n",
       "[10] \"could\"\n",
       "\n",
       "[[4]]\n",
       "[1] \"An\"       \"chuc\"     \"a\"        \"muc\"      \"woo\"      \"a\"        \"\"        \n",
       "[8] \"woodchuc\" \"would\"   \n",
       "\n",
       "[[5]]\n",
       "[1] \"I\"        \"\"         \"woodchuc\" \"coul\"     \"chuc\"     \"wood.\"   \n"
      ]
     },
     "metadata": {},
     "output_type": "display_data"
    }
   ],
   "source": [
    "strsplit(woodchuck, \".? \", fixed = FALSE)  ## fix=FALSE表示splite的参数是正则表达式"
   ]
  },
  {
   "cell_type": "markdown",
   "metadata": {},
   "source": [
    "## 7.2.7 file path"
   ]
  },
  {
   "cell_type": "code",
   "execution_count": 49,
   "metadata": {},
   "outputs": [
    {
     "data": {
      "text/html": [
       "'/Users/kaitong/lessons/R-in-Action/experiments'"
      ],
      "text/latex": [
       "'/Users/kaitong/lessons/R-in-Action/experiments'"
      ],
      "text/markdown": [
       "'/Users/kaitong/lessons/R-in-Action/experiments'"
      ],
      "text/plain": [
       "[1] \"/Users/kaitong/lessons/R-in-Action/experiments\""
      ]
     },
     "metadata": {},
     "output_type": "display_data"
    }
   ],
   "source": [
    "getwd()"
   ]
  },
  {
   "cell_type": "code",
   "execution_count": 50,
   "metadata": {},
   "outputs": [],
   "source": [
    "setwd(\"/Users/kaitong/lessons/R-in-Action/experiments\")"
   ]
  },
  {
   "cell_type": "code",
   "execution_count": 51,
   "metadata": {},
   "outputs": [
    {
     "data": {
      "text/html": [
       "'/Users/kaitong/lessons/R-in-Action'"
      ],
      "text/latex": [
       "'/Users/kaitong/lessons/R-in-Action'"
      ],
      "text/markdown": [
       "'/Users/kaitong/lessons/R-in-Action'"
      ],
      "text/plain": [
       "[1] \"/Users/kaitong/lessons/R-in-Action\""
      ]
     },
     "metadata": {},
     "output_type": "display_data"
    }
   ],
   "source": [
    "file.path(\"/Users\", \"kaitong\", \"lessons\", \"R-in-Action\")"
   ]
  },
  {
   "cell_type": "code",
   "execution_count": 52,
   "metadata": {},
   "outputs": [
    {
     "data": {
      "text/html": [
       "'/Users/kaitong/Software/Anaconda/anaconda3/envs/RStudio/lib/R'"
      ],
      "text/latex": [
       "'/Users/kaitong/Software/Anaconda/anaconda3/envs/RStudio/lib/R'"
      ],
      "text/markdown": [
       "'/Users/kaitong/Software/Anaconda/anaconda3/envs/RStudio/lib/R'"
      ],
      "text/plain": [
       "[1] \"/Users/kaitong/Software/Anaconda/anaconda3/envs/RStudio/lib/R\""
      ]
     },
     "metadata": {},
     "output_type": "display_data"
    }
   ],
   "source": [
    "R.home()"
   ]
  },
  {
   "cell_type": "code",
   "execution_count": 53,
   "metadata": {},
   "outputs": [
    {
     "data": {
      "text/html": [
       "'experiments.ipynb'"
      ],
      "text/latex": [
       "'experiments.ipynb'"
      ],
      "text/markdown": [
       "'experiments.ipynb'"
      ],
      "text/plain": [
       "[1] \"experiments.ipynb\""
      ]
     },
     "metadata": {},
     "output_type": "display_data"
    },
    {
     "data": {
      "text/html": [
       "'/Users/kaitong/lessons/R-in-Action/experiments'"
      ],
      "text/latex": [
       "'/Users/kaitong/lessons/R-in-Action/experiments'"
      ],
      "text/markdown": [
       "'/Users/kaitong/lessons/R-in-Action/experiments'"
      ],
      "text/plain": [
       "[1] \"/Users/kaitong/lessons/R-in-Action/experiments\""
      ]
     },
     "metadata": {},
     "output_type": "display_data"
    }
   ],
   "source": [
    "file_name = \"/Users/kaitong/lessons/R-in-Action/experiments/experiments.ipynb\"\n",
    "basename(file_name)\n",
    "dirname(file_name)"
   ]
  },
  {
   "cell_type": "markdown",
   "metadata": {},
   "source": [
    "## 7.3 Factor\n",
    "因子是一个用于存储类别变量的特殊的变量类型。它有时像字符串，有时又像整数。\n",
    "\n",
    "### 7.3.1 Create factor"
   ]
  },
  {
   "cell_type": "code",
   "execution_count": 59,
   "metadata": {},
   "outputs": [
    {
     "data": {
      "text/html": [
       "<table>\n",
       "<thead><tr><th scope=col>height_cm</th><th scope=col>gender</th></tr></thead>\n",
       "<tbody>\n",
       "\t<tr><td>153   </td><td>female</td></tr>\n",
       "\t<tr><td>181   </td><td>male  </td></tr>\n",
       "\t<tr><td>150   </td><td>female</td></tr>\n",
       "\t<tr><td>172   </td><td>male  </td></tr>\n",
       "\t<tr><td>165   </td><td>male  </td></tr>\n",
       "\t<tr><td>149   </td><td>female</td></tr>\n",
       "\t<tr><td>174   </td><td>female</td></tr>\n",
       "\t<tr><td>169   </td><td>male  </td></tr>\n",
       "\t<tr><td>198   </td><td>male  </td></tr>\n",
       "\t<tr><td>163   </td><td>female</td></tr>\n",
       "</tbody>\n",
       "</table>\n"
      ],
      "text/latex": [
       "\\begin{tabular}{r|ll}\n",
       " height\\_cm & gender\\\\\n",
       "\\hline\n",
       "\t 153    & female\\\\\n",
       "\t 181    & male  \\\\\n",
       "\t 150    & female\\\\\n",
       "\t 172    & male  \\\\\n",
       "\t 165    & male  \\\\\n",
       "\t 149    & female\\\\\n",
       "\t 174    & female\\\\\n",
       "\t 169    & male  \\\\\n",
       "\t 198    & male  \\\\\n",
       "\t 163    & female\\\\\n",
       "\\end{tabular}\n"
      ],
      "text/markdown": [
       "\n",
       "| height_cm | gender |\n",
       "|---|---|\n",
       "| 153    | female |\n",
       "| 181    | male   |\n",
       "| 150    | female |\n",
       "| 172    | male   |\n",
       "| 165    | male   |\n",
       "| 149    | female |\n",
       "| 174    | female |\n",
       "| 169    | male   |\n",
       "| 198    | male   |\n",
       "| 163    | female |\n",
       "\n"
      ],
      "text/plain": [
       "   height_cm gender\n",
       "1  153       female\n",
       "2  181       male  \n",
       "3  150       female\n",
       "4  172       male  \n",
       "5  165       male  \n",
       "6  149       female\n",
       "7  174       female\n",
       "8  169       male  \n",
       "9  198       male  \n",
       "10 163       female"
      ]
     },
     "metadata": {},
     "output_type": "display_data"
    }
   ],
   "source": [
    "heights <- data.frame(\n",
    "    height_cm = c(153, 181, 150, 172, 165, 149, 174, 169, 198, 163),\n",
    "    gender = c(\n",
    "        \"female\", \"male\", \"female\", \"male\", \"male\",\n",
    "        \"female\", \"female\", \"male\", \"male\", \"female\"\n",
    "    )\n",
    ")\n",
    "heights"
   ]
  },
  {
   "cell_type": "code",
   "execution_count": 60,
   "metadata": {},
   "outputs": [
    {
     "data": {
      "text/html": [
       "'numeric'"
      ],
      "text/latex": [
       "'numeric'"
      ],
      "text/markdown": [
       "'numeric'"
      ],
      "text/plain": [
       "[1] \"numeric\""
      ]
     },
     "metadata": {},
     "output_type": "display_data"
    }
   ],
   "source": [
    "class(heights$height_cm)"
   ]
  },
  {
   "cell_type": "code",
   "execution_count": 61,
   "metadata": {},
   "outputs": [
    {
     "data": {
      "text/html": [
       "<ol class=list-inline>\n",
       "\t<li>'female'</li>\n",
       "\t<li>'male'</li>\n",
       "</ol>\n"
      ],
      "text/latex": [
       "\\begin{enumerate*}\n",
       "\\item 'female'\n",
       "\\item 'male'\n",
       "\\end{enumerate*}\n"
      ],
      "text/markdown": [
       "1. 'female'\n",
       "2. 'male'\n",
       "\n",
       "\n"
      ],
      "text/plain": [
       "[1] \"female\" \"male\"  "
      ]
     },
     "metadata": {},
     "output_type": "display_data"
    }
   ],
   "source": [
    "levels(heights$gender)"
   ]
  },
  {
   "cell_type": "code",
   "execution_count": 62,
   "metadata": {},
   "outputs": [
    {
     "data": {
      "text/html": [
       "2"
      ],
      "text/latex": [
       "2"
      ],
      "text/markdown": [
       "2"
      ],
      "text/plain": [
       "[1] 2"
      ]
     },
     "metadata": {},
     "output_type": "display_data"
    }
   ],
   "source": [
    "nlevels(heights$gender)"
   ]
  },
  {
   "cell_type": "code",
   "execution_count": 63,
   "metadata": {},
   "outputs": [
    {
     "data": {
      "text/html": [
       "'character'"
      ],
      "text/latex": [
       "'character'"
      ],
      "text/markdown": [
       "'character'"
      ],
      "text/plain": [
       "[1] \"character\""
      ]
     },
     "metadata": {},
     "output_type": "display_data"
    }
   ],
   "source": [
    "gender_char =c(\n",
    "    \"female\", \"male\", \"female\", \"male\", \"male\",\n",
    "    \"female\", \"female\", \"male\", \"male\", \"female\"\n",
    ")\n",
    "class(gender_char)"
   ]
  },
  {
   "cell_type": "code",
   "execution_count": 64,
   "metadata": {},
   "outputs": [
    {
     "data": {
      "text/html": [
       "'factor'"
      ],
      "text/latex": [
       "'factor'"
      ],
      "text/markdown": [
       "'factor'"
      ],
      "text/plain": [
       "[1] \"factor\""
      ]
     },
     "metadata": {},
     "output_type": "display_data"
    }
   ],
   "source": [
    "gender_factor = factor(gender_char)\n",
    "class(gender_factor)"
   ]
  },
  {
   "cell_type": "markdown",
   "metadata": {},
   "source": [
    "### 7.3.2 Change the level of factor"
   ]
  },
  {
   "cell_type": "code",
   "execution_count": 67,
   "metadata": {},
   "outputs": [
    {
     "data": {
      "text/html": [
       "<ol class=list-inline>\n",
       "\t<li>female</li>\n",
       "\t<li>male</li>\n",
       "\t<li>female</li>\n",
       "\t<li>male</li>\n",
       "\t<li>male</li>\n",
       "\t<li>female</li>\n",
       "\t<li>female</li>\n",
       "\t<li>male</li>\n",
       "\t<li>male</li>\n",
       "\t<li>female</li>\n",
       "</ol>\n",
       "\n",
       "<details>\n",
       "\t<summary style=display:list-item;cursor:pointer>\n",
       "\t\t<strong>Levels</strong>:\n",
       "\t</summary>\n",
       "\t<ol class=list-inline>\n",
       "\t\t<li>'male'</li>\n",
       "\t\t<li>'female'</li>\n",
       "\t</ol>\n",
       "</details>"
      ],
      "text/latex": [
       "\\begin{enumerate*}\n",
       "\\item female\n",
       "\\item male\n",
       "\\item female\n",
       "\\item male\n",
       "\\item male\n",
       "\\item female\n",
       "\\item female\n",
       "\\item male\n",
       "\\item male\n",
       "\\item female\n",
       "\\end{enumerate*}\n",
       "\n",
       "\\emph{Levels}: \\begin{enumerate*}\n",
       "\\item 'male'\n",
       "\\item 'female'\n",
       "\\end{enumerate*}\n"
      ],
      "text/markdown": [
       "1. female\n",
       "2. male\n",
       "3. female\n",
       "4. male\n",
       "5. male\n",
       "6. female\n",
       "7. female\n",
       "8. male\n",
       "9. male\n",
       "10. female\n",
       "\n",
       "\n",
       "\n",
       "**Levels**: 1. 'male'\n",
       "2. 'female'\n",
       "\n",
       "\n"
      ],
      "text/plain": [
       " [1] female male   female male   male   female female male   male   female\n",
       "Levels: male female"
      ]
     },
     "metadata": {},
     "output_type": "display_data"
    }
   ],
   "source": [
    "gender_fac = factor(gender_char, levels = c(\"male\", \"female\"))\n",
    "gender_fac"
   ]
  },
  {
   "cell_type": "code",
   "execution_count": 68,
   "metadata": {},
   "outputs": [
    {
     "data": {
      "text/html": [
       "<ol class=list-inline>\n",
       "\t<li>female</li>\n",
       "\t<li>male</li>\n",
       "\t<li>female</li>\n",
       "\t<li>male</li>\n",
       "\t<li>male</li>\n",
       "\t<li>female</li>\n",
       "\t<li>female</li>\n",
       "\t<li>male</li>\n",
       "\t<li>male</li>\n",
       "\t<li>female</li>\n",
       "</ol>\n",
       "\n",
       "<details>\n",
       "\t<summary style=display:list-item;cursor:pointer>\n",
       "\t\t<strong>Levels</strong>:\n",
       "\t</summary>\n",
       "\t<ol class=list-inline>\n",
       "\t\t<li>'female'</li>\n",
       "\t\t<li>'male'</li>\n",
       "\t</ol>\n",
       "</details>"
      ],
      "text/latex": [
       "\\begin{enumerate*}\n",
       "\\item female\n",
       "\\item male\n",
       "\\item female\n",
       "\\item male\n",
       "\\item male\n",
       "\\item female\n",
       "\\item female\n",
       "\\item male\n",
       "\\item male\n",
       "\\item female\n",
       "\\end{enumerate*}\n",
       "\n",
       "\\emph{Levels}: \\begin{enumerate*}\n",
       "\\item 'female'\n",
       "\\item 'male'\n",
       "\\end{enumerate*}\n"
      ],
      "text/markdown": [
       "1. female\n",
       "2. male\n",
       "3. female\n",
       "4. male\n",
       "5. male\n",
       "6. female\n",
       "7. female\n",
       "8. male\n",
       "9. male\n",
       "10. female\n",
       "\n",
       "\n",
       "\n",
       "**Levels**: 1. 'female'\n",
       "2. 'male'\n",
       "\n",
       "\n"
      ],
      "text/plain": [
       " [1] female male   female male   male   female female male   male   female\n",
       "Levels: female male"
      ]
     },
     "metadata": {},
     "output_type": "display_data"
    }
   ],
   "source": [
    "factor(gender_fac, levels = c(\"female\", \"male\"))"
   ]
  },
  {
   "cell_type": "code",
   "execution_count": 69,
   "metadata": {},
   "outputs": [
    {
     "data": {
      "text/html": [
       "<ol class=list-inline>\n",
       "\t<li>female</li>\n",
       "\t<li>male</li>\n",
       "\t<li>female</li>\n",
       "\t<li>male</li>\n",
       "\t<li>male</li>\n",
       "\t<li>female</li>\n",
       "\t<li>female</li>\n",
       "\t<li>male</li>\n",
       "\t<li>male</li>\n",
       "\t<li>female</li>\n",
       "</ol>\n",
       "\n",
       "<details>\n",
       "\t<summary style=display:list-item;cursor:pointer>\n",
       "\t\t<strong>Levels</strong>:\n",
       "\t</summary>\n",
       "\t<ol class=list-inline>\n",
       "\t\t<li>'male'</li>\n",
       "\t\t<li>'female'</li>\n",
       "\t</ol>\n",
       "</details>"
      ],
      "text/latex": [
       "\\begin{enumerate*}\n",
       "\\item female\n",
       "\\item male\n",
       "\\item female\n",
       "\\item male\n",
       "\\item male\n",
       "\\item female\n",
       "\\item female\n",
       "\\item male\n",
       "\\item male\n",
       "\\item female\n",
       "\\end{enumerate*}\n",
       "\n",
       "\\emph{Levels}: \\begin{enumerate*}\n",
       "\\item 'male'\n",
       "\\item 'female'\n",
       "\\end{enumerate*}\n"
      ],
      "text/markdown": [
       "1. female\n",
       "2. male\n",
       "3. female\n",
       "4. male\n",
       "5. male\n",
       "6. female\n",
       "7. female\n",
       "8. male\n",
       "9. male\n",
       "10. female\n",
       "\n",
       "\n",
       "\n",
       "**Levels**: 1. 'male'\n",
       "2. 'female'\n",
       "\n",
       "\n"
      ],
      "text/plain": [
       " [1] female male   female male   male   female female male   male   female\n",
       "Levels: male female"
      ]
     },
     "metadata": {},
     "output_type": "display_data"
    }
   ],
   "source": [
    "gender_fac"
   ]
  },
  {
   "cell_type": "code",
   "execution_count": 71,
   "metadata": {},
   "outputs": [
    {
     "data": {
      "text/html": [
       "<ol class=list-inline>\n",
       "\t<li>male</li>\n",
       "\t<li>female</li>\n",
       "\t<li>male</li>\n",
       "\t<li>female</li>\n",
       "\t<li>female</li>\n",
       "\t<li>male</li>\n",
       "\t<li>male</li>\n",
       "\t<li>female</li>\n",
       "\t<li>female</li>\n",
       "\t<li>male</li>\n",
       "</ol>\n",
       "\n",
       "<details>\n",
       "\t<summary style=display:list-item;cursor:pointer>\n",
       "\t\t<strong>Levels</strong>:\n",
       "\t</summary>\n",
       "\t<ol class=list-inline>\n",
       "\t\t<li>'female'</li>\n",
       "\t\t<li>'male'</li>\n",
       "\t</ol>\n",
       "</details>"
      ],
      "text/latex": [
       "\\begin{enumerate*}\n",
       "\\item male\n",
       "\\item female\n",
       "\\item male\n",
       "\\item female\n",
       "\\item female\n",
       "\\item male\n",
       "\\item male\n",
       "\\item female\n",
       "\\item female\n",
       "\\item male\n",
       "\\end{enumerate*}\n",
       "\n",
       "\\emph{Levels}: \\begin{enumerate*}\n",
       "\\item 'female'\n",
       "\\item 'male'\n",
       "\\end{enumerate*}\n"
      ],
      "text/markdown": [
       "1. male\n",
       "2. female\n",
       "3. male\n",
       "4. female\n",
       "5. female\n",
       "6. male\n",
       "7. male\n",
       "8. female\n",
       "9. female\n",
       "10. male\n",
       "\n",
       "\n",
       "\n",
       "**Levels**: 1. 'female'\n",
       "2. 'male'\n",
       "\n",
       "\n"
      ],
      "text/plain": [
       " [1] male   female male   female female male   male   female female male  \n",
       "Levels: female male"
      ]
     },
     "metadata": {},
     "output_type": "display_data"
    }
   ],
   "source": [
    "levels(gender_fac) <- c(\"female\", \"male\") ## which is wrong\n",
    "gender_fac"
   ]
  },
  {
   "cell_type": "code",
   "execution_count": 76,
   "metadata": {},
   "outputs": [
    {
     "data": {
      "text/html": [
       "<ol class=list-inline>\n",
       "\t<li>female</li>\n",
       "\t<li>male</li>\n",
       "\t<li>female</li>\n",
       "\t<li>male</li>\n",
       "\t<li>male</li>\n",
       "\t<li>female</li>\n",
       "\t<li>female</li>\n",
       "\t<li>male</li>\n",
       "\t<li>male</li>\n",
       "\t<li>female</li>\n",
       "</ol>\n",
       "\n",
       "<details>\n",
       "\t<summary style=display:list-item;cursor:pointer>\n",
       "\t\t<strong>Levels</strong>:\n",
       "\t</summary>\n",
       "\t<ol class=list-inline>\n",
       "\t\t<li>'female'</li>\n",
       "\t\t<li>'male'</li>\n",
       "\t</ol>\n",
       "</details>"
      ],
      "text/latex": [
       "\\begin{enumerate*}\n",
       "\\item female\n",
       "\\item male\n",
       "\\item female\n",
       "\\item male\n",
       "\\item male\n",
       "\\item female\n",
       "\\item female\n",
       "\\item male\n",
       "\\item male\n",
       "\\item female\n",
       "\\end{enumerate*}\n",
       "\n",
       "\\emph{Levels}: \\begin{enumerate*}\n",
       "\\item 'female'\n",
       "\\item 'male'\n",
       "\\end{enumerate*}\n"
      ],
      "text/markdown": [
       "1. female\n",
       "2. male\n",
       "3. female\n",
       "4. male\n",
       "5. male\n",
       "6. female\n",
       "7. female\n",
       "8. male\n",
       "9. male\n",
       "10. female\n",
       "\n",
       "\n",
       "\n",
       "**Levels**: 1. 'female'\n",
       "2. 'male'\n",
       "\n",
       "\n"
      ],
      "text/plain": [
       " [1] female male   female male   male   female female male   male   female\n",
       "Levels: female male"
      ]
     },
     "metadata": {},
     "output_type": "display_data"
    }
   ],
   "source": [
    "relevel(gender_factor, \"female\")"
   ]
  },
  {
   "cell_type": "markdown",
   "metadata": {},
   "source": [
    "### 7.3.3 drop levels"
   ]
  },
  {
   "cell_type": "code",
   "execution_count": 77,
   "metadata": {},
   "outputs": [
    {
     "data": {
      "text/html": [
       "<table>\n",
       "<thead><tr><th scope=col>mode</th><th scope=col>time_mins</th></tr></thead>\n",
       "<tbody>\n",
       "\t<tr><td>bike</td><td>25  </td></tr>\n",
       "\t<tr><td>car </td><td>13  </td></tr>\n",
       "\t<tr><td>bus </td><td>NA  </td></tr>\n",
       "\t<tr><td>car </td><td>22  </td></tr>\n",
       "\t<tr><td>walk</td><td>65  </td></tr>\n",
       "\t<tr><td>bike</td><td>28  </td></tr>\n",
       "\t<tr><td>car </td><td>15  </td></tr>\n",
       "\t<tr><td>bike</td><td>24  </td></tr>\n",
       "\t<tr><td>car </td><td>NA  </td></tr>\n",
       "\t<tr><td>car </td><td>14  </td></tr>\n",
       "</tbody>\n",
       "</table>\n"
      ],
      "text/latex": [
       "\\begin{tabular}{r|ll}\n",
       " mode & time\\_mins\\\\\n",
       "\\hline\n",
       "\t bike & 25  \\\\\n",
       "\t car  & 13  \\\\\n",
       "\t bus  & NA  \\\\\n",
       "\t car  & 22  \\\\\n",
       "\t walk & 65  \\\\\n",
       "\t bike & 28  \\\\\n",
       "\t car  & 15  \\\\\n",
       "\t bike & 24  \\\\\n",
       "\t car  & NA  \\\\\n",
       "\t car  & 14  \\\\\n",
       "\\end{tabular}\n"
      ],
      "text/markdown": [
       "\n",
       "| mode | time_mins |\n",
       "|---|---|\n",
       "| bike | 25   |\n",
       "| car  | 13   |\n",
       "| bus  | NA   |\n",
       "| car  | 22   |\n",
       "| walk | 65   |\n",
       "| bike | 28   |\n",
       "| car  | 15   |\n",
       "| bike | 24   |\n",
       "| car  | NA   |\n",
       "| car  | 14   |\n",
       "\n"
      ],
      "text/plain": [
       "   mode time_mins\n",
       "1  bike 25       \n",
       "2  car  13       \n",
       "3  bus  NA       \n",
       "4  car  22       \n",
       "5  walk 65       \n",
       "6  bike 28       \n",
       "7  car  15       \n",
       "8  bike 24       \n",
       "9  car  NA       \n",
       "10 car  14       "
      ]
     },
     "metadata": {},
     "output_type": "display_data"
    }
   ],
   "source": [
    "getting_to_work <- data.frame(\n",
    "    mode = c(\n",
    "        \"bike\", \"car\", \"bus\", \"car\", \"walk\",\n",
    "        \"bike\", \"car\", \"bike\", \"car\", \"car\"\n",
    "    ),\n",
    "    time_mins = c(25, 13, NA, 22, 65, 28, 15, 24, NA, 14)\n",
    ")\n",
    "getting_to_work"
   ]
  },
  {
   "cell_type": "code",
   "execution_count": 78,
   "metadata": {},
   "outputs": [
    {
     "data": {
      "text/html": [
       "'factor'"
      ],
      "text/latex": [
       "'factor'"
      ],
      "text/markdown": [
       "'factor'"
      ],
      "text/plain": [
       "[1] \"factor\""
      ]
     },
     "metadata": {},
     "output_type": "display_data"
    }
   ],
   "source": [
    "class(getting_to_work$mode)"
   ]
  },
  {
   "cell_type": "code",
   "execution_count": 79,
   "metadata": {},
   "outputs": [
    {
     "data": {
      "text/html": [
       "<table>\n",
       "<thead><tr><th></th><th scope=col>mode</th><th scope=col>time_mins</th></tr></thead>\n",
       "<tbody>\n",
       "\t<tr><th scope=row>1</th><td>bike</td><td>25  </td></tr>\n",
       "\t<tr><th scope=row>2</th><td>car </td><td>13  </td></tr>\n",
       "\t<tr><th scope=row>4</th><td>car </td><td>22  </td></tr>\n",
       "\t<tr><th scope=row>5</th><td>walk</td><td>65  </td></tr>\n",
       "\t<tr><th scope=row>6</th><td>bike</td><td>28  </td></tr>\n",
       "\t<tr><th scope=row>7</th><td>car </td><td>15  </td></tr>\n",
       "\t<tr><th scope=row>8</th><td>bike</td><td>24  </td></tr>\n",
       "\t<tr><th scope=row>10</th><td>car </td><td>14  </td></tr>\n",
       "</tbody>\n",
       "</table>\n"
      ],
      "text/latex": [
       "\\begin{tabular}{r|ll}\n",
       "  & mode & time\\_mins\\\\\n",
       "\\hline\n",
       "\t1 & bike & 25  \\\\\n",
       "\t2 & car  & 13  \\\\\n",
       "\t4 & car  & 22  \\\\\n",
       "\t5 & walk & 65  \\\\\n",
       "\t6 & bike & 28  \\\\\n",
       "\t7 & car  & 15  \\\\\n",
       "\t8 & bike & 24  \\\\\n",
       "\t10 & car  & 14  \\\\\n",
       "\\end{tabular}\n"
      ],
      "text/markdown": [
       "\n",
       "| <!--/--> | mode | time_mins |\n",
       "|---|---|---|\n",
       "| 1 | bike | 25   |\n",
       "| 2 | car  | 13   |\n",
       "| 4 | car  | 22   |\n",
       "| 5 | walk | 65   |\n",
       "| 6 | bike | 28   |\n",
       "| 7 | car  | 15   |\n",
       "| 8 | bike | 24   |\n",
       "| 10 | car  | 14   |\n",
       "\n"
      ],
      "text/plain": [
       "   mode time_mins\n",
       "1  bike 25       \n",
       "2  car  13       \n",
       "4  car  22       \n",
       "5  walk 65       \n",
       "6  bike 28       \n",
       "7  car  15       \n",
       "8  bike 24       \n",
       "10 car  14       "
      ]
     },
     "metadata": {},
     "output_type": "display_data"
    }
   ],
   "source": [
    "(getting_to_work <- subset(getting_to_work, !is.na(time_mins)))"
   ]
  },
  {
   "cell_type": "code",
   "execution_count": 80,
   "metadata": {},
   "outputs": [
    {
     "data": {
      "text/html": [
       "<ol class=list-inline>\n",
       "\t<li>'bike'</li>\n",
       "\t<li>'bus'</li>\n",
       "\t<li>'car'</li>\n",
       "\t<li>'walk'</li>\n",
       "</ol>\n"
      ],
      "text/latex": [
       "\\begin{enumerate*}\n",
       "\\item 'bike'\n",
       "\\item 'bus'\n",
       "\\item 'car'\n",
       "\\item 'walk'\n",
       "\\end{enumerate*}\n"
      ],
      "text/markdown": [
       "1. 'bike'\n",
       "2. 'bus'\n",
       "3. 'car'\n",
       "4. 'walk'\n",
       "\n",
       "\n"
      ],
      "text/plain": [
       "[1] \"bike\" \"bus\"  \"car\"  \"walk\""
      ]
     },
     "metadata": {},
     "output_type": "display_data"
    }
   ],
   "source": [
    "levels(getting_to_work$mode)"
   ]
  },
  {
   "cell_type": "code",
   "execution_count": 81,
   "metadata": {},
   "outputs": [
    {
     "data": {
      "text/html": [
       "<ol class=list-inline>\n",
       "\t<li>bike</li>\n",
       "\t<li>car</li>\n",
       "\t<li>walk</li>\n",
       "</ol>\n",
       "\n",
       "<details>\n",
       "\t<summary style=display:list-item;cursor:pointer>\n",
       "\t\t<strong>Levels</strong>:\n",
       "\t</summary>\n",
       "\t<ol class=list-inline>\n",
       "\t\t<li>'bike'</li>\n",
       "\t\t<li>'bus'</li>\n",
       "\t\t<li>'car'</li>\n",
       "\t\t<li>'walk'</li>\n",
       "\t</ol>\n",
       "</details>"
      ],
      "text/latex": [
       "\\begin{enumerate*}\n",
       "\\item bike\n",
       "\\item car\n",
       "\\item walk\n",
       "\\end{enumerate*}\n",
       "\n",
       "\\emph{Levels}: \\begin{enumerate*}\n",
       "\\item 'bike'\n",
       "\\item 'bus'\n",
       "\\item 'car'\n",
       "\\item 'walk'\n",
       "\\end{enumerate*}\n"
      ],
      "text/markdown": [
       "1. bike\n",
       "2. car\n",
       "3. walk\n",
       "\n",
       "\n",
       "\n",
       "**Levels**: 1. 'bike'\n",
       "2. 'bus'\n",
       "3. 'car'\n",
       "4. 'walk'\n",
       "\n",
       "\n"
      ],
      "text/plain": [
       "[1] bike car  walk\n",
       "Levels: bike bus car walk"
      ]
     },
     "metadata": {},
     "output_type": "display_data"
    }
   ],
   "source": [
    "unique(getting_to_work$mode)"
   ]
  },
  {
   "cell_type": "code",
   "execution_count": 82,
   "metadata": {},
   "outputs": [
    {
     "name": "stdout",
     "output_type": "stream",
     "text": [
      "[1] \"bike\" \"car\"  \"walk\"\n",
      "[1] \"bike\" \"car\"  \"walk\"\n"
     ]
    }
   ],
   "source": [
    "getting_to_work$mode = droplevels(getting_to_work$mode)\n",
    "print(levels(getting_to_work$mode))\n",
    "getting_to_work = droplevels(getting_to_work)\n",
    "print(levels(getting_to_work$mode))\n"
   ]
  },
  {
   "cell_type": "markdown",
   "metadata": {},
   "source": [
    "### 7.3.4 Order factor"
   ]
  },
  {
   "cell_type": "code",
   "execution_count": 83,
   "metadata": {},
   "outputs": [
    {
     "data": {
      "text/html": [
       "<ol class=list-inline>\n",
       "\t<li>so-so</li>\n",
       "\t<li>cheery</li>\n",
       "\t<li>depressed</li>\n",
       "\t<li>ecstatic</li>\n",
       "\t<li>grumpy</li>\n",
       "\t<li>depressed</li>\n",
       "</ol>\n",
       "\n",
       "<details>\n",
       "\t<summary style=display:list-item;cursor:pointer>\n",
       "\t\t<strong>Levels</strong>:\n",
       "\t</summary>\n",
       "\t<ol class=list-inline>\n",
       "\t\t<li>'depressed'</li>\n",
       "\t\t<li>'grumpy'</li>\n",
       "\t\t<li>'so-so'</li>\n",
       "\t\t<li>'cheery'</li>\n",
       "\t\t<li>'ecstatic'</li>\n",
       "\t</ol>\n",
       "</details>"
      ],
      "text/latex": [
       "\\begin{enumerate*}\n",
       "\\item so-so\n",
       "\\item cheery\n",
       "\\item depressed\n",
       "\\item ecstatic\n",
       "\\item grumpy\n",
       "\\item depressed\n",
       "\\end{enumerate*}\n",
       "\n",
       "\\emph{Levels}: \\begin{enumerate*}\n",
       "\\item 'depressed'\n",
       "\\item 'grumpy'\n",
       "\\item 'so-so'\n",
       "\\item 'cheery'\n",
       "\\item 'ecstatic'\n",
       "\\end{enumerate*}\n"
      ],
      "text/markdown": [
       "1. so-so\n",
       "2. cheery\n",
       "3. depressed\n",
       "4. ecstatic\n",
       "5. grumpy\n",
       "6. depressed\n",
       "\n",
       "\n",
       "\n",
       "**Levels**: 1. 'depressed'\n",
       "2. 'grumpy'\n",
       "3. 'so-so'\n",
       "4. 'cheery'\n",
       "5. 'ecstatic'\n",
       "\n",
       "\n"
      ],
      "text/plain": [
       "[1] so-so     cheery    depressed ecstatic  grumpy    depressed\n",
       "Levels: depressed grumpy so-so cheery ecstatic"
      ]
     },
     "metadata": {},
     "output_type": "display_data"
    }
   ],
   "source": [
    "happy_choices <- c(\"depressed\", \"grumpy\", \"so-so\", \"cheery\", \"ecstatic\")\n",
    "happy_values  <- sample(happy_choices, 10000, replace = TRUE)\n",
    "happy_factor  <- factor(happy_values, levels = happy_choices)\n",
    "head(happy_factor)"
   ]
  },
  {
   "cell_type": "code",
   "execution_count": 89,
   "metadata": {},
   "outputs": [
    {
     "data": {
      "text/html": [
       "<ol class=list-inline>\n",
       "\t<li>so-so</li>\n",
       "\t<li>cheery</li>\n",
       "\t<li>depressed</li>\n",
       "\t<li>ecstatic</li>\n",
       "\t<li>grumpy</li>\n",
       "\t<li>depressed</li>\n",
       "</ol>\n",
       "\n",
       "<details>\n",
       "\t<summary style=display:list-item;cursor:pointer>\n",
       "\t\t<strong>Levels</strong>:\n",
       "\t</summary>\n",
       "\t<ol class=list-inline>\n",
       "\t\t<li>'depressed'</li>\n",
       "\t\t<li>'grumpy'</li>\n",
       "\t\t<li>'so-so'</li>\n",
       "\t\t<li>'cheery'</li>\n",
       "\t\t<li>'ecstatic'</li>\n",
       "\t</ol>\n",
       "</details>"
      ],
      "text/latex": [
       "\\begin{enumerate*}\n",
       "\\item so-so\n",
       "\\item cheery\n",
       "\\item depressed\n",
       "\\item ecstatic\n",
       "\\item grumpy\n",
       "\\item depressed\n",
       "\\end{enumerate*}\n",
       "\n",
       "\\emph{Levels}: \\begin{enumerate*}\n",
       "\\item 'depressed'\n",
       "\\item 'grumpy'\n",
       "\\item 'so-so'\n",
       "\\item 'cheery'\n",
       "\\item 'ecstatic'\n",
       "\\end{enumerate*}\n"
      ],
      "text/markdown": [
       "1. so-so\n",
       "2. cheery\n",
       "3. depressed\n",
       "4. ecstatic\n",
       "5. grumpy\n",
       "6. depressed\n",
       "\n",
       "\n",
       "\n",
       "**Levels**: 1. 'depressed'\n",
       "2. 'grumpy'\n",
       "3. 'so-so'\n",
       "4. 'cheery'\n",
       "5. 'ecstatic'\n",
       "\n",
       "\n"
      ],
      "text/plain": [
       "[1] so-so     cheery    depressed ecstatic  grumpy    depressed\n",
       "Levels: depressed < grumpy < so-so < cheery < ecstatic"
      ]
     },
     "metadata": {},
     "output_type": "display_data"
    }
   ],
   "source": [
    "happy_ord = ordered(happy_values, levels = happy_choices)\n",
    "head(happy_ord)"
   ]
  },
  {
   "cell_type": "code",
   "execution_count": 90,
   "metadata": {},
   "outputs": [
    {
     "data": {
      "text/html": [
       "TRUE"
      ],
      "text/latex": [
       "TRUE"
      ],
      "text/markdown": [
       "TRUE"
      ],
      "text/plain": [
       "[1] TRUE"
      ]
     },
     "metadata": {},
     "output_type": "display_data"
    }
   ],
   "source": [
    "is.factor(happy_ord)"
   ]
  },
  {
   "cell_type": "code",
   "execution_count": 91,
   "metadata": {},
   "outputs": [
    {
     "data": {
      "text/html": [
       "FALSE"
      ],
      "text/latex": [
       "FALSE"
      ],
      "text/markdown": [
       "FALSE"
      ],
      "text/plain": [
       "[1] FALSE"
      ]
     },
     "metadata": {},
     "output_type": "display_data"
    }
   ],
   "source": [
    "is.ordered(happy_factor)"
   ]
  },
  {
   "cell_type": "markdown",
   "metadata": {},
   "source": [
    "### 7.3.5 Change the continuous value to class\n",
    "一个汇总数值变量的方法是计算有多少个值落入不同的“组”(bins)中，cut 函数能将数值变量切成不同的块，然后返回一个因子"
   ]
  },
  {
   "cell_type": "code",
   "execution_count": 93,
   "metadata": {},
   "outputs": [
    {
     "data": {
      "text/html": [
       "<ol class=list-inline>\n",
       "\t<li>(26,36]</li>\n",
       "\t<li>(16,26]</li>\n",
       "\t<li>(26,36]</li>\n",
       "\t<li>(36,46]</li>\n",
       "\t<li>(36,46]</li>\n",
       "\t<li>(46,56]</li>\n",
       "</ol>\n",
       "\n",
       "<details>\n",
       "\t<summary style=display:list-item;cursor:pointer>\n",
       "\t\t<strong>Levels</strong>:\n",
       "\t</summary>\n",
       "\t<ol class=list-inline>\n",
       "\t\t<li>'(16,26]'</li>\n",
       "\t\t<li>'(26,36]'</li>\n",
       "\t\t<li>'(36,46]'</li>\n",
       "\t\t<li>'(46,56]'</li>\n",
       "\t\t<li>'(56,66]'</li>\n",
       "\t</ol>\n",
       "</details>"
      ],
      "text/latex": [
       "\\begin{enumerate*}\n",
       "\\item (26,36{]}\n",
       "\\item (16,26{]}\n",
       "\\item (26,36{]}\n",
       "\\item (36,46{]}\n",
       "\\item (36,46{]}\n",
       "\\item (46,56{]}\n",
       "\\end{enumerate*}\n",
       "\n",
       "\\emph{Levels}: \\begin{enumerate*}\n",
       "\\item '(16,26{]}'\n",
       "\\item '(26,36{]}'\n",
       "\\item '(36,46{]}'\n",
       "\\item '(46,56{]}'\n",
       "\\item '(56,66{]}'\n",
       "\\end{enumerate*}\n"
      ],
      "text/markdown": [
       "1. (26,36]\n",
       "2. (16,26]\n",
       "3. (26,36]\n",
       "4. (36,46]\n",
       "5. (36,46]\n",
       "6. (46,56]\n",
       "\n",
       "\n",
       "\n",
       "**Levels**: 1. '(16,26]'\n",
       "2. '(26,36]'\n",
       "3. '(36,46]'\n",
       "4. '(46,56]'\n",
       "5. '(56,66]'\n",
       "\n",
       "\n"
      ],
      "text/plain": [
       "[1] (26,36] (16,26] (26,36] (36,46] (36,46] (46,56]\n",
       "Levels: (16,26] (26,36] (36,46] (46,56] (56,66]"
      ]
     },
     "metadata": {},
     "output_type": "display_data"
    }
   ],
   "source": [
    "ages <- 16 + 50 * rbeta(10000, 2, 3)\n",
    "grouped_ages <- cut(ages, seq.int(16, 66, 10))  ## cut return factor\n",
    "head(grouped_ages)"
   ]
  },
  {
   "cell_type": "code",
   "execution_count": 94,
   "metadata": {},
   "outputs": [
    {
     "data": {
      "text/plain": [
       "grouped_ages\n",
       "(16,26] (26,36] (36,46] (46,56] (56,66] \n",
       "   1751    3486    2961    1542     260 "
      ]
     },
     "metadata": {},
     "output_type": "display_data"
    }
   ],
   "source": [
    "table(grouped_ages)"
   ]
  },
  {
   "cell_type": "code",
   "execution_count": 97,
   "metadata": {},
   "outputs": [
    {
     "data": {
      "image/png": "[encoded data removed]",
      "text/plain": [
       "Plot with title “Histogram of ages”"
      ]
     },
     "metadata": {},
     "output_type": "display_data"
    }
   ],
   "source": [
    "hist(ages, breaks = seq.int(16, 66, 10))"
   ]
  },
  {
   "cell_type": "markdown",
   "metadata": {},
   "source": [
    "### 7.3.6 Change the class to continuous value"
   ]
  },
  {
   "cell_type": "code",
   "execution_count": 98,
   "metadata": {},
   "outputs": [
    {
     "data": {
      "text/html": [
       "<table>\n",
       "<thead><tr><th scope=col>x</th></tr></thead>\n",
       "<tbody>\n",
       "\t<tr><td>1.23 </td></tr>\n",
       "\t<tr><td>4..56</td></tr>\n",
       "\t<tr><td>7.89 </td></tr>\n",
       "</tbody>\n",
       "</table>\n"
      ],
      "text/latex": [
       "\\begin{tabular}{r|l}\n",
       " x\\\\\n",
       "\\hline\n",
       "\t 1.23 \\\\\n",
       "\t 4..56\\\\\n",
       "\t 7.89 \\\\\n",
       "\\end{tabular}\n"
      ],
      "text/markdown": [
       "\n",
       "| x |\n",
       "|---|\n",
       "| 1.23  |\n",
       "| 4..56 |\n",
       "| 7.89  |\n",
       "\n"
      ],
      "text/plain": [
       "  x    \n",
       "1 1.23 \n",
       "2 4..56\n",
       "3 7.89 "
      ]
     },
     "metadata": {},
     "output_type": "display_data"
    }
   ],
   "source": [
    "dirty <- data.frame(\n",
    "    x = c(\"1.23\", \"4..56\", \"7.89\")\n",
    ")\n",
    "dirty"
   ]
  },
  {
   "cell_type": "code",
   "execution_count": 99,
   "metadata": {},
   "outputs": [
    {
     "data": {
      "text/html": [
       "'factor'"
      ],
      "text/latex": [
       "'factor'"
      ],
      "text/markdown": [
       "'factor'"
      ],
      "text/plain": [
       "[1] \"factor\""
      ]
     },
     "metadata": {},
     "output_type": "display_data"
    }
   ],
   "source": [
    "class(dirty$x)"
   ]
  },
  {
   "cell_type": "code",
   "execution_count": 100,
   "metadata": {},
   "outputs": [
    {
     "data": {
      "text/html": [
       "<ol class=list-inline>\n",
       "\t<li>1</li>\n",
       "\t<li>2</li>\n",
       "\t<li>3</li>\n",
       "</ol>\n"
      ],
      "text/latex": [
       "\\begin{enumerate*}\n",
       "\\item 1\n",
       "\\item 2\n",
       "\\item 3\n",
       "\\end{enumerate*}\n"
      ],
      "text/markdown": [
       "1. 1\n",
       "2. 2\n",
       "3. 3\n",
       "\n",
       "\n"
      ],
      "text/plain": [
       "[1] 1 2 3"
      ]
     },
     "metadata": {},
     "output_type": "display_data"
    }
   ],
   "source": [
    "as.numeric(dirty$x)"
   ]
  },
  {
   "cell_type": "code",
   "execution_count": 101,
   "metadata": {},
   "outputs": [
    {
     "name": "stderr",
     "output_type": "stream",
     "text": [
      "Warning message in eval(expr, envir, enclos):\n",
      "“NAs introduced by coercion”"
     ]
    },
    {
     "data": {
      "text/html": [
       "<ol class=list-inline>\n",
       "\t<li>1.23</li>\n",
       "\t<li>&lt;NA&gt;</li>\n",
       "\t<li>7.89</li>\n",
       "</ol>\n"
      ],
      "text/latex": [
       "\\begin{enumerate*}\n",
       "\\item 1.23\n",
       "\\item <NA>\n",
       "\\item 7.89\n",
       "\\end{enumerate*}\n"
      ],
      "text/markdown": [
       "1. 1.23\n",
       "2. &lt;NA&gt;\n",
       "3. 7.89\n",
       "\n",
       "\n"
      ],
      "text/plain": [
       "[1] 1.23   NA 7.89"
      ]
     },
     "metadata": {},
     "output_type": "display_data"
    }
   ],
   "source": [
    "as.numeric(as.character(dirty$x))"
   ]
  },
  {
   "cell_type": "code",
   "execution_count": 103,
   "metadata": {},
   "outputs": [
    {
     "name": "stderr",
     "output_type": "stream",
     "text": [
      "Warning message in eval(expr, envir, enclos):\n",
      "“NAs introduced by coercion”"
     ]
    },
    {
     "data": {
      "text/html": [
       "<ol class=list-inline>\n",
       "\t<li>1.23</li>\n",
       "\t<li>&lt;NA&gt;</li>\n",
       "\t<li>7.89</li>\n",
       "</ol>\n"
      ],
      "text/latex": [
       "\\begin{enumerate*}\n",
       "\\item 1.23\n",
       "\\item <NA>\n",
       "\\item 7.89\n",
       "\\end{enumerate*}\n"
      ],
      "text/markdown": [
       "1. 1.23\n",
       "2. &lt;NA&gt;\n",
       "3. 7.89\n",
       "\n",
       "\n"
      ],
      "text/plain": [
       "[1] 1.23   NA 7.89"
      ]
     },
     "metadata": {},
     "output_type": "display_data"
    }
   ],
   "source": [
    "as.numeric(levels(dirty$x))[as.integer(dirty$x)]"
   ]
  },
  {
   "cell_type": "code",
   "execution_count": 104,
   "metadata": {},
   "outputs": [
    {
     "name": "stderr",
     "output_type": "stream",
     "text": [
      "Warning message in factor_to_numeric(dirty$x):\n",
      "“NAs introduced by coercion”"
     ]
    },
    {
     "data": {
      "text/html": [
       "<ol class=list-inline>\n",
       "\t<li>1.23</li>\n",
       "\t<li>&lt;NA&gt;</li>\n",
       "\t<li>7.89</li>\n",
       "</ol>\n"
      ],
      "text/latex": [
       "\\begin{enumerate*}\n",
       "\\item 1.23\n",
       "\\item <NA>\n",
       "\\item 7.89\n",
       "\\end{enumerate*}\n"
      ],
      "text/markdown": [
       "1. 1.23\n",
       "2. &lt;NA&gt;\n",
       "3. 7.89\n",
       "\n",
       "\n"
      ],
      "text/plain": [
       "[1] 1.23   NA 7.89"
      ]
     },
     "metadata": {},
     "output_type": "display_data"
    }
   ],
   "source": [
    "factor_to_numeric  <- function(f) {\n",
    "    as.numeric(levels(f))[as.integer(f)]\n",
    "}\n",
    "factor_to_numeric(dirty$x)"
   ]
  },
  {
   "cell_type": "markdown",
   "metadata": {},
   "source": [
    "### 7.3.7 Generate levels\n",
    "为了平衡数据，使到在每个水平上的数据点的数目相等，可用 gl 函数来生成因子。它最 简单的形式是:第一个整型参数为要生成的因子的水平数，第二个为每个水平需要重复的 次数。通常你想为每个水平命名，这可以通过给 label 参数传入一个字符向量来实现。你 还可以通过传入 length 参数以创建更复杂的水平排序，例如交替值(alternating value):\n"
   ]
  },
  {
   "cell_type": "code",
   "execution_count": 106,
   "metadata": {},
   "outputs": [
    {
     "data": {
      "text/html": [
       "<ol class=list-inline>\n",
       "\t<li>1</li>\n",
       "\t<li>1</li>\n",
       "\t<li>2</li>\n",
       "\t<li>2</li>\n",
       "\t<li>3</li>\n",
       "\t<li>3</li>\n",
       "</ol>\n",
       "\n",
       "<details>\n",
       "\t<summary style=display:list-item;cursor:pointer>\n",
       "\t\t<strong>Levels</strong>:\n",
       "\t</summary>\n",
       "\t<ol class=list-inline>\n",
       "\t\t<li>'1'</li>\n",
       "\t\t<li>'2'</li>\n",
       "\t\t<li>'3'</li>\n",
       "\t</ol>\n",
       "</details>"
      ],
      "text/latex": [
       "\\begin{enumerate*}\n",
       "\\item 1\n",
       "\\item 1\n",
       "\\item 2\n",
       "\\item 2\n",
       "\\item 3\n",
       "\\item 3\n",
       "\\end{enumerate*}\n",
       "\n",
       "\\emph{Levels}: \\begin{enumerate*}\n",
       "\\item '1'\n",
       "\\item '2'\n",
       "\\item '3'\n",
       "\\end{enumerate*}\n"
      ],
      "text/markdown": [
       "1. 1\n",
       "2. 1\n",
       "3. 2\n",
       "4. 2\n",
       "5. 3\n",
       "6. 3\n",
       "\n",
       "\n",
       "\n",
       "**Levels**: 1. '1'\n",
       "2. '2'\n",
       "3. '3'\n",
       "\n",
       "\n"
      ],
      "text/plain": [
       "[1] 1 1 2 2 3 3\n",
       "Levels: 1 2 3"
      ]
     },
     "metadata": {},
     "output_type": "display_data"
    }
   ],
   "source": [
    "gl(3,2)"
   ]
  },
  {
   "cell_type": "code",
   "execution_count": 107,
   "metadata": {},
   "outputs": [
    {
     "data": {
      "text/html": [
       "<ol class=list-inline>\n",
       "\t<li>placebo</li>\n",
       "\t<li>placebo</li>\n",
       "\t<li>drug A</li>\n",
       "\t<li>drug A</li>\n",
       "\t<li>drug B</li>\n",
       "\t<li>drug B</li>\n",
       "</ol>\n",
       "\n",
       "<details>\n",
       "\t<summary style=display:list-item;cursor:pointer>\n",
       "\t\t<strong>Levels</strong>:\n",
       "\t</summary>\n",
       "\t<ol class=list-inline>\n",
       "\t\t<li>'placebo'</li>\n",
       "\t\t<li>'drug A'</li>\n",
       "\t\t<li>'drug B'</li>\n",
       "\t</ol>\n",
       "</details>"
      ],
      "text/latex": [
       "\\begin{enumerate*}\n",
       "\\item placebo\n",
       "\\item placebo\n",
       "\\item drug A\n",
       "\\item drug A\n",
       "\\item drug B\n",
       "\\item drug B\n",
       "\\end{enumerate*}\n",
       "\n",
       "\\emph{Levels}: \\begin{enumerate*}\n",
       "\\item 'placebo'\n",
       "\\item 'drug A'\n",
       "\\item 'drug B'\n",
       "\\end{enumerate*}\n"
      ],
      "text/markdown": [
       "1. placebo\n",
       "2. placebo\n",
       "3. drug A\n",
       "4. drug A\n",
       "5. drug B\n",
       "6. drug B\n",
       "\n",
       "\n",
       "\n",
       "**Levels**: 1. 'placebo'\n",
       "2. 'drug A'\n",
       "3. 'drug B'\n",
       "\n",
       "\n"
      ],
      "text/plain": [
       "[1] placebo placebo drug A  drug A  drug B  drug B \n",
       "Levels: placebo drug A drug B"
      ]
     },
     "metadata": {},
     "output_type": "display_data"
    }
   ],
   "source": [
    "gl(3, 2, labels = c(\"placebo\", \"drug A\", \"drug B\"))"
   ]
  },
  {
   "cell_type": "code",
   "execution_count": 108,
   "metadata": {},
   "outputs": [
    {
     "data": {
      "text/html": [
       "<ol class=list-inline>\n",
       "\t<li>placebo</li>\n",
       "\t<li>drug A</li>\n",
       "\t<li>drug B</li>\n",
       "\t<li>placebo</li>\n",
       "\t<li>drug A</li>\n",
       "\t<li>drug B</li>\n",
       "</ol>\n",
       "\n",
       "<details>\n",
       "\t<summary style=display:list-item;cursor:pointer>\n",
       "\t\t<strong>Levels</strong>:\n",
       "\t</summary>\n",
       "\t<ol class=list-inline>\n",
       "\t\t<li>'placebo'</li>\n",
       "\t\t<li>'drug A'</li>\n",
       "\t\t<li>'drug B'</li>\n",
       "\t</ol>\n",
       "</details>"
      ],
      "text/latex": [
       "\\begin{enumerate*}\n",
       "\\item placebo\n",
       "\\item drug A\n",
       "\\item drug B\n",
       "\\item placebo\n",
       "\\item drug A\n",
       "\\item drug B\n",
       "\\end{enumerate*}\n",
       "\n",
       "\\emph{Levels}: \\begin{enumerate*}\n",
       "\\item 'placebo'\n",
       "\\item 'drug A'\n",
       "\\item 'drug B'\n",
       "\\end{enumerate*}\n"
      ],
      "text/markdown": [
       "1. placebo\n",
       "2. drug A\n",
       "3. drug B\n",
       "4. placebo\n",
       "5. drug A\n",
       "6. drug B\n",
       "\n",
       "\n",
       "\n",
       "**Levels**: 1. 'placebo'\n",
       "2. 'drug A'\n",
       "3. 'drug B'\n",
       "\n",
       "\n"
      ],
      "text/plain": [
       "[1] placebo drug A  drug B  placebo drug A  drug B \n",
       "Levels: placebo drug A drug B"
      ]
     },
     "metadata": {},
     "output_type": "display_data"
    }
   ],
   "source": [
    "gl(3, 1, 6, labels = c(\"placebo\", \"drug A\", \"drug B\"))"
   ]
  },
  {
   "cell_type": "markdown",
   "metadata": {},
   "source": [
    "### 7.3.8 Concate levels\n",
    "如果我们有多个类别变量，有时把它们合并成一个单一的因子是有用的，其中每个水平由各个变量之间的交叉合并(使用 interaction 函数)组成:"
   ]
  },
  {
   "cell_type": "code",
   "execution_count": 110,
   "metadata": {
    "scrolled": true
   },
   "outputs": [
    {
     "data": {
      "text/html": [
       "<ol class=list-inline>\n",
       "\t<li>placebo.female</li>\n",
       "\t<li>placebo.male</li>\n",
       "\t<li>drug A.female</li>\n",
       "\t<li>drug A.male</li>\n",
       "\t<li>drug B.female</li>\n",
       "\t<li>drug B.male</li>\n",
       "</ol>\n",
       "\n",
       "<details>\n",
       "\t<summary style=display:list-item;cursor:pointer>\n",
       "\t\t<strong>Levels</strong>:\n",
       "\t</summary>\n",
       "\t<ol class=list-inline>\n",
       "\t\t<li>'placebo.female'</li>\n",
       "\t\t<li>'drug A.female'</li>\n",
       "\t\t<li>'drug B.female'</li>\n",
       "\t\t<li>'placebo.male'</li>\n",
       "\t\t<li>'drug A.male'</li>\n",
       "\t\t<li>'drug B.male'</li>\n",
       "\t</ol>\n",
       "</details>"
      ],
      "text/latex": [
       "\\begin{enumerate*}\n",
       "\\item placebo.female\n",
       "\\item placebo.male\n",
       "\\item drug A.female\n",
       "\\item drug A.male\n",
       "\\item drug B.female\n",
       "\\item drug B.male\n",
       "\\end{enumerate*}\n",
       "\n",
       "\\emph{Levels}: \\begin{enumerate*}\n",
       "\\item 'placebo.female'\n",
       "\\item 'drug A.female'\n",
       "\\item 'drug B.female'\n",
       "\\item 'placebo.male'\n",
       "\\item 'drug A.male'\n",
       "\\item 'drug B.male'\n",
       "\\end{enumerate*}\n"
      ],
      "text/markdown": [
       "1. placebo.female\n",
       "2. placebo.male\n",
       "3. drug A.female\n",
       "4. drug A.male\n",
       "5. drug B.female\n",
       "6. drug B.male\n",
       "\n",
       "\n",
       "\n",
       "**Levels**: 1. 'placebo.female'\n",
       "2. 'drug A.female'\n",
       "3. 'drug B.female'\n",
       "4. 'placebo.male'\n",
       "5. 'drug A.male'\n",
       "6. 'drug B.male'\n",
       "\n",
       "\n"
      ],
      "text/plain": [
       "[1] placebo.female placebo.male   drug A.female  drug A.male    drug B.female \n",
       "[6] drug B.male   \n",
       "6 Levels: placebo.female drug A.female drug B.female ... drug B.male"
      ]
     },
     "metadata": {},
     "output_type": "display_data"
    }
   ],
   "source": [
    "treatment <- gl(3, 2, labels = c(\"placebo\", \"drug A\", \"drug B\"))\n",
    "gender <- gl(2, 1, 6, labels = c(\"female\", \"male\"))\n",
    "treatment_gender  <-  interaction(treatment, gender)\n",
    "treatment_gender"
   ]
  },
  {
   "cell_type": "code",
   "execution_count": 111,
   "metadata": {},
   "outputs": [
    {
     "data": {
      "text/html": [
       "6"
      ],
      "text/latex": [
       "6"
      ],
      "text/markdown": [
       "6"
      ],
      "text/plain": [
       "[1] 6"
      ]
     },
     "metadata": {},
     "output_type": "display_data"
    }
   ],
   "source": [
    "nlevels(treatment_gender)"
   ]
  },
  {
   "cell_type": "markdown",
   "metadata": {},
   "source": [
    "## 7.6 Exercise"
   ]
  },
  {
   "cell_type": "markdown",
   "metadata": {},
   "source": [
    "### EX 1\n",
    "显示 pi 的 16 位有效数字。"
   ]
  },
  {
   "cell_type": "code",
   "execution_count": 113,
   "metadata": {},
   "outputs": [
    {
     "data": {
      "text/html": [
       "'3.141592653589793'"
      ],
      "text/latex": [
       "'3.141592653589793'"
      ],
      "text/markdown": [
       "'3.141592653589793'"
      ],
      "text/plain": [
       "[1] \"3.141592653589793\""
      ]
     },
     "metadata": {},
     "output_type": "display_data"
    }
   ],
   "source": [
    "format(pi, digits = 16)"
   ]
  },
  {
   "cell_type": "markdown",
   "metadata": {},
   "source": [
    "### EX 2\n",
    "将以下字符串分割成单词，删除任何逗号或连字符:\n",
    "\n",
    "x <- c(  \n",
    "    \"Swan swam over the pond, Swim swan swim!\",   \n",
    "    \"Swan swam back again - Well swum swan!\"   \n",
    ") "
   ]
  },
  {
   "cell_type": "code",
   "execution_count": 130,
   "metadata": {},
   "outputs": [
    {
     "data": {
      "text/html": [
       "<ol>\n",
       "\t<li><ol class=list-inline>\n",
       "\t<li>'Swan'</li>\n",
       "\t<li>'swam'</li>\n",
       "\t<li>'over'</li>\n",
       "\t<li>'the'</li>\n",
       "\t<li>'pond'</li>\n",
       "\t<li>'Swim'</li>\n",
       "\t<li>'swan'</li>\n",
       "\t<li>'swim!'</li>\n",
       "</ol>\n",
       "</li>\n",
       "\t<li><ol class=list-inline>\n",
       "\t<li>'Swan'</li>\n",
       "\t<li>'swam'</li>\n",
       "\t<li>'back'</li>\n",
       "\t<li>'again'</li>\n",
       "\t<li>'Well'</li>\n",
       "\t<li>'swum'</li>\n",
       "\t<li>'swan!'</li>\n",
       "</ol>\n",
       "</li>\n",
       "</ol>\n"
      ],
      "text/latex": [
       "\\begin{enumerate}\n",
       "\\item \\begin{enumerate*}\n",
       "\\item 'Swan'\n",
       "\\item 'swam'\n",
       "\\item 'over'\n",
       "\\item 'the'\n",
       "\\item 'pond'\n",
       "\\item 'Swim'\n",
       "\\item 'swan'\n",
       "\\item 'swim!'\n",
       "\\end{enumerate*}\n",
       "\n",
       "\\item \\begin{enumerate*}\n",
       "\\item 'Swan'\n",
       "\\item 'swam'\n",
       "\\item 'back'\n",
       "\\item 'again'\n",
       "\\item 'Well'\n",
       "\\item 'swum'\n",
       "\\item 'swan!'\n",
       "\\end{enumerate*}\n",
       "\n",
       "\\end{enumerate}\n"
      ],
      "text/markdown": [
       "1. 1. 'Swan'\n",
       "2. 'swam'\n",
       "3. 'over'\n",
       "4. 'the'\n",
       "5. 'pond'\n",
       "6. 'Swim'\n",
       "7. 'swan'\n",
       "8. 'swim!'\n",
       "\n",
       "\n",
       "\n",
       "2. 1. 'Swan'\n",
       "2. 'swam'\n",
       "3. 'back'\n",
       "4. 'again'\n",
       "5. 'Well'\n",
       "6. 'swum'\n",
       "7. 'swan!'\n",
       "\n",
       "\n",
       "\n",
       "\n",
       "\n"
      ],
      "text/plain": [
       "[[1]]\n",
       "[1] \"Swan\"  \"swam\"  \"over\"  \"the\"   \"pond\"  \"Swim\"  \"swan\"  \"swim!\"\n",
       "\n",
       "[[2]]\n",
       "[1] \"Swan\"  \"swam\"  \"back\"  \"again\" \"Well\"  \"swum\"  \"swan!\"\n"
      ]
     },
     "metadata": {},
     "output_type": "display_data"
    }
   ],
   "source": [
    "x  <- c(\n",
    "    \"Swan swam over the pond, Swim swan swim!\",\n",
    "    \"Swan swam back again - Well swum swan!\"\n",
    ")\n",
    "strsplit(x, split = \" ?,?-? \")\n"
   ]
  },
  {
   "attachments": {
    "image.png": {
     "image/png": "[encoded data removed]"
    }
   },
   "cell_type": "markdown",
   "metadata": {},
   "source": [
    "### EX 3\n",
    "在角色扮演游戏中，你的每个冒险家的人物属性计算公式为三个六面骰子得分的总和。为了省下掷骰子的力气，你决定用 R 来生成分数。以下是用于生成它们的辅助函数:\n",
    "![image.png](attachment:image.png)"
   ]
  },
  {
   "cell_type": "code",
   "execution_count": 133,
   "metadata": {},
   "outputs": [
    {
     "data": {
      "text/html": [
       "<ol class=list-inline>\n",
       "\t<li>8</li>\n",
       "\t<li>12</li>\n",
       "\t<li>10</li>\n",
       "\t<li>9</li>\n",
       "</ol>\n"
      ],
      "text/latex": [
       "\\begin{enumerate*}\n",
       "\\item 8\n",
       "\\item 12\n",
       "\\item 10\n",
       "\\item 9\n",
       "\\end{enumerate*}\n"
      ],
      "text/markdown": [
       "1. 8\n",
       "2. 12\n",
       "3. 10\n",
       "4. 9\n",
       "\n",
       "\n"
      ],
      "text/plain": [
       "[1]  8 12 10  9"
      ]
     },
     "metadata": {},
     "output_type": "display_data"
    }
   ],
   "source": [
    "three_d6 <- function(n){\n",
    "    random_numbers <- matrix(\n",
    "        sample(6, 3 * n, replace = TRUE), nrow = 3\n",
    "    )\n",
    "    colSums(random_numbers) \n",
    "}\n",
    "three_d6(4)"
   ]
  },
  {
   "cell_type": "code",
   "execution_count": 154,
   "metadata": {},
   "outputs": [
    {
     "data": {
      "text/plain": [
       " -3  -2  -1   0   1   2   3 \n",
       "  5  48 226 492 188  38   3 "
      ]
     },
     "metadata": {},
     "output_type": "display_data"
    }
   ],
   "source": [
    "scores = c(-3:3)\n",
    "grade_intervals = c(2, 3, 5, 8, 12, 15, 17, 18)\n",
    "players = three_d6(1000)\n",
    "players_score = cut(players, grade_intervals)\n",
    "\n",
    "table_scores = table(players_score)\n",
    "names(table_scores) = scores\n",
    "table_scores"
   ]
  },
  {
   "cell_type": "markdown",
   "metadata": {},
   "source": [
    "# Chapter8 if-else and loop"
   ]
  },
  {
   "cell_type": "markdown",
   "metadata": {},
   "source": [
    "## 8.2 if else\n",
    "### 8.2.2 矢量化的判断"
   ]
  },
  {
   "cell_type": "code",
   "execution_count": 155,
   "metadata": {},
   "outputs": [
    {
     "data": {
      "text/html": [
       "<ol class=list-inline>\n",
       "\t<li>TRUE</li>\n",
       "\t<li>FALSE</li>\n",
       "\t<li>TRUE</li>\n",
       "\t<li>FALSE</li>\n",
       "\t<li>TRUE</li>\n",
       "\t<li>FALSE</li>\n",
       "\t<li>TRUE</li>\n",
       "\t<li>FALSE</li>\n",
       "\t<li>TRUE</li>\n",
       "\t<li>FALSE</li>\n",
       "\t<li>TRUE</li>\n",
       "\t<li>FALSE</li>\n",
       "</ol>\n"
      ],
      "text/latex": [
       "\\begin{enumerate*}\n",
       "\\item TRUE\n",
       "\\item FALSE\n",
       "\\item TRUE\n",
       "\\item FALSE\n",
       "\\item TRUE\n",
       "\\item FALSE\n",
       "\\item TRUE\n",
       "\\item FALSE\n",
       "\\item TRUE\n",
       "\\item FALSE\n",
       "\\item TRUE\n",
       "\\item FALSE\n",
       "\\end{enumerate*}\n"
      ],
      "text/markdown": [
       "1. TRUE\n",
       "2. FALSE\n",
       "3. TRUE\n",
       "4. FALSE\n",
       "5. TRUE\n",
       "6. FALSE\n",
       "7. TRUE\n",
       "8. FALSE\n",
       "9. TRUE\n",
       "10. FALSE\n",
       "11. TRUE\n",
       "12. FALSE\n",
       "\n",
       "\n"
      ],
      "text/plain": [
       " [1]  TRUE FALSE  TRUE FALSE  TRUE FALSE  TRUE FALSE  TRUE FALSE  TRUE FALSE"
      ]
     },
     "metadata": {},
     "output_type": "display_data"
    }
   ],
   "source": [
    "yn  <- rep.int(c(TRUE, FALSE), 6)\n",
    "yn"
   ]
  },
  {
   "cell_type": "code",
   "execution_count": 157,
   "metadata": {},
   "outputs": [
    {
     "data": {
      "text/html": [
       "<ol class=list-inline>\n",
       "\t<li>1</li>\n",
       "\t<li>-2</li>\n",
       "\t<li>3</li>\n",
       "\t<li>-4</li>\n",
       "\t<li>2</li>\n",
       "\t<li>-6</li>\n",
       "\t<li>1</li>\n",
       "\t<li>-8</li>\n",
       "\t<li>3</li>\n",
       "\t<li>-10</li>\n",
       "\t<li>2</li>\n",
       "\t<li>-12</li>\n",
       "</ol>\n"
      ],
      "text/latex": [
       "\\begin{enumerate*}\n",
       "\\item 1\n",
       "\\item -2\n",
       "\\item 3\n",
       "\\item -4\n",
       "\\item 2\n",
       "\\item -6\n",
       "\\item 1\n",
       "\\item -8\n",
       "\\item 3\n",
       "\\item -10\n",
       "\\item 2\n",
       "\\item -12\n",
       "\\end{enumerate*}\n"
      ],
      "text/markdown": [
       "1. 1\n",
       "2. -2\n",
       "3. 3\n",
       "4. -4\n",
       "5. 2\n",
       "6. -6\n",
       "7. 1\n",
       "8. -8\n",
       "9. 3\n",
       "10. -10\n",
       "11. 2\n",
       "12. -12\n",
       "\n",
       "\n"
      ],
      "text/plain": [
       " [1]   1  -2   3  -4   2  -6   1  -8   3 -10   2 -12"
      ]
     },
     "metadata": {},
     "output_type": "display_data"
    }
   ],
   "source": [
    "ifelse(yn, 1:3, -1:-12)"
   ]
  },
  {
   "cell_type": "code",
   "execution_count": 158,
   "metadata": {},
   "outputs": [
    {
     "data": {
      "text/html": [
       "<ol class=list-inline>\n",
       "\t<li>1</li>\n",
       "\t<li>-2</li>\n",
       "\t<li>&lt;NA&gt;</li>\n",
       "\t<li>-4</li>\n",
       "\t<li>2</li>\n",
       "\t<li>&lt;NA&gt;</li>\n",
       "\t<li>1</li>\n",
       "\t<li>-8</li>\n",
       "\t<li>&lt;NA&gt;</li>\n",
       "\t<li>-10</li>\n",
       "\t<li>2</li>\n",
       "\t<li>&lt;NA&gt;</li>\n",
       "</ol>\n"
      ],
      "text/latex": [
       "\\begin{enumerate*}\n",
       "\\item 1\n",
       "\\item -2\n",
       "\\item <NA>\n",
       "\\item -4\n",
       "\\item 2\n",
       "\\item <NA>\n",
       "\\item 1\n",
       "\\item -8\n",
       "\\item <NA>\n",
       "\\item -10\n",
       "\\item 2\n",
       "\\item <NA>\n",
       "\\end{enumerate*}\n"
      ],
      "text/markdown": [
       "1. 1\n",
       "2. -2\n",
       "3. &lt;NA&gt;\n",
       "4. -4\n",
       "5. 2\n",
       "6. &lt;NA&gt;\n",
       "7. 1\n",
       "8. -8\n",
       "9. &lt;NA&gt;\n",
       "10. -10\n",
       "11. 2\n",
       "12. &lt;NA&gt;\n",
       "\n",
       "\n"
      ],
      "text/plain": [
       " [1]   1  -2  NA  -4   2  NA   1  -8  NA -10   2  NA"
      ]
     },
     "metadata": {},
     "output_type": "display_data"
    }
   ],
   "source": [
    "yn[c(3,6,9,12)]  <- NA\n",
    "ifelse(yn, 1:3, -1:-12)"
   ]
  },
  {
   "cell_type": "markdown",
   "metadata": {},
   "source": [
    "### 8.2.3 Switch"
   ]
  },
  {
   "cell_type": "code",
   "execution_count": 159,
   "metadata": {},
   "outputs": [
    {
     "data": {
      "text/html": [
       "3"
      ],
      "text/latex": [
       "3"
      ],
      "text/markdown": [
       "3"
      ],
      "text/plain": [
       "[1] 3"
      ]
     },
     "metadata": {},
     "output_type": "display_data"
    }
   ],
   "source": [
    "greek  <- switch(\n",
    "    \"gamma\",\n",
    "    alpha = 1,\n",
    "    beta = 2,\n",
    "    gamma = {\n",
    "        a  <- sin( pi /3 )\n",
    "        4 * a ^ 2\n",
    "    }\n",
    ")\n",
    "greek"
   ]
  },
  {
   "cell_type": "code",
   "execution_count": 160,
   "metadata": {},
   "outputs": [
    {
     "data": {
      "text/plain": [
       "NULL"
      ]
     },
     "metadata": {},
     "output_type": "display_data"
    }
   ],
   "source": [
    "greek  <- switch(\n",
    "    \"delta\",\n",
    "    alpha = 1,\n",
    "    beta = 2,\n",
    "    gamma = {\n",
    "        a  <- sin( pi /3 )\n",
    "        4 * a ^ 2\n",
    "    }\n",
    ")\n",
    "greek"
   ]
  },
  {
   "cell_type": "code",
   "execution_count": 162,
   "metadata": {},
   "outputs": [
    {
     "data": {
      "text/html": [
       "4"
      ],
      "text/latex": [
       "4"
      ],
      "text/markdown": [
       "4"
      ],
      "text/plain": [
       "[1] 4"
      ]
     },
     "metadata": {},
     "output_type": "display_data"
    }
   ],
   "source": [
    "greek  <- switch(\n",
    "    \"delta\",\n",
    "    alpha = 1,\n",
    "    beta = 2,\n",
    "    gamma = {\n",
    "        a  <- sin( pi /3 )\n",
    "        4 * a ^ 2\n",
    "    },\n",
    "    4\n",
    ")\n",
    "greek"
   ]
  },
  {
   "cell_type": "code",
   "execution_count": 163,
   "metadata": {
    "scrolled": true
   },
   "outputs": [
    {
     "data": {
      "text/html": [
       "'third'"
      ],
      "text/latex": [
       "'third'"
      ],
      "text/markdown": [
       "'third'"
      ],
      "text/plain": [
       "[1] \"third\""
      ]
     },
     "metadata": {},
     "output_type": "display_data"
    }
   ],
   "source": [
    "switch(\n",
    "    3,\n",
    "    \"first\",\n",
    "    \"second\",\n",
    "    \"third\",\n",
    "    \"fourth\"\n",
    ")"
   ]
  },
  {
   "cell_type": "markdown",
   "metadata": {},
   "source": [
    "## Exercise\n",
    "### EX1"
   ]
  },
  {
   "cell_type": "code",
   "execution_count": 164,
   "metadata": {},
   "outputs": [
    {
     "ename": "ERROR",
     "evalue": "Error in if (NA) {: missing value where TRUE/FALSE needed\n",
     "output_type": "error",
     "traceback": [
      "Error in if (NA) {: missing value where TRUE/FALSE needed\nTraceback:\n"
     ]
    }
   ],
   "source": [
    "if (NA) {\n",
    "    print(\"It's NA\")\n",
    "} else {\n",
    "    print(\"It's not NA\")\n",
    "}"
   ]
  },
  {
   "cell_type": "markdown",
   "metadata": {},
   "source": [
    "### EX2"
   ]
  },
  {
   "cell_type": "code",
   "execution_count": 165,
   "metadata": {},
   "outputs": [
    {
     "data": {
      "text/html": [
       "&lt;NA&gt;"
      ],
      "text/latex": [
       "<NA>"
      ],
      "text/markdown": [
       "&lt;NA&gt;"
      ],
      "text/plain": [
       "[1] NA"
      ]
     },
     "metadata": {},
     "output_type": "display_data"
    }
   ],
   "source": [
    "ifelse(NA, \"It's NA\", \"It's not NA\")"
   ]
  },
  {
   "cell_type": "markdown",
   "metadata": {},
   "source": [
    "# Chapter11 Date and Time"
   ]
  },
  {
   "cell_type": "markdown",
   "metadata": {},
   "source": [
    "## 11.2 Date and Time Class\n",
    "### 11.2.1 POSIX Date and Time"
   ]
  },
  {
   "cell_type": "code",
   "execution_count": 166,
   "metadata": {},
   "outputs": [
    {
     "data": {
      "text/plain": [
       "[1] \"2021-03-02 17:55:03 CST\""
      ]
     },
     "metadata": {},
     "output_type": "display_data"
    }
   ],
   "source": [
    "(now_ct  <- Sys.time())"
   ]
  },
  {
   "cell_type": "code",
   "execution_count": 167,
   "metadata": {},
   "outputs": [
    {
     "data": {
      "text/html": [
       "<ol class=list-inline>\n",
       "\t<li>'POSIXct'</li>\n",
       "\t<li>'POSIXt'</li>\n",
       "</ol>\n"
      ],
      "text/latex": [
       "\\begin{enumerate*}\n",
       "\\item 'POSIXct'\n",
       "\\item 'POSIXt'\n",
       "\\end{enumerate*}\n"
      ],
      "text/markdown": [
       "1. 'POSIXct'\n",
       "2. 'POSIXt'\n",
       "\n",
       "\n"
      ],
      "text/plain": [
       "[1] \"POSIXct\" \"POSIXt\" "
      ]
     },
     "metadata": {},
     "output_type": "display_data"
    }
   ],
   "source": [
    "class(now_ct)"
   ]
  },
  {
   "cell_type": "code",
   "execution_count": 168,
   "metadata": {},
   "outputs": [
    {
     "data": {
      "text/html": [
       "1614678903.75721"
      ],
      "text/latex": [
       "1614678903.75721"
      ],
      "text/markdown": [
       "1614678903.75721"
      ],
      "text/plain": [
       "[1] 1614678904"
      ]
     },
     "metadata": {},
     "output_type": "display_data"
    }
   ],
   "source": [
    "unclass(now_ct)"
   ]
  },
  {
   "cell_type": "code",
   "execution_count": 169,
   "metadata": {},
   "outputs": [
    {
     "data": {
      "text/plain": [
       "[1] \"2021-03-02 17:55:03 CST\""
      ]
     },
     "metadata": {},
     "output_type": "display_data"
    }
   ],
   "source": [
    "(now_lt  <-  as.POSIXlt(now_ct))"
   ]
  },
  {
   "cell_type": "code",
   "execution_count": 170,
   "metadata": {},
   "outputs": [
    {
     "data": {
      "text/html": [
       "<ol class=list-inline>\n",
       "\t<li>'POSIXlt'</li>\n",
       "\t<li>'POSIXt'</li>\n",
       "</ol>\n"
      ],
      "text/latex": [
       "\\begin{enumerate*}\n",
       "\\item 'POSIXlt'\n",
       "\\item 'POSIXt'\n",
       "\\end{enumerate*}\n"
      ],
      "text/markdown": [
       "1. 'POSIXlt'\n",
       "2. 'POSIXt'\n",
       "\n",
       "\n"
      ],
      "text/plain": [
       "[1] \"POSIXlt\" \"POSIXt\" "
      ]
     },
     "metadata": {},
     "output_type": "display_data"
    }
   ],
   "source": [
    "class(now_lt)"
   ]
  },
  {
   "cell_type": "code",
   "execution_count": 171,
   "metadata": {},
   "outputs": [
    {
     "data": {
      "text/html": [
       "<dl>\n",
       "\t<dt>$sec</dt>\n",
       "\t\t<dd>3.75721311569214</dd>\n",
       "\t<dt>$min</dt>\n",
       "\t\t<dd>55</dd>\n",
       "\t<dt>$hour</dt>\n",
       "\t\t<dd>17</dd>\n",
       "\t<dt>$mday</dt>\n",
       "\t\t<dd>2</dd>\n",
       "\t<dt>$mon</dt>\n",
       "\t\t<dd>2</dd>\n",
       "\t<dt>$year</dt>\n",
       "\t\t<dd>121</dd>\n",
       "\t<dt>$wday</dt>\n",
       "\t\t<dd>2</dd>\n",
       "\t<dt>$yday</dt>\n",
       "\t\t<dd>60</dd>\n",
       "\t<dt>$isdst</dt>\n",
       "\t\t<dd>0</dd>\n",
       "\t<dt>$zone</dt>\n",
       "\t\t<dd>'CST'</dd>\n",
       "\t<dt>$gmtoff</dt>\n",
       "\t\t<dd>28800</dd>\n",
       "</dl>\n"
      ],
      "text/latex": [
       "\\begin{description}\n",
       "\\item[\\$sec] 3.75721311569214\n",
       "\\item[\\$min] 55\n",
       "\\item[\\$hour] 17\n",
       "\\item[\\$mday] 2\n",
       "\\item[\\$mon] 2\n",
       "\\item[\\$year] 121\n",
       "\\item[\\$wday] 2\n",
       "\\item[\\$yday] 60\n",
       "\\item[\\$isdst] 0\n",
       "\\item[\\$zone] 'CST'\n",
       "\\item[\\$gmtoff] 28800\n",
       "\\end{description}\n"
      ],
      "text/markdown": [
       "$sec\n",
       ":   3.75721311569214\n",
       "$min\n",
       ":   55\n",
       "$hour\n",
       ":   17\n",
       "$mday\n",
       ":   2\n",
       "$mon\n",
       ":   2\n",
       "$year\n",
       ":   121\n",
       "$wday\n",
       ":   2\n",
       "$yday\n",
       ":   60\n",
       "$isdst\n",
       ":   0\n",
       "$zone\n",
       ":   'CST'\n",
       "$gmtoff\n",
       ":   28800\n",
       "\n",
       "\n"
      ],
      "text/plain": [
       "$sec\n",
       "[1] 3.757213\n",
       "\n",
       "$min\n",
       "[1] 55\n",
       "\n",
       "$hour\n",
       "[1] 17\n",
       "\n",
       "$mday\n",
       "[1] 2\n",
       "\n",
       "$mon\n",
       "[1] 2\n",
       "\n",
       "$year\n",
       "[1] 121\n",
       "\n",
       "$wday\n",
       "[1] 2\n",
       "\n",
       "$yday\n",
       "[1] 60\n",
       "\n",
       "$isdst\n",
       "[1] 0\n",
       "\n",
       "$zone\n",
       "[1] \"CST\"\n",
       "\n",
       "$gmtoff\n",
       "[1] 28800\n",
       "\n",
       "attr(,\"tzone\")\n",
       "[1] \"\"    \"CST\" \"CDT\""
      ]
     },
     "metadata": {},
     "output_type": "display_data"
    }
   ],
   "source": [
    "unclass(now_lt)"
   ]
  },
  {
   "cell_type": "code",
   "execution_count": 172,
   "metadata": {},
   "outputs": [
    {
     "data": {
      "text/html": [
       "2"
      ],
      "text/latex": [
       "2"
      ],
      "text/markdown": [
       "2"
      ],
      "text/plain": [
       "[1] 2"
      ]
     },
     "metadata": {},
     "output_type": "display_data"
    }
   ],
   "source": [
    "now_lt$mon"
   ]
  },
  {
   "cell_type": "code",
   "execution_count": 180,
   "metadata": {},
   "outputs": [
    {
     "ename": "ERROR",
     "evalue": "Error in FUN(X[[i]], ...): subscript out of bounds\n",
     "output_type": "error",
     "traceback": [
      "Error in FUN(X[[i]], ...): subscript out of bounds\nTraceback:\n",
      "1. now_lt[[\"mon\"]]",
      "2. `[[.POSIXlt`(now_lt, \"mon\")",
      "3. .POSIXlt(lapply(X = unclass(x), FUN = \"[[\", i, drop = drop), \n .     attr(x, \"tzone\"), oldClass(x))",
      "4. lapply(X = unclass(x), FUN = \"[[\", i, drop = drop)"
     ]
    }
   ],
   "source": [
    "now_lt[[\"mon\"]]"
   ]
  },
  {
   "cell_type": "markdown",
   "metadata": {},
   "source": [
    "### 11.2.2 Class Date"
   ]
  },
  {
   "cell_type": "code",
   "execution_count": 181,
   "metadata": {},
   "outputs": [
    {
     "data": {
      "text/html": [
       "<time datetime=\"2021-03-02\">2021-03-02</time>"
      ],
      "text/latex": [
       "2021-03-02"
      ],
      "text/markdown": [
       "2021-03-02"
      ],
      "text/plain": [
       "[1] \"2021-03-02\""
      ]
     },
     "metadata": {},
     "output_type": "display_data"
    }
   ],
   "source": [
    "(now_date  <- as.Date(now_ct))"
   ]
  },
  {
   "cell_type": "code",
   "execution_count": 182,
   "metadata": {},
   "outputs": [
    {
     "data": {
      "text/html": [
       "'Date'"
      ],
      "text/latex": [
       "'Date'"
      ],
      "text/markdown": [
       "'Date'"
      ],
      "text/plain": [
       "[1] \"Date\""
      ]
     },
     "metadata": {},
     "output_type": "display_data"
    }
   ],
   "source": [
    "class(now_date)"
   ]
  },
  {
   "cell_type": "code",
   "execution_count": 183,
   "metadata": {},
   "outputs": [
    {
     "data": {
      "text/html": [
       "18688"
      ],
      "text/latex": [
       "18688"
      ],
      "text/markdown": [
       "18688"
      ],
      "text/plain": [
       "[1] 18688"
      ]
     },
     "metadata": {},
     "output_type": "display_data"
    }
   ],
   "source": [
    "unclass(now_date)"
   ]
  },
  {
   "cell_type": "markdown",
   "metadata": {},
   "source": [
    "## 11.3 Date <-> String\n",
    "### 11.3.1 Parse Date"
   ]
  },
  {
   "cell_type": "code",
   "execution_count": 186,
   "metadata": {},
   "outputs": [
    {
     "data": {
      "text/plain": [
       "[1] \"1969-07-20 20:17:40 UTC\" \"1969-11-19 06:54:35 UTC\"\n",
       "[3] \"1971-02-05 09:18:11 UTC\" \"1971-07-30 22:16:29 UTC\"\n",
       "[5] \"1972-04-21 02:23:35 UTC\" \"1972-12-11 19:54:57 UTC\""
      ]
     },
     "metadata": {},
     "output_type": "display_data"
    }
   ],
   "source": [
    "moon_landing_str  <- c(\n",
    "    \"20:17:40 20/07/1969\",\n",
    "    \"06:54:35 19/11/1969\",\n",
    "    \"09:18:11 05/02/1971\",\n",
    "    \"22:16:29 30/07/1971\",\n",
    "    \"02:23:35 21/04/1972\",\n",
    "    \"19:54:57 11/12/1972\"\n",
    ")\n",
    "(moon_landing_lt  <- strptime(\n",
    "    moon_landing_str,\n",
    "    \"%H:%M:%S %d/%m/%Y\",\n",
    "    tz = \"UTC\"\n",
    "))"
   ]
  },
  {
   "cell_type": "code",
   "execution_count": 187,
   "metadata": {},
   "outputs": [
    {
     "data": {
      "text/plain": [
       "[1] NA NA NA NA NA NA"
      ]
     },
     "metadata": {},
     "output_type": "display_data"
    }
   ],
   "source": [
    "(moon_landing_lt  <- strptime(\n",
    "    moon_landing_str,\n",
    "    \"%H:%M:%S %d-%m-%Y\",\n",
    "    tz = \"UTC\"\n",
    "))"
   ]
  },
  {
   "cell_type": "markdown",
   "metadata": {},
   "source": [
    "### Format Date"
   ]
  },
  {
   "cell_type": "code",
   "execution_count": 190,
   "metadata": {},
   "outputs": [
    {
     "data": {
      "text/html": [
       "'It\\'s 05:55PM on Tuesday 02 March, 2021.'"
      ],
      "text/latex": [
       "'It\\textbackslash{}'s 05:55PM on Tuesday 02 March, 2021.'"
      ],
      "text/markdown": [
       "'It\\'s 05:55PM on Tuesday 02 March, 2021.'"
      ],
      "text/plain": [
       "[1] \"It's 05:55PM on Tuesday 02 March, 2021.\""
      ]
     },
     "metadata": {},
     "output_type": "display_data"
    }
   ],
   "source": [
    "strftime(now_ct, \"It\\'s %I:%M%p on %A %d %B, %Y.\")"
   ]
  },
  {
   "cell_type": "code",
   "execution_count": 193,
   "metadata": {},
   "outputs": [
    {
     "data": {
      "text/html": [
       "'It\\'s 05:55PM on Tuesday 02 March, 2021.'"
      ],
      "text/latex": [
       "'It\\textbackslash{}'s 05:55PM on Tuesday 02 March, 2021.'"
      ],
      "text/markdown": [
       "'It\\'s 05:55PM on Tuesday 02 March, 2021.'"
      ],
      "text/plain": [
       "[1] \"It's 05:55PM on Tuesday 02 March, 2021.\""
      ]
     },
     "metadata": {},
     "output_type": "display_data"
    }
   ],
   "source": [
    "format(now_ct, \"It\\'s %I:%M%p on %A %d %B, %Y.\")"
   ]
  },
  {
   "cell_type": "markdown",
   "metadata": {},
   "source": [
    "## 11.4 Time Zone"
   ]
  },
  {
   "cell_type": "code",
   "execution_count": 194,
   "metadata": {},
   "outputs": [
    {
     "data": {
      "text/html": [
       "'C'"
      ],
      "text/latex": [
       "'C'"
      ],
      "text/markdown": [
       "'C'"
      ],
      "text/plain": [
       "[1] \"C\""
      ]
     },
     "metadata": {},
     "output_type": "display_data"
    }
   ],
   "source": [
    "Sys.getlocale(\"LC_TIME\") "
   ]
  },
  {
   "cell_type": "code",
   "execution_count": 195,
   "metadata": {},
   "outputs": [
    {
     "data": {
      "text/html": [
       "'2021-03-02 01:55:03'"
      ],
      "text/latex": [
       "'2021-03-02 01:55:03'"
      ],
      "text/markdown": [
       "'2021-03-02 01:55:03'"
      ],
      "text/plain": [
       "[1] \"2021-03-02 01:55:03\""
      ]
     },
     "metadata": {},
     "output_type": "display_data"
    }
   ],
   "source": [
    "strftime(now_ct, tz = \"America/Los_Angeles\")"
   ]
  },
  {
   "cell_type": "code",
   "execution_count": 196,
   "metadata": {},
   "outputs": [
    {
     "data": {
      "text/html": [
       "'2021-03-02 09:55:03'"
      ],
      "text/latex": [
       "'2021-03-02 09:55:03'"
      ],
      "text/markdown": [
       "'2021-03-02 09:55:03'"
      ],
      "text/plain": [
       "[1] \"2021-03-02 09:55:03\""
      ]
     },
     "metadata": {},
     "output_type": "display_data"
    }
   ],
   "source": [
    "strftime(now_ct, tz = \"China/Shanghai\")"
   ]
  },
  {
   "cell_type": "code",
   "execution_count": 197,
   "metadata": {},
   "outputs": [
    {
     "data": {
      "text/plain": [
       "[1] \"2021-03-02 17:55:03 CST\""
      ]
     },
     "metadata": {},
     "output_type": "display_data"
    }
   ],
   "source": [
    "now_ct"
   ]
  },
  {
   "cell_type": "code",
   "execution_count": 198,
   "metadata": {},
   "outputs": [
    {
     "data": {
      "text/html": [
       "'/Users/kaitong/Software/Anaconda/anaconda3/envs/RStudio/lib/R/share/zoneinfo/zone.tab'"
      ],
      "text/latex": [
       "'/Users/kaitong/Software/Anaconda/anaconda3/envs/RStudio/lib/R/share/zoneinfo/zone.tab'"
      ],
      "text/markdown": [
       "'/Users/kaitong/Software/Anaconda/anaconda3/envs/RStudio/lib/R/share/zoneinfo/zone.tab'"
      ],
      "text/plain": [
       "[1] \"/Users/kaitong/Software/Anaconda/anaconda3/envs/RStudio/lib/R/share/zoneinfo/zone.tab\""
      ]
     },
     "metadata": {},
     "output_type": "display_data"
    }
   ],
   "source": [
    "file.path(R.home(\"share\"), \"zoneinfo\", \"zone.tab\")"
   ]
  },
  {
   "cell_type": "code",
   "execution_count": 199,
   "metadata": {},
   "outputs": [
    {
     "data": {
      "text/plain": [
       "[1] \"2021-03-02 17:55:03 CST\""
      ]
     },
     "metadata": {},
     "output_type": "display_data"
    }
   ],
   "source": [
    "now_ct"
   ]
  },
  {
   "cell_type": "code",
   "execution_count": 200,
   "metadata": {},
   "outputs": [
    {
     "data": {
      "text/plain": [
       "[1] \"2021-03-02 17:55:03 CST\""
      ]
     },
     "metadata": {},
     "output_type": "display_data"
    }
   ],
   "source": [
    "now_lt"
   ]
  },
  {
   "cell_type": "code",
   "execution_count": 201,
   "metadata": {},
   "outputs": [
    {
     "data": {
      "text/html": [
       "'2021-03-02 18:55:03'"
      ],
      "text/latex": [
       "'2021-03-02 18:55:03'"
      ],
      "text/markdown": [
       "'2021-03-02 18:55:03'"
      ],
      "text/plain": [
       "[1] \"2021-03-02 18:55:03\""
      ]
     },
     "metadata": {},
     "output_type": "display_data"
    }
   ],
   "source": [
    "strftime(now_ct, tz = \"Asia/Tokyo\")"
   ]
  },
  {
   "cell_type": "code",
   "execution_count": 202,
   "metadata": {},
   "outputs": [
    {
     "data": {
      "text/html": [
       "'2021-03-02 17:55:03'"
      ],
      "text/latex": [
       "'2021-03-02 17:55:03'"
      ],
      "text/markdown": [
       "'2021-03-02 17:55:03'"
      ],
      "text/plain": [
       "[1] \"2021-03-02 17:55:03\""
      ]
     },
     "metadata": {},
     "output_type": "display_data"
    }
   ],
   "source": [
    "strftime(now_lt, tz = \"Asia/Tokyo\")  ## strftime will igore the timezone of POSIXlt"
   ]
  },
  {
   "cell_type": "code",
   "execution_count": 203,
   "metadata": {},
   "outputs": [
    {
     "data": {
      "text/html": [
       "'2021-03-02 18:55:03'"
      ],
      "text/latex": [
       "'2021-03-02 18:55:03'"
      ],
      "text/markdown": [
       "'2021-03-02 18:55:03'"
      ],
      "text/plain": [
       "[1] \"2021-03-02 18:55:03\""
      ]
     },
     "metadata": {},
     "output_type": "display_data"
    }
   ],
   "source": [
    "strftime(as.POSIXct(now_lt), tz = \"Asia/Tokyo\")"
   ]
  },
  {
   "cell_type": "markdown",
   "metadata": {},
   "source": [
    "## 11.5 Calculate Date and Time"
   ]
  },
  {
   "cell_type": "code",
   "execution_count": 204,
   "metadata": {},
   "outputs": [
    {
     "data": {
      "text/plain": [
       "[1] \"2021-03-02 17:55:03 CST\""
      ]
     },
     "metadata": {},
     "output_type": "display_data"
    }
   ],
   "source": [
    "now_ct"
   ]
  },
  {
   "cell_type": "code",
   "execution_count": 205,
   "metadata": {},
   "outputs": [
    {
     "data": {
      "text/plain": [
       "[1] \"2021-03-03 17:55:03 CST\""
      ]
     },
     "metadata": {},
     "output_type": "display_data"
    }
   ],
   "source": [
    "now_ct + 86400"
   ]
  },
  {
   "cell_type": "code",
   "execution_count": 206,
   "metadata": {},
   "outputs": [
    {
     "data": {
      "text/plain": [
       "[1] \"2021-03-03 17:55:03 CST\""
      ]
     },
     "metadata": {},
     "output_type": "display_data"
    }
   ],
   "source": [
    "now_lt + 86400"
   ]
  },
  {
   "cell_type": "code",
   "execution_count": 207,
   "metadata": {},
   "outputs": [
    {
     "data": {
      "text/html": [
       "<time datetime=\"2021-03-02\">2021-03-02</time>"
      ],
      "text/latex": [
       "2021-03-02"
      ],
      "text/markdown": [
       "2021-03-02"
      ],
      "text/plain": [
       "[1] \"2021-03-02\""
      ]
     },
     "metadata": {},
     "output_type": "display_data"
    }
   ],
   "source": [
    "now_date"
   ]
  },
  {
   "cell_type": "code",
   "execution_count": 208,
   "metadata": {},
   "outputs": [
    {
     "data": {
      "text/html": [
       "<time datetime=\"2021-03-03\">2021-03-03</time>"
      ],
      "text/latex": [
       "2021-03-03"
      ],
      "text/markdown": [
       "2021-03-03"
      ],
      "text/plain": [
       "[1] \"2021-03-03\""
      ]
     },
     "metadata": {},
     "output_type": "display_data"
    }
   ],
   "source": [
    "now_date + 1"
   ]
  },
  {
   "cell_type": "code",
   "execution_count": 209,
   "metadata": {},
   "outputs": [
    {
     "data": {
      "text/plain": [
       "Time difference of 18890 days"
      ]
     },
     "metadata": {},
     "output_type": "display_data"
    }
   ],
   "source": [
    "start_time  <- as.Date(\"1970-01-01\")\n",
    "end_time  <- as.Date(\"2021-09-20\")\n",
    "sep_time <- end_time - start_time\n",
    "sep_time"
   ]
  },
  {
   "cell_type": "code",
   "execution_count": 210,
   "metadata": {},
   "outputs": [
    {
     "data": {
      "text/html": [
       "'Date'"
      ],
      "text/latex": [
       "'Date'"
      ],
      "text/markdown": [
       "'Date'"
      ],
      "text/plain": [
       "[1] \"Date\""
      ]
     },
     "metadata": {},
     "output_type": "display_data"
    }
   ],
   "source": [
    "class(start_time)"
   ]
  },
  {
   "cell_type": "code",
   "execution_count": 212,
   "metadata": {},
   "outputs": [
    {
     "data": {
      "text/html": [
       "18890"
      ],
      "text/latex": [
       "18890"
      ],
      "text/markdown": [
       "18890"
      ],
      "text/plain": [
       "[1] 18890"
      ]
     },
     "metadata": {},
     "output_type": "display_data"
    }
   ],
   "source": [
    "unclass(end_time)"
   ]
  },
  {
   "cell_type": "code",
   "execution_count": 213,
   "metadata": {},
   "outputs": [
    {
     "data": {
      "text/html": [
       "'difftime'"
      ],
      "text/latex": [
       "'difftime'"
      ],
      "text/markdown": [
       "'difftime'"
      ],
      "text/plain": [
       "[1] \"difftime\""
      ]
     },
     "metadata": {},
     "output_type": "display_data"
    }
   ],
   "source": [
    "class(sep_time)"
   ]
  },
  {
   "cell_type": "code",
   "execution_count": 214,
   "metadata": {},
   "outputs": [
    {
     "data": {
      "text/html": [
       "18890"
      ],
      "text/latex": [
       "18890"
      ],
      "text/markdown": [
       "18890"
      ],
      "text/plain": [
       "[1] 18890\n",
       "attr(,\"units\")\n",
       "[1] \"days\""
      ]
     },
     "metadata": {},
     "output_type": "display_data"
    }
   ],
   "source": [
    "unclass(sep_time)"
   ]
  },
  {
   "cell_type": "code",
   "execution_count": 215,
   "metadata": {},
   "outputs": [
    {
     "data": {
      "text/plain": [
       "Time difference of 1632096000 secs"
      ]
     },
     "metadata": {},
     "output_type": "display_data"
    }
   ],
   "source": [
    "difftime(end_time, start_time, units = \"sec\")"
   ]
  },
  {
   "cell_type": "code",
   "execution_count": 216,
   "metadata": {},
   "outputs": [
    {
     "data": {
      "text/plain": [
       "Time difference of 2698.571 weeks"
      ]
     },
     "metadata": {},
     "output_type": "display_data"
    }
   ],
   "source": [
    "difftime(end_time, start_time, units = \"week\")"
   ]
  },
  {
   "cell_type": "code",
   "execution_count": 218,
   "metadata": {},
   "outputs": [
    {
     "data": {
      "text/html": [
       "<ol class=list-inline>\n",
       "\t<li><time datetime=\"1970-01-01\">1970-01-01</time></li>\n",
       "\t<li><time datetime=\"1971-01-01\">1971-01-01</time></li>\n",
       "\t<li><time datetime=\"1972-01-01\">1972-01-01</time></li>\n",
       "\t<li><time datetime=\"1973-01-01\">1973-01-01</time></li>\n",
       "\t<li><time datetime=\"1974-01-01\">1974-01-01</time></li>\n",
       "\t<li><time datetime=\"1975-01-01\">1975-01-01</time></li>\n",
       "\t<li><time datetime=\"1976-01-01\">1976-01-01</time></li>\n",
       "\t<li><time datetime=\"1977-01-01\">1977-01-01</time></li>\n",
       "\t<li><time datetime=\"1978-01-01\">1978-01-01</time></li>\n",
       "\t<li><time datetime=\"1979-01-01\">1979-01-01</time></li>\n",
       "\t<li><time datetime=\"1980-01-01\">1980-01-01</time></li>\n",
       "\t<li><time datetime=\"1981-01-01\">1981-01-01</time></li>\n",
       "\t<li><time datetime=\"1982-01-01\">1982-01-01</time></li>\n",
       "\t<li><time datetime=\"1983-01-01\">1983-01-01</time></li>\n",
       "\t<li><time datetime=\"1984-01-01\">1984-01-01</time></li>\n",
       "\t<li><time datetime=\"1985-01-01\">1985-01-01</time></li>\n",
       "\t<li><time datetime=\"1986-01-01\">1986-01-01</time></li>\n",
       "\t<li><time datetime=\"1987-01-01\">1987-01-01</time></li>\n",
       "\t<li><time datetime=\"1988-01-01\">1988-01-01</time></li>\n",
       "\t<li><time datetime=\"1989-01-01\">1989-01-01</time></li>\n",
       "\t<li><time datetime=\"1990-01-01\">1990-01-01</time></li>\n",
       "\t<li><time datetime=\"1991-01-01\">1991-01-01</time></li>\n",
       "\t<li><time datetime=\"1992-01-01\">1992-01-01</time></li>\n",
       "\t<li><time datetime=\"1993-01-01\">1993-01-01</time></li>\n",
       "\t<li><time datetime=\"1994-01-01\">1994-01-01</time></li>\n",
       "\t<li><time datetime=\"1995-01-01\">1995-01-01</time></li>\n",
       "\t<li><time datetime=\"1996-01-01\">1996-01-01</time></li>\n",
       "\t<li><time datetime=\"1997-01-01\">1997-01-01</time></li>\n",
       "\t<li><time datetime=\"1998-01-01\">1998-01-01</time></li>\n",
       "\t<li><time datetime=\"1999-01-01\">1999-01-01</time></li>\n",
       "\t<li><time datetime=\"2000-01-01\">2000-01-01</time></li>\n",
       "\t<li><time datetime=\"2001-01-01\">2001-01-01</time></li>\n",
       "\t<li><time datetime=\"2002-01-01\">2002-01-01</time></li>\n",
       "\t<li><time datetime=\"2003-01-01\">2003-01-01</time></li>\n",
       "\t<li><time datetime=\"2004-01-01\">2004-01-01</time></li>\n",
       "\t<li><time datetime=\"2005-01-01\">2005-01-01</time></li>\n",
       "\t<li><time datetime=\"2006-01-01\">2006-01-01</time></li>\n",
       "\t<li><time datetime=\"2007-01-01\">2007-01-01</time></li>\n",
       "\t<li><time datetime=\"2008-01-01\">2008-01-01</time></li>\n",
       "\t<li><time datetime=\"2009-01-01\">2009-01-01</time></li>\n",
       "\t<li><time datetime=\"2010-01-01\">2010-01-01</time></li>\n",
       "\t<li><time datetime=\"2011-01-01\">2011-01-01</time></li>\n",
       "\t<li><time datetime=\"2012-01-01\">2012-01-01</time></li>\n",
       "\t<li><time datetime=\"2013-01-01\">2013-01-01</time></li>\n",
       "\t<li><time datetime=\"2014-01-01\">2014-01-01</time></li>\n",
       "\t<li><time datetime=\"2015-01-01\">2015-01-01</time></li>\n",
       "\t<li><time datetime=\"2016-01-01\">2016-01-01</time></li>\n",
       "\t<li><time datetime=\"2017-01-01\">2017-01-01</time></li>\n",
       "\t<li><time datetime=\"2018-01-01\">2018-01-01</time></li>\n",
       "\t<li><time datetime=\"2019-01-01\">2019-01-01</time></li>\n",
       "\t<li><time datetime=\"2020-01-01\">2020-01-01</time></li>\n",
       "\t<li><time datetime=\"2021-01-01\">2021-01-01</time></li>\n",
       "</ol>\n"
      ],
      "text/latex": [
       "\\begin{enumerate*}\n",
       "\\item 1970-01-01\n",
       "\\item 1971-01-01\n",
       "\\item 1972-01-01\n",
       "\\item 1973-01-01\n",
       "\\item 1974-01-01\n",
       "\\item 1975-01-01\n",
       "\\item 1976-01-01\n",
       "\\item 1977-01-01\n",
       "\\item 1978-01-01\n",
       "\\item 1979-01-01\n",
       "\\item 1980-01-01\n",
       "\\item 1981-01-01\n",
       "\\item 1982-01-01\n",
       "\\item 1983-01-01\n",
       "\\item 1984-01-01\n",
       "\\item 1985-01-01\n",
       "\\item 1986-01-01\n",
       "\\item 1987-01-01\n",
       "\\item 1988-01-01\n",
       "\\item 1989-01-01\n",
       "\\item 1990-01-01\n",
       "\\item 1991-01-01\n",
       "\\item 1992-01-01\n",
       "\\item 1993-01-01\n",
       "\\item 1994-01-01\n",
       "\\item 1995-01-01\n",
       "\\item 1996-01-01\n",
       "\\item 1997-01-01\n",
       "\\item 1998-01-01\n",
       "\\item 1999-01-01\n",
       "\\item 2000-01-01\n",
       "\\item 2001-01-01\n",
       "\\item 2002-01-01\n",
       "\\item 2003-01-01\n",
       "\\item 2004-01-01\n",
       "\\item 2005-01-01\n",
       "\\item 2006-01-01\n",
       "\\item 2007-01-01\n",
       "\\item 2008-01-01\n",
       "\\item 2009-01-01\n",
       "\\item 2010-01-01\n",
       "\\item 2011-01-01\n",
       "\\item 2012-01-01\n",
       "\\item 2013-01-01\n",
       "\\item 2014-01-01\n",
       "\\item 2015-01-01\n",
       "\\item 2016-01-01\n",
       "\\item 2017-01-01\n",
       "\\item 2018-01-01\n",
       "\\item 2019-01-01\n",
       "\\item 2020-01-01\n",
       "\\item 2021-01-01\n",
       "\\end{enumerate*}\n"
      ],
      "text/markdown": [
       "1. 1970-01-01\n",
       "2. 1971-01-01\n",
       "3. 1972-01-01\n",
       "4. 1973-01-01\n",
       "5. 1974-01-01\n",
       "6. 1975-01-01\n",
       "7. 1976-01-01\n",
       "8. 1977-01-01\n",
       "9. 1978-01-01\n",
       "10. 1979-01-01\n",
       "11. 1980-01-01\n",
       "12. 1981-01-01\n",
       "13. 1982-01-01\n",
       "14. 1983-01-01\n",
       "15. 1984-01-01\n",
       "16. 1985-01-01\n",
       "17. 1986-01-01\n",
       "18. 1987-01-01\n",
       "19. 1988-01-01\n",
       "20. 1989-01-01\n",
       "21. 1990-01-01\n",
       "22. 1991-01-01\n",
       "23. 1992-01-01\n",
       "24. 1993-01-01\n",
       "25. 1994-01-01\n",
       "26. 1995-01-01\n",
       "27. 1996-01-01\n",
       "28. 1997-01-01\n",
       "29. 1998-01-01\n",
       "30. 1999-01-01\n",
       "31. 2000-01-01\n",
       "32. 2001-01-01\n",
       "33. 2002-01-01\n",
       "34. 2003-01-01\n",
       "35. 2004-01-01\n",
       "36. 2005-01-01\n",
       "37. 2006-01-01\n",
       "38. 2007-01-01\n",
       "39. 2008-01-01\n",
       "40. 2009-01-01\n",
       "41. 2010-01-01\n",
       "42. 2011-01-01\n",
       "43. 2012-01-01\n",
       "44. 2013-01-01\n",
       "45. 2014-01-01\n",
       "46. 2015-01-01\n",
       "47. 2016-01-01\n",
       "48. 2017-01-01\n",
       "49. 2018-01-01\n",
       "50. 2019-01-01\n",
       "51. 2020-01-01\n",
       "52. 2021-01-01\n",
       "\n",
       "\n"
      ],
      "text/plain": [
       " [1] \"1970-01-01\" \"1971-01-01\" \"1972-01-01\" \"1973-01-01\" \"1974-01-01\"\n",
       " [6] \"1975-01-01\" \"1976-01-01\" \"1977-01-01\" \"1978-01-01\" \"1979-01-01\"\n",
       "[11] \"1980-01-01\" \"1981-01-01\" \"1982-01-01\" \"1983-01-01\" \"1984-01-01\"\n",
       "[16] \"1985-01-01\" \"1986-01-01\" \"1987-01-01\" \"1988-01-01\" \"1989-01-01\"\n",
       "[21] \"1990-01-01\" \"1991-01-01\" \"1992-01-01\" \"1993-01-01\" \"1994-01-01\"\n",
       "[26] \"1995-01-01\" \"1996-01-01\" \"1997-01-01\" \"1998-01-01\" \"1999-01-01\"\n",
       "[31] \"2000-01-01\" \"2001-01-01\" \"2002-01-01\" \"2003-01-01\" \"2004-01-01\"\n",
       "[36] \"2005-01-01\" \"2006-01-01\" \"2007-01-01\" \"2008-01-01\" \"2009-01-01\"\n",
       "[41] \"2010-01-01\" \"2011-01-01\" \"2012-01-01\" \"2013-01-01\" \"2014-01-01\"\n",
       "[46] \"2015-01-01\" \"2016-01-01\" \"2017-01-01\" \"2018-01-01\" \"2019-01-01\"\n",
       "[51] \"2020-01-01\" \"2021-01-01\""
      ]
     },
     "metadata": {},
     "output_type": "display_data"
    }
   ],
   "source": [
    "seq(start_time, end_time, by = \"1 year\")"
   ]
  },
  {
   "cell_type": "code",
   "execution_count": 220,
   "metadata": {},
   "outputs": [
    {
     "data": {
      "text/html": [
       "<ol class=list-inline>\n",
       "\t<li><time datetime=\"1970-01-01\">1970-01-01</time></li>\n",
       "\t<li><time datetime=\"1971-05-16\">1971-05-16</time></li>\n",
       "\t<li><time datetime=\"1972-09-27\">1972-09-27</time></li>\n",
       "\t<li><time datetime=\"1974-02-09\">1974-02-09</time></li>\n",
       "\t<li><time datetime=\"1975-06-24\">1975-06-24</time></li>\n",
       "\t<li><time datetime=\"1976-11-05\">1976-11-05</time></li>\n",
       "\t<li><time datetime=\"1978-03-20\">1978-03-20</time></li>\n",
       "\t<li><time datetime=\"1979-08-02\">1979-08-02</time></li>\n",
       "\t<li><time datetime=\"1980-12-14\">1980-12-14</time></li>\n",
       "\t<li><time datetime=\"1982-04-28\">1982-04-28</time></li>\n",
       "\t<li><time datetime=\"1983-09-10\">1983-09-10</time></li>\n",
       "\t<li><time datetime=\"1985-01-22\">1985-01-22</time></li>\n",
       "\t<li><time datetime=\"1986-06-06\">1986-06-06</time></li>\n",
       "\t<li><time datetime=\"1987-10-19\">1987-10-19</time></li>\n",
       "\t<li><time datetime=\"1989-03-02\">1989-03-02</time></li>\n",
       "\t<li><time datetime=\"1990-07-15\">1990-07-15</time></li>\n",
       "\t<li><time datetime=\"1991-11-27\">1991-11-27</time></li>\n",
       "\t<li><time datetime=\"1993-04-10\">1993-04-10</time></li>\n",
       "\t<li><time datetime=\"1994-08-23\">1994-08-23</time></li>\n",
       "\t<li><time datetime=\"1996-01-05\">1996-01-05</time></li>\n",
       "\t<li><time datetime=\"1997-05-19\">1997-05-19</time></li>\n",
       "\t<li><time datetime=\"1998-10-01\">1998-10-01</time></li>\n",
       "\t<li><time datetime=\"2000-02-13\">2000-02-13</time></li>\n",
       "\t<li><time datetime=\"2001-06-27\">2001-06-27</time></li>\n",
       "\t<li><time datetime=\"2002-11-09\">2002-11-09</time></li>\n",
       "\t<li><time datetime=\"2004-03-23\">2004-03-23</time></li>\n",
       "\t<li><time datetime=\"2005-08-05\">2005-08-05</time></li>\n",
       "\t<li><time datetime=\"2006-12-18\">2006-12-18</time></li>\n",
       "\t<li><time datetime=\"2008-05-01\">2008-05-01</time></li>\n",
       "\t<li><time datetime=\"2009-09-13\">2009-09-13</time></li>\n",
       "\t<li><time datetime=\"2011-01-26\">2011-01-26</time></li>\n",
       "\t<li><time datetime=\"2012-06-09\">2012-06-09</time></li>\n",
       "\t<li><time datetime=\"2013-10-22\">2013-10-22</time></li>\n",
       "\t<li><time datetime=\"2015-03-06\">2015-03-06</time></li>\n",
       "\t<li><time datetime=\"2016-07-18\">2016-07-18</time></li>\n",
       "\t<li><time datetime=\"2017-11-30\">2017-11-30</time></li>\n",
       "\t<li><time datetime=\"2019-04-14\">2019-04-14</time></li>\n",
       "\t<li><time datetime=\"2020-08-26\">2020-08-26</time></li>\n",
       "</ol>\n"
      ],
      "text/latex": [
       "\\begin{enumerate*}\n",
       "\\item 1970-01-01\n",
       "\\item 1971-05-16\n",
       "\\item 1972-09-27\n",
       "\\item 1974-02-09\n",
       "\\item 1975-06-24\n",
       "\\item 1976-11-05\n",
       "\\item 1978-03-20\n",
       "\\item 1979-08-02\n",
       "\\item 1980-12-14\n",
       "\\item 1982-04-28\n",
       "\\item 1983-09-10\n",
       "\\item 1985-01-22\n",
       "\\item 1986-06-06\n",
       "\\item 1987-10-19\n",
       "\\item 1989-03-02\n",
       "\\item 1990-07-15\n",
       "\\item 1991-11-27\n",
       "\\item 1993-04-10\n",
       "\\item 1994-08-23\n",
       "\\item 1996-01-05\n",
       "\\item 1997-05-19\n",
       "\\item 1998-10-01\n",
       "\\item 2000-02-13\n",
       "\\item 2001-06-27\n",
       "\\item 2002-11-09\n",
       "\\item 2004-03-23\n",
       "\\item 2005-08-05\n",
       "\\item 2006-12-18\n",
       "\\item 2008-05-01\n",
       "\\item 2009-09-13\n",
       "\\item 2011-01-26\n",
       "\\item 2012-06-09\n",
       "\\item 2013-10-22\n",
       "\\item 2015-03-06\n",
       "\\item 2016-07-18\n",
       "\\item 2017-11-30\n",
       "\\item 2019-04-14\n",
       "\\item 2020-08-26\n",
       "\\end{enumerate*}\n"
      ],
      "text/markdown": [
       "1. 1970-01-01\n",
       "2. 1971-05-16\n",
       "3. 1972-09-27\n",
       "4. 1974-02-09\n",
       "5. 1975-06-24\n",
       "6. 1976-11-05\n",
       "7. 1978-03-20\n",
       "8. 1979-08-02\n",
       "9. 1980-12-14\n",
       "10. 1982-04-28\n",
       "11. 1983-09-10\n",
       "12. 1985-01-22\n",
       "13. 1986-06-06\n",
       "14. 1987-10-19\n",
       "15. 1989-03-02\n",
       "16. 1990-07-15\n",
       "17. 1991-11-27\n",
       "18. 1993-04-10\n",
       "19. 1994-08-23\n",
       "20. 1996-01-05\n",
       "21. 1997-05-19\n",
       "22. 1998-10-01\n",
       "23. 2000-02-13\n",
       "24. 2001-06-27\n",
       "25. 2002-11-09\n",
       "26. 2004-03-23\n",
       "27. 2005-08-05\n",
       "28. 2006-12-18\n",
       "29. 2008-05-01\n",
       "30. 2009-09-13\n",
       "31. 2011-01-26\n",
       "32. 2012-06-09\n",
       "33. 2013-10-22\n",
       "34. 2015-03-06\n",
       "35. 2016-07-18\n",
       "36. 2017-11-30\n",
       "37. 2019-04-14\n",
       "38. 2020-08-26\n",
       "\n",
       "\n"
      ],
      "text/plain": [
       " [1] \"1970-01-01\" \"1971-05-16\" \"1972-09-27\" \"1974-02-09\" \"1975-06-24\"\n",
       " [6] \"1976-11-05\" \"1978-03-20\" \"1979-08-02\" \"1980-12-14\" \"1982-04-28\"\n",
       "[11] \"1983-09-10\" \"1985-01-22\" \"1986-06-06\" \"1987-10-19\" \"1989-03-02\"\n",
       "[16] \"1990-07-15\" \"1991-11-27\" \"1993-04-10\" \"1994-08-23\" \"1996-01-05\"\n",
       "[21] \"1997-05-19\" \"1998-10-01\" \"2000-02-13\" \"2001-06-27\" \"2002-11-09\"\n",
       "[26] \"2004-03-23\" \"2005-08-05\" \"2006-12-18\" \"2008-05-01\" \"2009-09-13\"\n",
       "[31] \"2011-01-26\" \"2012-06-09\" \"2013-10-22\" \"2015-03-06\" \"2016-07-18\"\n",
       "[36] \"2017-11-30\" \"2019-04-14\" \"2020-08-26\""
      ]
     },
     "metadata": {},
     "output_type": "display_data"
    }
   ],
   "source": [
    "seq(start_time, end_time, by = \"500 days\") # 夏天"
   ]
  },
  {
   "cell_type": "markdown",
   "metadata": {},
   "source": [
    "## 11.6 Lubridate"
   ]
  },
  {
   "cell_type": "code",
   "execution_count": 221,
   "metadata": {},
   "outputs": [
    {
     "name": "stderr",
     "output_type": "stream",
     "text": [
      "\n",
      "Attaching package: ‘lubridate’\n",
      "\n",
      "The following object is masked from ‘package:base’:\n",
      "\n",
      "    date\n",
      "\n"
     ]
    },
    {
     "data": {
      "text/html": [
       "<ol class=list-inline>\n",
       "\t<li><time datetime=\"1693-03-24\">1693-03-24</time></li>\n",
       "\t<li><time datetime=\"1693-03-24\">1693-03-24</time></li>\n",
       "\t<li><time datetime=\"1693-03-24\">1693-03-24</time></li>\n",
       "</ol>\n"
      ],
      "text/latex": [
       "\\begin{enumerate*}\n",
       "\\item 1693-03-24\n",
       "\\item 1693-03-24\n",
       "\\item 1693-03-24\n",
       "\\end{enumerate*}\n"
      ],
      "text/markdown": [
       "1. 1693-03-24\n",
       "2. 1693-03-24\n",
       "3. 1693-03-24\n",
       "\n",
       "\n"
      ],
      "text/plain": [
       "[1] \"1693-03-24\" \"1693-03-24\" \"1693-03-24\""
      ]
     },
     "metadata": {},
     "output_type": "display_data"
    }
   ],
   "source": [
    "library(lubridate)\n",
    "john_harrison_birth_date <- c( \n",
    "    \"1693-03 24\",\n",
    "    \"1693/03\\\\24\",\n",
    "    \"Tuesday+1693.03*24\"\n",
    ")# 它发明了潜艇中的航海天文钟\n",
    "\n",
    "ymd(john_harrison_birth_date)  ## 默认返回POSICXct，采用UTC"
   ]
  },
  {
   "cell_type": "code",
   "execution_count": 223,
   "metadata": {},
   "outputs": [
    {
     "data": {
      "text/html": [
       "'Date'"
      ],
      "text/latex": [
       "'Date'"
      ],
      "text/markdown": [
       "'Date'"
      ],
      "text/plain": [
       "[1] \"Date\""
      ]
     },
     "metadata": {},
     "output_type": "display_data"
    }
   ],
   "source": [
    "class(ymd(john_harrison_birth_date[1]))"
   ]
  },
  {
   "cell_type": "code",
   "execution_count": 231,
   "metadata": {},
   "outputs": [
    {
     "name": "stderr",
     "output_type": "stream",
     "text": [
      "Multiple formats matched: \"A moon landing occurred on %A %Om January %d%y at %H:%M:%OS\"(1), \"A moon landing occurred on %A %Om January %Y at %d:%H:%M.\"(1), \"A moon landing occurred on %A %m January %d%y at %H:%M:%OS\"(1), \"A moon landing occurred on %A %m January %Y at %d:%H:%M.\"(1), \"A moon landing occurred on %A %d %B %Y at %H:%M:%S.\"(1), \"A moon landing occurred on Monday %Om January %d%y at %H:%M:%OS\"(1), \"A moon landing occurred on Monday %Om January %Y at %d:%H:%M.\"(1), \"A moon landing occurred on Monday %d %Om %Y at %H:%M:%S.\"(1), \"A moon landing occurred on Monday %m January %d%y at %H:%M:%OS\"(1), \"A moon landing occurred on Monday %m January %Y at %d:%H:%M.\"(1), \"A moon landing occurred on Monday %d %B %Y at %H:%M:%S.\"(1), \"A moon landing occurred on %A %d %Om %Y at %H:%M:%S.\"(0)\n",
      "Using: \"A moon landing occurred on %A %Om January %d%y at %H:%M:%OS\"\n"
     ]
    },
    {
     "data": {
      "text/plain": [
       "[1] \"1969-07-20 20:17:40 UTC\" \"1969-11-19 06:54:35 UTC\"\n",
       "[3] \"1971-02-05 09:18:11 UTC\" \"1971-07-30 22:16:29 UTC\"\n",
       "[5] \"1972-04-21 02:23:35 UTC\" \"1972-12-11 19:54:57 UTC\""
      ]
     },
     "metadata": {},
     "output_type": "display_data"
    },
    {
     "data": {
      "text/html": [
       "<ol class=list-inline>\n",
       "\t<li>'A moon landing occurred on Sunday 07 January 2069 at 20:17:40'</li>\n",
       "\t<li>'A moon landing occurred on Wednesday 11 January 1969 at 06:54:35'</li>\n",
       "\t<li>'A moon landing occurred on Friday 02 January 0571 at 09:18:11'</li>\n",
       "\t<li>'A moon landing occurred on Friday 07 January 3071 at 22:16:29'</li>\n",
       "\t<li>'A moon landing occurred on Friday 04 January 2172 at 02:23:35'</li>\n",
       "\t<li>'A moon landing occurred on Monday 12 January 1172 at 19:54:57'</li>\n",
       "</ol>\n"
      ],
      "text/latex": [
       "\\begin{enumerate*}\n",
       "\\item 'A moon landing occurred on Sunday 07 January 2069 at 20:17:40'\n",
       "\\item 'A moon landing occurred on Wednesday 11 January 1969 at 06:54:35'\n",
       "\\item 'A moon landing occurred on Friday 02 January 0571 at 09:18:11'\n",
       "\\item 'A moon landing occurred on Friday 07 January 3071 at 22:16:29'\n",
       "\\item 'A moon landing occurred on Friday 04 January 2172 at 02:23:35'\n",
       "\\item 'A moon landing occurred on Monday 12 January 1172 at 19:54:57'\n",
       "\\end{enumerate*}\n"
      ],
      "text/markdown": [
       "1. 'A moon landing occurred on Sunday 07 January 2069 at 20:17:40'\n",
       "2. 'A moon landing occurred on Wednesday 11 January 1969 at 06:54:35'\n",
       "3. 'A moon landing occurred on Friday 02 January 0571 at 09:18:11'\n",
       "4. 'A moon landing occurred on Friday 07 January 3071 at 22:16:29'\n",
       "5. 'A moon landing occurred on Friday 04 January 2172 at 02:23:35'\n",
       "6. 'A moon landing occurred on Monday 12 January 1172 at 19:54:57'\n",
       "\n",
       "\n"
      ],
      "text/plain": [
       "[1] \"A moon landing occurred on Sunday 07 January 2069 at 20:17:40\"   \n",
       "[2] \"A moon landing occurred on Wednesday 11 January 1969 at 06:54:35\"\n",
       "[3] \"A moon landing occurred on Friday 02 January 0571 at 09:18:11\"   \n",
       "[4] \"A moon landing occurred on Friday 07 January 3071 at 22:16:29\"   \n",
       "[5] \"A moon landing occurred on Friday 04 January 2172 at 02:23:35\"   \n",
       "[6] \"A moon landing occurred on Monday 12 January 1172 at 19:54:57\"   "
      ]
     },
     "metadata": {},
     "output_type": "display_data"
    }
   ],
   "source": [
    "date_format_function <- stamp(\"A moon landing occurred on Monday 01 January 1900 at 18:00:00.\")\n",
    "moon_landing_str  <- c(\n",
    "    \"20:17:40 20/07/1969\",\n",
    "    \"06:54:35 19/11/1969\",\n",
    "    \"09:18:11 05/02/1971\",\n",
    "    \"22:16:29 30/07/1971\",\n",
    "    \"02:23:35 21/04/1972\",\n",
    "    \"19:54:57 11/12/1972\"\n",
    ")\n",
    "(moon_landing_lt  <- strptime(\n",
    "    moon_landing_str,\n",
    "    \"%H:%M:%S %d/%m/%Y\",\n",
    "    tz = \"UTC\"\n",
    "))\n",
    "date_format_function(moon_landing_lt)"
   ]
  },
  {
   "cell_type": "code",
   "execution_count": 232,
   "metadata": {},
   "outputs": [
    {
     "data": {
      "text/plain": [
       "[1] \"1969-07-20 20:17:40 UTC\" \"1969-11-19 06:54:35 UTC\"\n",
       "[3] \"1971-02-05 09:18:11 UTC\" \"1971-07-30 22:16:29 UTC\"\n",
       "[5] \"1972-04-21 02:23:35 UTC\" \"1972-12-11 19:54:57 UTC\""
      ]
     },
     "metadata": {},
     "output_type": "display_data"
    }
   ],
   "source": [
    "moon_landing_lt"
   ]
  },
  {
   "cell_type": "code",
   "execution_count": 233,
   "metadata": {},
   "outputs": [
    {
     "data": {
      "text/html": [
       "<ol class=list-inline>\n",
       "\t<li>31536000s (~52.14 weeks)</li>\n",
       "\t<li>63072000s (~2 years)</li>\n",
       "\t<li>94608000s (~3 years)</li>\n",
       "\t<li>126144000s (~4 years)</li>\n",
       "\t<li>157680000s (~5 years)</li>\n",
       "\t<li>189216000s (~6 years)</li>\n",
       "\t<li>220752000s (~7 years)</li>\n",
       "\t<li>252288000s (~7.99 years)</li>\n",
       "\t<li>283824000s (~8.99 years)</li>\n",
       "\t<li>315360000s (~9.99 years)</li>\n",
       "</ol>\n"
      ],
      "text/latex": [
       "\\begin{enumerate*}\n",
       "\\item 31536000s (\\textasciitilde{}52.14 weeks)\n",
       "\\item 63072000s (\\textasciitilde{}2 years)\n",
       "\\item 94608000s (\\textasciitilde{}3 years)\n",
       "\\item 126144000s (\\textasciitilde{}4 years)\n",
       "\\item 157680000s (\\textasciitilde{}5 years)\n",
       "\\item 189216000s (\\textasciitilde{}6 years)\n",
       "\\item 220752000s (\\textasciitilde{}7 years)\n",
       "\\item 252288000s (\\textasciitilde{}7.99 years)\n",
       "\\item 283824000s (\\textasciitilde{}8.99 years)\n",
       "\\item 315360000s (\\textasciitilde{}9.99 years)\n",
       "\\end{enumerate*}\n"
      ],
      "text/markdown": [
       "1. 31536000s (~52.14 weeks)\n",
       "2. 63072000s (~2 years)\n",
       "3. 94608000s (~3 years)\n",
       "4. 126144000s (~4 years)\n",
       "5. 157680000s (~5 years)\n",
       "6. 189216000s (~6 years)\n",
       "7. 220752000s (~7 years)\n",
       "8. 252288000s (~7.99 years)\n",
       "9. 283824000s (~8.99 years)\n",
       "10. 315360000s (~9.99 years)\n",
       "\n",
       "\n"
      ],
      "text/plain": [
       " [1] \"31536000s (~52.14 weeks)\" \"63072000s (~2 years)\"    \n",
       " [3] \"94608000s (~3 years)\"     \"126144000s (~4 years)\"   \n",
       " [5] \"157680000s (~5 years)\"    \"189216000s (~6 years)\"   \n",
       " [7] \"220752000s (~7 years)\"    \"252288000s (~7.99 years)\"\n",
       " [9] \"283824000s (~8.99 years)\" \"315360000s (~9.99 years)\""
      ]
     },
     "metadata": {},
     "output_type": "display_data"
    }
   ],
   "source": [
    "(duration_one_to_ten_years <- dyears(1:10))"
   ]
  },
  {
   "cell_type": "code",
   "execution_count": 234,
   "metadata": {},
   "outputs": [
    {
     "data": {
      "text/html": [
       "<ol class=list-inline>\n",
       "\t<li><time datetime=\"2022-03-02\">2022-03-02</time></li>\n",
       "\t<li><time datetime=\"2023-03-02\">2023-03-02</time></li>\n",
       "\t<li><time datetime=\"2024-03-01\">2024-03-01</time></li>\n",
       "\t<li><time datetime=\"2025-03-01\">2025-03-01</time></li>\n",
       "\t<li><time datetime=\"2026-03-01\">2026-03-01</time></li>\n",
       "\t<li><time datetime=\"2027-03-01\">2027-03-01</time></li>\n",
       "\t<li><time datetime=\"2028-02-29\">2028-02-29</time></li>\n",
       "\t<li><time datetime=\"2029-02-28\">2029-02-28</time></li>\n",
       "\t<li><time datetime=\"2030-02-28\">2030-02-28</time></li>\n",
       "\t<li><time datetime=\"2031-02-28\">2031-02-28</time></li>\n",
       "</ol>\n"
      ],
      "text/latex": [
       "\\begin{enumerate*}\n",
       "\\item 2022-03-02\n",
       "\\item 2023-03-02\n",
       "\\item 2024-03-01\n",
       "\\item 2025-03-01\n",
       "\\item 2026-03-01\n",
       "\\item 2027-03-01\n",
       "\\item 2028-02-29\n",
       "\\item 2029-02-28\n",
       "\\item 2030-02-28\n",
       "\\item 2031-02-28\n",
       "\\end{enumerate*}\n"
      ],
      "text/markdown": [
       "1. 2022-03-02\n",
       "2. 2023-03-02\n",
       "3. 2024-03-01\n",
       "4. 2025-03-01\n",
       "5. 2026-03-01\n",
       "6. 2027-03-01\n",
       "7. 2028-02-29\n",
       "8. 2029-02-28\n",
       "9. 2030-02-28\n",
       "10. 2031-02-28\n",
       "\n",
       "\n"
      ],
      "text/plain": [
       " [1] \"2022-03-02\" \"2023-03-02\" \"2024-03-01\" \"2025-03-01\" \"2026-03-01\"\n",
       " [6] \"2027-03-01\" \"2028-02-29\" \"2029-02-28\" \"2030-02-28\" \"2031-02-28\""
      ]
     },
     "metadata": {},
     "output_type": "display_data"
    }
   ],
   "source": [
    "today() + duration_one_to_ten_years"
   ]
  },
  {
   "cell_type": "code",
   "execution_count": 235,
   "metadata": {},
   "outputs": [
    {
     "data": {
      "text/html": [
       "<ol class=list-inline>\n",
       "\t<li>1y 0m 0d 0H 0M 0S</li>\n",
       "\t<li>2y 0m 0d 0H 0M 0S</li>\n",
       "\t<li>3y 0m 0d 0H 0M 0S</li>\n",
       "\t<li>4y 0m 0d 0H 0M 0S</li>\n",
       "\t<li>5y 0m 0d 0H 0M 0S</li>\n",
       "\t<li>6y 0m 0d 0H 0M 0S</li>\n",
       "\t<li>7y 0m 0d 0H 0M 0S</li>\n",
       "\t<li>8y 0m 0d 0H 0M 0S</li>\n",
       "\t<li>9y 0m 0d 0H 0M 0S</li>\n",
       "\t<li>10y 0m 0d 0H 0M 0S</li>\n",
       "</ol>\n"
      ],
      "text/latex": [
       "\\begin{enumerate*}\n",
       "\\item 1y 0m 0d 0H 0M 0S\n",
       "\\item 2y 0m 0d 0H 0M 0S\n",
       "\\item 3y 0m 0d 0H 0M 0S\n",
       "\\item 4y 0m 0d 0H 0M 0S\n",
       "\\item 5y 0m 0d 0H 0M 0S\n",
       "\\item 6y 0m 0d 0H 0M 0S\n",
       "\\item 7y 0m 0d 0H 0M 0S\n",
       "\\item 8y 0m 0d 0H 0M 0S\n",
       "\\item 9y 0m 0d 0H 0M 0S\n",
       "\\item 10y 0m 0d 0H 0M 0S\n",
       "\\end{enumerate*}\n"
      ],
      "text/markdown": [
       "1. 1y 0m 0d 0H 0M 0S\n",
       "2. 2y 0m 0d 0H 0M 0S\n",
       "3. 3y 0m 0d 0H 0M 0S\n",
       "4. 4y 0m 0d 0H 0M 0S\n",
       "5. 5y 0m 0d 0H 0M 0S\n",
       "6. 6y 0m 0d 0H 0M 0S\n",
       "7. 7y 0m 0d 0H 0M 0S\n",
       "8. 8y 0m 0d 0H 0M 0S\n",
       "9. 9y 0m 0d 0H 0M 0S\n",
       "10. 10y 0m 0d 0H 0M 0S\n",
       "\n",
       "\n"
      ],
      "text/plain": [
       " [1] \"1y 0m 0d 0H 0M 0S\"  \"2y 0m 0d 0H 0M 0S\"  \"3y 0m 0d 0H 0M 0S\" \n",
       " [4] \"4y 0m 0d 0H 0M 0S\"  \"5y 0m 0d 0H 0M 0S\"  \"6y 0m 0d 0H 0M 0S\" \n",
       " [7] \"7y 0m 0d 0H 0M 0S\"  \"8y 0m 0d 0H 0M 0S\"  \"9y 0m 0d 0H 0M 0S\" \n",
       "[10] \"10y 0m 0d 0H 0M 0S\""
      ]
     },
     "metadata": {},
     "output_type": "display_data"
    }
   ],
   "source": [
    "(period_one_to_ten_years <- years(1:10))"
   ]
  },
  {
   "cell_type": "code",
   "execution_count": 236,
   "metadata": {},
   "outputs": [
    {
     "data": {
      "text/html": [
       "<ol class=list-inline>\n",
       "\t<li><time datetime=\"2022-03-02\">2022-03-02</time></li>\n",
       "\t<li><time datetime=\"2023-03-02\">2023-03-02</time></li>\n",
       "\t<li><time datetime=\"2024-03-02\">2024-03-02</time></li>\n",
       "\t<li><time datetime=\"2025-03-02\">2025-03-02</time></li>\n",
       "\t<li><time datetime=\"2026-03-02\">2026-03-02</time></li>\n",
       "\t<li><time datetime=\"2027-03-02\">2027-03-02</time></li>\n",
       "\t<li><time datetime=\"2028-03-02\">2028-03-02</time></li>\n",
       "\t<li><time datetime=\"2029-03-02\">2029-03-02</time></li>\n",
       "\t<li><time datetime=\"2030-03-02\">2030-03-02</time></li>\n",
       "\t<li><time datetime=\"2031-03-02\">2031-03-02</time></li>\n",
       "</ol>\n"
      ],
      "text/latex": [
       "\\begin{enumerate*}\n",
       "\\item 2022-03-02\n",
       "\\item 2023-03-02\n",
       "\\item 2024-03-02\n",
       "\\item 2025-03-02\n",
       "\\item 2026-03-02\n",
       "\\item 2027-03-02\n",
       "\\item 2028-03-02\n",
       "\\item 2029-03-02\n",
       "\\item 2030-03-02\n",
       "\\item 2031-03-02\n",
       "\\end{enumerate*}\n"
      ],
      "text/markdown": [
       "1. 2022-03-02\n",
       "2. 2023-03-02\n",
       "3. 2024-03-02\n",
       "4. 2025-03-02\n",
       "5. 2026-03-02\n",
       "6. 2027-03-02\n",
       "7. 2028-03-02\n",
       "8. 2029-03-02\n",
       "9. 2030-03-02\n",
       "10. 2031-03-02\n",
       "\n",
       "\n"
      ],
      "text/plain": [
       " [1] \"2022-03-02\" \"2023-03-02\" \"2024-03-02\" \"2025-03-02\" \"2026-03-02\"\n",
       " [6] \"2027-03-02\" \"2028-03-02\" \"2029-03-02\" \"2030-03-02\" \"2031-03-02\""
      ]
     },
     "metadata": {},
     "output_type": "display_data"
    }
   ],
   "source": [
    "today() + period_one_to_ten_years"
   ]
  },
  {
   "cell_type": "code",
   "execution_count": 239,
   "metadata": {},
   "outputs": [
    {
     "data": {
      "text/html": [
       "31536000s (~52.14 weeks)"
      ],
      "text/latex": [
       "31536000s (\\textasciitilde{}52.14 weeks)"
      ],
      "text/markdown": [
       "31536000s (~52.14 weeks)"
      ],
      "text/plain": [
       "[1] \"31536000s (~52.14 weeks)\""
      ]
     },
     "metadata": {},
     "output_type": "display_data"
    }
   ],
   "source": [
    "(a_year <- dyears(1)) # 刚好是 60*60*24*365 秒"
   ]
  },
  {
   "cell_type": "code",
   "execution_count": 240,
   "metadata": {},
   "outputs": [
    {
     "data": {
      "text/html": [
       "1y 0m 0d 0H 0M 0S"
      ],
      "text/latex": [
       "1y 0m 0d 0H 0M 0S"
      ],
      "text/markdown": [
       "1y 0m 0d 0H 0M 0S"
      ],
      "text/plain": [
       "[1] \"1y 0m 0d 0H 0M 0S\""
      ]
     },
     "metadata": {},
     "output_type": "display_data"
    }
   ],
   "source": [
    "(as.period(a_year))"
   ]
  },
  {
   "cell_type": "code",
   "execution_count": 241,
   "metadata": {},
   "outputs": [
    {
     "name": "stderr",
     "output_type": "stream",
     "text": [
      "Warning message:\n",
      "“'new_interval' is deprecated; use 'interval' instead. Deprecated in version '1.5.0'.”"
     ]
    },
    {
     "data": {
      "text/html": [
       "2016-02-28 UTC--2017-02-27 UTC"
      ],
      "text/latex": [
       "2016-02-28 UTC--2017-02-27 UTC"
      ],
      "text/markdown": [
       "2016-02-28 UTC--2017-02-27 UTC"
      ],
      "text/plain": [
       "[1] 2016-02-28 UTC--2017-02-27 UTC"
      ]
     },
     "metadata": {},
     "output_type": "display_data"
    },
    {
     "data": {
      "text/html": [
       "11m 30d 0H 0M 0S"
      ],
      "text/latex": [
       "11m 30d 0H 0M 0S"
      ],
      "text/markdown": [
       "11m 30d 0H 0M 0S"
      ],
      "text/plain": [
       "[1] \"11m 30d 0H 0M 0S\""
      ]
     },
     "metadata": {},
     "output_type": "display_data"
    }
   ],
   "source": [
    "start_date <- ymd(\"2016-02-28\") \n",
    "(interval_over_leap_year <- new_interval(\n",
    "    start_date,\n",
    "    start_date + a_year \n",
    "))\n",
    "## [1] 2016-02-28 UTC--2017-02-27 UTC \n",
    "as.period(interval_over_leap_year)\n",
    "## [1] \"11m 30d 0H 0M 0S\""
   ]
  },
  {
   "cell_type": "code",
   "execution_count": 242,
   "metadata": {},
   "outputs": [
    {
     "data": {
      "text/html": [
       "2016-02-28 UTC--2016-03-01 UTC"
      ],
      "text/latex": [
       "2016-02-28 UTC--2016-03-01 UTC"
      ],
      "text/markdown": [
       "2016-02-28 UTC--2016-03-01 UTC"
      ],
      "text/plain": [
       "[1] 2016-02-28 UTC--2016-03-01 UTC"
      ]
     },
     "metadata": {},
     "output_type": "display_data"
    }
   ],
   "source": [
    "ymd(\"2016-02-28\") %--% ymd(\"2016-03-01\") # 另一种指定间隔的方式"
   ]
  },
  {
   "cell_type": "code",
   "execution_count": 243,
   "metadata": {},
   "outputs": [
    {
     "data": {
      "text/html": [
       "TRUE"
      ],
      "text/latex": [
       "TRUE"
      ],
      "text/markdown": [
       "TRUE"
      ],
      "text/plain": [
       "[1] TRUE"
      ]
     },
     "metadata": {},
     "output_type": "display_data"
    }
   ],
   "source": [
    "ymd(\"2016-02-29\") %within% interval_over_leap_year"
   ]
  },
  {
   "cell_type": "code",
   "execution_count": 244,
   "metadata": {},
   "outputs": [
    {
     "data": {
      "text/plain": [
       "[1] \"2021-03-02 01:55:03 PST\""
      ]
     },
     "metadata": {},
     "output_type": "display_data"
    }
   ],
   "source": [
    "with_tz(now_lt, tz = \"America/Los_Angeles\")"
   ]
  },
  {
   "cell_type": "code",
   "execution_count": 252,
   "metadata": {},
   "outputs": [
    {
     "data": {
      "text/plain": [
       "[1] \"2021-03-02 17:55:03 CST\""
      ]
     },
     "metadata": {},
     "output_type": "display_data"
    }
   ],
   "source": [
    "with_tz(now_lt, tz = \"Asia/Shanghai\")"
   ]
  },
  {
   "cell_type": "code",
   "execution_count": 253,
   "metadata": {},
   "outputs": [
    {
     "data": {
      "text/html": [
       "<ol class=list-inline>\n",
       "\t<li>'Africa/Abidjan'</li>\n",
       "\t<li>'Africa/Accra'</li>\n",
       "\t<li>'Africa/Addis_Ababa'</li>\n",
       "\t<li>'Africa/Algiers'</li>\n",
       "\t<li>'Africa/Asmara'</li>\n",
       "\t<li>'Africa/Asmera'</li>\n",
       "\t<li>'Africa/Bamako'</li>\n",
       "\t<li>'Africa/Bangui'</li>\n",
       "\t<li>'Africa/Banjul'</li>\n",
       "\t<li>'Africa/Bissau'</li>\n",
       "</ol>\n"
      ],
      "text/latex": [
       "\\begin{enumerate*}\n",
       "\\item 'Africa/Abidjan'\n",
       "\\item 'Africa/Accra'\n",
       "\\item 'Africa/Addis\\_Ababa'\n",
       "\\item 'Africa/Algiers'\n",
       "\\item 'Africa/Asmara'\n",
       "\\item 'Africa/Asmera'\n",
       "\\item 'Africa/Bamako'\n",
       "\\item 'Africa/Bangui'\n",
       "\\item 'Africa/Banjul'\n",
       "\\item 'Africa/Bissau'\n",
       "\\end{enumerate*}\n"
      ],
      "text/markdown": [
       "1. 'Africa/Abidjan'\n",
       "2. 'Africa/Accra'\n",
       "3. 'Africa/Addis_Ababa'\n",
       "4. 'Africa/Algiers'\n",
       "5. 'Africa/Asmara'\n",
       "6. 'Africa/Asmera'\n",
       "7. 'Africa/Bamako'\n",
       "8. 'Africa/Bangui'\n",
       "9. 'Africa/Banjul'\n",
       "10. 'Africa/Bissau'\n",
       "\n",
       "\n"
      ],
      "text/plain": [
       " [1] \"Africa/Abidjan\"     \"Africa/Accra\"       \"Africa/Addis_Ababa\"\n",
       " [4] \"Africa/Algiers\"     \"Africa/Asmara\"      \"Africa/Asmera\"     \n",
       " [7] \"Africa/Bamako\"      \"Africa/Bangui\"      \"Africa/Banjul\"     \n",
       "[10] \"Africa/Bissau\"     "
      ]
     },
     "metadata": {},
     "output_type": "display_data"
    }
   ],
   "source": [
    "head(OlsonNames(),10)"
   ]
  },
  {
   "cell_type": "code",
   "execution_count": 255,
   "metadata": {},
   "outputs": [
    {
     "name": "stderr",
     "output_type": "stream",
     "text": [
      "Warning message:\n",
      "“'olson_time_zones' is deprecated; use 'OlsonNames' instead. Deprecated in version '1.5.6'.”"
     ]
    },
    {
     "data": {
      "text/html": [
       "<ol class=list-inline>\n",
       "\t<li>'Pacific/Midway'</li>\n",
       "\t<li>'America/Adak'</li>\n",
       "\t<li>'Pacific/Chatham'</li>\n",
       "\t<li>'Pacific/Wallis'</li>\n",
       "\t<li>'Pacific/Tongatapu'</li>\n",
       "\t<li>'Pacific/Enderbury'</li>\n",
       "\t<li>'Pacific/Fakaofo'</li>\n",
       "\t<li>'Pacific/Apia'</li>\n",
       "\t<li>'Pacific/Pago_Pago'</li>\n",
       "\t<li>'Pacific/Niue'</li>\n",
       "</ol>\n"
      ],
      "text/latex": [
       "\\begin{enumerate*}\n",
       "\\item 'Pacific/Midway'\n",
       "\\item 'America/Adak'\n",
       "\\item 'Pacific/Chatham'\n",
       "\\item 'Pacific/Wallis'\n",
       "\\item 'Pacific/Tongatapu'\n",
       "\\item 'Pacific/Enderbury'\n",
       "\\item 'Pacific/Fakaofo'\n",
       "\\item 'Pacific/Apia'\n",
       "\\item 'Pacific/Pago\\_Pago'\n",
       "\\item 'Pacific/Niue'\n",
       "\\end{enumerate*}\n"
      ],
      "text/markdown": [
       "1. 'Pacific/Midway'\n",
       "2. 'America/Adak'\n",
       "3. 'Pacific/Chatham'\n",
       "4. 'Pacific/Wallis'\n",
       "5. 'Pacific/Tongatapu'\n",
       "6. 'Pacific/Enderbury'\n",
       "7. 'Pacific/Fakaofo'\n",
       "8. 'Pacific/Apia'\n",
       "9. 'Pacific/Pago_Pago'\n",
       "10. 'Pacific/Niue'\n",
       "\n",
       "\n"
      ],
      "text/plain": [
       " [1] \"Pacific/Midway\"    \"America/Adak\"      \"Pacific/Chatham\"  \n",
       " [4] \"Pacific/Wallis\"    \"Pacific/Tongatapu\" \"Pacific/Enderbury\"\n",
       " [7] \"Pacific/Fakaofo\"   \"Pacific/Apia\"      \"Pacific/Pago_Pago\"\n",
       "[10] \"Pacific/Niue\"     "
      ]
     },
     "metadata": {},
     "output_type": "display_data"
    }
   ],
   "source": [
    "head(olson_time_zones(\"longitude\"),10)"
   ]
  },
  {
   "cell_type": "code",
   "execution_count": 256,
   "metadata": {},
   "outputs": [
    {
     "data": {
      "text/html": [
       "<time datetime=\"2021-01-01\">2021-01-01</time>"
      ],
      "text/latex": [
       "2021-01-01"
      ],
      "text/markdown": [
       "2021-01-01"
      ],
      "text/plain": [
       "[1] \"2021-01-01\""
      ]
     },
     "metadata": {},
     "output_type": "display_data"
    }
   ],
   "source": [
    "floor_date(today(), \"year\")"
   ]
  },
  {
   "cell_type": "code",
   "execution_count": 257,
   "metadata": {},
   "outputs": [
    {
     "data": {
      "text/html": [
       "<time datetime=\"2022-01-01\">2022-01-01</time>"
      ],
      "text/latex": [
       "2022-01-01"
      ],
      "text/markdown": [
       "2022-01-01"
      ],
      "text/plain": [
       "[1] \"2022-01-01\""
      ]
     },
     "metadata": {},
     "output_type": "display_data"
    }
   ],
   "source": [
    "ceiling_date(today(), \"year\")"
   ]
  },
  {
   "cell_type": "code",
   "execution_count": 261,
   "metadata": {},
   "outputs": [
    {
     "data": {
      "text/plain": [
       "[1] \"2021-03-02 17:55:03 CST\""
      ]
     },
     "metadata": {},
     "output_type": "display_data"
    }
   ],
   "source": [
    "now_ct"
   ]
  },
  {
   "cell_type": "code",
   "execution_count": 260,
   "metadata": {},
   "outputs": [
    {
     "data": {
      "text/plain": [
       "[1] \"2021-03-02 17:55:04 CST\""
      ]
     },
     "metadata": {},
     "output_type": "display_data"
    }
   ],
   "source": [
    "now_ct+ 1"
   ]
  },
  {
   "cell_type": "code",
   "execution_count": 266,
   "metadata": {},
   "outputs": [
    {
     "data": {
      "text/plain": [
       "[1] \"2021-03-02 18:55:03 CST\""
      ]
     },
     "metadata": {},
     "output_type": "display_data"
    }
   ],
   "source": [
    "now_ct+ 3600"
   ]
  },
  {
   "cell_type": "code",
   "execution_count": null,
   "metadata": {},
   "outputs": [],
   "source": []
  },
  {
   "cell_type": "code",
   "execution_count": null,
   "metadata": {},
   "outputs": [],
   "source": []
  },
  {
   "cell_type": "code",
   "execution_count": null,
   "metadata": {},
   "outputs": [],
   "source": []
  }
 ],
 "metadata": {
  "kernelspec": {
   "display_name": "R",
   "language": "R",
   "name": "ir"
  },
  "language_info": {
   "codemirror_mode": "r",
   "file_extension": ".r",
   "mimetype": "text/x-r-source",
   "name": "R",
   "pygments_lexer": "r",
   "version": "3.6.1"
  }
 },
 "nbformat": 4,
 "nbformat_minor": 4
}
