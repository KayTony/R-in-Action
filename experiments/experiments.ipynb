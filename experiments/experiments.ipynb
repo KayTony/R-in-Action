{
 "cells": [
  {
   "cell_type": "code",
   "execution_count": 1,
   "metadata": {},
   "outputs": [
    {
     "data": {
      "text/html": [
       "'/Users/kaitong/lessons/R-in-Action/experiments'"
      ],
      "text/latex": [
       "'/Users/kaitong/lessons/R-in-Action/experiments'"
      ],
      "text/markdown": [
       "'/Users/kaitong/lessons/R-in-Action/experiments'"
      ],
      "text/plain": [
       "[1] \"/Users/kaitong/lessons/R-in-Action/experiments\""
      ]
     },
     "metadata": {},
     "output_type": "display_data"
    }
   ],
   "source": [
    "getwd()"
   ]
  },
  {
   "cell_type": "code",
   "execution_count": 2,
   "metadata": {},
   "outputs": [],
   "source": [
    "nugget_file = '/Users/kaitong/projects/Analysis/relevance model pl vs ol/data/11_8/US/20170015/hj5000022135_formatted_judgment_file.csv'\n",
    "nugget_raw_data = read.csv(nugget_file, header = TRUE, stringsAsFactors = FALSE)\n",
    "nugget_column_names = tolower(colnames(nugget_raw_data))\n",
    "nugget_column_names = ifelse(nugget_column_names == 'spot_sample_detail_id', 'sample_detail_id', nugget_column_names)\n",
    "colnames(nugget_raw_data) = nugget_column_names\n",
    "columns_string = c('query',\n",
    "                 'query_constraints',\n",
    "                 'category',\n",
    "                 'meta_category_name',\n",
    "                 'item_url',\n",
    "                 'image_url',\n",
    "                 'rank',\n",
    "                 'title',\n",
    "                 'sub_title',\n",
    "                 'description',\n",
    "                 'format',\n",
    "                 'price',\n",
    "                 'itemcondition',\n",
    "                 'attribute',\n",
    "                 'leaf_cats',\n",
    "                 'search_item_type',\n",
    "                 'search_module_type',\n",
    "                 'pl_badge_type',\n",
    "                 'is_pl',\n",
    "                 'is_ppl',\n",
    "                 'is_product',\n",
    "                 'itemcard_title',\n",
    "                 'itemcard_page_url',\n",
    "                 'itemcard_image_url',\n",
    "                 'prodcard_title',\n",
    "                 'prodcard_page_url',\n",
    "                 'prodcard_image_url',\n",
    "                 'relevance_model_field'\n",
    ")\n",
    "columns_numeric = c('sort_type',\n",
    "                  'qu_sample_detail_id',\n",
    "                  'sample_detail_id',\n",
    "                  'recall_size',\n",
    "                  'dom_cat',\n",
    "                  'meta_category_id',\n",
    "                  'item_id',\n",
    "                  'parent_id',\n",
    "                  'relevance_model_score')\n",
    "columns_string = intersect(columns_string, names(nugget_raw_data))\n",
    "columns_numeric = intersect(columns_numeric, names(nugget_raw_data))"
   ]
  },
  {
   "cell_type": "code",
   "execution_count": 63,
   "metadata": {},
   "outputs": [],
   "source": [
    "query_type_extract = function(s){\n",
    "    t = unlist(strsplit(s, '\\\\|'))\n",
    "    \n",
    "    if('1' %in% t & length(unique(t))>1){\n",
    "        qt = \"having_pl_and_ol\"\n",
    "    } else if('1' %in% t & length(unique(t))==1){\n",
    "        qt = \"having_ol_only\"\n",
    "    } else {\n",
    "        qt = \"having_pl_only\"\n",
    "    }\n",
    "    paste(rep(qt, length(t)), collapse = '|')\n",
    "}\n",
    "nugget_raw_data['query_pl_type'] = sapply(nugget_raw_data$pl_badge_type, query_type_extract)"
   ]
  },
  {
   "cell_type": "markdown",
   "metadata": {},
   "source": [
    "### get query type count"
   ]
  },
  {
   "cell_type": "code",
   "execution_count": 71,
   "metadata": {
    "scrolled": true
   },
   "outputs": [
    {
     "data": {
      "text/plain": [
       "\n",
       "  having_ol_only having_pl_and_ol \n",
       "            3369             6584 "
      ]
     },
     "metadata": {},
     "output_type": "display_data"
    }
   ],
   "source": [
    "get_first_value = function(s){\n",
    "    unlist(strsplit(s, '\\\\|'))[1]\n",
    "}\n",
    "\n",
    "table(sapply(nugget_raw_data$query_pl_type, get_first_value))"
   ]
  },
  {
   "cell_type": "markdown",
   "metadata": {},
   "source": [
    "### get item type count"
   ]
  },
  {
   "cell_type": "code",
   "execution_count": null,
   "metadata": {},
   "outputs": [],
   "source": [
    "qpt = nugget_data_extract$query_pl_type\n",
    "tapply(nugget_data_extract$relevance_model_score, qpt, FUN = count)"
   ]
  },
  {
   "cell_type": "code",
   "execution_count": null,
   "metadata": {},
   "outputs": [],
   "source": []
  },
  {
   "cell_type": "code",
   "execution_count": null,
   "metadata": {},
   "outputs": [],
   "source": []
  },
  {
   "cell_type": "code",
   "execution_count": null,
   "metadata": {},
   "outputs": [],
   "source": []
  },
  {
   "cell_type": "code",
   "execution_count": null,
   "metadata": {},
   "outputs": [],
   "source": []
  },
  {
   "cell_type": "code",
   "execution_count": 3,
   "metadata": {},
   "outputs": [
    {
     "data": {
      "text/html": [
       "TRUE"
      ],
      "text/latex": [
       "TRUE"
      ],
      "text/markdown": [
       "TRUE"
      ],
      "text/plain": [
       "[1] TRUE"
      ]
     },
     "metadata": {},
     "output_type": "display_data"
    }
   ],
   "source": [
    "grepl('a', 'abc')"
   ]
  },
  {
   "cell_type": "code",
   "execution_count": 44,
   "metadata": {},
   "outputs": [
    {
     "data": {
      "text/html": [
       "'1|1|1|1|1|1|1|1|1|1'"
      ],
      "text/latex": [
       "'1\\textbar{}1\\textbar{}1\\textbar{}1\\textbar{}1\\textbar{}1\\textbar{}1\\textbar{}1\\textbar{}1\\textbar{}1'"
      ],
      "text/markdown": [
       "'1|1|1|1|1|1|1|1|1|1'"
      ],
      "text/plain": [
       "[1] \"1|1|1|1|1|1|1|1|1|1\""
      ]
     },
     "metadata": {},
     "output_type": "display_data"
    }
   ],
   "source": [
    "head(nugget_raw_data$pl_badge_type, 20)[1]"
   ]
  },
  {
   "cell_type": "code",
   "execution_count": 48,
   "metadata": {},
   "outputs": [
    {
     "data": {
      "text/html": [
       "'having_pl_only'"
      ],
      "text/latex": [
       "'having\\_pl\\_only'"
      ],
      "text/markdown": [
       "'having_pl_only'"
      ],
      "text/plain": [
       "[1] \"having_pl_only\""
      ]
     },
     "metadata": {},
     "output_type": "display_data"
    }
   ],
   "source": [
    "query_type_extract('2|2|2|2|2|2|3')"
   ]
  },
  {
   "cell_type": "code",
   "execution_count": 30,
   "metadata": {},
   "outputs": [
    {
     "data": {
      "text/html": [
       "<ol class=list-inline>\n",
       "\t<li>'1'</li>\n",
       "\t<li>'1'</li>\n",
       "\t<li>'1'</li>\n",
       "\t<li>'1'</li>\n",
       "\t<li>'1'</li>\n",
       "\t<li>'1'</li>\n",
       "\t<li>'1'</li>\n",
       "\t<li>'1'</li>\n",
       "\t<li>'1'</li>\n",
       "\t<li>'1'</li>\n",
       "</ol>\n"
      ],
      "text/latex": [
       "\\begin{enumerate*}\n",
       "\\item '1'\n",
       "\\item '1'\n",
       "\\item '1'\n",
       "\\item '1'\n",
       "\\item '1'\n",
       "\\item '1'\n",
       "\\item '1'\n",
       "\\item '1'\n",
       "\\item '1'\n",
       "\\item '1'\n",
       "\\end{enumerate*}\n"
      ],
      "text/markdown": [
       "1. '1'\n",
       "2. '1'\n",
       "3. '1'\n",
       "4. '1'\n",
       "5. '1'\n",
       "6. '1'\n",
       "7. '1'\n",
       "8. '1'\n",
       "9. '1'\n",
       "10. '1'\n",
       "\n",
       "\n"
      ],
      "text/plain": [
       " [1] \"1\" \"1\" \"1\" \"1\" \"1\" \"1\" \"1\" \"1\" \"1\" \"1\""
      ]
     },
     "metadata": {},
     "output_type": "display_data"
    }
   ],
   "source": [
    "s = '1|1|1|1|1|1|1|1|1|1'\n",
    "t = unlist(strsplit(s, '\\\\|'))\n",
    "t"
   ]
  },
  {
   "cell_type": "code",
   "execution_count": 31,
   "metadata": {},
   "outputs": [
    {
     "data": {
      "text/html": [
       "'1'"
      ],
      "text/latex": [
       "'1'"
      ],
      "text/markdown": [
       "'1'"
      ],
      "text/plain": [
       "[1] \"1\""
      ]
     },
     "metadata": {},
     "output_type": "display_data"
    }
   ],
   "source": [
    "unique(t)"
   ]
  },
  {
   "cell_type": "code",
   "execution_count": 33,
   "metadata": {},
   "outputs": [
    {
     "data": {
      "text/html": [
       "FALSE"
      ],
      "text/latex": [
       "FALSE"
      ],
      "text/markdown": [
       "FALSE"
      ],
      "text/plain": [
       "[1] FALSE"
      ]
     },
     "metadata": {},
     "output_type": "display_data"
    }
   ],
   "source": [
    "'1' %in% t & length(unique(t))>1"
   ]
  },
  {
   "cell_type": "code",
   "execution_count": 50,
   "metadata": {},
   "outputs": [
    {
     "data": {
      "text/html": [
       "'character'"
      ],
      "text/latex": [
       "'character'"
      ],
      "text/markdown": [
       "'character'"
      ],
      "text/plain": [
       "[1] \"character\""
      ]
     },
     "metadata": {},
     "output_type": "display_data"
    }
   ],
   "source": [
    "class(nugget_raw_data$pl_badge_type)"
   ]
  },
  {
   "cell_type": "code",
   "execution_count": 56,
   "metadata": {},
   "outputs": [
    {
     "data": {
      "text/html": [
       "<ol class=list-inline>\n",
       "\t<li>'a'</li>\n",
       "\t<li>'a'</li>\n",
       "</ol>\n"
      ],
      "text/latex": [
       "\\begin{enumerate*}\n",
       "\\item 'a'\n",
       "\\item 'a'\n",
       "\\end{enumerate*}\n"
      ],
      "text/markdown": [
       "1. 'a'\n",
       "2. 'a'\n",
       "\n",
       "\n"
      ],
      "text/plain": [
       "[1] \"a\" \"a\""
      ]
     },
     "metadata": {},
     "output_type": "display_data"
    }
   ],
   "source": [
    "rep('a', 2)"
   ]
  },
  {
   "cell_type": "code",
   "execution_count": 59,
   "metadata": {},
   "outputs": [
    {
     "data": {
      "text/html": [
       "'a\\\\|a\\\\|a'"
      ],
      "text/latex": [
       "'a\\textbackslash{}\\textbackslash{}\\textbar{}a\\textbackslash{}\\textbackslash{}\\textbar{}a'"
      ],
      "text/markdown": [
       "'a\\\\|a\\\\|a'"
      ],
      "text/plain": [
       "[1] \"a\\\\|a\\\\|a\""
      ]
     },
     "metadata": {},
     "output_type": "display_data"
    }
   ],
   "source": [
    "paste(rep('a', 3), collapse='\\\\|')"
   ]
  },
  {
   "cell_type": "code",
   "execution_count": null,
   "metadata": {},
   "outputs": [],
   "source": []
  }
 ],
 "metadata": {
  "kernelspec": {
   "display_name": "R",
   "language": "R",
   "name": "ir"
  },
  "language_info": {
   "codemirror_mode": "r",
   "file_extension": ".r",
   "mimetype": "text/x-r-source",
   "name": "R",
   "pygments_lexer": "r",
   "version": "3.6.1"
  }
 },
 "nbformat": 4,
 "nbformat_minor": 4
}
