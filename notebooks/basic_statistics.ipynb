{
 "cells": [
  {
   "cell_type": "markdown",
   "metadata": {},
   "source": [
    "# Chapter 7 : Basic Statistics in R\n",
    "This chapter mainly introduce some methods describing basic statistic\n",
    " - descriptive statistics\n",
    " - Frequency and contingency tables\n",
    " - Correlations and covariances\n",
    " - t-tests\n",
    " - Nonparamettic statistics"
   ]
  },
  {
   "cell_type": "markdown",
   "metadata": {},
   "source": [
    "## descriptive statistics\n",
    "### sample data"
   ]
  },
  {
   "cell_type": "code",
   "execution_count": 1,
   "metadata": {},
   "outputs": [
    {
     "data": {
      "text/html": [
       "<table>\n",
       "<thead><tr><th></th><th scope=col>mpg</th><th scope=col>hp</th><th scope=col>wt</th></tr></thead>\n",
       "<tbody>\n",
       "\t<tr><th scope=row>Mazda RX4</th><td>21.0 </td><td>110  </td><td>2.620</td></tr>\n",
       "\t<tr><th scope=row>Mazda RX4 Wag</th><td>21.0 </td><td>110  </td><td>2.875</td></tr>\n",
       "\t<tr><th scope=row>Datsun 710</th><td>22.8 </td><td> 93  </td><td>2.320</td></tr>\n",
       "\t<tr><th scope=row>Hornet 4 Drive</th><td>21.4 </td><td>110  </td><td>3.215</td></tr>\n",
       "\t<tr><th scope=row>Hornet Sportabout</th><td>18.7 </td><td>175  </td><td>3.440</td></tr>\n",
       "\t<tr><th scope=row>Valiant</th><td>18.1 </td><td>105  </td><td>3.460</td></tr>\n",
       "</tbody>\n",
       "</table>\n"
      ],
      "text/latex": [
       "\\begin{tabular}{r|lll}\n",
       "  & mpg & hp & wt\\\\\n",
       "\\hline\n",
       "\tMazda RX4 & 21.0  & 110   & 2.620\\\\\n",
       "\tMazda RX4 Wag & 21.0  & 110   & 2.875\\\\\n",
       "\tDatsun 710 & 22.8  &  93   & 2.320\\\\\n",
       "\tHornet 4 Drive & 21.4  & 110   & 3.215\\\\\n",
       "\tHornet Sportabout & 18.7  & 175   & 3.440\\\\\n",
       "\tValiant & 18.1  & 105   & 3.460\\\\\n",
       "\\end{tabular}\n"
      ],
      "text/markdown": [
       "\n",
       "| <!--/--> | mpg | hp | wt |\n",
       "|---|---|---|---|\n",
       "| Mazda RX4 | 21.0  | 110   | 2.620 |\n",
       "| Mazda RX4 Wag | 21.0  | 110   | 2.875 |\n",
       "| Datsun 710 | 22.8  |  93   | 2.320 |\n",
       "| Hornet 4 Drive | 21.4  | 110   | 3.215 |\n",
       "| Hornet Sportabout | 18.7  | 175   | 3.440 |\n",
       "| Valiant | 18.1  | 105   | 3.460 |\n",
       "\n"
      ],
      "text/plain": [
       "                  mpg  hp  wt   \n",
       "Mazda RX4         21.0 110 2.620\n",
       "Mazda RX4 Wag     21.0 110 2.875\n",
       "Datsun 710        22.8  93 2.320\n",
       "Hornet 4 Drive    21.4 110 3.215\n",
       "Hornet Sportabout 18.7 175 3.440\n",
       "Valiant           18.1 105 3.460"
      ]
     },
     "metadata": {},
     "output_type": "display_data"
    },
    {
     "data": {
      "text/plain": [
       "      mpg              hp              wt       \n",
       " Min.   :10.40   Min.   : 52.0   Min.   :1.513  \n",
       " 1st Qu.:15.43   1st Qu.: 96.5   1st Qu.:2.581  \n",
       " Median :19.20   Median :123.0   Median :3.325  \n",
       " Mean   :20.09   Mean   :146.7   Mean   :3.217  \n",
       " 3rd Qu.:22.80   3rd Qu.:180.0   3rd Qu.:3.610  \n",
       " Max.   :33.90   Max.   :335.0   Max.   :5.424  "
      ]
     },
     "metadata": {},
     "output_type": "display_data"
    }
   ],
   "source": [
    "vars = c(\"mpg\", \"hp\", \"wt\")\n",
    "head(mtcars[vars])\n",
    "summary(mtcars[vars])   # basic information of data"
   ]
  },
  {
   "cell_type": "markdown",
   "metadata": {},
   "source": [
    "### using sapply"
   ]
  },
  {
   "cell_type": "code",
   "execution_count": 2,
   "metadata": {},
   "outputs": [
    {
     "data": {
      "text/html": [
       "<table>\n",
       "<thead><tr><th></th><th scope=col>mpg</th><th scope=col>hp</th><th scope=col>wt</th></tr></thead>\n",
       "<tbody>\n",
       "\t<tr><th scope=row>n</th><td>32.000000  </td><td> 32.0000000</td><td>32.00000000</td></tr>\n",
       "\t<tr><th scope=row>mean</th><td>20.090625  </td><td>146.6875000</td><td> 3.21725000</td></tr>\n",
       "\t<tr><th scope=row>stdev</th><td> 6.026948  </td><td> 68.5628685</td><td> 0.97845744</td></tr>\n",
       "\t<tr><th scope=row>skew</th><td> 0.610655  </td><td>  0.7260237</td><td> 0.42314646</td></tr>\n",
       "\t<tr><th scope=row>kurosis</th><td>-0.372766  </td><td> -0.1355511</td><td>-0.02271075</td></tr>\n",
       "</tbody>\n",
       "</table>\n"
      ],
      "text/latex": [
       "\\begin{tabular}{r|lll}\n",
       "  & mpg & hp & wt\\\\\n",
       "\\hline\n",
       "\tn & 32.000000   &  32.0000000 & 32.00000000\\\\\n",
       "\tmean & 20.090625   & 146.6875000 &  3.21725000\\\\\n",
       "\tstdev &  6.026948   &  68.5628685 &  0.97845744\\\\\n",
       "\tskew &  0.610655   &   0.7260237 &  0.42314646\\\\\n",
       "\tkurosis & -0.372766   &  -0.1355511 & -0.02271075\\\\\n",
       "\\end{tabular}\n"
      ],
      "text/markdown": [
       "\n",
       "| <!--/--> | mpg | hp | wt |\n",
       "|---|---|---|---|\n",
       "| n | 32.000000   |  32.0000000 | 32.00000000 |\n",
       "| mean | 20.090625   | 146.6875000 |  3.21725000 |\n",
       "| stdev |  6.026948   |  68.5628685 |  0.97845744 |\n",
       "| skew |  0.610655   |   0.7260237 |  0.42314646 |\n",
       "| kurosis | -0.372766   |  -0.1355511 | -0.02271075 |\n",
       "\n"
      ],
      "text/plain": [
       "        mpg       hp          wt         \n",
       "n       32.000000  32.0000000 32.00000000\n",
       "mean    20.090625 146.6875000  3.21725000\n",
       "stdev    6.026948  68.5628685  0.97845744\n",
       "skew     0.610655   0.7260237  0.42314646\n",
       "kurosis -0.372766  -0.1355511 -0.02271075"
      ]
     },
     "metadata": {},
     "output_type": "display_data"
    }
   ],
   "source": [
    "## skew, kurt\n",
    "mystats = function(x, na.omit=FALSE){\n",
    "  if (na.omit)\n",
    "    x = x[!is.na(x)]\n",
    "  m = mean(x)\n",
    "  n = length(x)\n",
    "  s = sd(x)\n",
    "  skew = sum((x-m)^3/s^3)/n\n",
    "  kurt = sum((x-m)^4/s^4)/n - 3\n",
    "  return(c(n=n, mean=m, stdev=s, skew=skew, kurosis=kurt))\n",
    "}\n",
    "sapply(mtcars[vars], mystats)"
   ]
  },
  {
   "cell_type": "markdown",
   "metadata": {},
   "source": [
    "### using package pastecs"
   ]
  },
  {
   "cell_type": "code",
   "execution_count": 3,
   "metadata": {},
   "outputs": [
    {
     "data": {
      "text/html": [
       "<table>\n",
       "<thead><tr><th></th><th scope=col>mpg</th><th scope=col>hp</th><th scope=col>wt</th></tr></thead>\n",
       "<tbody>\n",
       "\t<tr><th scope=row>nbr.val</th><td> 32.0000000 </td><td>  32.0000000</td><td> 32.0000000 </td></tr>\n",
       "\t<tr><th scope=row>nbr.null</th><td>  0.0000000 </td><td>   0.0000000</td><td>  0.0000000 </td></tr>\n",
       "\t<tr><th scope=row>nbr.na</th><td>  0.0000000 </td><td>   0.0000000</td><td>  0.0000000 </td></tr>\n",
       "\t<tr><th scope=row>min</th><td> 10.4000000 </td><td>  52.0000000</td><td>  1.5130000 </td></tr>\n",
       "\t<tr><th scope=row>max</th><td> 33.9000000 </td><td> 335.0000000</td><td>  5.4240000 </td></tr>\n",
       "\t<tr><th scope=row>range</th><td> 23.5000000 </td><td> 283.0000000</td><td>  3.9110000 </td></tr>\n",
       "\t<tr><th scope=row>sum</th><td>642.9000000 </td><td>4694.0000000</td><td>102.9520000 </td></tr>\n",
       "\t<tr><th scope=row>median</th><td> 19.2000000 </td><td> 123.0000000</td><td>  3.3250000 </td></tr>\n",
       "\t<tr><th scope=row>mean</th><td> 20.0906250 </td><td> 146.6875000</td><td>  3.2172500 </td></tr>\n",
       "\t<tr><th scope=row>SE.mean</th><td>  1.0654240 </td><td>  12.1203173</td><td>  0.1729685 </td></tr>\n",
       "\t<tr><th scope=row>CI.mean.0.95</th><td>  2.1729465 </td><td>  24.7195501</td><td>  0.3527715 </td></tr>\n",
       "\t<tr><th scope=row>var</th><td> 36.3241028 </td><td>4700.8669355</td><td>  0.9573790 </td></tr>\n",
       "\t<tr><th scope=row>std.dev</th><td>  6.0269481 </td><td>  68.5628685</td><td>  0.9784574 </td></tr>\n",
       "\t<tr><th scope=row>coef.var</th><td>  0.2999881 </td><td>   0.4674077</td><td>  0.3041285 </td></tr>\n",
       "</tbody>\n",
       "</table>\n"
      ],
      "text/latex": [
       "\\begin{tabular}{r|lll}\n",
       "  & mpg & hp & wt\\\\\n",
       "\\hline\n",
       "\tnbr.val &  32.0000000  &   32.0000000 &  32.0000000 \\\\\n",
       "\tnbr.null &   0.0000000  &    0.0000000 &   0.0000000 \\\\\n",
       "\tnbr.na &   0.0000000  &    0.0000000 &   0.0000000 \\\\\n",
       "\tmin &  10.4000000  &   52.0000000 &   1.5130000 \\\\\n",
       "\tmax &  33.9000000  &  335.0000000 &   5.4240000 \\\\\n",
       "\trange &  23.5000000  &  283.0000000 &   3.9110000 \\\\\n",
       "\tsum & 642.9000000  & 4694.0000000 & 102.9520000 \\\\\n",
       "\tmedian &  19.2000000  &  123.0000000 &   3.3250000 \\\\\n",
       "\tmean &  20.0906250  &  146.6875000 &   3.2172500 \\\\\n",
       "\tSE.mean &   1.0654240  &   12.1203173 &   0.1729685 \\\\\n",
       "\tCI.mean.0.95 &   2.1729465  &   24.7195501 &   0.3527715 \\\\\n",
       "\tvar &  36.3241028  & 4700.8669355 &   0.9573790 \\\\\n",
       "\tstd.dev &   6.0269481  &   68.5628685 &   0.9784574 \\\\\n",
       "\tcoef.var &   0.2999881  &    0.4674077 &   0.3041285 \\\\\n",
       "\\end{tabular}\n"
      ],
      "text/markdown": [
       "\n",
       "| <!--/--> | mpg | hp | wt |\n",
       "|---|---|---|---|\n",
       "| nbr.val |  32.0000000  |   32.0000000 |  32.0000000  |\n",
       "| nbr.null |   0.0000000  |    0.0000000 |   0.0000000  |\n",
       "| nbr.na |   0.0000000  |    0.0000000 |   0.0000000  |\n",
       "| min |  10.4000000  |   52.0000000 |   1.5130000  |\n",
       "| max |  33.9000000  |  335.0000000 |   5.4240000  |\n",
       "| range |  23.5000000  |  283.0000000 |   3.9110000  |\n",
       "| sum | 642.9000000  | 4694.0000000 | 102.9520000  |\n",
       "| median |  19.2000000  |  123.0000000 |   3.3250000  |\n",
       "| mean |  20.0906250  |  146.6875000 |   3.2172500  |\n",
       "| SE.mean |   1.0654240  |   12.1203173 |   0.1729685  |\n",
       "| CI.mean.0.95 |   2.1729465  |   24.7195501 |   0.3527715  |\n",
       "| var |  36.3241028  | 4700.8669355 |   0.9573790  |\n",
       "| std.dev |   6.0269481  |   68.5628685 |   0.9784574  |\n",
       "| coef.var |   0.2999881  |    0.4674077 |   0.3041285  |\n",
       "\n"
      ],
      "text/plain": [
       "             mpg         hp           wt         \n",
       "nbr.val       32.0000000   32.0000000  32.0000000\n",
       "nbr.null       0.0000000    0.0000000   0.0000000\n",
       "nbr.na         0.0000000    0.0000000   0.0000000\n",
       "min           10.4000000   52.0000000   1.5130000\n",
       "max           33.9000000  335.0000000   5.4240000\n",
       "range         23.5000000  283.0000000   3.9110000\n",
       "sum          642.9000000 4694.0000000 102.9520000\n",
       "median        19.2000000  123.0000000   3.3250000\n",
       "mean          20.0906250  146.6875000   3.2172500\n",
       "SE.mean        1.0654240   12.1203173   0.1729685\n",
       "CI.mean.0.95   2.1729465   24.7195501   0.3527715\n",
       "var           36.3241028 4700.8669355   0.9573790\n",
       "std.dev        6.0269481   68.5628685   0.9784574\n",
       "coef.var       0.2999881    0.4674077   0.3041285"
      ]
     },
     "metadata": {},
     "output_type": "display_data"
    }
   ],
   "source": [
    "library(pastecs)\n",
    "stat.desc(mtcars[vars])"
   ]
  },
  {
   "cell_type": "markdown",
   "metadata": {},
   "source": [
    "### using package psych"
   ]
  },
  {
   "cell_type": "code",
   "execution_count": 4,
   "metadata": {
    "scrolled": true
   },
   "outputs": [
    {
     "data": {
      "text/html": [
       "<table>\n",
       "<thead><tr><th></th><th scope=col>vars</th><th scope=col>n</th><th scope=col>mean</th><th scope=col>sd</th><th scope=col>median</th><th scope=col>trimmed</th><th scope=col>mad</th><th scope=col>min</th><th scope=col>max</th><th scope=col>range</th><th scope=col>skew</th><th scope=col>kurtosis</th><th scope=col>se</th></tr></thead>\n",
       "<tbody>\n",
       "\t<tr><th scope=row>mpg</th><td>1          </td><td>32         </td><td> 20.09062  </td><td> 6.0269481 </td><td> 19.200    </td><td> 19.696154 </td><td> 5.4114900 </td><td>10.400     </td><td> 33.900    </td><td> 23.500    </td><td>0.6106550  </td><td>-0.37276603</td><td> 1.0654240 </td></tr>\n",
       "\t<tr><th scope=row>hp</th><td>2          </td><td>32         </td><td>146.68750  </td><td>68.5628685 </td><td>123.000    </td><td>141.192308 </td><td>77.0952000 </td><td>52.000     </td><td>335.000    </td><td>283.000    </td><td>0.7260237  </td><td>-0.13555112</td><td>12.1203173 </td></tr>\n",
       "\t<tr><th scope=row>wt</th><td>3          </td><td>32         </td><td>  3.21725  </td><td> 0.9784574 </td><td>  3.325    </td><td>  3.152692 </td><td> 0.7672455 </td><td> 1.513     </td><td>  5.424    </td><td>  3.911    </td><td>0.4231465  </td><td>-0.02271075</td><td> 0.1729685 </td></tr>\n",
       "</tbody>\n",
       "</table>\n"
      ],
      "text/latex": [
       "\\begin{tabular}{r|lllllllllllll}\n",
       "  & vars & n & mean & sd & median & trimmed & mad & min & max & range & skew & kurtosis & se\\\\\n",
       "\\hline\n",
       "\tmpg & 1           & 32          &  20.09062   &  6.0269481  &  19.200     &  19.696154  &  5.4114900  & 10.400      &  33.900     &  23.500     & 0.6106550   & -0.37276603 &  1.0654240 \\\\\n",
       "\thp & 2           & 32          & 146.68750   & 68.5628685  & 123.000     & 141.192308  & 77.0952000  & 52.000      & 335.000     & 283.000     & 0.7260237   & -0.13555112 & 12.1203173 \\\\\n",
       "\twt & 3           & 32          &   3.21725   &  0.9784574  &   3.325     &   3.152692  &  0.7672455  &  1.513      &   5.424     &   3.911     & 0.4231465   & -0.02271075 &  0.1729685 \\\\\n",
       "\\end{tabular}\n"
      ],
      "text/markdown": [
       "\n",
       "| <!--/--> | vars | n | mean | sd | median | trimmed | mad | min | max | range | skew | kurtosis | se |\n",
       "|---|---|---|---|---|---|---|---|---|---|---|---|---|---|\n",
       "| mpg | 1           | 32          |  20.09062   |  6.0269481  |  19.200     |  19.696154  |  5.4114900  | 10.400      |  33.900     |  23.500     | 0.6106550   | -0.37276603 |  1.0654240  |\n",
       "| hp | 2           | 32          | 146.68750   | 68.5628685  | 123.000     | 141.192308  | 77.0952000  | 52.000      | 335.000     | 283.000     | 0.7260237   | -0.13555112 | 12.1203173  |\n",
       "| wt | 3           | 32          |   3.21725   |  0.9784574  |   3.325     |   3.152692  |  0.7672455  |  1.513      |   5.424     |   3.911     | 0.4231465   | -0.02271075 |  0.1729685  |\n",
       "\n"
      ],
      "text/plain": [
       "    vars n  mean      sd         median  trimmed    mad        min    max    \n",
       "mpg 1    32  20.09062  6.0269481  19.200  19.696154  5.4114900 10.400  33.900\n",
       "hp  2    32 146.68750 68.5628685 123.000 141.192308 77.0952000 52.000 335.000\n",
       "wt  3    32   3.21725  0.9784574   3.325   3.152692  0.7672455  1.513   5.424\n",
       "    range   skew      kurtosis    se        \n",
       "mpg  23.500 0.6106550 -0.37276603  1.0654240\n",
       "hp  283.000 0.7260237 -0.13555112 12.1203173\n",
       "wt    3.911 0.4231465 -0.02271075  0.1729685"
      ]
     },
     "metadata": {},
     "output_type": "display_data"
    }
   ],
   "source": [
    "library(psych)\n",
    "describe(mtcars[vars])"
   ]
  },
  {
   "cell_type": "markdown",
   "metadata": {},
   "source": [
    "## Descriptive statistics by group"
   ]
  },
  {
   "cell_type": "markdown",
   "metadata": {},
   "source": [
    "### using aggregate"
   ]
  },
  {
   "cell_type": "code",
   "execution_count": 6,
   "metadata": {},
   "outputs": [
    {
     "data": {
      "text/html": [
       "<table>\n",
       "<thead><tr><th scope=col>am</th><th scope=col>mpg</th><th scope=col>hp</th><th scope=col>wt</th></tr></thead>\n",
       "<tbody>\n",
       "\t<tr><td>0       </td><td>17.14737</td><td>160.2632</td><td>3.768895</td></tr>\n",
       "\t<tr><td>1       </td><td>24.39231</td><td>126.8462</td><td>2.411000</td></tr>\n",
       "</tbody>\n",
       "</table>\n"
      ],
      "text/latex": [
       "\\begin{tabular}{r|llll}\n",
       " am & mpg & hp & wt\\\\\n",
       "\\hline\n",
       "\t 0        & 17.14737 & 160.2632 & 3.768895\\\\\n",
       "\t 1        & 24.39231 & 126.8462 & 2.411000\\\\\n",
       "\\end{tabular}\n"
      ],
      "text/markdown": [
       "\n",
       "| am | mpg | hp | wt |\n",
       "|---|---|---|---|\n",
       "| 0        | 17.14737 | 160.2632 | 3.768895 |\n",
       "| 1        | 24.39231 | 126.8462 | 2.411000 |\n",
       "\n"
      ],
      "text/plain": [
       "  am mpg      hp       wt      \n",
       "1 0  17.14737 160.2632 3.768895\n",
       "2 1  24.39231 126.8462 2.411000"
      ]
     },
     "metadata": {},
     "output_type": "display_data"
    },
    {
     "data": {
      "text/html": [
       "<table>\n",
       "<thead><tr><th scope=col>am</th><th scope=col>mpg</th><th scope=col>hp</th><th scope=col>wt</th></tr></thead>\n",
       "<tbody>\n",
       "\t<tr><td>0        </td><td>3.833966 </td><td>53.90820 </td><td>0.7774001</td></tr>\n",
       "\t<tr><td>1        </td><td>6.166504 </td><td>84.06232 </td><td>0.6169816</td></tr>\n",
       "</tbody>\n",
       "</table>\n"
      ],
      "text/latex": [
       "\\begin{tabular}{r|llll}\n",
       " am & mpg & hp & wt\\\\\n",
       "\\hline\n",
       "\t 0         & 3.833966  & 53.90820  & 0.7774001\\\\\n",
       "\t 1         & 6.166504  & 84.06232  & 0.6169816\\\\\n",
       "\\end{tabular}\n"
      ],
      "text/markdown": [
       "\n",
       "| am | mpg | hp | wt |\n",
       "|---|---|---|---|\n",
       "| 0         | 3.833966  | 53.90820  | 0.7774001 |\n",
       "| 1         | 6.166504  | 84.06232  | 0.6169816 |\n",
       "\n"
      ],
      "text/plain": [
       "  am mpg      hp       wt       \n",
       "1 0  3.833966 53.90820 0.7774001\n",
       "2 1  6.166504 84.06232 0.6169816"
      ]
     },
     "metadata": {},
     "output_type": "display_data"
    }
   ],
   "source": [
    "aggregate(mtcars[vars], by=list(am=mtcars$am), mean)\n",
    "aggregate(mtcars[vars], by=list(am=mtcars$am), sd)"
   ]
  },
  {
   "cell_type": "markdown",
   "metadata": {},
   "source": [
    "### using by \n",
    "Attention: Some error in by() function"
   ]
  },
  {
   "cell_type": "code",
   "execution_count": 8,
   "metadata": {},
   "outputs": [
    {
     "ename": "ERROR",
     "evalue": "Error in is.data.frame(x): (list) object cannot be coerced to type 'double'\n",
     "output_type": "error",
     "traceback": [
      "Error in is.data.frame(x): (list) object cannot be coerced to type 'double'\nTraceback:\n",
      "1. by(mtcars[vars], mtcars$am, sd)",
      "2. by.data.frame(mtcars[vars], mtcars$am, sd)",
      "3. structure(eval(substitute(tapply(seq_len(nd), IND, FUNx, simplify = simplify)), \n .     data), call = match.call(), class = \"by\")",
      "4. eval(substitute(tapply(seq_len(nd), IND, FUNx, simplify = simplify)), \n .     data)",
      "5. eval(substitute(tapply(seq_len(nd), IND, FUNx, simplify = simplify)), \n .     data)",
      "6. tapply(seq_len(32L), list(`mtcars$am` = c(1, 1, 1, 0, 0, 0, 0, \n . 0, 0, 0, 0, 0, 0, 0, 0, 0, 0, 1, 1, 1, 0, 0, 0, 0, 0, 1, 1, 1, \n . 1, 1, 1, 1)), function (x) \n . FUN(data[x, , drop = FALSE], ...), simplify = TRUE)",
      "7. lapply(X = ans[index], FUN = FUN, ...)",
      "8. FUN(X[[i]], ...)",
      "9. FUN(data[x, , drop = FALSE], ...)",
      "10. var(if (is.vector(x) || is.factor(x)) x else as.double(x), na.rm = na.rm)",
      "11. is.data.frame(x)"
     ]
    }
   ],
   "source": [
    "dstats = function(x)(c(mean=mean(x), sd=sd(x)))\n",
    "by(mtcars[vars], mtcars$am, sd)"
   ]
  },
  {
   "cell_type": "markdown",
   "metadata": {},
   "source": [
    "### using package psych"
   ]
  },
  {
   "cell_type": "code",
   "execution_count": 10,
   "metadata": {},
   "outputs": [
    {
     "name": "stderr",
     "output_type": "stream",
     "text": [
      "Warning message:\n",
      "“describe.by is deprecated.  Please use the describeBy function”"
     ]
    },
    {
     "data": {
      "text/plain": [
       "\n",
       " Descriptive statistics by group \n",
       "group: 0\n",
       "    vars  n   mean    sd median trimmed   mad   min    max  range  skew\n",
       "mpg    1 19  17.15  3.83  17.30   17.12  3.11 10.40  24.40  14.00  0.01\n",
       "hp     2 19 160.26 53.91 175.00  161.06 77.10 62.00 245.00 183.00 -0.01\n",
       "wt     3 19   3.77  0.78   3.52    3.75  0.45  2.46   5.42   2.96  0.98\n",
       "    kurtosis    se\n",
       "mpg    -0.80  0.88\n",
       "hp     -1.21 12.37\n",
       "wt      0.14  0.18\n",
       "------------------------------------------------------------ \n",
       "group: 1\n",
       "    vars  n   mean    sd median trimmed   mad   min    max  range skew kurtosis\n",
       "mpg    1 13  24.39  6.17  22.80   24.38  6.67 15.00  33.90  18.90 0.05    -1.46\n",
       "hp     2 13 126.85 84.06 109.00  114.73 63.75 52.00 335.00 283.00 1.36     0.56\n",
       "wt     3 13   2.41  0.62   2.32    2.39  0.68  1.51   3.57   2.06 0.21    -1.17\n",
       "       se\n",
       "mpg  1.71\n",
       "hp  23.31\n",
       "wt   0.17"
      ]
     },
     "metadata": {},
     "output_type": "display_data"
    }
   ],
   "source": [
    "### psych\n",
    "describe.by(mtcars[vars], mtcars$am)"
   ]
  },
  {
   "cell_type": "markdown",
   "metadata": {},
   "source": [
    "### using reshape and cast function"
   ]
  },
  {
   "cell_type": "code",
   "execution_count": 12,
   "metadata": {},
   "outputs": [
    {
     "data": {
      "text/html": [
       "<table>\n",
       "<thead><tr><th scope=col>am</th><th scope=col>cyl</th><th scope=col>variable</th><th scope=col>n</th><th scope=col>mean</th><th scope=col>sd</th></tr></thead>\n",
       "<tbody>\n",
       "\t<tr><td>0         </td><td>4         </td><td>mpg       </td><td> 3        </td><td> 22.900000</td><td> 1.4525839</td></tr>\n",
       "\t<tr><td>0         </td><td>4         </td><td>hp        </td><td> 3        </td><td> 84.666667</td><td>19.6553640</td></tr>\n",
       "\t<tr><td>0         </td><td>4         </td><td>wt        </td><td> 3        </td><td>  2.935000</td><td> 0.4075230</td></tr>\n",
       "\t<tr><td>0         </td><td>6         </td><td>mpg       </td><td> 4        </td><td> 19.125000</td><td> 1.6317169</td></tr>\n",
       "\t<tr><td>0         </td><td>6         </td><td>hp        </td><td> 4        </td><td>115.250000</td><td> 9.1787799</td></tr>\n",
       "\t<tr><td>0         </td><td>6         </td><td>wt        </td><td> 4        </td><td>  3.388750</td><td> 0.1162164</td></tr>\n",
       "\t<tr><td>0         </td><td>8         </td><td>mpg       </td><td>12        </td><td> 15.050000</td><td> 2.7743959</td></tr>\n",
       "\t<tr><td>0         </td><td>8         </td><td>hp        </td><td>12        </td><td>194.166667</td><td>33.3598379</td></tr>\n",
       "\t<tr><td>0         </td><td>8         </td><td>wt        </td><td>12        </td><td>  4.104083</td><td> 0.7683069</td></tr>\n",
       "\t<tr><td>1         </td><td>4         </td><td>mpg       </td><td> 8        </td><td> 28.075000</td><td> 4.4838599</td></tr>\n",
       "\t<tr><td>1         </td><td>4         </td><td>hp        </td><td> 8        </td><td> 81.875000</td><td>22.6554156</td></tr>\n",
       "\t<tr><td>1         </td><td>4         </td><td>wt        </td><td> 8        </td><td>  2.042250</td><td> 0.4093485</td></tr>\n",
       "\t<tr><td>1         </td><td>6         </td><td>mpg       </td><td> 3        </td><td> 20.566667</td><td> 0.7505553</td></tr>\n",
       "\t<tr><td>1         </td><td>6         </td><td>hp        </td><td> 3        </td><td>131.666667</td><td>37.5277675</td></tr>\n",
       "\t<tr><td>1         </td><td>6         </td><td>wt        </td><td> 3        </td><td>  2.755000</td><td> 0.1281601</td></tr>\n",
       "\t<tr><td>1         </td><td>8         </td><td>mpg       </td><td> 2        </td><td> 15.400000</td><td> 0.5656854</td></tr>\n",
       "\t<tr><td>1         </td><td>8         </td><td>hp        </td><td> 2        </td><td>299.500000</td><td>50.2045815</td></tr>\n",
       "\t<tr><td>1         </td><td>8         </td><td>wt        </td><td> 2        </td><td>  3.370000</td><td> 0.2828427</td></tr>\n",
       "</tbody>\n",
       "</table>\n"
      ],
      "text/latex": [
       "\\begin{tabular}{r|llllll}\n",
       " am & cyl & variable & n & mean & sd\\\\\n",
       "\\hline\n",
       "\t 0          & 4          & mpg        &  3         &  22.900000 &  1.4525839\\\\\n",
       "\t 0          & 4          & hp         &  3         &  84.666667 & 19.6553640\\\\\n",
       "\t 0          & 4          & wt         &  3         &   2.935000 &  0.4075230\\\\\n",
       "\t 0          & 6          & mpg        &  4         &  19.125000 &  1.6317169\\\\\n",
       "\t 0          & 6          & hp         &  4         & 115.250000 &  9.1787799\\\\\n",
       "\t 0          & 6          & wt         &  4         &   3.388750 &  0.1162164\\\\\n",
       "\t 0          & 8          & mpg        & 12         &  15.050000 &  2.7743959\\\\\n",
       "\t 0          & 8          & hp         & 12         & 194.166667 & 33.3598379\\\\\n",
       "\t 0          & 8          & wt         & 12         &   4.104083 &  0.7683069\\\\\n",
       "\t 1          & 4          & mpg        &  8         &  28.075000 &  4.4838599\\\\\n",
       "\t 1          & 4          & hp         &  8         &  81.875000 & 22.6554156\\\\\n",
       "\t 1          & 4          & wt         &  8         &   2.042250 &  0.4093485\\\\\n",
       "\t 1          & 6          & mpg        &  3         &  20.566667 &  0.7505553\\\\\n",
       "\t 1          & 6          & hp         &  3         & 131.666667 & 37.5277675\\\\\n",
       "\t 1          & 6          & wt         &  3         &   2.755000 &  0.1281601\\\\\n",
       "\t 1          & 8          & mpg        &  2         &  15.400000 &  0.5656854\\\\\n",
       "\t 1          & 8          & hp         &  2         & 299.500000 & 50.2045815\\\\\n",
       "\t 1          & 8          & wt         &  2         &   3.370000 &  0.2828427\\\\\n",
       "\\end{tabular}\n"
      ],
      "text/markdown": [
       "\n",
       "| am | cyl | variable | n | mean | sd |\n",
       "|---|---|---|---|---|---|\n",
       "| 0          | 4          | mpg        |  3         |  22.900000 |  1.4525839 |\n",
       "| 0          | 4          | hp         |  3         |  84.666667 | 19.6553640 |\n",
       "| 0          | 4          | wt         |  3         |   2.935000 |  0.4075230 |\n",
       "| 0          | 6          | mpg        |  4         |  19.125000 |  1.6317169 |\n",
       "| 0          | 6          | hp         |  4         | 115.250000 |  9.1787799 |\n",
       "| 0          | 6          | wt         |  4         |   3.388750 |  0.1162164 |\n",
       "| 0          | 8          | mpg        | 12         |  15.050000 |  2.7743959 |\n",
       "| 0          | 8          | hp         | 12         | 194.166667 | 33.3598379 |\n",
       "| 0          | 8          | wt         | 12         |   4.104083 |  0.7683069 |\n",
       "| 1          | 4          | mpg        |  8         |  28.075000 |  4.4838599 |\n",
       "| 1          | 4          | hp         |  8         |  81.875000 | 22.6554156 |\n",
       "| 1          | 4          | wt         |  8         |   2.042250 |  0.4093485 |\n",
       "| 1          | 6          | mpg        |  3         |  20.566667 |  0.7505553 |\n",
       "| 1          | 6          | hp         |  3         | 131.666667 | 37.5277675 |\n",
       "| 1          | 6          | wt         |  3         |   2.755000 |  0.1281601 |\n",
       "| 1          | 8          | mpg        |  2         |  15.400000 |  0.5656854 |\n",
       "| 1          | 8          | hp         |  2         | 299.500000 | 50.2045815 |\n",
       "| 1          | 8          | wt         |  2         |   3.370000 |  0.2828427 |\n",
       "\n"
      ],
      "text/plain": [
       "   am cyl variable n  mean       sd        \n",
       "1  0  4   mpg       3  22.900000  1.4525839\n",
       "2  0  4   hp        3  84.666667 19.6553640\n",
       "3  0  4   wt        3   2.935000  0.4075230\n",
       "4  0  6   mpg       4  19.125000  1.6317169\n",
       "5  0  6   hp        4 115.250000  9.1787799\n",
       "6  0  6   wt        4   3.388750  0.1162164\n",
       "7  0  8   mpg      12  15.050000  2.7743959\n",
       "8  0  8   hp       12 194.166667 33.3598379\n",
       "9  0  8   wt       12   4.104083  0.7683069\n",
       "10 1  4   mpg       8  28.075000  4.4838599\n",
       "11 1  4   hp        8  81.875000 22.6554156\n",
       "12 1  4   wt        8   2.042250  0.4093485\n",
       "13 1  6   mpg       3  20.566667  0.7505553\n",
       "14 1  6   hp        3 131.666667 37.5277675\n",
       "15 1  6   wt        3   2.755000  0.1281601\n",
       "16 1  8   mpg       2  15.400000  0.5656854\n",
       "17 1  8   hp        2 299.500000 50.2045815\n",
       "18 1  8   wt        2   3.370000  0.2828427"
      ]
     },
     "metadata": {},
     "output_type": "display_data"
    }
   ],
   "source": [
    "library(reshape)\n",
    "dstats = function(x)(c(n=length(x),mean=mean(x), sd=sd(x)))\n",
    "dfm = melt(mtcars, measure.vars=c(\"mpg\", \"hp\", \"wt\"), id.vars = c(\"am\", \"cyl\"))\n",
    "cast(dfm, am+cyl+variable ~ ., dstats)"
   ]
  },
  {
   "cell_type": "markdown",
   "metadata": {},
   "source": [
    "## Visualizing result\n",
    "### using Arthritis data"
   ]
  },
  {
   "cell_type": "code",
   "execution_count": 14,
   "metadata": {},
   "outputs": [
    {
     "data": {
      "text/html": [
       "<table>\n",
       "<thead><tr><th scope=col>ID</th><th scope=col>Treatment</th><th scope=col>Sex</th><th scope=col>Age</th><th scope=col>Improved</th></tr></thead>\n",
       "<tbody>\n",
       "\t<tr><td>57     </td><td>Treated</td><td>Male   </td><td>27     </td><td>Some   </td></tr>\n",
       "\t<tr><td>46     </td><td>Treated</td><td>Male   </td><td>29     </td><td>None   </td></tr>\n",
       "\t<tr><td>77     </td><td>Treated</td><td>Male   </td><td>30     </td><td>None   </td></tr>\n",
       "\t<tr><td>17     </td><td>Treated</td><td>Male   </td><td>32     </td><td>Marked </td></tr>\n",
       "\t<tr><td>36     </td><td>Treated</td><td>Male   </td><td>46     </td><td>Marked </td></tr>\n",
       "\t<tr><td>23     </td><td>Treated</td><td>Male   </td><td>58     </td><td>Marked </td></tr>\n",
       "</tbody>\n",
       "</table>\n"
      ],
      "text/latex": [
       "\\begin{tabular}{r|lllll}\n",
       " ID & Treatment & Sex & Age & Improved\\\\\n",
       "\\hline\n",
       "\t 57      & Treated & Male    & 27      & Some   \\\\\n",
       "\t 46      & Treated & Male    & 29      & None   \\\\\n",
       "\t 77      & Treated & Male    & 30      & None   \\\\\n",
       "\t 17      & Treated & Male    & 32      & Marked \\\\\n",
       "\t 36      & Treated & Male    & 46      & Marked \\\\\n",
       "\t 23      & Treated & Male    & 58      & Marked \\\\\n",
       "\\end{tabular}\n"
      ],
      "text/markdown": [
       "\n",
       "| ID | Treatment | Sex | Age | Improved |\n",
       "|---|---|---|---|---|\n",
       "| 57      | Treated | Male    | 27      | Some    |\n",
       "| 46      | Treated | Male    | 29      | None    |\n",
       "| 77      | Treated | Male    | 30      | None    |\n",
       "| 17      | Treated | Male    | 32      | Marked  |\n",
       "| 36      | Treated | Male    | 46      | Marked  |\n",
       "| 23      | Treated | Male    | 58      | Marked  |\n",
       "\n"
      ],
      "text/plain": [
       "  ID Treatment Sex  Age Improved\n",
       "1 57 Treated   Male 27  Some    \n",
       "2 46 Treated   Male 29  None    \n",
       "3 77 Treated   Male 30  None    \n",
       "4 17 Treated   Male 32  Marked  \n",
       "5 36 Treated   Male 46  Marked  \n",
       "6 23 Treated   Male 58  Marked  "
      ]
     },
     "metadata": {},
     "output_type": "display_data"
    }
   ],
   "source": [
    "library(vcd)\n",
    "head(Arthritis)"
   ]
  },
  {
   "cell_type": "markdown",
   "metadata": {},
   "source": [
    "### Frequency table"
   ]
  },
  {
   "cell_type": "code",
   "execution_count": 18,
   "metadata": {},
   "outputs": [
    {
     "data": {
      "text/plain": [
       "Improved\n",
       "  None   Some Marked \n",
       "    42     14     28 "
      ]
     },
     "metadata": {},
     "output_type": "display_data"
    },
    {
     "data": {
      "text/plain": [
       "Improved\n",
       "     None      Some    Marked \n",
       "0.5000000 0.1666667 0.3333333 "
      ]
     },
     "metadata": {},
     "output_type": "display_data"
    }
   ],
   "source": [
    "mytable = with(Arthritis, table(Improved))\n",
    "mytable\n",
    "prop.table(mytable)"
   ]
  },
  {
   "cell_type": "markdown",
   "metadata": {},
   "source": [
    "### Margin table\n",
    "Using table and xlabs"
   ]
  },
  {
   "cell_type": "code",
   "execution_count": 20,
   "metadata": {},
   "outputs": [
    {
     "data": {
      "text/plain": [
       "Treatment\n",
       "Placebo Treated \n",
       "     43      41 "
      ]
     },
     "metadata": {},
     "output_type": "display_data"
    },
    {
     "data": {
      "text/plain": [
       "         Improved\n",
       "Treatment      None      Some    Marked\n",
       "  Placebo 0.6744186 0.1627907 0.1627907\n",
       "  Treated 0.3170732 0.1707317 0.5121951"
      ]
     },
     "metadata": {},
     "output_type": "display_data"
    },
    {
     "data": {
      "text/plain": [
       "         Improved\n",
       "Treatment       None       Some     Marked\n",
       "  Placebo 0.34523810 0.08333333 0.08333333\n",
       "  Treated 0.15476190 0.08333333 0.25000000"
      ]
     },
     "metadata": {},
     "output_type": "display_data"
    }
   ],
   "source": [
    "mytable = xtabs(~ Treatment+Improved, data=Arthritis)\n",
    "margin.table(mytable, 1)\n",
    "prop.table(mytable, 1)\n",
    "prop.table(mytable)   # element / all"
   ]
  },
  {
   "cell_type": "markdown",
   "metadata": {},
   "source": [
    "### Add margins in table"
   ]
  },
  {
   "cell_type": "code",
   "execution_count": 22,
   "metadata": {
    "scrolled": true
   },
   "outputs": [
    {
     "data": {
      "text/html": [
       "<table>\n",
       "<thead><tr><th></th><th scope=col>None</th><th scope=col>Some</th><th scope=col>Marked</th><th scope=col>Sum</th></tr></thead>\n",
       "<tbody>\n",
       "\t<tr><th scope=row>Placebo</th><td>29</td><td> 7</td><td> 7</td><td>43</td></tr>\n",
       "\t<tr><th scope=row>Treated</th><td>13</td><td> 7</td><td>21</td><td>41</td></tr>\n",
       "\t<tr><th scope=row>Sum</th><td>42</td><td>14</td><td>28</td><td>84</td></tr>\n",
       "</tbody>\n",
       "</table>\n"
      ],
      "text/latex": [
       "\\begin{tabular}{r|llll}\n",
       "  & None & Some & Marked & Sum\\\\\n",
       "\\hline\n",
       "\tPlacebo & 29 &  7 &  7 & 43\\\\\n",
       "\tTreated & 13 &  7 & 21 & 41\\\\\n",
       "\tSum & 42 & 14 & 28 & 84\\\\\n",
       "\\end{tabular}\n"
      ],
      "text/markdown": [
       "\n",
       "| <!--/--> | None | Some | Marked | Sum |\n",
       "|---|---|---|---|---|\n",
       "| Placebo | 29 |  7 |  7 | 43 |\n",
       "| Treated | 13 |  7 | 21 | 41 |\n",
       "| Sum | 42 | 14 | 28 | 84 |\n",
       "\n"
      ],
      "text/plain": [
       "         Improved\n",
       "Treatment None Some Marked Sum\n",
       "  Placebo 29    7    7     43 \n",
       "  Treated 13    7   21     41 \n",
       "  Sum     42   14   28     84 "
      ]
     },
     "metadata": {},
     "output_type": "display_data"
    },
    {
     "data": {
      "text/html": [
       "<table>\n",
       "<thead><tr><th></th><th scope=col>None</th><th scope=col>Some</th><th scope=col>Marked</th><th scope=col>Sum</th></tr></thead>\n",
       "<tbody>\n",
       "\t<tr><th scope=row>Placebo</th><td>0.6744186</td><td>0.1627907</td><td>0.1627907</td><td>1        </td></tr>\n",
       "\t<tr><th scope=row>Treated</th><td>0.3170732</td><td>0.1707317</td><td>0.5121951</td><td>1        </td></tr>\n",
       "</tbody>\n",
       "</table>\n"
      ],
      "text/latex": [
       "\\begin{tabular}{r|llll}\n",
       "  & None & Some & Marked & Sum\\\\\n",
       "\\hline\n",
       "\tPlacebo & 0.6744186 & 0.1627907 & 0.1627907 & 1        \\\\\n",
       "\tTreated & 0.3170732 & 0.1707317 & 0.5121951 & 1        \\\\\n",
       "\\end{tabular}\n"
      ],
      "text/markdown": [
       "\n",
       "| <!--/--> | None | Some | Marked | Sum |\n",
       "|---|---|---|---|---|\n",
       "| Placebo | 0.6744186 | 0.1627907 | 0.1627907 | 1         |\n",
       "| Treated | 0.3170732 | 0.1707317 | 0.5121951 | 1         |\n",
       "\n"
      ],
      "text/plain": [
       "         Improved\n",
       "Treatment None      Some      Marked    Sum\n",
       "  Placebo 0.6744186 0.1627907 0.1627907 1  \n",
       "  Treated 0.3170732 0.1707317 0.5121951 1  "
      ]
     },
     "metadata": {},
     "output_type": "display_data"
    },
    {
     "data": {
      "text/html": [
       "<table>\n",
       "<thead><tr><th></th><th scope=col>None</th><th scope=col>Some</th><th scope=col>Marked</th></tr></thead>\n",
       "<tbody>\n",
       "\t<tr><th scope=row>Placebo</th><td>0.6904762</td><td>0.5      </td><td>0.25     </td></tr>\n",
       "\t<tr><th scope=row>Treated</th><td>0.3095238</td><td>0.5      </td><td>0.75     </td></tr>\n",
       "\t<tr><th scope=row>Sum</th><td>1.0000000</td><td>1.0      </td><td>1.00     </td></tr>\n",
       "</tbody>\n",
       "</table>\n"
      ],
      "text/latex": [
       "\\begin{tabular}{r|lll}\n",
       "  & None & Some & Marked\\\\\n",
       "\\hline\n",
       "\tPlacebo & 0.6904762 & 0.5       & 0.25     \\\\\n",
       "\tTreated & 0.3095238 & 0.5       & 0.75     \\\\\n",
       "\tSum & 1.0000000 & 1.0       & 1.00     \\\\\n",
       "\\end{tabular}\n"
      ],
      "text/markdown": [
       "\n",
       "| <!--/--> | None | Some | Marked |\n",
       "|---|---|---|---|\n",
       "| Placebo | 0.6904762 | 0.5       | 0.25      |\n",
       "| Treated | 0.3095238 | 0.5       | 0.75      |\n",
       "| Sum | 1.0000000 | 1.0       | 1.00      |\n",
       "\n"
      ],
      "text/plain": [
       "         Improved\n",
       "Treatment None      Some Marked\n",
       "  Placebo 0.6904762 0.5  0.25  \n",
       "  Treated 0.3095238 0.5  0.75  \n",
       "  Sum     1.0000000 1.0  1.00  "
      ]
     },
     "metadata": {},
     "output_type": "display_data"
    }
   ],
   "source": [
    "addmargins(mytable)\n",
    "addmargins(prop.table(mytable, 1), 2)\n",
    "addmargins(prop.table(mytable, 2), 1)"
   ]
  },
  {
   "cell_type": "markdown",
   "metadata": {},
   "source": [
    "## Test of dependency\n",
    "### Using package vcd"
   ]
  },
  {
   "cell_type": "code",
   "execution_count": 24,
   "metadata": {},
   "outputs": [],
   "source": [
    "library(vcd)"
   ]
  },
  {
   "cell_type": "markdown",
   "metadata": {},
   "source": [
    "### Chisq test"
   ]
  },
  {
   "cell_type": "code",
   "execution_count": 26,
   "metadata": {},
   "outputs": [
    {
     "data": {
      "text/plain": [
       "\n",
       "\tPearson's Chi-squared test\n",
       "\n",
       "data:  mytable\n",
       "X-squared = 13.055, df = 2, p-value = 0.001463\n"
      ]
     },
     "metadata": {},
     "output_type": "display_data"
    },
    {
     "name": "stderr",
     "output_type": "stream",
     "text": [
      "Warning message in chisq.test(mytable):\n",
      "“Chi-squared approximation may be incorrect”"
     ]
    },
    {
     "data": {
      "text/plain": [
       "\n",
       "\tPearson's Chi-squared test\n",
       "\n",
       "data:  mytable\n",
       "X-squared = 4.8407, df = 2, p-value = 0.08889\n"
      ]
     },
     "metadata": {},
     "output_type": "display_data"
    }
   ],
   "source": [
    "mytable = xtabs(~Treatment+Improved, data = Arthritis)\n",
    "chisq.test(mytable)\n",
    "mytable = xtabs(~Improved+Sex, data = Arthritis)\n",
    "chisq.test(mytable)"
   ]
  },
  {
   "cell_type": "markdown",
   "metadata": {},
   "source": [
    "### Fisher test"
   ]
  },
  {
   "cell_type": "code",
   "execution_count": 28,
   "metadata": {},
   "outputs": [
    {
     "data": {
      "text/plain": [
       "\n",
       "\tFisher's Exact Test for Count Data\n",
       "\n",
       "data:  mytable\n",
       "p-value = 0.001393\n",
       "alternative hypothesis: two.sided\n"
      ]
     },
     "metadata": {},
     "output_type": "display_data"
    }
   ],
   "source": [
    "mytable = xtabs(~Treatment+Improved, data = Arthritis)\n",
    "fisher.test(mytable)"
   ]
  },
  {
   "cell_type": "markdown",
   "metadata": {},
   "source": [
    "### Cochran-Mantel-Haenszel test"
   ]
  },
  {
   "cell_type": "code",
   "execution_count": 30,
   "metadata": {},
   "outputs": [
    {
     "data": {
      "text/plain": [
       "\n",
       "\tCochran-Mantel-Haenszel test\n",
       "\n",
       "data:  mytable\n",
       "Cochran-Mantel-Haenszel M^2 = 14.632, df = 2, p-value = 0.0006647\n"
      ]
     },
     "metadata": {},
     "output_type": "display_data"
    }
   ],
   "source": [
    "mytable = xtabs(~Treatment+Improved+Sex, data = Arthritis)\n",
    "mantelhaen.test(mytable)"
   ]
  },
  {
   "cell_type": "markdown",
   "metadata": {},
   "source": [
    "### Test of association\n",
    "Using Phi-Coefficient, Contingency Coeff and Cramer's V describe"
   ]
  },
  {
   "cell_type": "code",
   "execution_count": 32,
   "metadata": {
    "scrolled": true
   },
   "outputs": [
    {
     "data": {
      "text/plain": [
       "                    X^2 df  P(> X^2)\n",
       "Likelihood Ratio 13.530  2 0.0011536\n",
       "Pearson          13.055  2 0.0014626\n",
       "\n",
       "Phi-Coefficient   : NA \n",
       "Contingency Coeff.: 0.367 \n",
       "Cramer's V        : 0.394 "
      ]
     },
     "metadata": {},
     "output_type": "display_data"
    }
   ],
   "source": [
    "mytable = xtabs(~Treatment+Improved, data = Arthritis)\n",
    "assocstats(mytable)"
   ]
  },
  {
   "cell_type": "markdown",
   "metadata": {},
   "source": [
    "### table to flat"
   ]
  },
  {
   "cell_type": "code",
   "execution_count": 34,
   "metadata": {},
   "outputs": [],
   "source": [
    "table2flat = function(mytable) {\n",
    "    df = as.data.frame(mytable)\n",
    "    rows = dim(df)[1]\n",
    "    cols = dim(df)[2]\n",
    "    x = NULL\n",
    "    for (i in 1:rows){\n",
    "        for (j in 1: cols){\n",
    "            row = df[i, c(1:(cols-1))]\n",
    "            x = rbind(x, row)\n",
    "        }\n",
    "    }\n",
    "    row.names(x) = c(1:dim(x)[1])\n",
    "    return(x)\n",
    "}"
   ]
  },
  {
   "cell_type": "code",
   "execution_count": 41,
   "metadata": {},
   "outputs": [
    {
     "name": "stderr",
     "output_type": "stream",
     "text": [
      "Warning message in cbind(treatment, improved, Freq):\n",
      "“number of rows of result is not a multiple of vector length (arg 3)”"
     ]
    },
    {
     "data": {
      "text/html": [
       "<table>\n",
       "<thead><tr><th scope=col>treatment</th><th scope=col>improved</th><th scope=col>Freq</th></tr></thead>\n",
       "<tbody>\n",
       "\t<tr><td>Placebo</td><td>None   </td><td>29     </td></tr>\n",
       "\t<tr><td>Treated</td><td>None   </td><td>13     </td></tr>\n",
       "\t<tr><td>Placebo</td><td>Some   </td><td>7      </td></tr>\n",
       "\t<tr><td>Treated</td><td>Some   </td><td>17     </td></tr>\n",
       "\t<tr><td>Placebo</td><td>Marked </td><td>21     </td></tr>\n",
       "\t<tr><td>Treated</td><td>Marked </td><td>29     </td></tr>\n",
       "</tbody>\n",
       "</table>\n"
      ],
      "text/latex": [
       "\\begin{tabular}{r|lll}\n",
       " treatment & improved & Freq\\\\\n",
       "\\hline\n",
       "\t Placebo & None    & 29     \\\\\n",
       "\t Treated & None    & 13     \\\\\n",
       "\t Placebo & Some    & 7      \\\\\n",
       "\t Treated & Some    & 17     \\\\\n",
       "\t Placebo & Marked  & 21     \\\\\n",
       "\t Treated & Marked  & 29     \\\\\n",
       "\\end{tabular}\n"
      ],
      "text/markdown": [
       "\n",
       "| treatment | improved | Freq |\n",
       "|---|---|---|\n",
       "| Placebo | None    | 29      |\n",
       "| Treated | None    | 13      |\n",
       "| Placebo | Some    | 7       |\n",
       "| Treated | Some    | 17      |\n",
       "| Placebo | Marked  | 21      |\n",
       "| Treated | Marked  | 29      |\n",
       "\n"
      ],
      "text/plain": [
       "  treatment improved Freq\n",
       "1 Placebo   None     29  \n",
       "2 Treated   None     13  \n",
       "3 Placebo   Some     7   \n",
       "4 Treated   Some     17  \n",
       "5 Placebo   Marked   21  \n",
       "6 Treated   Marked   29  "
      ]
     },
     "metadata": {},
     "output_type": "display_data"
    },
    {
     "data": {
      "text/html": [
       "<table>\n",
       "<thead><tr><th scope=col>treatment</th><th scope=col>improved</th></tr></thead>\n",
       "<tbody>\n",
       "\t<tr><td>Placebo</td><td>None   </td></tr>\n",
       "\t<tr><td>Placebo</td><td>None   </td></tr>\n",
       "\t<tr><td>Placebo</td><td>None   </td></tr>\n",
       "\t<tr><td>Treated</td><td>None   </td></tr>\n",
       "\t<tr><td>Treated</td><td>None   </td></tr>\n",
       "\t<tr><td>Treated</td><td>None   </td></tr>\n",
       "</tbody>\n",
       "</table>\n"
      ],
      "text/latex": [
       "\\begin{tabular}{r|ll}\n",
       " treatment & improved\\\\\n",
       "\\hline\n",
       "\t Placebo & None   \\\\\n",
       "\t Placebo & None   \\\\\n",
       "\t Placebo & None   \\\\\n",
       "\t Treated & None   \\\\\n",
       "\t Treated & None   \\\\\n",
       "\t Treated & None   \\\\\n",
       "\\end{tabular}\n"
      ],
      "text/markdown": [
       "\n",
       "| treatment | improved |\n",
       "|---|---|\n",
       "| Placebo | None    |\n",
       "| Placebo | None    |\n",
       "| Placebo | None    |\n",
       "| Treated | None    |\n",
       "| Treated | None    |\n",
       "| Treated | None    |\n",
       "\n"
      ],
      "text/plain": [
       "  treatment improved\n",
       "1 Placebo   None    \n",
       "2 Placebo   None    \n",
       "3 Placebo   None    \n",
       "4 Treated   None    \n",
       "5 Treated   None    \n",
       "6 Treated   None    "
      ]
     },
     "metadata": {},
     "output_type": "display_data"
    }
   ],
   "source": [
    "treatment = rep(c(\"Placebo\", \"Treated\"), times=3)\n",
    "improved = rep(c(\"None\", \"Some\", \"Marked\"), each=2)\n",
    "Freq = c(29, 13, 7, 17, 21)\n",
    "mytable = as.data.frame(cbind(treatment, improved, Freq))\n",
    "head(mytable)\n",
    "mydata = table2flat(mytable)\n",
    "head(mydata)"
   ]
  },
  {
   "cell_type": "markdown",
   "metadata": {},
   "source": [
    "## Correlations\n",
    "Some Correlation calculation in R, include Pearson, Spearman, Kendall, partial, polychoric, polyserrial"
   ]
  },
  {
   "cell_type": "markdown",
   "metadata": {},
   "source": [
    "### Pearson, Spearman, Kendall\n",
    " - Pearson积差相关系数衡量了两个定量变量之间的线性相关程度\n",
    " - Spearman等级相关系数则衡量分级定序变量之间的相关程度\n",
    " - Kendall's Tau相关系数也是一种非参数的等级相关度量\n",
    " \n",
    " Using cor() to calculate coff. mentioned before and using cov() to calculate co-variance"
   ]
  },
  {
   "cell_type": "code",
   "execution_count": 44,
   "metadata": {},
   "outputs": [
    {
     "data": {
      "text/html": [
       "<table>\n",
       "<thead><tr><th></th><th scope=col>Population</th><th scope=col>Income</th><th scope=col>Illiteracy</th><th scope=col>Life Exp</th><th scope=col>Murder</th><th scope=col>HS Grad</th></tr></thead>\n",
       "<tbody>\n",
       "\t<tr><th scope=row>Alabama</th><td> 3615</td><td>3624 </td><td>2.1  </td><td>69.05</td><td>15.1 </td><td>41.3 </td></tr>\n",
       "\t<tr><th scope=row>Alaska</th><td>  365</td><td>6315 </td><td>1.5  </td><td>69.31</td><td>11.3 </td><td>66.7 </td></tr>\n",
       "\t<tr><th scope=row>Arizona</th><td> 2212</td><td>4530 </td><td>1.8  </td><td>70.55</td><td> 7.8 </td><td>58.1 </td></tr>\n",
       "\t<tr><th scope=row>Arkansas</th><td> 2110</td><td>3378 </td><td>1.9  </td><td>70.66</td><td>10.1 </td><td>39.9 </td></tr>\n",
       "\t<tr><th scope=row>California</th><td>21198</td><td>5114 </td><td>1.1  </td><td>71.71</td><td>10.3 </td><td>62.6 </td></tr>\n",
       "\t<tr><th scope=row>Colorado</th><td> 2541</td><td>4884 </td><td>0.7  </td><td>72.06</td><td> 6.8 </td><td>63.9 </td></tr>\n",
       "</tbody>\n",
       "</table>\n"
      ],
      "text/latex": [
       "\\begin{tabular}{r|llllll}\n",
       "  & Population & Income & Illiteracy & Life Exp & Murder & HS Grad\\\\\n",
       "\\hline\n",
       "\tAlabama &  3615 & 3624  & 2.1   & 69.05 & 15.1  & 41.3 \\\\\n",
       "\tAlaska &   365 & 6315  & 1.5   & 69.31 & 11.3  & 66.7 \\\\\n",
       "\tArizona &  2212 & 4530  & 1.8   & 70.55 &  7.8  & 58.1 \\\\\n",
       "\tArkansas &  2110 & 3378  & 1.9   & 70.66 & 10.1  & 39.9 \\\\\n",
       "\tCalifornia & 21198 & 5114  & 1.1   & 71.71 & 10.3  & 62.6 \\\\\n",
       "\tColorado &  2541 & 4884  & 0.7   & 72.06 &  6.8  & 63.9 \\\\\n",
       "\\end{tabular}\n"
      ],
      "text/markdown": [
       "\n",
       "| <!--/--> | Population | Income | Illiteracy | Life Exp | Murder | HS Grad |\n",
       "|---|---|---|---|---|---|---|\n",
       "| Alabama |  3615 | 3624  | 2.1   | 69.05 | 15.1  | 41.3  |\n",
       "| Alaska |   365 | 6315  | 1.5   | 69.31 | 11.3  | 66.7  |\n",
       "| Arizona |  2212 | 4530  | 1.8   | 70.55 |  7.8  | 58.1  |\n",
       "| Arkansas |  2110 | 3378  | 1.9   | 70.66 | 10.1  | 39.9  |\n",
       "| California | 21198 | 5114  | 1.1   | 71.71 | 10.3  | 62.6  |\n",
       "| Colorado |  2541 | 4884  | 0.7   | 72.06 |  6.8  | 63.9  |\n",
       "\n"
      ],
      "text/plain": [
       "           Population Income Illiteracy Life Exp Murder HS Grad\n",
       "Alabama     3615      3624   2.1        69.05    15.1   41.3   \n",
       "Alaska       365      6315   1.5        69.31    11.3   66.7   \n",
       "Arizona     2212      4530   1.8        70.55     7.8   58.1   \n",
       "Arkansas    2110      3378   1.9        70.66    10.1   39.9   \n",
       "California 21198      5114   1.1        71.71    10.3   62.6   \n",
       "Colorado    2541      4884   0.7        72.06     6.8   63.9   "
      ]
     },
     "metadata": {},
     "output_type": "display_data"
    }
   ],
   "source": [
    "states = state.x77[, 1:6]\n",
    "head(states)"
   ]
  },
  {
   "cell_type": "markdown",
   "metadata": {},
   "source": [
    "### cov with each column"
   ]
  },
  {
   "cell_type": "code",
   "execution_count": 45,
   "metadata": {},
   "outputs": [
    {
     "data": {
      "text/html": [
       "<table>\n",
       "<thead><tr><th></th><th scope=col>Population</th><th scope=col>Income</th><th scope=col>Illiteracy</th><th scope=col>Life Exp</th><th scope=col>Murder</th><th scope=col>HS Grad</th></tr></thead>\n",
       "<tbody>\n",
       "\t<tr><th scope=row>Population</th><td>19931683.7588</td><td>571229.7796  </td><td> 292.8679592 </td><td>-407.8424612 </td><td>5663.523714  </td><td>-3551.509551 </td></tr>\n",
       "\t<tr><th scope=row>Income</th><td>  571229.7796</td><td>377573.3061  </td><td>-163.7020408 </td><td> 280.6631837 </td><td>-521.894286  </td><td> 3076.768980 </td></tr>\n",
       "\t<tr><th scope=row>Illiteracy</th><td>     292.8680</td><td>  -163.7020  </td><td>   0.3715306 </td><td>  -0.4815122 </td><td>   1.581776  </td><td>   -3.235469 </td></tr>\n",
       "\t<tr><th scope=row>Life Exp</th><td>    -407.8425</td><td>   280.6632  </td><td>  -0.4815122 </td><td>   1.8020204 </td><td>  -3.869480  </td><td>    6.312685 </td></tr>\n",
       "\t<tr><th scope=row>Murder</th><td>    5663.5237</td><td>  -521.8943  </td><td>   1.5817755 </td><td>  -3.8694804 </td><td>  13.627465  </td><td>  -14.549616 </td></tr>\n",
       "\t<tr><th scope=row>HS Grad</th><td>   -3551.5096</td><td>  3076.7690  </td><td>  -3.2354694 </td><td>   6.3126849 </td><td> -14.549616  </td><td>   65.237894 </td></tr>\n",
       "</tbody>\n",
       "</table>\n"
      ],
      "text/latex": [
       "\\begin{tabular}{r|llllll}\n",
       "  & Population & Income & Illiteracy & Life Exp & Murder & HS Grad\\\\\n",
       "\\hline\n",
       "\tPopulation & 19931683.7588 & 571229.7796   &  292.8679592  & -407.8424612  & 5663.523714   & -3551.509551 \\\\\n",
       "\tIncome &   571229.7796 & 377573.3061   & -163.7020408  &  280.6631837  & -521.894286   &  3076.768980 \\\\\n",
       "\tIlliteracy &      292.8680 &   -163.7020   &    0.3715306  &   -0.4815122  &    1.581776   &    -3.235469 \\\\\n",
       "\tLife Exp &     -407.8425 &    280.6632   &   -0.4815122  &    1.8020204  &   -3.869480   &     6.312685 \\\\\n",
       "\tMurder &     5663.5237 &   -521.8943   &    1.5817755  &   -3.8694804  &   13.627465   &   -14.549616 \\\\\n",
       "\tHS Grad &    -3551.5096 &   3076.7690   &   -3.2354694  &    6.3126849  &  -14.549616   &    65.237894 \\\\\n",
       "\\end{tabular}\n"
      ],
      "text/markdown": [
       "\n",
       "| <!--/--> | Population | Income | Illiteracy | Life Exp | Murder | HS Grad |\n",
       "|---|---|---|---|---|---|---|\n",
       "| Population | 19931683.7588 | 571229.7796   |  292.8679592  | -407.8424612  | 5663.523714   | -3551.509551  |\n",
       "| Income |   571229.7796 | 377573.3061   | -163.7020408  |  280.6631837  | -521.894286   |  3076.768980  |\n",
       "| Illiteracy |      292.8680 |   -163.7020   |    0.3715306  |   -0.4815122  |    1.581776   |    -3.235469  |\n",
       "| Life Exp |     -407.8425 |    280.6632   |   -0.4815122  |    1.8020204  |   -3.869480   |     6.312685  |\n",
       "| Murder |     5663.5237 |   -521.8943   |    1.5817755  |   -3.8694804  |   13.627465   |   -14.549616  |\n",
       "| HS Grad |    -3551.5096 |   3076.7690   |   -3.2354694  |    6.3126849  |  -14.549616   |    65.237894  |\n",
       "\n"
      ],
      "text/plain": [
       "           Population    Income      Illiteracy   Life Exp     Murder     \n",
       "Population 19931683.7588 571229.7796  292.8679592 -407.8424612 5663.523714\n",
       "Income       571229.7796 377573.3061 -163.7020408  280.6631837 -521.894286\n",
       "Illiteracy      292.8680   -163.7020    0.3715306   -0.4815122    1.581776\n",
       "Life Exp       -407.8425    280.6632   -0.4815122    1.8020204   -3.869480\n",
       "Murder         5663.5237   -521.8943    1.5817755   -3.8694804   13.627465\n",
       "HS Grad       -3551.5096   3076.7690   -3.2354694    6.3126849  -14.549616\n",
       "           HS Grad     \n",
       "Population -3551.509551\n",
       "Income      3076.768980\n",
       "Illiteracy    -3.235469\n",
       "Life Exp       6.312685\n",
       "Murder       -14.549616\n",
       "HS Grad       65.237894"
      ]
     },
     "metadata": {},
     "output_type": "display_data"
    }
   ],
   "source": [
    "cov(states)"
   ]
  },
  {
   "cell_type": "markdown",
   "metadata": {},
   "source": [
    "### cor with each column"
   ]
  },
  {
   "cell_type": "code",
   "execution_count": 46,
   "metadata": {},
   "outputs": [
    {
     "data": {
      "text/html": [
       "<table>\n",
       "<thead><tr><th></th><th scope=col>Population</th><th scope=col>Income</th><th scope=col>Illiteracy</th><th scope=col>Life Exp</th><th scope=col>Murder</th><th scope=col>HS Grad</th></tr></thead>\n",
       "<tbody>\n",
       "\t<tr><th scope=row>Population</th><td> 1.00000000</td><td> 0.2082276 </td><td> 0.1076224 </td><td>-0.06805195</td><td> 0.3436428 </td><td>-0.09848975</td></tr>\n",
       "\t<tr><th scope=row>Income</th><td> 0.20822756</td><td> 1.0000000 </td><td>-0.4370752 </td><td> 0.34025534</td><td>-0.2300776 </td><td> 0.61993232</td></tr>\n",
       "\t<tr><th scope=row>Illiteracy</th><td> 0.10762237</td><td>-0.4370752 </td><td> 1.0000000 </td><td>-0.58847793</td><td> 0.7029752 </td><td>-0.65718861</td></tr>\n",
       "\t<tr><th scope=row>Life Exp</th><td>-0.06805195</td><td> 0.3402553 </td><td>-0.5884779 </td><td> 1.00000000</td><td>-0.7808458 </td><td> 0.58221620</td></tr>\n",
       "\t<tr><th scope=row>Murder</th><td> 0.34364275</td><td>-0.2300776 </td><td> 0.7029752 </td><td>-0.78084575</td><td> 1.0000000 </td><td>-0.48797102</td></tr>\n",
       "\t<tr><th scope=row>HS Grad</th><td>-0.09848975</td><td> 0.6199323 </td><td>-0.6571886 </td><td> 0.58221620</td><td>-0.4879710 </td><td> 1.00000000</td></tr>\n",
       "</tbody>\n",
       "</table>\n"
      ],
      "text/latex": [
       "\\begin{tabular}{r|llllll}\n",
       "  & Population & Income & Illiteracy & Life Exp & Murder & HS Grad\\\\\n",
       "\\hline\n",
       "\tPopulation &  1.00000000 &  0.2082276  &  0.1076224  & -0.06805195 &  0.3436428  & -0.09848975\\\\\n",
       "\tIncome &  0.20822756 &  1.0000000  & -0.4370752  &  0.34025534 & -0.2300776  &  0.61993232\\\\\n",
       "\tIlliteracy &  0.10762237 & -0.4370752  &  1.0000000  & -0.58847793 &  0.7029752  & -0.65718861\\\\\n",
       "\tLife Exp & -0.06805195 &  0.3402553  & -0.5884779  &  1.00000000 & -0.7808458  &  0.58221620\\\\\n",
       "\tMurder &  0.34364275 & -0.2300776  &  0.7029752  & -0.78084575 &  1.0000000  & -0.48797102\\\\\n",
       "\tHS Grad & -0.09848975 &  0.6199323  & -0.6571886  &  0.58221620 & -0.4879710  &  1.00000000\\\\\n",
       "\\end{tabular}\n"
      ],
      "text/markdown": [
       "\n",
       "| <!--/--> | Population | Income | Illiteracy | Life Exp | Murder | HS Grad |\n",
       "|---|---|---|---|---|---|---|\n",
       "| Population |  1.00000000 |  0.2082276  |  0.1076224  | -0.06805195 |  0.3436428  | -0.09848975 |\n",
       "| Income |  0.20822756 |  1.0000000  | -0.4370752  |  0.34025534 | -0.2300776  |  0.61993232 |\n",
       "| Illiteracy |  0.10762237 | -0.4370752  |  1.0000000  | -0.58847793 |  0.7029752  | -0.65718861 |\n",
       "| Life Exp | -0.06805195 |  0.3402553  | -0.5884779  |  1.00000000 | -0.7808458  |  0.58221620 |\n",
       "| Murder |  0.34364275 | -0.2300776  |  0.7029752  | -0.78084575 |  1.0000000  | -0.48797102 |\n",
       "| HS Grad | -0.09848975 |  0.6199323  | -0.6571886  |  0.58221620 | -0.4879710  |  1.00000000 |\n",
       "\n"
      ],
      "text/plain": [
       "           Population  Income     Illiteracy Life Exp    Murder     HS Grad    \n",
       "Population  1.00000000  0.2082276  0.1076224 -0.06805195  0.3436428 -0.09848975\n",
       "Income      0.20822756  1.0000000 -0.4370752  0.34025534 -0.2300776  0.61993232\n",
       "Illiteracy  0.10762237 -0.4370752  1.0000000 -0.58847793  0.7029752 -0.65718861\n",
       "Life Exp   -0.06805195  0.3402553 -0.5884779  1.00000000 -0.7808458  0.58221620\n",
       "Murder      0.34364275 -0.2300776  0.7029752 -0.78084575  1.0000000 -0.48797102\n",
       "HS Grad    -0.09848975  0.6199323 -0.6571886  0.58221620 -0.4879710  1.00000000"
      ]
     },
     "metadata": {},
     "output_type": "display_data"
    }
   ],
   "source": [
    "cor(states)"
   ]
  },
  {
   "cell_type": "code",
   "execution_count": 49,
   "metadata": {},
   "outputs": [
    {
     "data": {
      "text/html": [
       "<table>\n",
       "<thead><tr><th></th><th scope=col>Population</th><th scope=col>Income</th><th scope=col>Illiteracy</th><th scope=col>Life Exp</th><th scope=col>Murder</th><th scope=col>HS Grad</th></tr></thead>\n",
       "<tbody>\n",
       "\t<tr><th scope=row>Population</th><td> 1.00000000</td><td> 0.08408163</td><td> 0.2123063 </td><td>-0.06865555</td><td> 0.2364983 </td><td>-0.2353905 </td></tr>\n",
       "\t<tr><th scope=row>Income</th><td> 0.08408163</td><td> 1.00000000</td><td>-0.1970811 </td><td> 0.21904389</td><td>-0.1448450 </td><td> 0.3579896 </td></tr>\n",
       "\t<tr><th scope=row>Illiteracy</th><td> 0.21230629</td><td>-0.19708113</td><td> 1.0000000 </td><td>-0.42852098</td><td> 0.5155359 </td><td>-0.5047401 </td></tr>\n",
       "\t<tr><th scope=row>Life Exp</th><td>-0.06865555</td><td> 0.21904389</td><td>-0.4285210 </td><td> 1.00000000</td><td>-0.5997547 </td><td> 0.3952537 </td></tr>\n",
       "\t<tr><th scope=row>Murder</th><td> 0.23649826</td><td>-0.14484495</td><td> 0.5155359 </td><td>-0.59975465</td><td> 1.0000000 </td><td>-0.2884066 </td></tr>\n",
       "\t<tr><th scope=row>HS Grad</th><td>-0.23539045</td><td> 0.35798964</td><td>-0.5047401 </td><td> 0.39525368</td><td>-0.2884066 </td><td> 1.0000000 </td></tr>\n",
       "</tbody>\n",
       "</table>\n"
      ],
      "text/latex": [
       "\\begin{tabular}{r|llllll}\n",
       "  & Population & Income & Illiteracy & Life Exp & Murder & HS Grad\\\\\n",
       "\\hline\n",
       "\tPopulation &  1.00000000 &  0.08408163 &  0.2123063  & -0.06865555 &  0.2364983  & -0.2353905 \\\\\n",
       "\tIncome &  0.08408163 &  1.00000000 & -0.1970811  &  0.21904389 & -0.1448450  &  0.3579896 \\\\\n",
       "\tIlliteracy &  0.21230629 & -0.19708113 &  1.0000000  & -0.42852098 &  0.5155359  & -0.5047401 \\\\\n",
       "\tLife Exp & -0.06865555 &  0.21904389 & -0.4285210  &  1.00000000 & -0.5997547  &  0.3952537 \\\\\n",
       "\tMurder &  0.23649826 & -0.14484495 &  0.5155359  & -0.59975465 &  1.0000000  & -0.2884066 \\\\\n",
       "\tHS Grad & -0.23539045 &  0.35798964 & -0.5047401  &  0.39525368 & -0.2884066  &  1.0000000 \\\\\n",
       "\\end{tabular}\n"
      ],
      "text/markdown": [
       "\n",
       "| <!--/--> | Population | Income | Illiteracy | Life Exp | Murder | HS Grad |\n",
       "|---|---|---|---|---|---|---|\n",
       "| Population |  1.00000000 |  0.08408163 |  0.2123063  | -0.06865555 |  0.2364983  | -0.2353905  |\n",
       "| Income |  0.08408163 |  1.00000000 | -0.1970811  |  0.21904389 | -0.1448450  |  0.3579896  |\n",
       "| Illiteracy |  0.21230629 | -0.19708113 |  1.0000000  | -0.42852098 |  0.5155359  | -0.5047401  |\n",
       "| Life Exp | -0.06865555 |  0.21904389 | -0.4285210  |  1.00000000 | -0.5997547  |  0.3952537  |\n",
       "| Murder |  0.23649826 | -0.14484495 |  0.5155359  | -0.59975465 |  1.0000000  | -0.2884066  |\n",
       "| HS Grad | -0.23539045 |  0.35798964 | -0.5047401  |  0.39525368 | -0.2884066  |  1.0000000  |\n",
       "\n"
      ],
      "text/plain": [
       "           Population  Income      Illiteracy Life Exp    Murder     HS Grad   \n",
       "Population  1.00000000  0.08408163  0.2123063 -0.06865555  0.2364983 -0.2353905\n",
       "Income      0.08408163  1.00000000 -0.1970811  0.21904389 -0.1448450  0.3579896\n",
       "Illiteracy  0.21230629 -0.19708113  1.0000000 -0.42852098  0.5155359 -0.5047401\n",
       "Life Exp   -0.06865555  0.21904389 -0.4285210  1.00000000 -0.5997547  0.3952537\n",
       "Murder      0.23649826 -0.14484495  0.5155359 -0.59975465  1.0000000 -0.2884066\n",
       "HS Grad    -0.23539045  0.35798964 -0.5047401  0.39525368 -0.2884066  1.0000000"
      ]
     },
     "metadata": {},
     "output_type": "display_data"
    }
   ],
   "source": [
    "cor(states, method = 'kendall')"
   ]
  },
  {
   "cell_type": "markdown",
   "metadata": {},
   "source": [
    "### Partial correlations\n",
    " - using package ggm, functoin pcor(u, S),其中的u是一个数值向量，前两个数值表示要计算相关系数的变量下标，其余的数值为条件变量 (即要排除影响的变量)的下标\n",
    " - 偏相关性是指在控制了一个或多个定量变量时， 另外两个定量变量之间的相互关系"
   ]
  },
  {
   "cell_type": "code",
   "execution_count": 51,
   "metadata": {},
   "outputs": [
    {
     "data": {
      "text/html": [
       "0.346272371372947"
      ],
      "text/latex": [
       "0.346272371372947"
      ],
      "text/markdown": [
       "0.346272371372947"
      ],
      "text/plain": [
       "[1] 0.3462724"
      ]
     },
     "metadata": {},
     "output_type": "display_data"
    }
   ],
   "source": [
    "library(ggm)\n",
    "pcor(c(1,5,2,3,6), cov(states))"
   ]
  },
  {
   "cell_type": "markdown",
   "metadata": {},
   "source": [
    "### Testing Correlations for significance"
   ]
  },
  {
   "cell_type": "markdown",
   "metadata": {},
   "source": [
    "#### Testing a correlation coefficient for significance"
   ]
  },
  {
   "cell_type": "code",
   "execution_count": 52,
   "metadata": {},
   "outputs": [
    {
     "data": {
      "text/plain": [
       "\n",
       "\tPearson's product-moment correlation\n",
       "\n",
       "data:  states[, 3] and states[, 5]\n",
       "t = 6.8479, df = 48, p-value = 1.258e-08\n",
       "alternative hypothesis: true correlation is not equal to 0\n",
       "95 percent confidence interval:\n",
       " 0.5279280 0.8207295\n",
       "sample estimates:\n",
       "      cor \n",
       "0.7029752 \n"
      ]
     },
     "metadata": {},
     "output_type": "display_data"
    }
   ],
   "source": [
    "cor.test(states[,3], states[,5])"
   ]
  },
  {
   "cell_type": "markdown",
   "metadata": {},
   "source": [
    "#### Correlation matrix and tests of significance via corr.test()"
   ]
  },
  {
   "cell_type": "code",
   "execution_count": 53,
   "metadata": {},
   "outputs": [
    {
     "data": {
      "text/plain": [
       "Call:corr.test(x = states, use = \"complete\")\n",
       "Correlation matrix \n",
       "           Population Income Illiteracy Life Exp Murder HS Grad\n",
       "Population       1.00   0.21       0.11    -0.07   0.34   -0.10\n",
       "Income           0.21   1.00      -0.44     0.34  -0.23    0.62\n",
       "Illiteracy       0.11  -0.44       1.00    -0.59   0.70   -0.66\n",
       "Life Exp        -0.07   0.34      -0.59     1.00  -0.78    0.58\n",
       "Murder           0.34  -0.23       0.70    -0.78   1.00   -0.49\n",
       "HS Grad         -0.10   0.62      -0.66     0.58  -0.49    1.00\n",
       "Sample Size \n",
       "[1] 50\n",
       "Probability values (Entries above the diagonal are adjusted for multiple tests.) \n",
       "           Population Income Illiteracy Life Exp Murder HS Grad\n",
       "Population       0.00   0.59       1.00      1.0   0.10       1\n",
       "Income           0.15   0.00       0.01      0.1   0.54       0\n",
       "Illiteracy       0.46   0.00       0.00      0.0   0.00       0\n",
       "Life Exp         0.64   0.02       0.00      0.0   0.00       0\n",
       "Murder           0.01   0.11       0.00      0.0   0.00       0\n",
       "HS Grad          0.50   0.00       0.00      0.0   0.00       0\n",
       "\n",
       " To see confidence intervals of the correlations, print with the short=FALSE option"
      ]
     },
     "metadata": {},
     "output_type": "display_data"
    }
   ],
   "source": [
    "library(psych)\n",
    "corr.test(states, use=\"complete\")"
   ]
  },
  {
   "cell_type": "markdown",
   "metadata": {},
   "source": [
    "## T-tests"
   ]
  },
  {
   "cell_type": "markdown",
   "metadata": {},
   "source": [
    "### Independent Sample"
   ]
  },
  {
   "cell_type": "code",
   "execution_count": 54,
   "metadata": {},
   "outputs": [
    {
     "data": {
      "text/plain": [
       "\n",
       "\tWelch Two Sample t-test\n",
       "\n",
       "data:  Prob by So\n",
       "t = -3.8954, df = 24.925, p-value = 0.0006506\n",
       "alternative hypothesis: true difference in means is not equal to 0\n",
       "95 percent confidence interval:\n",
       " -0.03852569 -0.01187439\n",
       "sample estimates:\n",
       "mean in group 0 mean in group 1 \n",
       "     0.03851265      0.06371269 \n"
      ]
     },
     "metadata": {},
     "output_type": "display_data"
    }
   ],
   "source": [
    "library(MASS)\n",
    "t.test(Prob ~ So, data = UScrime)"
   ]
  },
  {
   "cell_type": "markdown",
   "metadata": {},
   "source": [
    "### Denpendent Sample"
   ]
  },
  {
   "cell_type": "code",
   "execution_count": 55,
   "metadata": {},
   "outputs": [
    {
     "data": {
      "text/html": [
       "<table>\n",
       "<thead><tr><th></th><th scope=col>U1</th><th scope=col>U2</th></tr></thead>\n",
       "<tbody>\n",
       "\t<tr><th scope=row>mean</th><td>95.46809</td><td>33.97872</td></tr>\n",
       "\t<tr><th scope=row>sd</th><td>18.02878</td><td> 8.44545</td></tr>\n",
       "</tbody>\n",
       "</table>\n"
      ],
      "text/latex": [
       "\\begin{tabular}{r|ll}\n",
       "  & U1 & U2\\\\\n",
       "\\hline\n",
       "\tmean & 95.46809 & 33.97872\\\\\n",
       "\tsd & 18.02878 &  8.44545\\\\\n",
       "\\end{tabular}\n"
      ],
      "text/markdown": [
       "\n",
       "| <!--/--> | U1 | U2 |\n",
       "|---|---|---|\n",
       "| mean | 95.46809 | 33.97872 |\n",
       "| sd | 18.02878 |  8.44545 |\n",
       "\n"
      ],
      "text/plain": [
       "     U1       U2      \n",
       "mean 95.46809 33.97872\n",
       "sd   18.02878  8.44545"
      ]
     },
     "metadata": {},
     "output_type": "display_data"
    }
   ],
   "source": [
    "library(MASS)\n",
    "sapply(UScrime[c(\"U1\", \"U2\")], function(x)(c(mean=mean(x), sd=sd(x))))"
   ]
  },
  {
   "cell_type": "code",
   "execution_count": 56,
   "metadata": {},
   "outputs": [
    {
     "data": {
      "text/plain": [
       "\n",
       "\tPaired t-test\n",
       "\n",
       "data:  U1 and U2\n",
       "t = 32.407, df = 46, p-value < 2.2e-16\n",
       "alternative hypothesis: true difference in means is not equal to 0\n",
       "95 percent confidence interval:\n",
       " 57.67003 65.30870\n",
       "sample estimates:\n",
       "mean of the differences \n",
       "               61.48936 \n"
      ]
     },
     "metadata": {},
     "output_type": "display_data"
    }
   ],
   "source": [
    "with(UScrime, t.test(U1, U2, paired = TRUE))"
   ]
  },
  {
   "cell_type": "markdown",
   "metadata": {},
   "source": [
    "## Nonparametric tests of group differences\n",
    "### Compare two group\n",
    " - Wilcoxon rank sum test (Mann-Whitney U test)"
   ]
  },
  {
   "cell_type": "code",
   "execution_count": 57,
   "metadata": {},
   "outputs": [
    {
     "data": {
      "text/plain": [
       "So: 0\n",
       "[1] 0.038201\n",
       "------------------------------------------------------------ \n",
       "So: 1\n",
       "[1] 0.055552"
      ]
     },
     "metadata": {},
     "output_type": "display_data"
    }
   ],
   "source": [
    "with(UScrime, by(Prob, So, median))"
   ]
  },
  {
   "cell_type": "code",
   "execution_count": 58,
   "metadata": {},
   "outputs": [
    {
     "data": {
      "text/plain": [
       "\n",
       "\tWilcoxon rank sum test\n",
       "\n",
       "data:  Prob by So\n",
       "W = 81, p-value = 8.488e-05\n",
       "alternative hypothesis: true location shift is not equal to 0\n"
      ]
     },
     "metadata": {},
     "output_type": "display_data"
    }
   ],
   "source": [
    "wilcox.test(Prob ~ So, data=UScrime)"
   ]
  },
  {
   "cell_type": "code",
   "execution_count": 59,
   "metadata": {},
   "outputs": [
    {
     "data": {
      "text/html": [
       "<dl class=dl-horizontal>\n",
       "\t<dt>U1</dt>\n",
       "\t\t<dd>92</dd>\n",
       "\t<dt>U2</dt>\n",
       "\t\t<dd>34</dd>\n",
       "</dl>\n"
      ],
      "text/latex": [
       "\\begin{description*}\n",
       "\\item[U1] 92\n",
       "\\item[U2] 34\n",
       "\\end{description*}\n"
      ],
      "text/markdown": [
       "U1\n",
       ":   92U2\n",
       ":   34\n",
       "\n"
      ],
      "text/plain": [
       "U1 U2 \n",
       "92 34 "
      ]
     },
     "metadata": {},
     "output_type": "display_data"
    }
   ],
   "source": [
    "sapply(UScrime[c(\"U1\", \"U2\")], median)"
   ]
  },
  {
   "cell_type": "code",
   "execution_count": 61,
   "metadata": {
    "scrolled": true
   },
   "outputs": [
    {
     "name": "stderr",
     "output_type": "stream",
     "text": [
      "Warning message in wilcox.test.default(U1, U2, paired = TRUE):\n",
      "“cannot compute exact p-value with ties”"
     ]
    },
    {
     "data": {
      "text/plain": [
       "\n",
       "\tWilcoxon signed rank test with continuity correction\n",
       "\n",
       "data:  U1 and U2\n",
       "V = 1128, p-value = 2.464e-09\n",
       "alternative hypothesis: true location shift is not equal to 0\n"
      ]
     },
     "metadata": {},
     "output_type": "display_data"
    }
   ],
   "source": [
    "with(UScrime, wilcox.test(U1, U2, paired = TRUE))"
   ]
  },
  {
   "cell_type": "markdown",
   "metadata": {},
   "source": [
    "### Compare more than two group\n",
    " - Kruskal-Wallis test (independent in each group)\n",
    " - Friedman test (dependent in each group)"
   ]
  },
  {
   "cell_type": "code",
   "execution_count": 64,
   "metadata": {},
   "outputs": [
    {
     "data": {
      "text/plain": [
       "\n",
       "\tKruskal-Wallis rank sum test\n",
       "\n",
       "data:  Illiteracy by state.region\n",
       "Kruskal-Wallis chi-squared = 22.672, df = 3, p-value = 4.726e-05\n"
      ]
     },
     "metadata": {},
     "output_type": "display_data"
    }
   ],
   "source": [
    "states = as.data.frame(cbind(state.region, state.x77))\n",
    "kruskal.test(Illiteracy ~ state.region, data = states)"
   ]
  },
  {
   "cell_type": "markdown",
   "metadata": {},
   "source": [
    "### Mann-Whitney U test\n",
    "Using Mann-Whitney U test compare two group in package npmc"
   ]
  },
  {
   "cell_type": "markdown",
   "metadata": {},
   "source": [
    "Attention: r-package npmc is not valid now"
   ]
  },
  {
   "cell_type": "code",
   "execution_count": 65,
   "metadata": {},
   "outputs": [
    {
     "ename": "ERROR",
     "evalue": "Error in library(npmc): there is no package called ‘npmc’\n",
     "output_type": "error",
     "traceback": [
      "Error in library(npmc): there is no package called ‘npmc’\nTraceback:\n",
      "1. library(npmc)"
     ]
    }
   ],
   "source": [
    "class = state.region\n",
    "var = state.x77[, c(\"Illiteracy\")]\n",
    "mydata = as.data.frame(cbind(class, var))\n",
    "rm(class, var)\n",
    "library(npmc)\n",
    "summary(npmc(mydata), type=\"BF\")\n",
    "aggregate(mydata, by=list(mydata$class), median)"
   ]
  },
  {
   "cell_type": "markdown",
   "metadata": {},
   "source": []
  }
 ],
 "metadata": {
  "kernelspec": {
   "display_name": "R",
   "language": "R",
   "name": "ir"
  },
  "language_info": {
   "codemirror_mode": "r",
   "file_extension": ".r",
   "mimetype": "text/x-r-source",
   "name": "R",
   "pygments_lexer": "r",
   "version": "3.6.1"
  }
 },
 "nbformat": 4,
 "nbformat_minor": 4
}
